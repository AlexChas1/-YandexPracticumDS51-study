{
 "cells": [
  {
   "cell_type": "markdown",
   "metadata": {},
   "source": [
    "# Определение стоимости автомобилей"
   ]
  },
  {
   "cell_type": "markdown",
   "metadata": {},
   "source": [
    "Сервис по продаже автомобилей с пробегом «Не бит, не крашен» разрабатывает приложение для привлечения новых клиентов. В нём можно быстро узнать рыночную стоимость своего автомобиля. В вашем распоряжении исторические данные: технические характеристики, комплектации и цены автомобилей. Вам нужно построить модель для определения стоимости. \n",
    "\n",
    "Заказчику важны:\n",
    "\n",
    "- качество предсказания;\n",
    "- скорость предсказания;\n",
    "- время обучения."
   ]
  },
  {
   "cell_type": "markdown",
   "metadata": {},
   "source": [
    "## Подготовка данных"
   ]
  },
  {
   "cell_type": "code",
   "execution_count": 1,
   "metadata": {},
   "outputs": [],
   "source": [
    "import pandas as pd\n",
    "from sklearn.preprocessing import OrdinalEncoder\n",
    "from sklearn.linear_model import LinearRegression\n",
    "from sklearn.model_selection import train_test_split\n",
    "from sklearn.model_selection import cross_val_score\n",
    "from sklearn.preprocessing import RobustScaler, StandardScaler\n",
    "from sklearn.pipeline import Pipeline\n",
    "from sklearn.tree import DecisionTreeRegressor\n",
    "from sklearn.model_selection import GridSearchCV\n",
    "from catboost import Pool, CatBoostRegressor, cv\n",
    "from lightgbm import LGBMRegressor\n",
    "from sklearn.metrics import mean_squared_error\n",
    "import numpy as np"
   ]
  },
  {
   "cell_type": "markdown",
   "metadata": {},
   "source": [
    "Подготовка данных"
   ]
  },
  {
   "cell_type": "markdown",
   "metadata": {},
   "source": [
    "Откроем файлы и изучим их"
   ]
  },
  {
   "cell_type": "code",
   "execution_count": 2,
   "metadata": {},
   "outputs": [],
   "source": [
    "auto_df = pd.read_csv('/datasets/autos.csv')"
   ]
  },
  {
   "cell_type": "code",
   "execution_count": 3,
   "metadata": {},
   "outputs": [
    {
     "data": {
      "text/html": [
       "<div>\n",
       "<style scoped>\n",
       "    .dataframe tbody tr th:only-of-type {\n",
       "        vertical-align: middle;\n",
       "    }\n",
       "\n",
       "    .dataframe tbody tr th {\n",
       "        vertical-align: top;\n",
       "    }\n",
       "\n",
       "    .dataframe thead th {\n",
       "        text-align: right;\n",
       "    }\n",
       "</style>\n",
       "<table border=\"1\" class=\"dataframe\">\n",
       "  <thead>\n",
       "    <tr style=\"text-align: right;\">\n",
       "      <th></th>\n",
       "      <th>DateCrawled</th>\n",
       "      <th>Price</th>\n",
       "      <th>VehicleType</th>\n",
       "      <th>RegistrationYear</th>\n",
       "      <th>Gearbox</th>\n",
       "      <th>Power</th>\n",
       "      <th>Model</th>\n",
       "      <th>Kilometer</th>\n",
       "      <th>RegistrationMonth</th>\n",
       "      <th>FuelType</th>\n",
       "      <th>Brand</th>\n",
       "      <th>Repaired</th>\n",
       "      <th>DateCreated</th>\n",
       "      <th>NumberOfPictures</th>\n",
       "      <th>PostalCode</th>\n",
       "      <th>LastSeen</th>\n",
       "    </tr>\n",
       "  </thead>\n",
       "  <tbody>\n",
       "    <tr>\n",
       "      <th>0</th>\n",
       "      <td>2016-03-24 11:52:17</td>\n",
       "      <td>480</td>\n",
       "      <td>NaN</td>\n",
       "      <td>1993</td>\n",
       "      <td>manual</td>\n",
       "      <td>0</td>\n",
       "      <td>golf</td>\n",
       "      <td>150000</td>\n",
       "      <td>0</td>\n",
       "      <td>petrol</td>\n",
       "      <td>volkswagen</td>\n",
       "      <td>NaN</td>\n",
       "      <td>2016-03-24 00:00:00</td>\n",
       "      <td>0</td>\n",
       "      <td>70435</td>\n",
       "      <td>2016-04-07 03:16:57</td>\n",
       "    </tr>\n",
       "    <tr>\n",
       "      <th>1</th>\n",
       "      <td>2016-03-24 10:58:45</td>\n",
       "      <td>18300</td>\n",
       "      <td>coupe</td>\n",
       "      <td>2011</td>\n",
       "      <td>manual</td>\n",
       "      <td>190</td>\n",
       "      <td>NaN</td>\n",
       "      <td>125000</td>\n",
       "      <td>5</td>\n",
       "      <td>gasoline</td>\n",
       "      <td>audi</td>\n",
       "      <td>yes</td>\n",
       "      <td>2016-03-24 00:00:00</td>\n",
       "      <td>0</td>\n",
       "      <td>66954</td>\n",
       "      <td>2016-04-07 01:46:50</td>\n",
       "    </tr>\n",
       "    <tr>\n",
       "      <th>2</th>\n",
       "      <td>2016-03-14 12:52:21</td>\n",
       "      <td>9800</td>\n",
       "      <td>suv</td>\n",
       "      <td>2004</td>\n",
       "      <td>auto</td>\n",
       "      <td>163</td>\n",
       "      <td>grand</td>\n",
       "      <td>125000</td>\n",
       "      <td>8</td>\n",
       "      <td>gasoline</td>\n",
       "      <td>jeep</td>\n",
       "      <td>NaN</td>\n",
       "      <td>2016-03-14 00:00:00</td>\n",
       "      <td>0</td>\n",
       "      <td>90480</td>\n",
       "      <td>2016-04-05 12:47:46</td>\n",
       "    </tr>\n",
       "    <tr>\n",
       "      <th>3</th>\n",
       "      <td>2016-03-17 16:54:04</td>\n",
       "      <td>1500</td>\n",
       "      <td>small</td>\n",
       "      <td>2001</td>\n",
       "      <td>manual</td>\n",
       "      <td>75</td>\n",
       "      <td>golf</td>\n",
       "      <td>150000</td>\n",
       "      <td>6</td>\n",
       "      <td>petrol</td>\n",
       "      <td>volkswagen</td>\n",
       "      <td>no</td>\n",
       "      <td>2016-03-17 00:00:00</td>\n",
       "      <td>0</td>\n",
       "      <td>91074</td>\n",
       "      <td>2016-03-17 17:40:17</td>\n",
       "    </tr>\n",
       "    <tr>\n",
       "      <th>4</th>\n",
       "      <td>2016-03-31 17:25:20</td>\n",
       "      <td>3600</td>\n",
       "      <td>small</td>\n",
       "      <td>2008</td>\n",
       "      <td>manual</td>\n",
       "      <td>69</td>\n",
       "      <td>fabia</td>\n",
       "      <td>90000</td>\n",
       "      <td>7</td>\n",
       "      <td>gasoline</td>\n",
       "      <td>skoda</td>\n",
       "      <td>no</td>\n",
       "      <td>2016-03-31 00:00:00</td>\n",
       "      <td>0</td>\n",
       "      <td>60437</td>\n",
       "      <td>2016-04-06 10:17:21</td>\n",
       "    </tr>\n",
       "    <tr>\n",
       "      <th>5</th>\n",
       "      <td>2016-04-04 17:36:23</td>\n",
       "      <td>650</td>\n",
       "      <td>sedan</td>\n",
       "      <td>1995</td>\n",
       "      <td>manual</td>\n",
       "      <td>102</td>\n",
       "      <td>3er</td>\n",
       "      <td>150000</td>\n",
       "      <td>10</td>\n",
       "      <td>petrol</td>\n",
       "      <td>bmw</td>\n",
       "      <td>yes</td>\n",
       "      <td>2016-04-04 00:00:00</td>\n",
       "      <td>0</td>\n",
       "      <td>33775</td>\n",
       "      <td>2016-04-06 19:17:07</td>\n",
       "    </tr>\n",
       "    <tr>\n",
       "      <th>6</th>\n",
       "      <td>2016-04-01 20:48:51</td>\n",
       "      <td>2200</td>\n",
       "      <td>convertible</td>\n",
       "      <td>2004</td>\n",
       "      <td>manual</td>\n",
       "      <td>109</td>\n",
       "      <td>2_reihe</td>\n",
       "      <td>150000</td>\n",
       "      <td>8</td>\n",
       "      <td>petrol</td>\n",
       "      <td>peugeot</td>\n",
       "      <td>no</td>\n",
       "      <td>2016-04-01 00:00:00</td>\n",
       "      <td>0</td>\n",
       "      <td>67112</td>\n",
       "      <td>2016-04-05 18:18:39</td>\n",
       "    </tr>\n",
       "    <tr>\n",
       "      <th>7</th>\n",
       "      <td>2016-03-21 18:54:38</td>\n",
       "      <td>0</td>\n",
       "      <td>sedan</td>\n",
       "      <td>1980</td>\n",
       "      <td>manual</td>\n",
       "      <td>50</td>\n",
       "      <td>other</td>\n",
       "      <td>40000</td>\n",
       "      <td>7</td>\n",
       "      <td>petrol</td>\n",
       "      <td>volkswagen</td>\n",
       "      <td>no</td>\n",
       "      <td>2016-03-21 00:00:00</td>\n",
       "      <td>0</td>\n",
       "      <td>19348</td>\n",
       "      <td>2016-03-25 16:47:58</td>\n",
       "    </tr>\n",
       "    <tr>\n",
       "      <th>8</th>\n",
       "      <td>2016-04-04 23:42:13</td>\n",
       "      <td>14500</td>\n",
       "      <td>bus</td>\n",
       "      <td>2014</td>\n",
       "      <td>manual</td>\n",
       "      <td>125</td>\n",
       "      <td>c_max</td>\n",
       "      <td>30000</td>\n",
       "      <td>8</td>\n",
       "      <td>petrol</td>\n",
       "      <td>ford</td>\n",
       "      <td>NaN</td>\n",
       "      <td>2016-04-04 00:00:00</td>\n",
       "      <td>0</td>\n",
       "      <td>94505</td>\n",
       "      <td>2016-04-04 23:42:13</td>\n",
       "    </tr>\n",
       "    <tr>\n",
       "      <th>9</th>\n",
       "      <td>2016-03-17 10:53:50</td>\n",
       "      <td>999</td>\n",
       "      <td>small</td>\n",
       "      <td>1998</td>\n",
       "      <td>manual</td>\n",
       "      <td>101</td>\n",
       "      <td>golf</td>\n",
       "      <td>150000</td>\n",
       "      <td>0</td>\n",
       "      <td>NaN</td>\n",
       "      <td>volkswagen</td>\n",
       "      <td>NaN</td>\n",
       "      <td>2016-03-17 00:00:00</td>\n",
       "      <td>0</td>\n",
       "      <td>27472</td>\n",
       "      <td>2016-03-31 17:17:06</td>\n",
       "    </tr>\n",
       "  </tbody>\n",
       "</table>\n",
       "</div>"
      ],
      "text/plain": [
       "           DateCrawled  Price  VehicleType  RegistrationYear Gearbox  Power  \\\n",
       "0  2016-03-24 11:52:17    480          NaN              1993  manual      0   \n",
       "1  2016-03-24 10:58:45  18300        coupe              2011  manual    190   \n",
       "2  2016-03-14 12:52:21   9800          suv              2004    auto    163   \n",
       "3  2016-03-17 16:54:04   1500        small              2001  manual     75   \n",
       "4  2016-03-31 17:25:20   3600        small              2008  manual     69   \n",
       "5  2016-04-04 17:36:23    650        sedan              1995  manual    102   \n",
       "6  2016-04-01 20:48:51   2200  convertible              2004  manual    109   \n",
       "7  2016-03-21 18:54:38      0        sedan              1980  manual     50   \n",
       "8  2016-04-04 23:42:13  14500          bus              2014  manual    125   \n",
       "9  2016-03-17 10:53:50    999        small              1998  manual    101   \n",
       "\n",
       "     Model  Kilometer  RegistrationMonth  FuelType       Brand Repaired  \\\n",
       "0     golf     150000                  0    petrol  volkswagen      NaN   \n",
       "1      NaN     125000                  5  gasoline        audi      yes   \n",
       "2    grand     125000                  8  gasoline        jeep      NaN   \n",
       "3     golf     150000                  6    petrol  volkswagen       no   \n",
       "4    fabia      90000                  7  gasoline       skoda       no   \n",
       "5      3er     150000                 10    petrol         bmw      yes   \n",
       "6  2_reihe     150000                  8    petrol     peugeot       no   \n",
       "7    other      40000                  7    petrol  volkswagen       no   \n",
       "8    c_max      30000                  8    petrol        ford      NaN   \n",
       "9     golf     150000                  0       NaN  volkswagen      NaN   \n",
       "\n",
       "           DateCreated  NumberOfPictures  PostalCode             LastSeen  \n",
       "0  2016-03-24 00:00:00                 0       70435  2016-04-07 03:16:57  \n",
       "1  2016-03-24 00:00:00                 0       66954  2016-04-07 01:46:50  \n",
       "2  2016-03-14 00:00:00                 0       90480  2016-04-05 12:47:46  \n",
       "3  2016-03-17 00:00:00                 0       91074  2016-03-17 17:40:17  \n",
       "4  2016-03-31 00:00:00                 0       60437  2016-04-06 10:17:21  \n",
       "5  2016-04-04 00:00:00                 0       33775  2016-04-06 19:17:07  \n",
       "6  2016-04-01 00:00:00                 0       67112  2016-04-05 18:18:39  \n",
       "7  2016-03-21 00:00:00                 0       19348  2016-03-25 16:47:58  \n",
       "8  2016-04-04 00:00:00                 0       94505  2016-04-04 23:42:13  \n",
       "9  2016-03-17 00:00:00                 0       27472  2016-03-31 17:17:06  "
      ]
     },
     "metadata": {},
     "output_type": "display_data"
    },
    {
     "name": "stdout",
     "output_type": "stream",
     "text": [
      "<class 'pandas.core.frame.DataFrame'>\n",
      "RangeIndex: 354369 entries, 0 to 354368\n",
      "Data columns (total 16 columns):\n",
      " #   Column             Non-Null Count   Dtype \n",
      "---  ------             --------------   ----- \n",
      " 0   DateCrawled        354369 non-null  object\n",
      " 1   Price              354369 non-null  int64 \n",
      " 2   VehicleType        316879 non-null  object\n",
      " 3   RegistrationYear   354369 non-null  int64 \n",
      " 4   Gearbox            334536 non-null  object\n",
      " 5   Power              354369 non-null  int64 \n",
      " 6   Model              334664 non-null  object\n",
      " 7   Kilometer          354369 non-null  int64 \n",
      " 8   RegistrationMonth  354369 non-null  int64 \n",
      " 9   FuelType           321474 non-null  object\n",
      " 10  Brand              354369 non-null  object\n",
      " 11  Repaired           283215 non-null  object\n",
      " 12  DateCreated        354369 non-null  object\n",
      " 13  NumberOfPictures   354369 non-null  int64 \n",
      " 14  PostalCode         354369 non-null  int64 \n",
      " 15  LastSeen           354369 non-null  object\n",
      "dtypes: int64(7), object(9)\n",
      "memory usage: 43.3+ MB\n",
      "None\n",
      "Количество дубликатов: 4\n"
     ]
    }
   ],
   "source": [
    "display(auto_df.head(10))\n",
    "print(auto_df.info())\n",
    "print('Количество дубликатов:', sum(auto_df.duplicated()))"
   ]
  },
  {
   "cell_type": "code",
   "execution_count": 4,
   "metadata": {},
   "outputs": [
    {
     "name": "stdout",
     "output_type": "stream",
     "text": [
      "Количество пропусков DateCrawled          0.000000\n",
      "Price                0.000000\n",
      "VehicleType          0.105794\n",
      "RegistrationYear     0.000000\n",
      "Gearbox              0.055967\n",
      "Power                0.000000\n",
      "Model                0.055606\n",
      "Kilometer            0.000000\n",
      "RegistrationMonth    0.000000\n",
      "FuelType             0.092827\n",
      "Brand                0.000000\n",
      "Repaired             0.200791\n",
      "DateCreated          0.000000\n",
      "NumberOfPictures     0.000000\n",
      "PostalCode           0.000000\n",
      "LastSeen             0.000000\n",
      "dtype: float64\n"
     ]
    }
   ],
   "source": [
    "print('Количество пропусков', \n",
    "      auto_df.isna().mean())\n"
   ]
  },
  {
   "cell_type": "code",
   "execution_count": 5,
   "metadata": {},
   "outputs": [
    {
     "data": {
      "text/html": [
       "<div>\n",
       "<style scoped>\n",
       "    .dataframe tbody tr th:only-of-type {\n",
       "        vertical-align: middle;\n",
       "    }\n",
       "\n",
       "    .dataframe tbody tr th {\n",
       "        vertical-align: top;\n",
       "    }\n",
       "\n",
       "    .dataframe thead th {\n",
       "        text-align: right;\n",
       "    }\n",
       "</style>\n",
       "<table border=\"1\" class=\"dataframe\">\n",
       "  <thead>\n",
       "    <tr style=\"text-align: right;\">\n",
       "      <th></th>\n",
       "      <th>Price</th>\n",
       "      <th>RegistrationYear</th>\n",
       "      <th>Power</th>\n",
       "      <th>Kilometer</th>\n",
       "      <th>RegistrationMonth</th>\n",
       "      <th>NumberOfPictures</th>\n",
       "      <th>PostalCode</th>\n",
       "    </tr>\n",
       "  </thead>\n",
       "  <tbody>\n",
       "    <tr>\n",
       "      <th>count</th>\n",
       "      <td>354369.000000</td>\n",
       "      <td>354369.000000</td>\n",
       "      <td>354369.000000</td>\n",
       "      <td>354369.000000</td>\n",
       "      <td>354369.000000</td>\n",
       "      <td>354369.0</td>\n",
       "      <td>354369.000000</td>\n",
       "    </tr>\n",
       "    <tr>\n",
       "      <th>mean</th>\n",
       "      <td>4416.656776</td>\n",
       "      <td>2004.234448</td>\n",
       "      <td>110.094337</td>\n",
       "      <td>128211.172535</td>\n",
       "      <td>5.714645</td>\n",
       "      <td>0.0</td>\n",
       "      <td>50508.689087</td>\n",
       "    </tr>\n",
       "    <tr>\n",
       "      <th>std</th>\n",
       "      <td>4514.158514</td>\n",
       "      <td>90.227958</td>\n",
       "      <td>189.850405</td>\n",
       "      <td>37905.341530</td>\n",
       "      <td>3.726421</td>\n",
       "      <td>0.0</td>\n",
       "      <td>25783.096248</td>\n",
       "    </tr>\n",
       "    <tr>\n",
       "      <th>min</th>\n",
       "      <td>0.000000</td>\n",
       "      <td>1000.000000</td>\n",
       "      <td>0.000000</td>\n",
       "      <td>5000.000000</td>\n",
       "      <td>0.000000</td>\n",
       "      <td>0.0</td>\n",
       "      <td>1067.000000</td>\n",
       "    </tr>\n",
       "    <tr>\n",
       "      <th>25%</th>\n",
       "      <td>1050.000000</td>\n",
       "      <td>1999.000000</td>\n",
       "      <td>69.000000</td>\n",
       "      <td>125000.000000</td>\n",
       "      <td>3.000000</td>\n",
       "      <td>0.0</td>\n",
       "      <td>30165.000000</td>\n",
       "    </tr>\n",
       "    <tr>\n",
       "      <th>50%</th>\n",
       "      <td>2700.000000</td>\n",
       "      <td>2003.000000</td>\n",
       "      <td>105.000000</td>\n",
       "      <td>150000.000000</td>\n",
       "      <td>6.000000</td>\n",
       "      <td>0.0</td>\n",
       "      <td>49413.000000</td>\n",
       "    </tr>\n",
       "    <tr>\n",
       "      <th>75%</th>\n",
       "      <td>6400.000000</td>\n",
       "      <td>2008.000000</td>\n",
       "      <td>143.000000</td>\n",
       "      <td>150000.000000</td>\n",
       "      <td>9.000000</td>\n",
       "      <td>0.0</td>\n",
       "      <td>71083.000000</td>\n",
       "    </tr>\n",
       "    <tr>\n",
       "      <th>max</th>\n",
       "      <td>20000.000000</td>\n",
       "      <td>9999.000000</td>\n",
       "      <td>20000.000000</td>\n",
       "      <td>150000.000000</td>\n",
       "      <td>12.000000</td>\n",
       "      <td>0.0</td>\n",
       "      <td>99998.000000</td>\n",
       "    </tr>\n",
       "  </tbody>\n",
       "</table>\n",
       "</div>"
      ],
      "text/plain": [
       "               Price  RegistrationYear          Power      Kilometer  \\\n",
       "count  354369.000000     354369.000000  354369.000000  354369.000000   \n",
       "mean     4416.656776       2004.234448     110.094337  128211.172535   \n",
       "std      4514.158514         90.227958     189.850405   37905.341530   \n",
       "min         0.000000       1000.000000       0.000000    5000.000000   \n",
       "25%      1050.000000       1999.000000      69.000000  125000.000000   \n",
       "50%      2700.000000       2003.000000     105.000000  150000.000000   \n",
       "75%      6400.000000       2008.000000     143.000000  150000.000000   \n",
       "max     20000.000000       9999.000000   20000.000000  150000.000000   \n",
       "\n",
       "       RegistrationMonth  NumberOfPictures     PostalCode  \n",
       "count      354369.000000          354369.0  354369.000000  \n",
       "mean            5.714645               0.0   50508.689087  \n",
       "std             3.726421               0.0   25783.096248  \n",
       "min             0.000000               0.0    1067.000000  \n",
       "25%             3.000000               0.0   30165.000000  \n",
       "50%             6.000000               0.0   49413.000000  \n",
       "75%             9.000000               0.0   71083.000000  \n",
       "max            12.000000               0.0   99998.000000  "
      ]
     },
     "execution_count": 5,
     "metadata": {},
     "output_type": "execute_result"
    }
   ],
   "source": [
    "auto_df.describe()"
   ]
  },
  {
   "cell_type": "markdown",
   "metadata": {},
   "source": [
    "Выводы"
   ]
  },
  {
   "cell_type": "markdown",
   "metadata": {},
   "source": [
    "1. В столбце Цена минимальная цена 0.\n",
    "2. В столбце RegistrationYear есть некорректные значения года регистрации.\n",
    "3. В столбце Power есть некорректные значения мощности двигателя.\n",
    "4. В столбце Kilometer более 50% с пробегом 150000 при этом ни боьше ни меньше, скорее всего это какое-то ограничение в заявке, но согласитесь разница между 150000 и 300000 довольно существена и даолжна влиять на стоимость.\n",
    "5. В столбце RegistrationMonth отсутсвует месяц регистрации.\n"
   ]
  },
  {
   "cell_type": "markdown",
   "metadata": {},
   "source": [
    "Далее пройдемся по признакам, значимых для нашей модели:\n",
    "\n",
    "-VehicleType. Тип машины определяет ее функционал и возможности. Чем их больше машины, тем выше цена.\n",
    "\n",
    "-RegistrationYear. Год регистрации определяет \"свежесть\" машины. Соответвенно, чем больше возраст, тем меньше цена.\n",
    "\n",
    "-Gearbox. Наличие автоматической коробки передач повышает стоимость машины из-за сложности конструкции.\n",
    "\n",
    "-Power. Мощность в лошадиных силах напрямую влияют на цену.\n",
    "\n",
    "-Model. В совокупности с типом машины и брендом може влиять на популярность у покупателей.\n",
    "\n",
    "-Kilometer. Чем больше пробег, тем меньше ее надежность и соответсвенно цена.\n",
    "\n",
    "-FuelType. Тип топлива определяет конструкцию двигателя внутреннего сгорания.\n",
    "\n",
    "-Brand. Концерн/компания, которая создала автомобиль показывает качество и надежность автомобиля.\n",
    "\n",
    "-Repaired. Если машина побывала в ДТП, то ее констукция уже видиизменена, следовательно надежность и качество ниже, как и цена."
   ]
  },
  {
   "cell_type": "code",
   "execution_count": 6,
   "metadata": {},
   "outputs": [
    {
     "name": "stdout",
     "output_type": "stream",
     "text": [
      "<class 'pandas.core.frame.DataFrame'>\n",
      "RangeIndex: 354369 entries, 0 to 354368\n",
      "Data columns (total 10 columns):\n",
      " #   Column            Non-Null Count   Dtype \n",
      "---  ------            --------------   ----- \n",
      " 0   VehicleType       316879 non-null  object\n",
      " 1   RegistrationYear  354369 non-null  int64 \n",
      " 2   Gearbox           334536 non-null  object\n",
      " 3   Power             354369 non-null  int64 \n",
      " 4   Model             334664 non-null  object\n",
      " 5   Kilometer         354369 non-null  int64 \n",
      " 6   FuelType          321474 non-null  object\n",
      " 7   Brand             354369 non-null  object\n",
      " 8   Repaired          283215 non-null  object\n",
      " 9   Price             354369 non-null  int64 \n",
      "dtypes: int64(4), object(6)\n",
      "memory usage: 27.0+ MB\n"
     ]
    }
   ],
   "source": [
    "# На основе вывода создадим новый фрейм\n",
    "filtred_auto_df = auto_df[['VehicleType', \n",
    "                         'RegistrationYear',\n",
    "                         'Gearbox', \n",
    "                         'Power',\n",
    "                         'Model',\n",
    "                         'Kilometer',\n",
    "                         'FuelType',\n",
    "                         'Brand',\n",
    "                         'Repaired',\n",
    "                         'Price']]\n",
    "filtred_auto_df.info()"
   ]
  },
  {
   "cell_type": "code",
   "execution_count": 7,
   "metadata": {},
   "outputs": [
    {
     "data": {
      "text/plain": [
       "45040"
      ]
     },
     "execution_count": 7,
     "metadata": {},
     "output_type": "execute_result"
    }
   ],
   "source": [
    "filtred_auto_df.duplicated().sum()"
   ]
  },
  {
   "cell_type": "code",
   "execution_count": 8,
   "metadata": {},
   "outputs": [
    {
     "data": {
      "text/plain": [
       "0"
      ]
     },
     "execution_count": 8,
     "metadata": {},
     "output_type": "execute_result"
    }
   ],
   "source": [
    "filtred_auto_df = filtred_auto_df.drop_duplicates()\n",
    "filtred_auto_df.duplicated().sum()"
   ]
  },
  {
   "cell_type": "markdown",
   "metadata": {},
   "source": [
    "Типы данных в столбцах верные, однако мы видим, что пропуском довольно много, следовательно:\n",
    "\n",
    "1. В столбце VehicleType постараемся восстановить данные на основе популярного показателя из столбца Brand\n",
    "\n",
    "2. В столбце RegistrationYear скоректируем данные на основе реальных значений в машинах в сравнении с другими (пробег, марка, модель)\n",
    "\n",
    "3. В столбце Gearbox везде заполнил как manual - ручная\n",
    "\n",
    "4. В столбце Power скоректируем данные на основе реальных значений по аналогии с RegistrationYear\n",
    "\n",
    "5. В столбце FuelType по анлогии сVehicleType\n",
    "\n",
    "6. В столбце Repaired для всех NaN И пропусков установим значение yes\n",
    "\n",
    "7. В столбце Model для всех NaN установим значение 'unknown'."
   ]
  },
  {
   "cell_type": "markdown",
   "metadata": {},
   "source": [
    "Но прежде всего отработаем данные п оцелевому признаку Price"
   ]
  },
  {
   "cell_type": "code",
   "execution_count": 9,
   "metadata": {},
   "outputs": [
    {
     "data": {
      "text/plain": [
       "<AxesSubplot:>"
      ]
     },
     "execution_count": 9,
     "metadata": {},
     "output_type": "execute_result"
    },
    {
     "data": {
      "image/png": "[encoded data removed]",
      "text/plain": [
       "<Figure size 864x648 with 1 Axes>"
      ]
     },
     "metadata": {
      "needs_background": "light"
     },
     "output_type": "display_data"
    }
   ],
   "source": [
    "# Построим гистограмму\n",
    "filtred_auto_df['Price'].hist(bins=80, figsize=(12,9))"
   ]
  },
  {
   "cell_type": "code",
   "execution_count": 10,
   "metadata": {},
   "outputs": [
    {
     "data": {
      "text/plain": [
       "0        8904\n",
       "500      4650\n",
       "1500     4533\n",
       "1000     3875\n",
       "1200     3799\n",
       "         ... \n",
       "1654        1\n",
       "5748        1\n",
       "7285        1\n",
       "11379       1\n",
       "8188        1\n",
       "Name: Price, Length: 3731, dtype: int64"
      ]
     },
     "execution_count": 10,
     "metadata": {},
     "output_type": "execute_result"
    }
   ],
   "source": [
    "filtred_auto_df['Price'].value_counts()"
   ]
  },
  {
   "cell_type": "code",
   "execution_count": 11,
   "metadata": {},
   "outputs": [
    {
     "data": {
      "text/plain": [
       "count    300425.000000\n",
       "mean       4619.921098\n",
       "std        4565.205287\n",
       "min           1.000000\n",
       "25%        1200.000000\n",
       "50%        2900.000000\n",
       "75%        6650.000000\n",
       "max       20000.000000\n",
       "Name: Price, dtype: float64"
      ]
     },
     "execution_count": 11,
     "metadata": {},
     "output_type": "execute_result"
    },
    {
     "data": {
      "image/png": "[encoded data removed]",
      "text/plain": [
       "<Figure size 864x648 with 1 Axes>"
      ]
     },
     "metadata": {
      "needs_background": "light"
     },
     "output_type": "display_data"
    }
   ],
   "source": [
    "filtred_auto_df = filtred_auto_df.query('Price > 0')\n",
    "filtred_auto_df['Price'].hist(bins=100, figsize=(12,9))\n",
    "filtred_auto_df['Price'].describe()"
   ]
  },
  {
   "cell_type": "code",
   "execution_count": 12,
   "metadata": {},
   "outputs": [
    {
     "data": {
      "text/plain": [
       "0.20      990.0\n",
       "0.88    10750.0\n",
       "Name: Price, dtype: float64"
      ]
     },
     "execution_count": 12,
     "metadata": {},
     "output_type": "execute_result"
    }
   ],
   "source": [
    "filtred_auto_df['Price'].quantile([0.2, 0.88])"
   ]
  },
  {
   "cell_type": "markdown",
   "metadata": {},
   "source": [
    "Стоимость 990 евро примерно равно 66000 рублей (в целом за такую сумму можно купить машину). Выбор 88% квантиля обоснован выбросами после 10000 евро и в целом на гистограмме видно, что значения после не особо отличаются.\n"
   ]
  },
  {
   "cell_type": "code",
   "execution_count": 13,
   "metadata": {},
   "outputs": [
    {
     "name": "stdout",
     "output_type": "stream",
     "text": [
      "<class 'pandas.core.frame.DataFrame'>\n",
      "Int64Index: 228598 entries, 2 to 354368\n",
      "Data columns (total 10 columns):\n",
      " #   Column            Non-Null Count   Dtype \n",
      "---  ------            --------------   ----- \n",
      " 0   VehicleType       209270 non-null  object\n",
      " 1   RegistrationYear  228598 non-null  int64 \n",
      " 2   Gearbox           219798 non-null  object\n",
      " 3   Power             228598 non-null  int64 \n",
      " 4   Model             217855 non-null  object\n",
      " 5   Kilometer         228598 non-null  int64 \n",
      " 6   FuelType          211833 non-null  object\n",
      " 7   Brand             228598 non-null  object\n",
      " 8   Repaired          190180 non-null  object\n",
      " 9   Price             228598 non-null  int64 \n",
      "dtypes: int64(4), object(6)\n",
      "memory usage: 19.2+ MB\n"
     ]
    }
   ],
   "source": [
    "filtred_auto_df = filtred_auto_df.query('990 <= Price <= 15500')\n",
    "filtred_auto_df.info()"
   ]
  },
  {
   "cell_type": "markdown",
   "metadata": {},
   "source": [
    "Далее перейдем в столбцу 'RegistrationYear'"
   ]
  },
  {
   "cell_type": "code",
   "execution_count": 14,
   "metadata": {},
   "outputs": [
    {
     "data": {
      "text/plain": [
       "count    228598.000000\n",
       "mean       2004.486767\n",
       "std          58.774634\n",
       "min        1000.000000\n",
       "25%        2000.000000\n",
       "50%        2004.000000\n",
       "75%        2008.000000\n",
       "max        9999.000000\n",
       "Name: RegistrationYear, dtype: float64"
      ]
     },
     "execution_count": 14,
     "metadata": {},
     "output_type": "execute_result"
    },
    {
     "data": {
      "image/png": "[encoded data removed]",
      "text/plain": [
       "<Figure size 720x576 with 1 Axes>"
      ]
     },
     "metadata": {
      "needs_background": "light"
     },
     "output_type": "display_data"
    }
   ],
   "source": [
    "filtred_auto_df['RegistrationYear'].hist(bins=90, figsize=(10,8))\n",
    "filtred_auto_df['RegistrationYear'].describe()"
   ]
  },
  {
   "cell_type": "code",
   "execution_count": 15,
   "metadata": {},
   "outputs": [
    {
     "data": {
      "text/plain": [
       "Timestamp('2016-04-07 14:36:58')"
      ]
     },
     "execution_count": 15,
     "metadata": {},
     "output_type": "execute_result"
    }
   ],
   "source": [
    "car_date_max = pd.to_datetime(auto_df['DateCrawled'])\n",
    "car_date_max.max()"
   ]
  },
  {
   "cell_type": "code",
   "execution_count": 16,
   "metadata": {},
   "outputs": [
    {
     "data": {
      "text/plain": [
       "Timestamp('1970-01-01 00:00:00.000001')"
      ]
     },
     "execution_count": 16,
     "metadata": {},
     "output_type": "execute_result"
    }
   ],
   "source": [
    "car_date_min = pd.to_datetime(auto_df['RegistrationYear'])\n",
    "car_date_min.min()"
   ]
  },
  {
   "cell_type": "code",
   "execution_count": 17,
   "metadata": {},
   "outputs": [
    {
     "data": {
      "text/plain": [
       "count    217616.000000\n",
       "mean       2003.456557\n",
       "std           6.096802\n",
       "min        1971.000000\n",
       "25%        2000.000000\n",
       "50%        2004.000000\n",
       "75%        2007.000000\n",
       "max        2016.000000\n",
       "Name: RegistrationYear, dtype: float64"
      ]
     },
     "execution_count": 17,
     "metadata": {},
     "output_type": "execute_result"
    },
    {
     "data": {
      "image/png": "[encoded data removed]",
      "text/plain": [
       "<Figure size 864x648 with 1 Axes>"
      ]
     },
     "metadata": {
      "needs_background": "light"
     },
     "output_type": "display_data"
    }
   ],
   "source": [
    "filtred_auto_df = filtred_auto_df.query('1970 < RegistrationYear < 2017')\n",
    "filtred_auto_df['RegistrationYear'].hist(bins=100, figsize=(12,9))\n",
    "filtred_auto_df['RegistrationYear'].describe()"
   ]
  },
  {
   "cell_type": "markdown",
   "metadata": {},
   "source": [
    "Даты регистрации после 2016 года некорректны, как и до 1970. Отсечем ненужные года и построим график, в целом у нас вырисовывается хороший график.\n"
   ]
  },
  {
   "cell_type": "markdown",
   "metadata": {},
   "source": [
    "Далее зайемемся заменов данных в столбцах Gearbox, Repaired и Model\n"
   ]
  },
  {
   "cell_type": "code",
   "execution_count": 18,
   "metadata": {},
   "outputs": [
    {
     "data": {
      "text/plain": [
       "VehicleType         0.042396\n",
       "RegistrationYear    0.000000\n",
       "Gearbox             0.000000\n",
       "Power               0.000000\n",
       "Model               0.000000\n",
       "Kilometer           0.000000\n",
       "FuelType            0.058594\n",
       "Brand               0.000000\n",
       "Repaired            0.000000\n",
       "Price               0.000000\n",
       "dtype: float64"
      ]
     },
     "execution_count": 18,
     "metadata": {},
     "output_type": "execute_result"
    }
   ],
   "source": [
    "filtred_auto_df.fillna({'Gearbox':'manual', 'Repaired':'yes', 'Model':'unknown'},\n",
    "                          inplace=True)\n",
    "filtred_auto_df.isna().mean()"
   ]
  },
  {
   "cell_type": "markdown",
   "metadata": {},
   "source": [
    "Супер, осталось разобраться со столбцами VehicleType и FuelType"
   ]
  },
  {
   "cell_type": "code",
   "execution_count": 19,
   "metadata": {},
   "outputs": [
    {
     "data": {
      "text/plain": [
       "sedan          60545\n",
       "small          44789\n",
       "wagon          43926\n",
       "bus            22294\n",
       "convertible    15249\n",
       "coupe          10827\n",
       "suv             8584\n",
       "other           2176\n",
       "Name: VehicleType, dtype: int64"
      ]
     },
     "metadata": {},
     "output_type": "display_data"
    },
    {
     "data": {
      "text/plain": [
       "9226"
      ]
     },
     "metadata": {},
     "output_type": "display_data"
    }
   ],
   "source": [
    "# Оценим кол-во пропущенных значений относительно всех значений в столбце VehicleType, \n",
    "# в целом мы бы могли просто закинуть из в другие или в самый популярный тип седан,\n",
    "# но это было бы не качественно, так что идем дальше\n",
    "display(filtred_auto_df['VehicleType'].value_counts())\n",
    "display(filtred_auto_df['VehicleType'].isna().sum())"
   ]
  },
  {
   "cell_type": "code",
   "execution_count": 20,
   "metadata": {},
   "outputs": [
    {
     "data": {
      "text/html": [
       "<div>\n",
       "<style scoped>\n",
       "    .dataframe tbody tr th:only-of-type {\n",
       "        vertical-align: middle;\n",
       "    }\n",
       "\n",
       "    .dataframe tbody tr th {\n",
       "        vertical-align: top;\n",
       "    }\n",
       "\n",
       "    .dataframe thead tr th {\n",
       "        text-align: left;\n",
       "    }\n",
       "\n",
       "    .dataframe thead tr:last-of-type th {\n",
       "        text-align: right;\n",
       "    }\n",
       "</style>\n",
       "<table border=\"1\" class=\"dataframe\">\n",
       "  <thead>\n",
       "    <tr>\n",
       "      <th></th>\n",
       "      <th colspan=\"21\" halign=\"left\">count</th>\n",
       "    </tr>\n",
       "    <tr>\n",
       "      <th></th>\n",
       "      <th colspan=\"21\" halign=\"left\">Price</th>\n",
       "    </tr>\n",
       "    <tr>\n",
       "      <th>Brand</th>\n",
       "      <th>alfa_romeo</th>\n",
       "      <th>audi</th>\n",
       "      <th>bmw</th>\n",
       "      <th>chevrolet</th>\n",
       "      <th>chrysler</th>\n",
       "      <th>citroen</th>\n",
       "      <th>dacia</th>\n",
       "      <th>daewoo</th>\n",
       "      <th>daihatsu</th>\n",
       "      <th>fiat</th>\n",
       "      <th>...</th>\n",
       "      <th>seat</th>\n",
       "      <th>skoda</th>\n",
       "      <th>smart</th>\n",
       "      <th>sonstige_autos</th>\n",
       "      <th>subaru</th>\n",
       "      <th>suzuki</th>\n",
       "      <th>toyota</th>\n",
       "      <th>trabant</th>\n",
       "      <th>volkswagen</th>\n",
       "      <th>volvo</th>\n",
       "    </tr>\n",
       "    <tr>\n",
       "      <th>VehicleType</th>\n",
       "      <th></th>\n",
       "      <th></th>\n",
       "      <th></th>\n",
       "      <th></th>\n",
       "      <th></th>\n",
       "      <th></th>\n",
       "      <th></th>\n",
       "      <th></th>\n",
       "      <th></th>\n",
       "      <th></th>\n",
       "      <th></th>\n",
       "      <th></th>\n",
       "      <th></th>\n",
       "      <th></th>\n",
       "      <th></th>\n",
       "      <th></th>\n",
       "      <th></th>\n",
       "      <th></th>\n",
       "      <th></th>\n",
       "      <th></th>\n",
       "      <th></th>\n",
       "    </tr>\n",
       "  </thead>\n",
       "  <tbody>\n",
       "    <tr>\n",
       "      <th>bus</th>\n",
       "      <td>NaN</td>\n",
       "      <td>10.0</td>\n",
       "      <td>5.0</td>\n",
       "      <td>128.0</td>\n",
       "      <td>276.0</td>\n",
       "      <td>1047.0</td>\n",
       "      <td>46.0</td>\n",
       "      <td>18.0</td>\n",
       "      <td>19.0</td>\n",
       "      <td>651.0</td>\n",
       "      <td>...</td>\n",
       "      <td>510.0</td>\n",
       "      <td>204.0</td>\n",
       "      <td>1.0</td>\n",
       "      <td>154.0</td>\n",
       "      <td>13.0</td>\n",
       "      <td>19.0</td>\n",
       "      <td>407.0</td>\n",
       "      <td>NaN</td>\n",
       "      <td>7281.0</td>\n",
       "      <td>NaN</td>\n",
       "    </tr>\n",
       "    <tr>\n",
       "      <th>convertible</th>\n",
       "      <td>148.0</td>\n",
       "      <td>1237.0</td>\n",
       "      <td>2442.0</td>\n",
       "      <td>8.0</td>\n",
       "      <td>179.0</td>\n",
       "      <td>102.0</td>\n",
       "      <td>NaN</td>\n",
       "      <td>NaN</td>\n",
       "      <td>16.0</td>\n",
       "      <td>373.0</td>\n",
       "      <td>...</td>\n",
       "      <td>NaN</td>\n",
       "      <td>2.0</td>\n",
       "      <td>1018.0</td>\n",
       "      <td>214.0</td>\n",
       "      <td>1.0</td>\n",
       "      <td>28.0</td>\n",
       "      <td>59.0</td>\n",
       "      <td>31.0</td>\n",
       "      <td>2073.0</td>\n",
       "      <td>62.0</td>\n",
       "    </tr>\n",
       "    <tr>\n",
       "      <th>coupe</th>\n",
       "      <td>187.0</td>\n",
       "      <td>937.0</td>\n",
       "      <td>2467.0</td>\n",
       "      <td>63.0</td>\n",
       "      <td>36.0</td>\n",
       "      <td>103.0</td>\n",
       "      <td>NaN</td>\n",
       "      <td>1.0</td>\n",
       "      <td>NaN</td>\n",
       "      <td>123.0</td>\n",
       "      <td>...</td>\n",
       "      <td>54.0</td>\n",
       "      <td>6.0</td>\n",
       "      <td>288.0</td>\n",
       "      <td>121.0</td>\n",
       "      <td>4.0</td>\n",
       "      <td>2.0</td>\n",
       "      <td>150.0</td>\n",
       "      <td>2.0</td>\n",
       "      <td>1118.0</td>\n",
       "      <td>48.0</td>\n",
       "    </tr>\n",
       "    <tr>\n",
       "      <th>other</th>\n",
       "      <td>6.0</td>\n",
       "      <td>72.0</td>\n",
       "      <td>149.0</td>\n",
       "      <td>30.0</td>\n",
       "      <td>9.0</td>\n",
       "      <td>78.0</td>\n",
       "      <td>5.0</td>\n",
       "      <td>3.0</td>\n",
       "      <td>5.0</td>\n",
       "      <td>128.0</td>\n",
       "      <td>...</td>\n",
       "      <td>36.0</td>\n",
       "      <td>20.0</td>\n",
       "      <td>7.0</td>\n",
       "      <td>140.0</td>\n",
       "      <td>4.0</td>\n",
       "      <td>11.0</td>\n",
       "      <td>15.0</td>\n",
       "      <td>5.0</td>\n",
       "      <td>535.0</td>\n",
       "      <td>2.0</td>\n",
       "    </tr>\n",
       "    <tr>\n",
       "      <th>sedan</th>\n",
       "      <td>612.0</td>\n",
       "      <td>7176.0</td>\n",
       "      <td>12299.0</td>\n",
       "      <td>185.0</td>\n",
       "      <td>175.0</td>\n",
       "      <td>485.0</td>\n",
       "      <td>89.0</td>\n",
       "      <td>44.0</td>\n",
       "      <td>32.0</td>\n",
       "      <td>549.0</td>\n",
       "      <td>...</td>\n",
       "      <td>1279.0</td>\n",
       "      <td>736.0</td>\n",
       "      <td>25.0</td>\n",
       "      <td>276.0</td>\n",
       "      <td>114.0</td>\n",
       "      <td>126.0</td>\n",
       "      <td>749.0</td>\n",
       "      <td>91.0</td>\n",
       "      <td>12384.0</td>\n",
       "      <td>452.0</td>\n",
       "    </tr>\n",
       "    <tr>\n",
       "      <th>small</th>\n",
       "      <td>181.0</td>\n",
       "      <td>1063.0</td>\n",
       "      <td>283.0</td>\n",
       "      <td>505.0</td>\n",
       "      <td>8.0</td>\n",
       "      <td>1136.0</td>\n",
       "      <td>196.0</td>\n",
       "      <td>139.0</td>\n",
       "      <td>245.0</td>\n",
       "      <td>2890.0</td>\n",
       "      <td>...</td>\n",
       "      <td>1932.0</td>\n",
       "      <td>898.0</td>\n",
       "      <td>2713.0</td>\n",
       "      <td>160.0</td>\n",
       "      <td>52.0</td>\n",
       "      <td>636.0</td>\n",
       "      <td>1287.0</td>\n",
       "      <td>28.0</td>\n",
       "      <td>9747.0</td>\n",
       "      <td>7.0</td>\n",
       "    </tr>\n",
       "    <tr>\n",
       "      <th>suv</th>\n",
       "      <td>NaN</td>\n",
       "      <td>50.0</td>\n",
       "      <td>509.0</td>\n",
       "      <td>304.0</td>\n",
       "      <td>18.0</td>\n",
       "      <td>25.0</td>\n",
       "      <td>196.0</td>\n",
       "      <td>1.0</td>\n",
       "      <td>29.0</td>\n",
       "      <td>22.0</td>\n",
       "      <td>...</td>\n",
       "      <td>3.0</td>\n",
       "      <td>120.0</td>\n",
       "      <td>NaN</td>\n",
       "      <td>312.0</td>\n",
       "      <td>46.0</td>\n",
       "      <td>654.0</td>\n",
       "      <td>382.0</td>\n",
       "      <td>1.0</td>\n",
       "      <td>788.0</td>\n",
       "      <td>116.0</td>\n",
       "    </tr>\n",
       "    <tr>\n",
       "      <th>wagon</th>\n",
       "      <td>324.0</td>\n",
       "      <td>7897.0</td>\n",
       "      <td>5726.0</td>\n",
       "      <td>94.0</td>\n",
       "      <td>197.0</td>\n",
       "      <td>416.0</td>\n",
       "      <td>225.0</td>\n",
       "      <td>19.0</td>\n",
       "      <td>14.0</td>\n",
       "      <td>237.0</td>\n",
       "      <td>...</td>\n",
       "      <td>243.0</td>\n",
       "      <td>2154.0</td>\n",
       "      <td>1.0</td>\n",
       "      <td>96.0</td>\n",
       "      <td>184.0</td>\n",
       "      <td>53.0</td>\n",
       "      <td>472.0</td>\n",
       "      <td>40.0</td>\n",
       "      <td>8280.0</td>\n",
       "      <td>1230.0</td>\n",
       "    </tr>\n",
       "  </tbody>\n",
       "</table>\n",
       "<p>8 rows × 40 columns</p>\n",
       "</div>"
      ],
      "text/plain": [
       "                 count                                                     \\\n",
       "                 Price                                                      \n",
       "Brand       alfa_romeo    audi      bmw chevrolet chrysler citroen  dacia   \n",
       "VehicleType                                                                 \n",
       "bus                NaN    10.0      5.0     128.0    276.0  1047.0   46.0   \n",
       "convertible      148.0  1237.0   2442.0       8.0    179.0   102.0    NaN   \n",
       "coupe            187.0   937.0   2467.0      63.0     36.0   103.0    NaN   \n",
       "other              6.0    72.0    149.0      30.0      9.0    78.0    5.0   \n",
       "sedan            612.0  7176.0  12299.0     185.0    175.0   485.0   89.0   \n",
       "small            181.0  1063.0    283.0     505.0      8.0  1136.0  196.0   \n",
       "suv                NaN    50.0    509.0     304.0     18.0    25.0  196.0   \n",
       "wagon            324.0  7897.0   5726.0      94.0    197.0   416.0  225.0   \n",
       "\n",
       "                                     ...                          \\\n",
       "                                     ...                           \n",
       "Brand       daewoo daihatsu    fiat  ...    seat   skoda   smart   \n",
       "VehicleType                          ...                           \n",
       "bus           18.0     19.0   651.0  ...   510.0   204.0     1.0   \n",
       "convertible    NaN     16.0   373.0  ...     NaN     2.0  1018.0   \n",
       "coupe          1.0      NaN   123.0  ...    54.0     6.0   288.0   \n",
       "other          3.0      5.0   128.0  ...    36.0    20.0     7.0   \n",
       "sedan         44.0     32.0   549.0  ...  1279.0   736.0    25.0   \n",
       "small        139.0    245.0  2890.0  ...  1932.0   898.0  2713.0   \n",
       "suv            1.0     29.0    22.0  ...     3.0   120.0     NaN   \n",
       "wagon         19.0     14.0   237.0  ...   243.0  2154.0     1.0   \n",
       "\n",
       "                                                                             \n",
       "                                                                             \n",
       "Brand       sonstige_autos subaru suzuki  toyota trabant volkswagen   volvo  \n",
       "VehicleType                                                                  \n",
       "bus                  154.0   13.0   19.0   407.0     NaN     7281.0     NaN  \n",
       "convertible          214.0    1.0   28.0    59.0    31.0     2073.0    62.0  \n",
       "coupe                121.0    4.0    2.0   150.0     2.0     1118.0    48.0  \n",
       "other                140.0    4.0   11.0    15.0     5.0      535.0     2.0  \n",
       "sedan                276.0  114.0  126.0   749.0    91.0    12384.0   452.0  \n",
       "small                160.0   52.0  636.0  1287.0    28.0     9747.0     7.0  \n",
       "suv                  312.0   46.0  654.0   382.0     1.0      788.0   116.0  \n",
       "wagon                 96.0  184.0   53.0   472.0    40.0     8280.0  1230.0  \n",
       "\n",
       "[8 rows x 40 columns]"
      ]
     },
     "metadata": {},
     "output_type": "display_data"
    }
   ],
   "source": [
    "#Построим сводную таблицу для того чтобы наглядно увидеть у каких марок, какие модели, какой кузов и сколько их.\n",
    "vehicle_type_pvt = filtred_auto_df.pivot_table(index=['VehicleType'], \n",
    "                                                    columns=['Brand'],\n",
    "                                                    values=['Price'],\n",
    "                                                    aggfunc=['count'])\n",
    "display(vehicle_type_pvt)\n"
   ]
  },
  {
   "cell_type": "code",
   "execution_count": 21,
   "metadata": {},
   "outputs": [
    {
     "data": {
      "text/html": [
       "<div>\n",
       "<style scoped>\n",
       "    .dataframe tbody tr th:only-of-type {\n",
       "        vertical-align: middle;\n",
       "    }\n",
       "\n",
       "    .dataframe tbody tr th {\n",
       "        vertical-align: top;\n",
       "    }\n",
       "\n",
       "    .dataframe thead th {\n",
       "        text-align: right;\n",
       "    }\n",
       "</style>\n",
       "<table border=\"1\" class=\"dataframe\">\n",
       "  <thead>\n",
       "    <tr style=\"text-align: right;\">\n",
       "      <th>Brand</th>\n",
       "      <th>alfa_romeo</th>\n",
       "      <th>audi</th>\n",
       "      <th>bmw</th>\n",
       "      <th>chevrolet</th>\n",
       "      <th>chrysler</th>\n",
       "      <th>citroen</th>\n",
       "      <th>dacia</th>\n",
       "      <th>daewoo</th>\n",
       "      <th>daihatsu</th>\n",
       "      <th>fiat</th>\n",
       "      <th>...</th>\n",
       "      <th>seat</th>\n",
       "      <th>skoda</th>\n",
       "      <th>smart</th>\n",
       "      <th>sonstige_autos</th>\n",
       "      <th>subaru</th>\n",
       "      <th>suzuki</th>\n",
       "      <th>toyota</th>\n",
       "      <th>trabant</th>\n",
       "      <th>volkswagen</th>\n",
       "      <th>volvo</th>\n",
       "    </tr>\n",
       "    <tr>\n",
       "      <th>VehicleType</th>\n",
       "      <th></th>\n",
       "      <th></th>\n",
       "      <th></th>\n",
       "      <th></th>\n",
       "      <th></th>\n",
       "      <th></th>\n",
       "      <th></th>\n",
       "      <th></th>\n",
       "      <th></th>\n",
       "      <th></th>\n",
       "      <th></th>\n",
       "      <th></th>\n",
       "      <th></th>\n",
       "      <th></th>\n",
       "      <th></th>\n",
       "      <th></th>\n",
       "      <th></th>\n",
       "      <th></th>\n",
       "      <th></th>\n",
       "      <th></th>\n",
       "      <th></th>\n",
       "    </tr>\n",
       "  </thead>\n",
       "  <tbody>\n",
       "    <tr>\n",
       "      <th>bus</th>\n",
       "      <td>NaN</td>\n",
       "      <td>10.0</td>\n",
       "      <td>5.0</td>\n",
       "      <td>128.0</td>\n",
       "      <td>276.0</td>\n",
       "      <td>1047.0</td>\n",
       "      <td>46.0</td>\n",
       "      <td>18.0</td>\n",
       "      <td>19.0</td>\n",
       "      <td>651.0</td>\n",
       "      <td>...</td>\n",
       "      <td>510.0</td>\n",
       "      <td>204.0</td>\n",
       "      <td>1.0</td>\n",
       "      <td>154.0</td>\n",
       "      <td>13.0</td>\n",
       "      <td>19.0</td>\n",
       "      <td>407.0</td>\n",
       "      <td>NaN</td>\n",
       "      <td>7281.0</td>\n",
       "      <td>NaN</td>\n",
       "    </tr>\n",
       "    <tr>\n",
       "      <th>convertible</th>\n",
       "      <td>148.0</td>\n",
       "      <td>1237.0</td>\n",
       "      <td>2442.0</td>\n",
       "      <td>8.0</td>\n",
       "      <td>179.0</td>\n",
       "      <td>102.0</td>\n",
       "      <td>NaN</td>\n",
       "      <td>NaN</td>\n",
       "      <td>16.0</td>\n",
       "      <td>373.0</td>\n",
       "      <td>...</td>\n",
       "      <td>NaN</td>\n",
       "      <td>2.0</td>\n",
       "      <td>1018.0</td>\n",
       "      <td>214.0</td>\n",
       "      <td>1.0</td>\n",
       "      <td>28.0</td>\n",
       "      <td>59.0</td>\n",
       "      <td>31.0</td>\n",
       "      <td>2073.0</td>\n",
       "      <td>62.0</td>\n",
       "    </tr>\n",
       "    <tr>\n",
       "      <th>coupe</th>\n",
       "      <td>187.0</td>\n",
       "      <td>937.0</td>\n",
       "      <td>2467.0</td>\n",
       "      <td>63.0</td>\n",
       "      <td>36.0</td>\n",
       "      <td>103.0</td>\n",
       "      <td>NaN</td>\n",
       "      <td>1.0</td>\n",
       "      <td>NaN</td>\n",
       "      <td>123.0</td>\n",
       "      <td>...</td>\n",
       "      <td>54.0</td>\n",
       "      <td>6.0</td>\n",
       "      <td>288.0</td>\n",
       "      <td>121.0</td>\n",
       "      <td>4.0</td>\n",
       "      <td>2.0</td>\n",
       "      <td>150.0</td>\n",
       "      <td>2.0</td>\n",
       "      <td>1118.0</td>\n",
       "      <td>48.0</td>\n",
       "    </tr>\n",
       "    <tr>\n",
       "      <th>other</th>\n",
       "      <td>6.0</td>\n",
       "      <td>72.0</td>\n",
       "      <td>149.0</td>\n",
       "      <td>30.0</td>\n",
       "      <td>9.0</td>\n",
       "      <td>78.0</td>\n",
       "      <td>5.0</td>\n",
       "      <td>3.0</td>\n",
       "      <td>5.0</td>\n",
       "      <td>128.0</td>\n",
       "      <td>...</td>\n",
       "      <td>36.0</td>\n",
       "      <td>20.0</td>\n",
       "      <td>7.0</td>\n",
       "      <td>140.0</td>\n",
       "      <td>4.0</td>\n",
       "      <td>11.0</td>\n",
       "      <td>15.0</td>\n",
       "      <td>5.0</td>\n",
       "      <td>535.0</td>\n",
       "      <td>2.0</td>\n",
       "    </tr>\n",
       "    <tr>\n",
       "      <th>sedan</th>\n",
       "      <td>612.0</td>\n",
       "      <td>7176.0</td>\n",
       "      <td>12299.0</td>\n",
       "      <td>185.0</td>\n",
       "      <td>175.0</td>\n",
       "      <td>485.0</td>\n",
       "      <td>89.0</td>\n",
       "      <td>44.0</td>\n",
       "      <td>32.0</td>\n",
       "      <td>549.0</td>\n",
       "      <td>...</td>\n",
       "      <td>1279.0</td>\n",
       "      <td>736.0</td>\n",
       "      <td>25.0</td>\n",
       "      <td>276.0</td>\n",
       "      <td>114.0</td>\n",
       "      <td>126.0</td>\n",
       "      <td>749.0</td>\n",
       "      <td>91.0</td>\n",
       "      <td>12384.0</td>\n",
       "      <td>452.0</td>\n",
       "    </tr>\n",
       "    <tr>\n",
       "      <th>small</th>\n",
       "      <td>181.0</td>\n",
       "      <td>1063.0</td>\n",
       "      <td>283.0</td>\n",
       "      <td>505.0</td>\n",
       "      <td>8.0</td>\n",
       "      <td>1136.0</td>\n",
       "      <td>196.0</td>\n",
       "      <td>139.0</td>\n",
       "      <td>245.0</td>\n",
       "      <td>2890.0</td>\n",
       "      <td>...</td>\n",
       "      <td>1932.0</td>\n",
       "      <td>898.0</td>\n",
       "      <td>2713.0</td>\n",
       "      <td>160.0</td>\n",
       "      <td>52.0</td>\n",
       "      <td>636.0</td>\n",
       "      <td>1287.0</td>\n",
       "      <td>28.0</td>\n",
       "      <td>9747.0</td>\n",
       "      <td>7.0</td>\n",
       "    </tr>\n",
       "    <tr>\n",
       "      <th>suv</th>\n",
       "      <td>NaN</td>\n",
       "      <td>50.0</td>\n",
       "      <td>509.0</td>\n",
       "      <td>304.0</td>\n",
       "      <td>18.0</td>\n",
       "      <td>25.0</td>\n",
       "      <td>196.0</td>\n",
       "      <td>1.0</td>\n",
       "      <td>29.0</td>\n",
       "      <td>22.0</td>\n",
       "      <td>...</td>\n",
       "      <td>3.0</td>\n",
       "      <td>120.0</td>\n",
       "      <td>NaN</td>\n",
       "      <td>312.0</td>\n",
       "      <td>46.0</td>\n",
       "      <td>654.0</td>\n",
       "      <td>382.0</td>\n",
       "      <td>1.0</td>\n",
       "      <td>788.0</td>\n",
       "      <td>116.0</td>\n",
       "    </tr>\n",
       "    <tr>\n",
       "      <th>wagon</th>\n",
       "      <td>324.0</td>\n",
       "      <td>7897.0</td>\n",
       "      <td>5726.0</td>\n",
       "      <td>94.0</td>\n",
       "      <td>197.0</td>\n",
       "      <td>416.0</td>\n",
       "      <td>225.0</td>\n",
       "      <td>19.0</td>\n",
       "      <td>14.0</td>\n",
       "      <td>237.0</td>\n",
       "      <td>...</td>\n",
       "      <td>243.0</td>\n",
       "      <td>2154.0</td>\n",
       "      <td>1.0</td>\n",
       "      <td>96.0</td>\n",
       "      <td>184.0</td>\n",
       "      <td>53.0</td>\n",
       "      <td>472.0</td>\n",
       "      <td>40.0</td>\n",
       "      <td>8280.0</td>\n",
       "      <td>1230.0</td>\n",
       "    </tr>\n",
       "  </tbody>\n",
       "</table>\n",
       "<p>8 rows × 40 columns</p>\n",
       "</div>"
      ],
      "text/plain": [
       "Brand        alfa_romeo    audi      bmw  chevrolet  chrysler  citroen  dacia  \\\n",
       "VehicleType                                                                     \n",
       "bus                 NaN    10.0      5.0      128.0     276.0   1047.0   46.0   \n",
       "convertible       148.0  1237.0   2442.0        8.0     179.0    102.0    NaN   \n",
       "coupe             187.0   937.0   2467.0       63.0      36.0    103.0    NaN   \n",
       "other               6.0    72.0    149.0       30.0       9.0     78.0    5.0   \n",
       "sedan             612.0  7176.0  12299.0      185.0     175.0    485.0   89.0   \n",
       "small             181.0  1063.0    283.0      505.0       8.0   1136.0  196.0   \n",
       "suv                 NaN    50.0    509.0      304.0      18.0     25.0  196.0   \n",
       "wagon             324.0  7897.0   5726.0       94.0     197.0    416.0  225.0   \n",
       "\n",
       "Brand        daewoo  daihatsu    fiat  ...    seat   skoda   smart  \\\n",
       "VehicleType                            ...                           \n",
       "bus            18.0      19.0   651.0  ...   510.0   204.0     1.0   \n",
       "convertible     NaN      16.0   373.0  ...     NaN     2.0  1018.0   \n",
       "coupe           1.0       NaN   123.0  ...    54.0     6.0   288.0   \n",
       "other           3.0       5.0   128.0  ...    36.0    20.0     7.0   \n",
       "sedan          44.0      32.0   549.0  ...  1279.0   736.0    25.0   \n",
       "small         139.0     245.0  2890.0  ...  1932.0   898.0  2713.0   \n",
       "suv             1.0      29.0    22.0  ...     3.0   120.0     NaN   \n",
       "wagon          19.0      14.0   237.0  ...   243.0  2154.0     1.0   \n",
       "\n",
       "Brand        sonstige_autos  subaru  suzuki  toyota  trabant  volkswagen  \\\n",
       "VehicleType                                                                \n",
       "bus                   154.0    13.0    19.0   407.0      NaN      7281.0   \n",
       "convertible           214.0     1.0    28.0    59.0     31.0      2073.0   \n",
       "coupe                 121.0     4.0     2.0   150.0      2.0      1118.0   \n",
       "other                 140.0     4.0    11.0    15.0      5.0       535.0   \n",
       "sedan                 276.0   114.0   126.0   749.0     91.0     12384.0   \n",
       "small                 160.0    52.0   636.0  1287.0     28.0      9747.0   \n",
       "suv                   312.0    46.0   654.0   382.0      1.0       788.0   \n",
       "wagon                  96.0   184.0    53.0   472.0     40.0      8280.0   \n",
       "\n",
       "Brand         volvo  \n",
       "VehicleType          \n",
       "bus             NaN  \n",
       "convertible    62.0  \n",
       "coupe          48.0  \n",
       "other           2.0  \n",
       "sedan         452.0  \n",
       "small           7.0  \n",
       "suv           116.0  \n",
       "wagon        1230.0  \n",
       "\n",
       "[8 rows x 40 columns]"
      ]
     },
     "execution_count": 21,
     "metadata": {},
     "output_type": "execute_result"
    }
   ],
   "source": [
    "vehicle_type_pvt = vehicle_type_pvt['count']['Price']\n",
    "vehicle_type_pvt"
   ]
  },
  {
   "cell_type": "code",
   "execution_count": 22,
   "metadata": {},
   "outputs": [
    {
     "data": {
      "text/plain": [
       "0"
      ]
     },
     "metadata": {},
     "output_type": "display_data"
    },
    {
     "data": {
      "text/plain": [
       "sedan          65082\n",
       "small          48198\n",
       "wagon          44876\n",
       "bus            22335\n",
       "convertible    15267\n",
       "coupe          10827\n",
       "suv             8855\n",
       "other           2176\n",
       "Name: VehicleType, dtype: int64"
      ]
     },
     "execution_count": 22,
     "metadata": {},
     "output_type": "execute_result"
    }
   ],
   "source": [
    "# Заполним пустые ячейки 0\n",
    "filtred_auto_df.fillna({'VehicleType':0},inplace=True)\n",
    "# Напишем функцию которая будет в пропущенные значения вставлять тот тип кузова, который \n",
    "# чаще всего распрастранен для конкретной марки марки авто\n",
    "def fillna_by_brand(row, row_number, vehicle_type_pvt):\n",
    "    brand = row[7]\n",
    "    fill_value = row[row_number]\n",
    "    if row[row_number] == 0:\n",
    "        fill_value = vehicle_type_pvt[brand].idxmax()\n",
    "    return fill_value\n",
    "# Применим функцию\n",
    "filtred_auto_df['VehicleType'] = filtred_auto_df.apply(\n",
    "                                fillna_by_brand, \n",
    "                                args=[0, vehicle_type_pvt],\n",
    "                                axis=1)\n",
    "display(filtred_auto_df['VehicleType'].isna().sum())\n",
    "filtred_auto_df['VehicleType'].value_counts()"
   ]
  },
  {
   "cell_type": "markdown",
   "metadata": {},
   "source": [
    "Супер, по аналогии сделаем для столбца FuelType"
   ]
  },
  {
   "cell_type": "code",
   "execution_count": 23,
   "metadata": {},
   "outputs": [
    {
     "data": {
      "text/html": [
       "<div>\n",
       "<style scoped>\n",
       "    .dataframe tbody tr th:only-of-type {\n",
       "        vertical-align: middle;\n",
       "    }\n",
       "\n",
       "    .dataframe tbody tr th {\n",
       "        vertical-align: top;\n",
       "    }\n",
       "\n",
       "    .dataframe thead th {\n",
       "        text-align: right;\n",
       "    }\n",
       "</style>\n",
       "<table border=\"1\" class=\"dataframe\">\n",
       "  <thead>\n",
       "    <tr style=\"text-align: right;\">\n",
       "      <th>Brand</th>\n",
       "      <th>alfa_romeo</th>\n",
       "      <th>audi</th>\n",
       "      <th>bmw</th>\n",
       "      <th>chevrolet</th>\n",
       "      <th>chrysler</th>\n",
       "      <th>citroen</th>\n",
       "      <th>dacia</th>\n",
       "      <th>daewoo</th>\n",
       "      <th>daihatsu</th>\n",
       "      <th>fiat</th>\n",
       "      <th>...</th>\n",
       "      <th>seat</th>\n",
       "      <th>skoda</th>\n",
       "      <th>smart</th>\n",
       "      <th>sonstige_autos</th>\n",
       "      <th>subaru</th>\n",
       "      <th>suzuki</th>\n",
       "      <th>toyota</th>\n",
       "      <th>trabant</th>\n",
       "      <th>volkswagen</th>\n",
       "      <th>volvo</th>\n",
       "    </tr>\n",
       "    <tr>\n",
       "      <th>FuelType</th>\n",
       "      <th></th>\n",
       "      <th></th>\n",
       "      <th></th>\n",
       "      <th></th>\n",
       "      <th></th>\n",
       "      <th></th>\n",
       "      <th></th>\n",
       "      <th></th>\n",
       "      <th></th>\n",
       "      <th></th>\n",
       "      <th></th>\n",
       "      <th></th>\n",
       "      <th></th>\n",
       "      <th></th>\n",
       "      <th></th>\n",
       "      <th></th>\n",
       "      <th></th>\n",
       "      <th></th>\n",
       "      <th></th>\n",
       "      <th></th>\n",
       "      <th></th>\n",
       "    </tr>\n",
       "  </thead>\n",
       "  <tbody>\n",
       "    <tr>\n",
       "      <th>cng</th>\n",
       "      <td>NaN</td>\n",
       "      <td>1.0</td>\n",
       "      <td>8.0</td>\n",
       "      <td>4.0</td>\n",
       "      <td>NaN</td>\n",
       "      <td>6.0</td>\n",
       "      <td>2.0</td>\n",
       "      <td>NaN</td>\n",
       "      <td>NaN</td>\n",
       "      <td>58.0</td>\n",
       "      <td>...</td>\n",
       "      <td>1.0</td>\n",
       "      <td>6.0</td>\n",
       "      <td>2.0</td>\n",
       "      <td>4.0</td>\n",
       "      <td>1.0</td>\n",
       "      <td>NaN</td>\n",
       "      <td>NaN</td>\n",
       "      <td>NaN</td>\n",
       "      <td>153.0</td>\n",
       "      <td>16.0</td>\n",
       "    </tr>\n",
       "    <tr>\n",
       "      <th>electric</th>\n",
       "      <td>NaN</td>\n",
       "      <td>1.0</td>\n",
       "      <td>3.0</td>\n",
       "      <td>NaN</td>\n",
       "      <td>NaN</td>\n",
       "      <td>1.0</td>\n",
       "      <td>NaN</td>\n",
       "      <td>NaN</td>\n",
       "      <td>1.0</td>\n",
       "      <td>3.0</td>\n",
       "      <td>...</td>\n",
       "      <td>NaN</td>\n",
       "      <td>NaN</td>\n",
       "      <td>3.0</td>\n",
       "      <td>19.0</td>\n",
       "      <td>NaN</td>\n",
       "      <td>NaN</td>\n",
       "      <td>NaN</td>\n",
       "      <td>NaN</td>\n",
       "      <td>1.0</td>\n",
       "      <td>NaN</td>\n",
       "    </tr>\n",
       "    <tr>\n",
       "      <th>gasoline</th>\n",
       "      <td>462.0</td>\n",
       "      <td>8484.0</td>\n",
       "      <td>8308.0</td>\n",
       "      <td>193.0</td>\n",
       "      <td>308.0</td>\n",
       "      <td>1266.0</td>\n",
       "      <td>194.0</td>\n",
       "      <td>1.0</td>\n",
       "      <td>3.0</td>\n",
       "      <td>1127.0</td>\n",
       "      <td>...</td>\n",
       "      <td>1273.0</td>\n",
       "      <td>1516.0</td>\n",
       "      <td>745.0</td>\n",
       "      <td>378.0</td>\n",
       "      <td>33.0</td>\n",
       "      <td>192.0</td>\n",
       "      <td>848.0</td>\n",
       "      <td>1.0</td>\n",
       "      <td>17710.0</td>\n",
       "      <td>748.0</td>\n",
       "    </tr>\n",
       "    <tr>\n",
       "      <th>hybrid</th>\n",
       "      <td>NaN</td>\n",
       "      <td>NaN</td>\n",
       "      <td>NaN</td>\n",
       "      <td>NaN</td>\n",
       "      <td>NaN</td>\n",
       "      <td>NaN</td>\n",
       "      <td>NaN</td>\n",
       "      <td>NaN</td>\n",
       "      <td>NaN</td>\n",
       "      <td>1.0</td>\n",
       "      <td>...</td>\n",
       "      <td>1.0</td>\n",
       "      <td>NaN</td>\n",
       "      <td>1.0</td>\n",
       "      <td>14.0</td>\n",
       "      <td>NaN</td>\n",
       "      <td>NaN</td>\n",
       "      <td>88.0</td>\n",
       "      <td>NaN</td>\n",
       "      <td>3.0</td>\n",
       "      <td>NaN</td>\n",
       "    </tr>\n",
       "    <tr>\n",
       "      <th>lpg</th>\n",
       "      <td>23.0</td>\n",
       "      <td>372.0</td>\n",
       "      <td>607.0</td>\n",
       "      <td>150.0</td>\n",
       "      <td>72.0</td>\n",
       "      <td>56.0</td>\n",
       "      <td>46.0</td>\n",
       "      <td>18.0</td>\n",
       "      <td>3.0</td>\n",
       "      <td>57.0</td>\n",
       "      <td>...</td>\n",
       "      <td>46.0</td>\n",
       "      <td>44.0</td>\n",
       "      <td>2.0</td>\n",
       "      <td>85.0</td>\n",
       "      <td>24.0</td>\n",
       "      <td>15.0</td>\n",
       "      <td>17.0</td>\n",
       "      <td>NaN</td>\n",
       "      <td>385.0</td>\n",
       "      <td>77.0</td>\n",
       "    </tr>\n",
       "    <tr>\n",
       "      <th>other</th>\n",
       "      <td>NaN</td>\n",
       "      <td>1.0</td>\n",
       "      <td>5.0</td>\n",
       "      <td>NaN</td>\n",
       "      <td>NaN</td>\n",
       "      <td>1.0</td>\n",
       "      <td>NaN</td>\n",
       "      <td>NaN</td>\n",
       "      <td>NaN</td>\n",
       "      <td>1.0</td>\n",
       "      <td>...</td>\n",
       "      <td>NaN</td>\n",
       "      <td>NaN</td>\n",
       "      <td>1.0</td>\n",
       "      <td>8.0</td>\n",
       "      <td>NaN</td>\n",
       "      <td>1.0</td>\n",
       "      <td>NaN</td>\n",
       "      <td>19.0</td>\n",
       "      <td>12.0</td>\n",
       "      <td>1.0</td>\n",
       "    </tr>\n",
       "    <tr>\n",
       "      <th>petrol</th>\n",
       "      <td>955.0</td>\n",
       "      <td>9267.0</td>\n",
       "      <td>14315.0</td>\n",
       "      <td>943.0</td>\n",
       "      <td>502.0</td>\n",
       "      <td>2020.0</td>\n",
       "      <td>493.0</td>\n",
       "      <td>204.0</td>\n",
       "      <td>347.0</td>\n",
       "      <td>3689.0</td>\n",
       "      <td>...</td>\n",
       "      <td>2714.0</td>\n",
       "      <td>2505.0</td>\n",
       "      <td>3270.0</td>\n",
       "      <td>895.0</td>\n",
       "      <td>342.0</td>\n",
       "      <td>1296.0</td>\n",
       "      <td>2541.0</td>\n",
       "      <td>144.0</td>\n",
       "      <td>23507.0</td>\n",
       "      <td>1033.0</td>\n",
       "    </tr>\n",
       "  </tbody>\n",
       "</table>\n",
       "<p>7 rows × 40 columns</p>\n",
       "</div>"
      ],
      "text/plain": [
       "Brand     alfa_romeo    audi      bmw  chevrolet  chrysler  citroen  dacia  \\\n",
       "FuelType                                                                     \n",
       "cng              NaN     1.0      8.0        4.0       NaN      6.0    2.0   \n",
       "electric         NaN     1.0      3.0        NaN       NaN      1.0    NaN   \n",
       "gasoline       462.0  8484.0   8308.0      193.0     308.0   1266.0  194.0   \n",
       "hybrid           NaN     NaN      NaN        NaN       NaN      NaN    NaN   \n",
       "lpg             23.0   372.0    607.0      150.0      72.0     56.0   46.0   \n",
       "other            NaN     1.0      5.0        NaN       NaN      1.0    NaN   \n",
       "petrol         955.0  9267.0  14315.0      943.0     502.0   2020.0  493.0   \n",
       "\n",
       "Brand     daewoo  daihatsu    fiat  ...    seat   skoda   smart  \\\n",
       "FuelType                            ...                           \n",
       "cng          NaN       NaN    58.0  ...     1.0     6.0     2.0   \n",
       "electric     NaN       1.0     3.0  ...     NaN     NaN     3.0   \n",
       "gasoline     1.0       3.0  1127.0  ...  1273.0  1516.0   745.0   \n",
       "hybrid       NaN       NaN     1.0  ...     1.0     NaN     1.0   \n",
       "lpg         18.0       3.0    57.0  ...    46.0    44.0     2.0   \n",
       "other        NaN       NaN     1.0  ...     NaN     NaN     1.0   \n",
       "petrol     204.0     347.0  3689.0  ...  2714.0  2505.0  3270.0   \n",
       "\n",
       "Brand     sonstige_autos  subaru  suzuki  toyota  trabant  volkswagen   volvo  \n",
       "FuelType                                                                       \n",
       "cng                  4.0     1.0     NaN     NaN      NaN       153.0    16.0  \n",
       "electric            19.0     NaN     NaN     NaN      NaN         1.0     NaN  \n",
       "gasoline           378.0    33.0   192.0   848.0      1.0     17710.0   748.0  \n",
       "hybrid              14.0     NaN     NaN    88.0      NaN         3.0     NaN  \n",
       "lpg                 85.0    24.0    15.0    17.0      NaN       385.0    77.0  \n",
       "other                8.0     NaN     1.0     NaN     19.0        12.0     1.0  \n",
       "petrol             895.0   342.0  1296.0  2541.0    144.0     23507.0  1033.0  \n",
       "\n",
       "[7 rows x 40 columns]"
      ]
     },
     "metadata": {},
     "output_type": "display_data"
    },
    {
     "data": {
      "text/plain": [
       "0"
      ]
     },
     "metadata": {},
     "output_type": "display_data"
    },
    {
     "data": {
      "text/plain": [
       "golf                  16266\n",
       "other                 15785\n",
       "3er                   13010\n",
       "unknown                9108\n",
       "a4                     6489\n",
       "                      ...  \n",
       "gl                        2\n",
       "serie_3                   2\n",
       "elefantino                2\n",
       "serie_1                   1\n",
       "range_rover_evoque        1\n",
       "Name: FuelType, Length: 251, dtype: int64"
      ]
     },
     "execution_count": 23,
     "metadata": {},
     "output_type": "execute_result"
    }
   ],
   "source": [
    "filtred_auto_df['FuelType'].value_counts()\n",
    "fuel_type_pvt = filtred_auto_df.pivot_table(index=['FuelType'], \n",
    "                                                          columns=['Brand'],\n",
    "                                                          values=['Price'],\n",
    "                                                          aggfunc=['count'])\n",
    "fuel_type_pvt = fuel_type_pvt['count']['Price']\n",
    "display(fuel_type_pvt)\n",
    "\n",
    "filtred_auto_df.fillna({'FuelType':0},inplace=True)\n",
    "\n",
    "filtred_auto_df['FuelType'] = filtred_auto_df.apply(\n",
    "                                fillna_by_brand, \n",
    "                                args=[4, vehicle_type_pvt],\n",
    "                                axis=1)\n",
    "display(filtred_auto_df['FuelType'].isna().sum())\n",
    "filtred_auto_df['FuelType'].value_counts()\n"
   ]
  },
  {
   "cell_type": "code",
   "execution_count": 24,
   "metadata": {},
   "outputs": [
    {
     "data": {
      "text/plain": [
       "VehicleType         0.0\n",
       "RegistrationYear    0.0\n",
       "Gearbox             0.0\n",
       "Power               0.0\n",
       "Model               0.0\n",
       "Kilometer           0.0\n",
       "FuelType            0.0\n",
       "Brand               0.0\n",
       "Repaired            0.0\n",
       "Price               0.0\n",
       "dtype: float64"
      ]
     },
     "execution_count": 24,
     "metadata": {},
     "output_type": "execute_result"
    }
   ],
   "source": [
    "filtred_auto_df.isna().mean()"
   ]
  },
  {
   "cell_type": "markdown",
   "metadata": {},
   "source": [
    "Далее займемся столбцом Power\n"
   ]
  },
  {
   "cell_type": "code",
   "execution_count": 25,
   "metadata": {},
   "outputs": [
    {
     "data": {
      "text/plain": [
       "count    217616.000000\n",
       "mean        119.481789\n",
       "std         199.953433\n",
       "min           0.000000\n",
       "25%          75.000000\n",
       "50%         113.000000\n",
       "75%         150.000000\n",
       "max       20000.000000\n",
       "Name: Power, dtype: float64"
      ]
     },
     "execution_count": 25,
     "metadata": {},
     "output_type": "execute_result"
    },
    {
     "data": {
      "image/png": "[encoded data removed]",
      "text/plain": [
       "<Figure size 864x648 with 1 Axes>"
      ]
     },
     "metadata": {
      "needs_background": "light"
     },
     "output_type": "display_data"
    }
   ],
   "source": [
    "filtred_auto_df['Power'].hist(bins=100, figsize=(12,9))\n",
    "filtred_auto_df['Power'].describe()"
   ]
  },
  {
   "cell_type": "code",
   "execution_count": 26,
   "metadata": {},
   "outputs": [
    {
     "data": {
      "text/plain": [
       "count    217431.000000\n",
       "mean        115.856870\n",
       "std          60.433162\n",
       "min           0.000000\n",
       "25%          75.000000\n",
       "50%         113.000000\n",
       "75%         150.000000\n",
       "max        1000.000000\n",
       "Name: Power, dtype: float64"
      ]
     },
     "execution_count": 26,
     "metadata": {},
     "output_type": "execute_result"
    },
    {
     "data": {
      "image/png": "[encoded data removed]",
      "text/plain": [
       "<Figure size 864x648 with 1 Axes>"
      ]
     },
     "metadata": {
      "needs_background": "light"
     },
     "output_type": "display_data"
    }
   ],
   "source": [
    "filtred_auto_df = filtred_auto_df.query('Power < 1001')\n",
    "filtred_auto_df['Power'].hist(bins=100, figsize=(12,9))\n",
    "filtred_auto_df['Power'].describe()\n"
   ]
  },
  {
   "cell_type": "markdown",
   "metadata": {},
   "source": [
    "Из данных и графика видно, что многие машины имеют мощность 0, уберем их"
   ]
  },
  {
   "cell_type": "code",
   "execution_count": 27,
   "metadata": {},
   "outputs": [
    {
     "data": {
      "text/plain": [
       "count    200936.000000\n",
       "mean        124.989942\n",
       "std          51.236650\n",
       "min           1.000000\n",
       "25%          90.000000\n",
       "50%         116.000000\n",
       "75%         150.000000\n",
       "max         449.000000\n",
       "Name: Power, dtype: float64"
      ]
     },
     "execution_count": 27,
     "metadata": {},
     "output_type": "execute_result"
    },
    {
     "data": {
      "image/png": "[encoded data removed]",
      "text/plain": [
       "<Figure size 864x648 with 1 Axes>"
      ]
     },
     "metadata": {
      "needs_background": "light"
     },
     "output_type": "display_data"
    }
   ],
   "source": [
    "# Справа подобрали значение в 450 л.с.\n",
    "filtred_auto_df = filtred_auto_df.query('0 < Power < 450')\n",
    "filtred_auto_df['Power'].hist(bins=100, figsize=(12,9))\n",
    "filtred_auto_df['Power'].describe()"
   ]
  },
  {
   "cell_type": "code",
   "execution_count": 28,
   "metadata": {},
   "outputs": [
    {
     "name": "stdout",
     "output_type": "stream",
     "text": [
      "<class 'pandas.core.frame.DataFrame'>\n",
      "Int64Index: 200936 entries, 2 to 354368\n",
      "Data columns (total 10 columns):\n",
      " #   Column            Non-Null Count   Dtype \n",
      "---  ------            --------------   ----- \n",
      " 0   VehicleType       200936 non-null  object\n",
      " 1   RegistrationYear  200936 non-null  int64 \n",
      " 2   Gearbox           200936 non-null  object\n",
      " 3   Power             200936 non-null  int64 \n",
      " 4   Model             200936 non-null  object\n",
      " 5   Kilometer         200936 non-null  int64 \n",
      " 6   FuelType          200936 non-null  object\n",
      " 7   Brand             200936 non-null  object\n",
      " 8   Repaired          200936 non-null  object\n",
      " 9   Price             200936 non-null  int64 \n",
      "dtypes: int64(4), object(6)\n",
      "memory usage: 16.9+ MB\n"
     ]
    }
   ],
   "source": [
    "good_auto_df = filtred_auto_df\n",
    "good_auto_df.info()"
   ]
  },
  {
   "cell_type": "markdown",
   "metadata": {},
   "source": [
    "Далее нам нужно привести данные столбцов Gearbox и NotRepaire в булевый тип, чтобы было легче работать программе и быстрее все обрабатывать."
   ]
  },
  {
   "cell_type": "code",
   "execution_count": 29,
   "metadata": {},
   "outputs": [
    {
     "data": {
      "text/plain": [
       "1    157939\n",
       "0     42997\n",
       "Name: Is_manual_gearbox, dtype: int64"
      ]
     },
     "metadata": {},
     "output_type": "display_data"
    },
    {
     "data": {
      "text/plain": [
       "manual    157939\n",
       "auto       42997\n",
       "Name: Gearbox, dtype: int64"
      ]
     },
     "execution_count": 29,
     "metadata": {},
     "output_type": "execute_result"
    }
   ],
   "source": [
    "# Создадим столбец 'Is_manual_gearbox', где 1 - это manual, 0 - это auto\n",
    "good_auto_df['Is_manual_gearbox'] = 0\n",
    "good_auto_df.loc[good_auto_df['Gearbox'] == 'manual', 'Is_manual_gearbox'] = 1\n",
    "display(good_auto_df['Is_manual_gearbox'].value_counts())\n",
    "good_auto_df['Gearbox'].value_counts()"
   ]
  },
  {
   "cell_type": "code",
   "execution_count": 30,
   "metadata": {},
   "outputs": [
    {
     "data": {
      "text/plain": [
       "0    160064\n",
       "1     40872\n",
       "Name: Was_not_repaired, dtype: int64"
      ]
     },
     "metadata": {},
     "output_type": "display_data"
    },
    {
     "data": {
      "text/plain": [
       "no     160064\n",
       "yes     40872\n",
       "Name: Repaired, dtype: int64"
      ]
     },
     "execution_count": 30,
     "metadata": {},
     "output_type": "execute_result"
    }
   ],
   "source": [
    "# Создадим столбец 'Was_not_repaired', где 1 - это машина не ремонтировалась, 0 - машина с ремонтом\n",
    "good_auto_df['Was_not_repaired'] = 0\n",
    "good_auto_df.loc[good_auto_df['Repaired'] == 'yes', 'Was_not_repaired'] = 1\n",
    "display(good_auto_df['Was_not_repaired'].value_counts())\n",
    "good_auto_df['Repaired'].value_counts()"
   ]
  },
  {
   "cell_type": "markdown",
   "metadata": {},
   "source": [
    "Приведем датафрейм в порядок, удалим уже не нужные столбцы, применим также downcast, чтобу уменьшить потребление памяти и ускорить работу фрейма"
   ]
  },
  {
   "cell_type": "code",
   "execution_count": 31,
   "metadata": {},
   "outputs": [
    {
     "name": "stdout",
     "output_type": "stream",
     "text": [
      "<class 'pandas.core.frame.DataFrame'>\n",
      "Int64Index: 200936 entries, 2 to 354368\n",
      "Data columns (total 10 columns):\n",
      " #   Column             Non-Null Count   Dtype \n",
      "---  ------             --------------   ----- \n",
      " 0   VehicleType        200936 non-null  object\n",
      " 1   RegistrationYear   200936 non-null  int16 \n",
      " 2   Power              200936 non-null  int16 \n",
      " 3   Model              200936 non-null  object\n",
      " 4   Kilometer          200936 non-null  int32 \n",
      " 5   FuelType           200936 non-null  object\n",
      " 6   Brand              200936 non-null  object\n",
      " 7   Price              200936 non-null  int16 \n",
      " 8   Is_manual_gearbox  200936 non-null  int8  \n",
      " 9   Was_not_repaired   200936 non-null  int8  \n",
      "dtypes: int16(3), int32(1), int8(2), object(4)\n",
      "memory usage: 10.0+ MB\n"
     ]
    }
   ],
   "source": [
    "good_auto_df.drop(['Repaired','Gearbox'], inplace=True, axis=1)\n",
    "good_auto_df['Was_not_repaired'] = pd.to_numeric(good_auto_df['Was_not_repaired'], downcast='integer')\n",
    "good_auto_df['Is_manual_gearbox'] = pd.to_numeric(good_auto_df['Is_manual_gearbox'], downcast='integer')\n",
    "good_auto_df['RegistrationYear'] = pd.to_numeric(good_auto_df['RegistrationYear'], downcast='integer')\n",
    "good_auto_df['Power'] = pd.to_numeric(good_auto_df['Power'], downcast='integer')\n",
    "good_auto_df['Kilometer'] = pd.to_numeric(good_auto_df['Kilometer'], downcast='integer')\n",
    "good_auto_df['Price'] = pd.to_numeric(good_auto_df['Price'], downcast='integer')\n",
    "good_auto_df.info()"
   ]
  },
  {
   "cell_type": "code",
   "execution_count": 32,
   "metadata": {},
   "outputs": [
    {
     "name": "stdout",
     "output_type": "stream",
     "text": [
      "Уменьшение использования памяти на 76.44%\n"
     ]
    }
   ],
   "source": [
    "print('Уменьшение использования памяти на {:.2%}'.format(1 - 10.2/43.3))"
   ]
  },
  {
   "cell_type": "markdown",
   "metadata": {},
   "source": [
    "Вывод"
   ]
  },
  {
   "cell_type": "markdown",
   "metadata": {},
   "source": [
    "1. Были проанализированы данные\n",
    "\n",
    "2. Обработаны пропуски,аномалии и некорректные значения\n",
    "\n",
    "3. Выбраны необходимые столбцы для обучения модели\n",
    "\n",
    "4. Заменены категориальные признаки данных на численые\n",
    "\n",
    "5. Обработали датафрейм и в итоге уменьшили потребление памяти на 76%"
   ]
  },
  {
   "cell_type": "markdown",
   "metadata": {},
   "source": [
    "## Обучение моделей"
   ]
  },
  {
   "cell_type": "markdown",
   "metadata": {},
   "source": [
    "Подготовим три типа признаков для кроссвалидации:"
   ]
  },
  {
   "cell_type": "markdown",
   "metadata": {},
   "source": [
    "-Неизмененные. Название original_features.\n",
    "-Закодированные методом OHE. Название ohe_features.\n",
    "-Закодированные методом OE. Название ordinal_features."
   ]
  },
  {
   "cell_type": "code",
   "execution_count": 33,
   "metadata": {},
   "outputs": [],
   "source": [
    "# Неизмененные принаки\n",
    "original_features = good_auto_df.drop('Price', axis=1)\n",
    "\n",
    "# Прямое кодирование\n",
    "encoder = OrdinalEncoder()\n",
    "cat_columns = ['VehicleType','FuelType','Brand','Model']\n",
    "cat_features = original_features[cat_columns]\n",
    "cat_features = pd.DataFrame(encoder.fit_transform(cat_features),\n",
    "                                columns=cat_features.columns, \n",
    "                                index=cat_features.index)\n",
    "ordinal_features = original_features.copy()\n",
    "for column in cat_columns:\n",
    "    ordinal_features[column] = cat_features[column]\n",
    "\n",
    "#OHE кодирование\n",
    "ohe_features = pd.get_dummies(original_features, drop_first=True)\n",
    "\n",
    "#Целевой признак\n",
    "target = good_auto_df['Price']"
   ]
  },
  {
   "cell_type": "code",
   "execution_count": 34,
   "metadata": {},
   "outputs": [],
   "source": [
    "#Обуч и тест выборка\n",
    "original_features_train, original_features_test, target_train, target_test = train_test_split(\n",
    "    original_features, target, test_size=0.25, random_state=1515)\n",
    "\n",
    "ordinal_features_train = ordinal_features.loc[original_features_train.index, :]\n",
    "ordinal_features_test = ordinal_features.loc[original_features_test.index, :]\n",
    "\n",
    "ohe_features_train = ohe_features.loc[original_features_train.index, :]\n",
    "ohe_features_test = ohe_features.loc[original_features_test.index, :]"
   ]
  },
  {
   "cell_type": "markdown",
   "metadata": {},
   "source": [
    "Линейная регрессия"
   ]
  },
  {
   "cell_type": "code",
   "execution_count": 35,
   "metadata": {},
   "outputs": [
    {
     "name": "stdout",
     "output_type": "stream",
     "text": [
      "# Train for root_mean_squared_error\n",
      "\n",
      "Mean RMSE from CV of LinearRegression = 2298.217507220066\n",
      "CPU times: user 1min 2s, sys: 36 s, total: 1min 38s\n",
      "Wall time: 1min 38s\n"
     ]
    }
   ],
   "source": [
    "%%time\n",
    "\n",
    "regressor = LinearRegression()\n",
    "print('# Train for root_mean_squared_error')\n",
    "print()\n",
    "cv_RMSE_LR = (cross_val_score(regressor, \n",
    "                             ohe_features_train, \n",
    "                             target_train, \n",
    "                             cv=5, \n",
    "                             scoring='neg_mean_squared_error').mean() * -1) ** 0.5\n",
    "print('Mean RMSE from CV of LinearRegression =', cv_RMSE_LR)"
   ]
  },
  {
   "cell_type": "code",
   "execution_count": 36,
   "metadata": {},
   "outputs": [
    {
     "name": "stdout",
     "output_type": "stream",
     "text": [
      "# Train for root_mean_squared_error\n",
      "\n",
      "Mean RMSE from CV of LinearRegression = 35095594236036.59\n",
      "CPU times: user 1min 8s, sys: 37.1 s, total: 1min 45s\n",
      "Wall time: 1min 45s\n"
     ]
    }
   ],
   "source": [
    "%%time\n",
    "\n",
    "# Попробуем с масштабируемыми признаками\n",
    "regressor = LinearRegression()\n",
    "scaller = StandardScaler()\n",
    "pipeline = Pipeline([(\"standard_scaller\", scaller),(\"linear_regression\", regressor)])\n",
    "print('# Train for root_mean_squared_error')\n",
    "print()\n",
    "cv_RMSE_LR_S = (cross_val_score(pipeline,\n",
    "                                ohe_features_train, \n",
    "                                target_train, \n",
    "                                cv=5, \n",
    "                                scoring='neg_mean_squared_error').mean() * -1) ** 0.5\n",
    "print('Mean RMSE from CV of LinearRegression =', cv_RMSE_LR_S)"
   ]
  },
  {
   "cell_type": "code",
   "execution_count": 37,
   "metadata": {
    "scrolled": true
   },
   "outputs": [
    {
     "name": "stdout",
     "output_type": "stream",
     "text": [
      "# Train for root_mean_squared_error\n",
      "\n",
      "Mean RMSE from CV of LinearRegression = 683231433.6867783\n",
      "CPU times: user 1min 7s, sys: 37 s, total: 1min 44s\n",
      "Wall time: 1min 45s\n"
     ]
    }
   ],
   "source": [
    "%%time\n",
    "\n",
    "# Попробуем с масштабируемыми признаками\n",
    "regressor = LinearRegression()\n",
    "scaller = RobustScaler()\n",
    "pipeline = Pipeline([(\"robust_scaller\", scaller),(\"linear_regression\", regressor)])\n",
    "print('# Train for root_mean_squared_error')\n",
    "print()\n",
    "cv_RMSE_LR_S = (cross_val_score(pipeline,\n",
    "                                ohe_features_train, \n",
    "                                target_train, \n",
    "                                cv=5, \n",
    "                                scoring='neg_mean_squared_error').mean() * -1) ** 0.5\n",
    "print('Mean RMSE from CV of LinearRegression =', cv_RMSE_LR_S)"
   ]
  },
  {
   "cell_type": "markdown",
   "metadata": {},
   "source": [
    "Вывод: Масштабмрование ухудшает модель"
   ]
  },
  {
   "cell_type": "markdown",
   "metadata": {},
   "source": [
    "DecissionTree регрессия"
   ]
  },
  {
   "cell_type": "code",
   "execution_count": 38,
   "metadata": {},
   "outputs": [
    {
     "name": "stdout",
     "output_type": "stream",
     "text": [
      "# Tuning hyper-parameters for root_mean_squared_error\n",
      "\n",
      "Best parameters set found on development set:\n",
      "\n",
      "{'criterion': 'mse', 'max_depth': 9, 'random_state': 1515}\n",
      "\n",
      "Grid scores on development set:\n",
      "\n",
      "2744.289409 for {'criterion': 'mse', 'max_depth': 2, 'random_state': 1515}\n",
      "2533.543853 for {'criterion': 'mse', 'max_depth': 3, 'random_state': 1515}\n",
      "2296.959498 for {'criterion': 'mse', 'max_depth': 4, 'random_state': 1515}\n",
      "2149.633590 for {'criterion': 'mse', 'max_depth': 5, 'random_state': 1515}\n",
      "2037.117961 for {'criterion': 'mse', 'max_depth': 6, 'random_state': 1515}\n",
      "1963.971521 for {'criterion': 'mse', 'max_depth': 7, 'random_state': 1515}\n",
      "1895.312835 for {'criterion': 'mse', 'max_depth': 8, 'random_state': 1515}\n",
      "1842.705411 for {'criterion': 'mse', 'max_depth': 9, 'random_state': 1515}\n",
      "\n",
      "CPU times: user 1min 20s, sys: 6.24 s, total: 1min 27s\n",
      "Wall time: 1min 27s\n"
     ]
    }
   ],
   "source": [
    "%%time\n",
    "\n",
    "# Модель на признаках, закодированных по методу OHE\n",
    "\n",
    "\n",
    "regressor = DecisionTreeRegressor() \n",
    "max_depth_list = [x for x in range(2, 10)]\n",
    "hyperparams = [{'criterion':['mse'], \n",
    "                'max_depth':max_depth_list, \n",
    "                'random_state':[1515]}]\n",
    "\n",
    "print('# Tuning hyper-parameters for root_mean_squared_error')\n",
    "print()\n",
    "clf = GridSearchCV(regressor, hyperparams, scoring='neg_mean_squared_error')\n",
    "clf.fit(ohe_features_train, target_train)\n",
    "print(\"Best parameters set found on development set:\")\n",
    "print()\n",
    "print(clf.best_params_)\n",
    "print()\n",
    "print(\"Grid scores on development set:\")\n",
    "print()\n",
    "means = clf.cv_results_['mean_test_score']\n",
    "stds = clf.cv_results_['std_test_score']\n",
    "for mean, std, params in zip(means, stds, clf.cv_results_['params']):\n",
    "    print(\"%0.6f for %r\"% ((mean*-1)** 0.5, params))\n",
    "print()\n",
    "\n",
    "cv_RMSE_DTR_ohe = (max(means)*-1) ** 0.5"
   ]
  },
  {
   "cell_type": "code",
   "execution_count": 39,
   "metadata": {},
   "outputs": [
    {
     "name": "stdout",
     "output_type": "stream",
     "text": [
      "# Tuning hyper-parameters for root_mean_squared_error\n",
      "\n",
      "Best parameters set found on development set:\n",
      "\n",
      "{'criterion': 'mse', 'max_depth': 9, 'random_state': 1515}\n",
      "\n",
      "Grid scores on development set:\n",
      "\n",
      "2744.289409 for {'criterion': 'mse', 'max_depth': 2, 'random_state': 1515}\n",
      "2533.543853 for {'criterion': 'mse', 'max_depth': 3, 'random_state': 1515}\n",
      "2294.464904 for {'criterion': 'mse', 'max_depth': 4, 'random_state': 1515}\n",
      "2149.805437 for {'criterion': 'mse', 'max_depth': 5, 'random_state': 1515}\n",
      "2041.354074 for {'criterion': 'mse', 'max_depth': 6, 'random_state': 1515}\n",
      "1966.923615 for {'criterion': 'mse', 'max_depth': 7, 'random_state': 1515}\n",
      "1893.410733 for {'criterion': 'mse', 'max_depth': 8, 'random_state': 1515}\n",
      "1843.324031 for {'criterion': 'mse', 'max_depth': 9, 'random_state': 1515}\n",
      "\n",
      "CPU times: user 5.48 s, sys: 0 ns, total: 5.48 s\n",
      "Wall time: 5.49 s\n"
     ]
    }
   ],
   "source": [
    "%%time\n",
    "\n",
    "# Модель на признаках, закодированных по методу OE\n",
    "\n",
    "\n",
    "regressor = DecisionTreeRegressor() \n",
    "max_depth_list = [x for x in range(2, 10)]\n",
    "hyperparams = [{'criterion':['mse'], \n",
    "                'max_depth':max_depth_list, \n",
    "                'random_state':[1515]}]\n",
    "\n",
    "print('# Tuning hyper-parameters for root_mean_squared_error')\n",
    "print()\n",
    "clf = GridSearchCV(regressor, hyperparams, scoring='neg_mean_squared_error')\n",
    "clf.fit(ordinal_features_train, target_train)\n",
    "print(\"Best parameters set found on development set:\")\n",
    "print()\n",
    "print(clf.best_params_)\n",
    "print()\n",
    "print(\"Grid scores on development set:\")\n",
    "print()\n",
    "means = clf.cv_results_['mean_test_score']\n",
    "stds = clf.cv_results_['std_test_score']\n",
    "for mean, std, params in zip(means, stds, clf.cv_results_['params']):\n",
    "    print(\"%0.6f for %r\"% ((mean*-1)** 0.5, params))\n",
    "print()\n",
    "\n",
    "cv_RMSE_DTR_ordinal = (max(means)*-1) ** 0.5"
   ]
  },
  {
   "cell_type": "markdown",
   "metadata": {},
   "source": [
    "Регрессия CatBoostRegressor"
   ]
  },
  {
   "cell_type": "code",
   "execution_count": 40,
   "metadata": {},
   "outputs": [
    {
     "name": "stdout",
     "output_type": "stream",
     "text": [
      "# Tuning hyper-parameters for root_mean_squared_error\n",
      "\n",
      "Best parameters set found on development set:\n",
      "\n",
      "{'learning_rate': 0.5, 'random_state': 1515, 'verbose': False}\n",
      "\n",
      "Grid scores on development set:\n",
      "\n",
      "1507.267415 for {'learning_rate': 0.1, 'random_state': 1515, 'verbose': False}\n",
      "1493.543879 for {'learning_rate': 0.5, 'random_state': 1515, 'verbose': False}\n",
      "1522.319105 for {'learning_rate': 0.8, 'random_state': 1515, 'verbose': False}\n",
      "\n",
      "CPU times: user 3min 50s, sys: 0 ns, total: 3min 50s\n",
      "Wall time: 4min 5s\n"
     ]
    }
   ],
   "source": [
    "%%time\n",
    "\n",
    "# Модель на данных, закодированных по методу OE\n",
    "\n",
    "regressor = CatBoostRegressor() \n",
    "hyperparams = [{'learning_rate':[0.1, 0.5, 0.8],\n",
    "                'random_state':[1515],\n",
    "                'verbose':[False]}]\n",
    "\n",
    "print('# Tuning hyper-parameters for root_mean_squared_error')\n",
    "print()\n",
    "clf = GridSearchCV(regressor, hyperparams, scoring='neg_mean_squared_error')\n",
    "clf.fit(ordinal_features_train, target_train)\n",
    "print(\"Best parameters set found on development set:\")\n",
    "print()\n",
    "print(clf.best_params_)\n",
    "print()\n",
    "print(\"Grid scores on development set:\")\n",
    "print()\n",
    "means = clf.cv_results_['mean_test_score']\n",
    "stds = clf.cv_results_['std_test_score']\n",
    "for mean, std, params in zip(means, stds, clf.cv_results_['params']):\n",
    "    print(\"%0.6f for %r\"% ((mean*-1)** 0.5, params))\n",
    "print()\n",
    "\n",
    "cv_RMSE_CBR_ordinal = (max(means)*-1) ** 0.5"
   ]
  },
  {
   "cell_type": "code",
   "execution_count": 41,
   "metadata": {},
   "outputs": [
    {
     "name": "stdout",
     "output_type": "stream",
     "text": [
      "# Train for root_mean_squared_error\n",
      "\n",
      "Mean RMSE from CV of CatBoostRegressor = 1555.1286699558518\n",
      "CPU times: user 16.9 s, sys: 0 ns, total: 16.9 s\n",
      "Wall time: 19.6 s\n"
     ]
    }
   ],
   "source": [
    "%%time\n",
    "\n",
    "# Модель на оригинальных данных с указанием категорий\n",
    "\n",
    "\n",
    "regressor = CatBoostRegressor(learning_rate=0.5,\n",
    "                              iterations = 100,\n",
    "                              random_state=1515, \n",
    "                              verbose=False, \n",
    "                              cat_features=['VehicleType','FuelType','Brand','Model']) \n",
    "print('# Train for root_mean_squared_error')\n",
    "print()\n",
    "cv_RMSE_CBR_original = (cross_val_score(regressor,\n",
    "                                original_features_train, \n",
    "                                target_train, \n",
    "                                cv=5, \n",
    "                                scoring='neg_mean_squared_error').mean() * -1) ** 0.5\n",
    "print('Mean RMSE from CV of CatBoostRegressor =', cv_RMSE_CBR_original)"
   ]
  },
  {
   "cell_type": "markdown",
   "metadata": {},
   "source": [
    "Регрессия LGBM"
   ]
  },
  {
   "cell_type": "code",
   "execution_count": 42,
   "metadata": {},
   "outputs": [
    {
     "name": "stdout",
     "output_type": "stream",
     "text": [
      "# Tuning hyper-parameters for root_mean_squared_error\n",
      "\n",
      "Best parameters set found on development set:\n",
      "\n",
      "{'learning_rate': 0.3, 'num_leaves': 100, 'random_state': 1515}\n",
      "\n",
      "Grid scores on development set:\n",
      "\n",
      "1586.270873 for {'learning_rate': 0.3, 'num_leaves': 11, 'random_state': 1515}\n",
      "1510.720082 for {'learning_rate': 0.3, 'num_leaves': 50, 'random_state': 1515}\n",
      "1493.584035 for {'learning_rate': 0.3, 'num_leaves': 100, 'random_state': 1515}\n",
      "\n",
      "CPU times: user 55.8 s, sys: 0 ns, total: 55.8 s\n",
      "Wall time: 56.7 s\n"
     ]
    }
   ],
   "source": [
    "%%time\n",
    "\n",
    "regressor = LGBMRegressor() \n",
    "hyperparams = [{'num_leaves':[11, 50, 100], \n",
    "                'learning_rate':[0.3],\n",
    "                'random_state':[1515]}]\n",
    "\n",
    "print('# Tuning hyper-parameters for root_mean_squared_error')\n",
    "print()\n",
    "clf = GridSearchCV(regressor, hyperparams, scoring='neg_mean_squared_error')\n",
    "clf.fit(ordinal_features_train, target_train)\n",
    "print(\"Best parameters set found on development set:\")\n",
    "print()\n",
    "print(clf.best_params_)\n",
    "print()\n",
    "print(\"Grid scores on development set:\")\n",
    "print()\n",
    "means = clf.cv_results_['mean_test_score']\n",
    "stds = clf.cv_results_['std_test_score']\n",
    "for mean, std, params in zip(means, stds, clf.cv_results_['params']):\n",
    "    print(\"%0.6f for %r\"% ((mean*-1)** 0.5, params))\n",
    "print()\n",
    "\n",
    "cv_RMSE_LGBMR = (max(means)*-1) ** 0.5"
   ]
  },
  {
   "cell_type": "markdown",
   "metadata": {},
   "source": [
    "Предсказание на лучших параметрах"
   ]
  },
  {
   "cell_type": "markdown",
   "metadata": {},
   "source": [
    "Линейная регрессия"
   ]
  },
  {
   "cell_type": "code",
   "execution_count": 43,
   "metadata": {},
   "outputs": [
    {
     "name": "stdout",
     "output_type": "stream",
     "text": [
      "CPU times: user 18.7 s, sys: 5.5 s, total: 24.2 s\n",
      "Wall time: 24.5 s\n"
     ]
    },
    {
     "data": {
      "text/plain": [
       "LinearRegression()"
      ]
     },
     "execution_count": 43,
     "metadata": {},
     "output_type": "execute_result"
    }
   ],
   "source": [
    "%%time\n",
    "\n",
    "model = LinearRegression()\n",
    "model.fit(ohe_features_train, target_train)"
   ]
  },
  {
   "cell_type": "code",
   "execution_count": 44,
   "metadata": {},
   "outputs": [
    {
     "name": "stdout",
     "output_type": "stream",
     "text": [
      "CPU times: user 355 ms, sys: 367 ms, total: 723 ms\n",
      "Wall time: 705 ms\n"
     ]
    }
   ],
   "source": [
    "%%time\n",
    "\n",
    "target_predict = model.predict(ohe_features_train)\n",
    "final_RMSE_LR = mean_squared_error(target_train, target_predict) ** 0.5"
   ]
  },
  {
   "cell_type": "markdown",
   "metadata": {},
   "source": [
    "DecisionTree регрессия"
   ]
  },
  {
   "cell_type": "code",
   "execution_count": 45,
   "metadata": {},
   "outputs": [
    {
     "name": "stdout",
     "output_type": "stream",
     "text": [
      "CPU times: user 4.85 s, sys: 181 ms, total: 5.03 s\n",
      "Wall time: 5.12 s\n"
     ]
    },
    {
     "data": {
      "text/plain": [
       "DecisionTreeRegressor(max_depth=15, random_state=1515)"
      ]
     },
     "execution_count": 45,
     "metadata": {},
     "output_type": "execute_result"
    }
   ],
   "source": [
    "%%time\n",
    "\n",
    "# Модель на принаках, закодированных по методу OHE\n",
    "model = DecisionTreeRegressor(criterion='mse', \n",
    "                              max_depth=15, \n",
    "                              random_state=1515) \n",
    "model.fit(ohe_features_train, target_train)"
   ]
  },
  {
   "cell_type": "code",
   "execution_count": 46,
   "metadata": {},
   "outputs": [
    {
     "name": "stdout",
     "output_type": "stream",
     "text": [
      "CPU times: user 146 ms, sys: 186 ms, total: 332 ms\n",
      "Wall time: 335 ms\n"
     ]
    }
   ],
   "source": [
    "%%time\n",
    "target_predict = model.predict(ohe_features_train)"
   ]
  },
  {
   "cell_type": "code",
   "execution_count": 47,
   "metadata": {},
   "outputs": [],
   "source": [
    "final_RMSE_DTR_ohe = mean_squared_error(target_train, target_predict) ** 0.5 "
   ]
  },
  {
   "cell_type": "code",
   "execution_count": 48,
   "metadata": {},
   "outputs": [
    {
     "name": "stdout",
     "output_type": "stream",
     "text": [
      "CPU times: user 361 ms, sys: 0 ns, total: 361 ms\n",
      "Wall time: 360 ms\n"
     ]
    },
    {
     "data": {
      "text/plain": [
       "DecisionTreeRegressor(max_depth=13, random_state=1515)"
      ]
     },
     "execution_count": 48,
     "metadata": {},
     "output_type": "execute_result"
    }
   ],
   "source": [
    "%%time\n",
    "\n",
    "# Модель на принаках, закодированных по методу OE\n",
    "model = DecisionTreeRegressor(criterion='mse', \n",
    "                              max_depth=13, \n",
    "                              random_state=1515) \n",
    "model.fit(ordinal_features_train, target_train)"
   ]
  },
  {
   "cell_type": "code",
   "execution_count": 49,
   "metadata": {},
   "outputs": [
    {
     "name": "stdout",
     "output_type": "stream",
     "text": [
      "CPU times: user 25.8 ms, sys: 0 ns, total: 25.8 ms\n",
      "Wall time: 29.3 ms\n"
     ]
    }
   ],
   "source": [
    "%%time\n",
    "\n",
    "target_predict = model.predict(ordinal_features_train)\n"
   ]
  },
  {
   "cell_type": "code",
   "execution_count": 50,
   "metadata": {},
   "outputs": [],
   "source": [
    "final_RMSE_DTR_ordinal = mean_squared_error(target_train, target_predict) ** 0.5  "
   ]
  },
  {
   "cell_type": "markdown",
   "metadata": {},
   "source": [
    "CatBoost регрессия"
   ]
  },
  {
   "cell_type": "code",
   "execution_count": 51,
   "metadata": {},
   "outputs": [
    {
     "name": "stdout",
     "output_type": "stream",
     "text": [
      "CPU times: user 17.6 s, sys: 0 ns, total: 17.6 s\n",
      "Wall time: 18.6 s\n"
     ]
    },
    {
     "data": {
      "text/plain": [
       "<catboost.core.CatBoostRegressor at 0x7fb0212257c0>"
      ]
     },
     "execution_count": 51,
     "metadata": {},
     "output_type": "execute_result"
    }
   ],
   "source": [
    "%%time\n",
    "\n",
    "# Модель на данных, закодированных по методу OE\n",
    "model = CatBoostRegressor(learning_rate=0.5, \n",
    "                          random_state=1515, \n",
    "                          verbose=False) \n",
    "model.fit(ordinal_features_train, target_train)"
   ]
  },
  {
   "cell_type": "code",
   "execution_count": 52,
   "metadata": {},
   "outputs": [
    {
     "name": "stdout",
     "output_type": "stream",
     "text": [
      "CPU times: user 131 ms, sys: 0 ns, total: 131 ms\n",
      "Wall time: 129 ms\n"
     ]
    }
   ],
   "source": [
    "%%time\n",
    "\n",
    "target_predict = model.predict(ordinal_features_train)"
   ]
  },
  {
   "cell_type": "code",
   "execution_count": 53,
   "metadata": {},
   "outputs": [],
   "source": [
    "final_RMSE_CBR_ordinal = mean_squared_error(target_train, target_predict) ** 0.5"
   ]
  },
  {
   "cell_type": "code",
   "execution_count": 54,
   "metadata": {},
   "outputs": [
    {
     "name": "stdout",
     "output_type": "stream",
     "text": [
      "CPU times: user 4.1 s, sys: 0 ns, total: 4.1 s\n",
      "Wall time: 4.61 s\n"
     ]
    },
    {
     "data": {
      "text/plain": [
       "<catboost.core.CatBoostRegressor at 0x7fb02121c520>"
      ]
     },
     "execution_count": 54,
     "metadata": {},
     "output_type": "execute_result"
    }
   ],
   "source": [
    "%%time\n",
    "\n",
    "# Модель на оригинальных данных с указанием категорий\n",
    "model = CatBoostRegressor(learning_rate=0.5, \n",
    "                          iterations = 100, \n",
    "                          random_state=1551, \n",
    "                          verbose=False,\n",
    "                          cat_features=['VehicleType','FuelType','Brand','Model']) \n",
    "model.fit(original_features_train, target_train)"
   ]
  },
  {
   "cell_type": "code",
   "execution_count": 55,
   "metadata": {},
   "outputs": [
    {
     "name": "stdout",
     "output_type": "stream",
     "text": [
      "CPU times: user 128 ms, sys: 0 ns, total: 128 ms\n",
      "Wall time: 126 ms\n"
     ]
    }
   ],
   "source": [
    "%%time\n",
    "\n",
    "target_predict = model.predict(original_features_train)"
   ]
  },
  {
   "cell_type": "code",
   "execution_count": 56,
   "metadata": {},
   "outputs": [],
   "source": [
    "final_RMSE_CBR_original = mean_squared_error(target_train, target_predict) ** 0.5\n"
   ]
  },
  {
   "cell_type": "markdown",
   "metadata": {},
   "source": [
    "LGBM регрессия"
   ]
  },
  {
   "cell_type": "code",
   "execution_count": 57,
   "metadata": {},
   "outputs": [
    {
     "name": "stdout",
     "output_type": "stream",
     "text": [
      "CPU times: user 9.74 s, sys: 5.31 ms, total: 9.74 s\n",
      "Wall time: 9.78 s\n"
     ]
    }
   ],
   "source": [
    "%%time\n",
    "\n",
    "model = LGBMRegressor(learning_rate=0.1, \n",
    "                      num_leaves=100, \n",
    "                      random_state=1515)\n",
    "model.fit(ordinal_features_train, target_train)\n",
    "target_predict = model.predict(ordinal_features_train)\n",
    "final_RMSE_LGBMR = mean_squared_error(target_train, target_predict) ** 0.5"
   ]
  },
  {
   "cell_type": "code",
   "execution_count": 58,
   "metadata": {},
   "outputs": [
    {
     "name": "stdout",
     "output_type": "stream",
     "text": [
      "CPU times: user 1.3 s, sys: 0 ns, total: 1.3 s\n",
      "Wall time: 1.38 s\n"
     ]
    }
   ],
   "source": [
    "%%time\n",
    "\n",
    "target_predict = model.predict(ordinal_features_train)\n"
   ]
  },
  {
   "cell_type": "code",
   "execution_count": 59,
   "metadata": {},
   "outputs": [],
   "source": [
    "final_RMSE_LGBMR = mean_squared_error(target_train, target_predict) ** 0.5\n"
   ]
  },
  {
   "cell_type": "markdown",
   "metadata": {},
   "source": [
    "## Анализ моделей"
   ]
  },
  {
   "cell_type": "markdown",
   "metadata": {},
   "source": [
    "Проанализируем скорость работы и качество моделей."
   ]
  },
  {
   "cell_type": "markdown",
   "metadata": {},
   "source": [
    "Для наглядности сведём все интересующие нас даные в таблицу"
   ]
  },
  {
   "cell_type": "markdown",
   "metadata": {},
   "source": [
    "Сформимруем таблицу дял вывода"
   ]
  },
  {
   "cell_type": "code",
   "execution_count": 60,
   "metadata": {},
   "outputs": [
    {
     "data": {
      "text/html": [
       "<div>\n",
       "<style scoped>\n",
       "    .dataframe tbody tr th:only-of-type {\n",
       "        vertical-align: middle;\n",
       "    }\n",
       "\n",
       "    .dataframe tbody tr th {\n",
       "        vertical-align: top;\n",
       "    }\n",
       "\n",
       "    .dataframe thead th {\n",
       "        text-align: right;\n",
       "    }\n",
       "</style>\n",
       "<table border=\"1\" class=\"dataframe\">\n",
       "  <thead>\n",
       "    <tr style=\"text-align: right;\">\n",
       "      <th></th>\n",
       "      <th>RMSE на CV, евро</th>\n",
       "      <th>Время обучения на CV, сек</th>\n",
       "      <th>RMSE модели на тестовой выборке, евро</th>\n",
       "      <th>Время обучения модели, сек</th>\n",
       "      <th>Время предсказания модели, сек</th>\n",
       "      <th>Рейтинг RMSE</th>\n",
       "      <th>Рейтинг времени обучения</th>\n",
       "      <th>Рейтинг времени предсказания</th>\n",
       "      <th>Итоговый рейтинг</th>\n",
       "    </tr>\n",
       "  </thead>\n",
       "  <tbody>\n",
       "    <tr>\n",
       "      <th>LinearRegression</th>\n",
       "      <td>2298.217507</td>\n",
       "      <td>162</td>\n",
       "      <td>2292.478382</td>\n",
       "      <td>25.0</td>\n",
       "      <td>0.200</td>\n",
       "      <td>0.649871</td>\n",
       "      <td>0.012000</td>\n",
       "      <td>0.215000</td>\n",
       "      <td>0.876871</td>\n",
       "    </tr>\n",
       "    <tr>\n",
       "      <th>DecisionTreeRegressor on OHE features</th>\n",
       "      <td>1842.705411</td>\n",
       "      <td>81</td>\n",
       "      <td>1388.401954</td>\n",
       "      <td>5.0</td>\n",
       "      <td>0.110</td>\n",
       "      <td>0.810517</td>\n",
       "      <td>0.060000</td>\n",
       "      <td>0.390909</td>\n",
       "      <td>1.261426</td>\n",
       "    </tr>\n",
       "    <tr>\n",
       "      <th>DecisionTreeRegressor on OE features</th>\n",
       "      <td>1843.324031</td>\n",
       "      <td>6</td>\n",
       "      <td>1460.237930</td>\n",
       "      <td>0.3</td>\n",
       "      <td>0.120</td>\n",
       "      <td>0.810245</td>\n",
       "      <td>1.000000</td>\n",
       "      <td>0.358333</td>\n",
       "      <td>2.168578</td>\n",
       "    </tr>\n",
       "    <tr>\n",
       "      <th>CatBoostRegressor on OE features</th>\n",
       "      <td>1493.543879</td>\n",
       "      <td>265</td>\n",
       "      <td>1302.568395</td>\n",
       "      <td>18.0</td>\n",
       "      <td>0.046</td>\n",
       "      <td>1.000000</td>\n",
       "      <td>0.016667</td>\n",
       "      <td>0.934783</td>\n",
       "      <td>1.951449</td>\n",
       "    </tr>\n",
       "    <tr>\n",
       "      <th>CatBoostRegressor on original features</th>\n",
       "      <td>1555.128670</td>\n",
       "      <td>18</td>\n",
       "      <td>1510.366552</td>\n",
       "      <td>4.0</td>\n",
       "      <td>0.043</td>\n",
       "      <td>0.960399</td>\n",
       "      <td>0.075000</td>\n",
       "      <td>1.000000</td>\n",
       "      <td>2.035399</td>\n",
       "    </tr>\n",
       "    <tr>\n",
       "      <th>LGBMRegressor</th>\n",
       "      <td>1493.584035</td>\n",
       "      <td>279</td>\n",
       "      <td>1438.884788</td>\n",
       "      <td>7.0</td>\n",
       "      <td>0.470</td>\n",
       "      <td>0.999973</td>\n",
       "      <td>0.042857</td>\n",
       "      <td>0.091489</td>\n",
       "      <td>1.134320</td>\n",
       "    </tr>\n",
       "  </tbody>\n",
       "</table>\n",
       "</div>"
      ],
      "text/plain": [
       "                                        RMSE на CV, евро  \\\n",
       "LinearRegression                             2298.217507   \n",
       "DecisionTreeRegressor on OHE features        1842.705411   \n",
       "DecisionTreeRegressor on OE features         1843.324031   \n",
       "CatBoostRegressor on OE features             1493.543879   \n",
       "CatBoostRegressor on original features       1555.128670   \n",
       "LGBMRegressor                                1493.584035   \n",
       "\n",
       "                                        Время обучения на CV, сек  \\\n",
       "LinearRegression                                              162   \n",
       "DecisionTreeRegressor on OHE features                          81   \n",
       "DecisionTreeRegressor on OE features                            6   \n",
       "CatBoostRegressor on OE features                              265   \n",
       "CatBoostRegressor on original features                         18   \n",
       "LGBMRegressor                                                 279   \n",
       "\n",
       "                                        RMSE модели на тестовой выборке, евро  \\\n",
       "LinearRegression                                                  2292.478382   \n",
       "DecisionTreeRegressor on OHE features                             1388.401954   \n",
       "DecisionTreeRegressor on OE features                              1460.237930   \n",
       "CatBoostRegressor on OE features                                  1302.568395   \n",
       "CatBoostRegressor on original features                            1510.366552   \n",
       "LGBMRegressor                                                     1438.884788   \n",
       "\n",
       "                                        Время обучения модели, сек  \\\n",
       "LinearRegression                                              25.0   \n",
       "DecisionTreeRegressor on OHE features                          5.0   \n",
       "DecisionTreeRegressor on OE features                           0.3   \n",
       "CatBoostRegressor on OE features                              18.0   \n",
       "CatBoostRegressor on original features                         4.0   \n",
       "LGBMRegressor                                                  7.0   \n",
       "\n",
       "                                        Время предсказания модели, сек  \\\n",
       "LinearRegression                                                 0.200   \n",
       "DecisionTreeRegressor on OHE features                            0.110   \n",
       "DecisionTreeRegressor on OE features                             0.120   \n",
       "CatBoostRegressor on OE features                                 0.046   \n",
       "CatBoostRegressor on original features                           0.043   \n",
       "LGBMRegressor                                                    0.470   \n",
       "\n",
       "                                        Рейтинг RMSE  \\\n",
       "LinearRegression                            0.649871   \n",
       "DecisionTreeRegressor on OHE features       0.810517   \n",
       "DecisionTreeRegressor on OE features        0.810245   \n",
       "CatBoostRegressor on OE features            1.000000   \n",
       "CatBoostRegressor on original features      0.960399   \n",
       "LGBMRegressor                               0.999973   \n",
       "\n",
       "                                        Рейтинг времени обучения  \\\n",
       "LinearRegression                                        0.012000   \n",
       "DecisionTreeRegressor on OHE features                   0.060000   \n",
       "DecisionTreeRegressor on OE features                    1.000000   \n",
       "CatBoostRegressor on OE features                        0.016667   \n",
       "CatBoostRegressor on original features                  0.075000   \n",
       "LGBMRegressor                                           0.042857   \n",
       "\n",
       "                                        Рейтинг времени предсказания  \\\n",
       "LinearRegression                                            0.215000   \n",
       "DecisionTreeRegressor on OHE features                       0.390909   \n",
       "DecisionTreeRegressor on OE features                        0.358333   \n",
       "CatBoostRegressor on OE features                            0.934783   \n",
       "CatBoostRegressor on original features                      1.000000   \n",
       "LGBMRegressor                                               0.091489   \n",
       "\n",
       "                                        Итоговый рейтинг  \n",
       "LinearRegression                                0.876871  \n",
       "DecisionTreeRegressor on OHE features           1.261426  \n",
       "DecisionTreeRegressor on OE features            2.168578  \n",
       "CatBoostRegressor on OE features                1.951449  \n",
       "CatBoostRegressor on original features          2.035399  \n",
       "LGBMRegressor                                   1.134320  "
      ]
     },
     "execution_count": 60,
     "metadata": {},
     "output_type": "execute_result"
    }
   ],
   "source": [
    "index = ['LinearRegression',\n",
    "         'DecisionTreeRegressor on OHE features',\n",
    "         'DecisionTreeRegressor on OE features',\n",
    "         'CatBoostRegressor on OE features',\n",
    "         'CatBoostRegressor on original features',\n",
    "         'LGBMRegressor']\n",
    "data = {'RMSE на CV, евро':[cv_RMSE_LR,\n",
    "                            cv_RMSE_DTR_ohe,\n",
    "                            cv_RMSE_DTR_ordinal,\n",
    "                            cv_RMSE_CBR_ordinal,\n",
    "                            cv_RMSE_CBR_original,\n",
    "                            cv_RMSE_LGBMR],\n",
    "        'Время обучения на CV, сек':[162,\n",
    "                                     81,\n",
    "                                     6,\n",
    "                                     265,\n",
    "                                     18,\n",
    "                                     279],\n",
    "        'RMSE модели на тестовой выборке, евро':[final_RMSE_LR,\n",
    "                                                final_RMSE_DTR_ohe,\n",
    "                                               final_RMSE_DTR_ordinal,\n",
    "                                                final_RMSE_CBR_ordinal,\n",
    "                                                final_RMSE_CBR_original,\n",
    "                                                final_RMSE_LGBMR],\n",
    "        'Время обучения модели, сек':[25,\n",
    "                                      5,\n",
    "                                      0.3,\n",
    "                                      18,\n",
    "                                      4,\n",
    "                                      7],\n",
    "        'Время предсказания модели, сек':[0.2,\n",
    "                                          0.11,\n",
    "                                          0.12,\n",
    "                                          0.046,\n",
    "                                          0.043,\n",
    "                                          0.47]}\n",
    "\n",
    "scores_data = pd.DataFrame(data=data, index=index)\n",
    "scores_data['Рейтинг RMSE'] = (scores_data['RMSE на CV, евро'].min() /\n",
    "                              scores_data['RMSE на CV, евро'])\n",
    "scores_data['Рейтинг времени обучения'] = (scores_data['Время обучения модели, сек'].min() / \n",
    "                              scores_data['Время обучения модели, сек'])\n",
    "scores_data['Рейтинг времени предсказания'] = (scores_data['Время предсказания модели, сек'].min() / \n",
    "                              scores_data['Время предсказания модели, сек'])\n",
    "scores_data['Итоговый рейтинг'] = (scores_data['Рейтинг RMSE'] +\n",
    "                                   scores_data['Рейтинг времени обучения'] +\n",
    "                                   scores_data['Рейтинг времени предсказания'])\n",
    "scores_data"
   ]
  },
  {
   "cell_type": "markdown",
   "metadata": {},
   "source": [
    "Вывод"
   ]
  },
  {
   "cell_type": "code",
   "execution_count": 61,
   "metadata": {},
   "outputs": [],
   "source": [
    "#%%time\n",
    "\n",
    "# Модель на оригинальных данных с указанием категорий\n",
    "\n",
    "\n",
    "#regressor = CatBoostRegressor(learning_rate=0.5,\n",
    "#                              iterations = 100,\n",
    "#                              random_state=1515, \n",
    "#                              verbose=False, \n",
    "#                              cat_features=['VehicleType','FuelType','Brand','Model']) \n",
    "#print('# Train for root_mean_squared_error')\n",
    "#print()\n",
    "#cv_RMSE_CBR_original = (cross_val_score(regressor,\n",
    "#                                original_features_test, \n",
    "#                                target_test, \n",
    "#                                cv=5, \n",
    "#                                scoring='neg_mean_squared_error').mean() * -1) ** 0.5\n",
    "#print('Mean RMSE from CV of CatBoostRegressor =', cv_RMSE_CBR_original)"
   ]
  },
  {
   "cell_type": "code",
   "execution_count": 62,
   "metadata": {},
   "outputs": [
    {
     "data": {
      "text/plain": [
       "<catboost.core.CatBoostRegressor at 0x7fb0211f81f0>"
      ]
     },
     "execution_count": 62,
     "metadata": {},
     "output_type": "execute_result"
    }
   ],
   "source": [
    "# Модель на оригинальных данных с указанием категорий\n",
    "model = CatBoostRegressor(learning_rate=0.5, \n",
    "                          iterations = 100, \n",
    "                          random_state=1551, \n",
    "                          verbose=False,\n",
    "                          cat_features=['VehicleType','FuelType','Brand','Model']) \n",
    "model.fit(original_features_train, target_train)"
   ]
  },
  {
   "cell_type": "code",
   "execution_count": 63,
   "metadata": {},
   "outputs": [
    {
     "name": "stdout",
     "output_type": "stream",
     "text": [
      "CPU times: user 49.3 ms, sys: 0 ns, total: 49.3 ms\n",
      "Wall time: 46.5 ms\n"
     ]
    }
   ],
   "source": [
    "%%time\n",
    "\n",
    "target_predict = model.predict(original_features_test)"
   ]
  },
  {
   "cell_type": "code",
   "execution_count": 64,
   "metadata": {},
   "outputs": [],
   "source": [
    "final_RMSE_CBR_original = mean_squared_error(target_test, target_predict) ** 0.5"
   ]
  },
  {
   "cell_type": "code",
   "execution_count": 65,
   "metadata": {},
   "outputs": [
    {
     "data": {
      "text/plain": [
       "1541.9963582407693"
      ]
     },
     "execution_count": 65,
     "metadata": {},
     "output_type": "execute_result"
    }
   ],
   "source": [
    "final_RMSE_CBR_original"
   ]
  },
  {
   "cell_type": "markdown",
   "metadata": {},
   "source": [
    "Результат на тестовой выборке оказался даже чуть лучше"
   ]
  },
  {
   "cell_type": "markdown",
   "metadata": {},
   "source": [
    "По результату анализа остатков предсказания моделей, на графике хорошо видно сильное отрицательное отклонение в предсказании данных при помощи LinearRegressor в возростной группе автомобилей SuperRetro. По другим моделям наблюдается некоторый паритет по обработке возрастных категорий. Тем не менее в группе SuperRetro, модели использующие градиентный спуск так же чаще ошибаются в предсказаниях.\n",
    "\n"
   ]
  },
  {
   "cell_type": "markdown",
   "metadata": {},
   "source": [
    "Общий вывод"
   ]
  },
  {
   "cell_type": "markdown",
   "metadata": {},
   "source": [
    "Перед нами стояла задача- построить модель для определения стоимости автомобиля, с лушими показателями качества предсказания, скорости и врмени обучения. В нашем распоряжении были исторические данные: технические характеристики, комплектации и цены автомобилей.\n",
    "\n",
    "Мы использовали технологию градиетного бустинга в моделях CatBoostRegressor и LightGBM, и сравнили её с базовыми моделями LinearRegression и RandomForestRegressor\n",
    "\n",
    "По итогам качества и скорости обучения на тестовых данных - с небольшим отрывом от CatBoostRegressor побеждает модель LightGBM, но сильно уступает по скорости предсказания.\n",
    "\n",
    "Таким образом для компании \"Не бит, не крашен\" можем смело рекомендовать модель CatBoostRegressor, т.к. можно немного поступиться со скоростью обучения в пользу достижения скорости работы на новых данных при сохранении приблизительно тех же показателей по качеству предсказания"
   ]
  }
 ],
 "metadata": {
  "ExecuteTimeLog": [
   {
    "duration": 1743,
    "start_time": "2022-12-12T10:22:37.563Z"
   },
   {
    "duration": 1153,
    "start_time": "2022-12-12T10:22:41.407Z"
   },
   {
    "duration": 6,
    "start_time": "2022-12-12T12:13:34.632Z"
   },
   {
    "duration": 1453,
    "start_time": "2022-12-12T12:55:20.802Z"
   },
   {
    "duration": 868,
    "start_time": "2022-12-12T12:55:22.257Z"
   },
   {
    "duration": 146,
    "start_time": "2022-12-12T12:55:23.126Z"
   },
   {
    "duration": 292,
    "start_time": "2022-12-12T12:55:23.274Z"
   },
   {
    "duration": 122,
    "start_time": "2022-12-12T12:55:23.568Z"
   },
   {
    "duration": 329,
    "start_time": "2022-12-12T12:55:23.692Z"
   },
   {
    "duration": 14,
    "start_time": "2022-12-12T12:55:24.023Z"
   },
   {
    "duration": 545,
    "start_time": "2022-12-12T12:55:24.056Z"
   },
   {
    "duration": 55,
    "start_time": "2022-12-12T12:55:24.603Z"
   },
   {
    "duration": 7,
    "start_time": "2022-12-12T12:55:24.662Z"
   },
   {
    "duration": 223,
    "start_time": "2022-12-12T12:55:24.671Z"
   },
   {
    "duration": 20,
    "start_time": "2022-12-12T12:55:24.896Z"
   },
   {
    "duration": 18,
    "start_time": "2022-12-12T12:55:24.918Z"
   },
   {
    "duration": 18,
    "start_time": "2022-12-12T12:55:24.938Z"
   },
   {
    "duration": 241,
    "start_time": "2022-12-12T12:55:24.958Z"
   },
   {
    "duration": 6,
    "start_time": "2022-12-12T12:55:25.201Z"
   },
   {
    "duration": 51,
    "start_time": "2022-12-12T12:55:25.208Z"
   },
   {
    "duration": 457,
    "start_time": "2022-12-12T12:55:25.261Z"
   },
   {
    "duration": 97,
    "start_time": "2022-12-12T12:55:25.720Z"
   },
   {
    "duration": 51,
    "start_time": "2022-12-12T12:55:25.819Z"
   },
   {
    "duration": 40,
    "start_time": "2022-12-12T12:55:25.871Z"
   },
   {
    "duration": 19,
    "start_time": "2022-12-12T12:55:25.913Z"
   },
   {
    "duration": 387,
    "start_time": "2022-12-12T12:55:25.933Z"
   },
   {
    "duration": 297,
    "start_time": "2022-12-12T12:55:26.322Z"
   },
   {
    "duration": 17,
    "start_time": "2022-12-12T12:55:26.621Z"
   },
   {
    "duration": 41,
    "start_time": "2022-12-12T12:55:26.640Z"
   },
   {
    "duration": 95,
    "start_time": "2022-12-12T12:55:26.683Z"
   },
   {
    "duration": 44,
    "start_time": "2022-12-12T12:55:26.783Z"
   },
   {
    "duration": 53,
    "start_time": "2022-12-12T12:55:26.829Z"
   },
   {
    "duration": 104,
    "start_time": "2022-12-12T12:55:26.883Z"
   },
   {
    "duration": 14,
    "start_time": "2022-12-12T12:55:26.990Z"
   },
   {
    "duration": 15,
    "start_time": "2022-12-12T12:55:27.006Z"
   },
   {
    "duration": 5,
    "start_time": "2022-12-12T12:55:27.023Z"
   },
   {
    "duration": 35,
    "start_time": "2022-12-12T12:55:27.030Z"
   },
   {
    "duration": 6,
    "start_time": "2022-12-12T12:55:27.067Z"
   },
   {
    "duration": 25,
    "start_time": "2022-12-12T12:55:27.075Z"
   },
   {
    "duration": 6,
    "start_time": "2022-12-12T12:55:27.101Z"
   },
   {
    "duration": 19,
    "start_time": "2022-12-12T12:55:27.108Z"
   },
   {
    "duration": 31,
    "start_time": "2022-12-12T12:55:27.156Z"
   },
   {
    "duration": 25,
    "start_time": "2022-12-12T12:55:27.189Z"
   },
   {
    "duration": 25,
    "start_time": "2022-12-12T12:55:27.215Z"
   },
   {
    "duration": 87,
    "start_time": "2022-12-12T12:55:27.242Z"
   },
   {
    "duration": 33,
    "start_time": "2022-12-12T12:55:27.331Z"
   },
   {
    "duration": 136,
    "start_time": "2022-12-12T12:55:27.366Z"
   },
   {
    "duration": 0,
    "start_time": "2022-12-12T12:55:27.504Z"
   },
   {
    "duration": 0,
    "start_time": "2022-12-12T12:55:27.506Z"
   },
   {
    "duration": 0,
    "start_time": "2022-12-12T12:55:27.507Z"
   },
   {
    "duration": 0,
    "start_time": "2022-12-12T12:55:27.508Z"
   },
   {
    "duration": 0,
    "start_time": "2022-12-12T12:55:27.510Z"
   },
   {
    "duration": 0,
    "start_time": "2022-12-12T12:55:27.511Z"
   },
   {
    "duration": 0,
    "start_time": "2022-12-12T12:55:27.512Z"
   },
   {
    "duration": 0,
    "start_time": "2022-12-12T12:55:27.513Z"
   },
   {
    "duration": 0,
    "start_time": "2022-12-12T12:55:27.515Z"
   },
   {
    "duration": 0,
    "start_time": "2022-12-12T12:55:27.516Z"
   },
   {
    "duration": 0,
    "start_time": "2022-12-12T12:55:27.517Z"
   },
   {
    "duration": 0,
    "start_time": "2022-12-12T12:55:27.518Z"
   },
   {
    "duration": 0,
    "start_time": "2022-12-12T12:55:27.519Z"
   },
   {
    "duration": 0,
    "start_time": "2022-12-12T12:55:27.520Z"
   },
   {
    "duration": 0,
    "start_time": "2022-12-12T12:55:27.522Z"
   },
   {
    "duration": 0,
    "start_time": "2022-12-12T12:55:27.523Z"
   },
   {
    "duration": 0,
    "start_time": "2022-12-12T12:55:27.555Z"
   },
   {
    "duration": 0,
    "start_time": "2022-12-12T12:55:27.556Z"
   },
   {
    "duration": 0,
    "start_time": "2022-12-12T12:55:27.558Z"
   },
   {
    "duration": 0,
    "start_time": "2022-12-12T12:55:27.559Z"
   },
   {
    "duration": 0,
    "start_time": "2022-12-12T12:55:27.560Z"
   },
   {
    "duration": 0,
    "start_time": "2022-12-12T12:55:27.561Z"
   },
   {
    "duration": 0,
    "start_time": "2022-12-12T12:55:27.562Z"
   },
   {
    "duration": 0,
    "start_time": "2022-12-12T12:55:27.563Z"
   },
   {
    "duration": 0,
    "start_time": "2022-12-12T12:55:27.564Z"
   },
   {
    "duration": 0,
    "start_time": "2022-12-12T12:55:27.566Z"
   },
   {
    "duration": 0,
    "start_time": "2022-12-12T12:55:27.567Z"
   },
   {
    "duration": 0,
    "start_time": "2022-12-12T12:55:27.568Z"
   },
   {
    "duration": 0,
    "start_time": "2022-12-12T12:55:27.570Z"
   },
   {
    "duration": 0,
    "start_time": "2022-12-12T12:55:27.571Z"
   },
   {
    "duration": 0,
    "start_time": "2022-12-12T12:55:27.571Z"
   },
   {
    "duration": 0,
    "start_time": "2022-12-12T12:55:27.572Z"
   },
   {
    "duration": 0,
    "start_time": "2022-12-12T12:55:27.573Z"
   },
   {
    "duration": 0,
    "start_time": "2022-12-12T12:55:27.575Z"
   },
   {
    "duration": 0,
    "start_time": "2022-12-12T12:55:27.576Z"
   },
   {
    "duration": 0,
    "start_time": "2022-12-12T12:55:27.577Z"
   },
   {
    "duration": 0,
    "start_time": "2022-12-12T12:55:27.578Z"
   },
   {
    "duration": 0,
    "start_time": "2022-12-12T12:55:27.579Z"
   },
   {
    "duration": 0,
    "start_time": "2022-12-12T12:55:27.580Z"
   },
   {
    "duration": 0,
    "start_time": "2022-12-12T12:55:27.580Z"
   },
   {
    "duration": 0,
    "start_time": "2022-12-12T12:55:27.581Z"
   },
   {
    "duration": 0,
    "start_time": "2022-12-12T12:55:27.583Z"
   },
   {
    "duration": 0,
    "start_time": "2022-12-12T12:55:27.585Z"
   },
   {
    "duration": 0,
    "start_time": "2022-12-12T12:55:27.586Z"
   },
   {
    "duration": 0,
    "start_time": "2022-12-12T12:55:27.587Z"
   },
   {
    "duration": 0,
    "start_time": "2022-12-12T12:55:27.588Z"
   },
   {
    "duration": 0,
    "start_time": "2022-12-12T12:55:27.589Z"
   },
   {
    "duration": 0,
    "start_time": "2022-12-12T12:55:27.655Z"
   },
   {
    "duration": 0,
    "start_time": "2022-12-12T12:55:27.656Z"
   },
   {
    "duration": 0,
    "start_time": "2022-12-12T12:55:27.657Z"
   },
   {
    "duration": 0,
    "start_time": "2022-12-12T12:55:27.659Z"
   },
   {
    "duration": 0,
    "start_time": "2022-12-12T12:55:27.660Z"
   },
   {
    "duration": 0,
    "start_time": "2022-12-12T12:55:27.661Z"
   },
   {
    "duration": 0,
    "start_time": "2022-12-12T12:55:27.663Z"
   },
   {
    "duration": 0,
    "start_time": "2022-12-12T12:55:27.664Z"
   },
   {
    "duration": 0,
    "start_time": "2022-12-12T12:55:27.665Z"
   },
   {
    "duration": 0,
    "start_time": "2022-12-12T12:55:27.666Z"
   },
   {
    "duration": 0,
    "start_time": "2022-12-12T12:55:27.667Z"
   },
   {
    "duration": 0,
    "start_time": "2022-12-12T12:55:27.669Z"
   },
   {
    "duration": 12,
    "start_time": "2022-12-12T12:55:27.674Z"
   },
   {
    "duration": 0,
    "start_time": "2022-12-12T12:55:27.687Z"
   },
   {
    "duration": 0,
    "start_time": "2022-12-12T12:55:27.688Z"
   },
   {
    "duration": 10,
    "start_time": "2022-12-12T12:55:27.760Z"
   },
   {
    "duration": 0,
    "start_time": "2022-12-12T12:55:27.771Z"
   },
   {
    "duration": 11,
    "start_time": "2022-12-12T12:55:27.803Z"
   },
   {
    "duration": 11,
    "start_time": "2022-12-12T12:55:27.922Z"
   },
   {
    "duration": 19,
    "start_time": "2022-12-12T12:58:03.604Z"
   },
   {
    "duration": 1514,
    "start_time": "2022-12-12T12:58:36.449Z"
   },
   {
    "duration": 894,
    "start_time": "2022-12-12T12:58:37.965Z"
   },
   {
    "duration": 144,
    "start_time": "2022-12-12T12:58:38.861Z"
   },
   {
    "duration": 300,
    "start_time": "2022-12-12T12:58:39.008Z"
   },
   {
    "duration": 123,
    "start_time": "2022-12-12T12:58:39.310Z"
   },
   {
    "duration": 312,
    "start_time": "2022-12-12T12:58:39.435Z"
   },
   {
    "duration": 16,
    "start_time": "2022-12-12T12:58:39.749Z"
   },
   {
    "duration": 521,
    "start_time": "2022-12-12T12:58:39.766Z"
   },
   {
    "duration": 42,
    "start_time": "2022-12-12T12:58:40.289Z"
   },
   {
    "duration": 22,
    "start_time": "2022-12-12T12:58:40.334Z"
   },
   {
    "duration": 179,
    "start_time": "2022-12-12T12:58:40.358Z"
   },
   {
    "duration": 25,
    "start_time": "2022-12-12T12:58:40.539Z"
   },
   {
    "duration": 21,
    "start_time": "2022-12-12T12:58:40.566Z"
   },
   {
    "duration": 7,
    "start_time": "2022-12-12T12:58:40.588Z"
   },
   {
    "duration": 236,
    "start_time": "2022-12-12T12:58:40.596Z"
   },
   {
    "duration": 6,
    "start_time": "2022-12-12T12:58:40.833Z"
   },
   {
    "duration": 47,
    "start_time": "2022-12-12T12:58:40.841Z"
   },
   {
    "duration": 467,
    "start_time": "2022-12-12T12:58:40.890Z"
   },
   {
    "duration": 97,
    "start_time": "2022-12-12T12:58:41.358Z"
   },
   {
    "duration": 44,
    "start_time": "2022-12-12T12:58:41.457Z"
   },
   {
    "duration": 59,
    "start_time": "2022-12-12T12:58:41.502Z"
   },
   {
    "duration": 19,
    "start_time": "2022-12-12T12:58:41.562Z"
   },
   {
    "duration": 360,
    "start_time": "2022-12-12T12:58:41.582Z"
   },
   {
    "duration": 274,
    "start_time": "2022-12-12T12:58:41.944Z"
   },
   {
    "duration": 16,
    "start_time": "2022-12-12T12:58:42.220Z"
   },
   {
    "duration": 41,
    "start_time": "2022-12-12T12:58:42.238Z"
   },
   {
    "duration": 89,
    "start_time": "2022-12-12T12:58:42.280Z"
   },
   {
    "duration": 40,
    "start_time": "2022-12-12T12:58:42.373Z"
   },
   {
    "duration": 49,
    "start_time": "2022-12-12T12:58:42.415Z"
   },
   {
    "duration": 75,
    "start_time": "2022-12-12T12:58:42.466Z"
   },
   {
    "duration": 14,
    "start_time": "2022-12-12T12:58:42.555Z"
   },
   {
    "duration": 15,
    "start_time": "2022-12-12T12:58:42.571Z"
   },
   {
    "duration": 6,
    "start_time": "2022-12-12T12:58:42.588Z"
   },
   {
    "duration": 7,
    "start_time": "2022-12-12T12:58:42.596Z"
   },
   {
    "duration": 5,
    "start_time": "2022-12-12T12:58:42.606Z"
   },
   {
    "duration": 57,
    "start_time": "2022-12-12T12:58:42.613Z"
   },
   {
    "duration": 5,
    "start_time": "2022-12-12T12:58:42.671Z"
   },
   {
    "duration": 22,
    "start_time": "2022-12-12T12:58:42.678Z"
   },
   {
    "duration": 32,
    "start_time": "2022-12-12T12:58:42.702Z"
   },
   {
    "duration": 37,
    "start_time": "2022-12-12T12:58:42.735Z"
   },
   {
    "duration": 20,
    "start_time": "2022-12-12T12:58:42.773Z"
   },
   {
    "duration": 78,
    "start_time": "2022-12-12T12:58:42.795Z"
   },
   {
    "duration": 20,
    "start_time": "2022-12-12T12:58:42.876Z"
   },
   {
    "duration": 18,
    "start_time": "2022-12-12T12:58:42.898Z"
   },
   {
    "duration": 41,
    "start_time": "2022-12-12T12:58:42.917Z"
   },
   {
    "duration": 23,
    "start_time": "2022-12-12T12:58:42.960Z"
   },
   {
    "duration": 25,
    "start_time": "2022-12-12T12:58:42.984Z"
   },
   {
    "duration": 12,
    "start_time": "2022-12-12T12:58:43.011Z"
   },
   {
    "duration": 104,
    "start_time": "2022-12-12T12:58:43.025Z"
   },
   {
    "duration": 26,
    "start_time": "2022-12-12T12:58:43.131Z"
   },
   {
    "duration": 19,
    "start_time": "2022-12-12T12:58:43.159Z"
   },
   {
    "duration": 96,
    "start_time": "2022-12-12T12:58:43.180Z"
   },
   {
    "duration": 16,
    "start_time": "2022-12-12T12:58:43.278Z"
   },
   {
    "duration": 435,
    "start_time": "2022-12-12T12:58:43.296Z"
   },
   {
    "duration": 267,
    "start_time": "2022-12-12T12:58:43.733Z"
   },
   {
    "duration": 85,
    "start_time": "2022-12-12T12:58:44.002Z"
   },
   {
    "duration": 15,
    "start_time": "2022-12-12T12:58:44.089Z"
   },
   {
    "duration": 31,
    "start_time": "2022-12-12T12:58:44.106Z"
   },
   {
    "duration": 127,
    "start_time": "2022-12-12T12:58:44.138Z"
   },
   {
    "duration": 4,
    "start_time": "2022-12-12T12:58:44.267Z"
   },
   {
    "duration": 23,
    "start_time": "2022-12-12T12:58:44.272Z"
   },
   {
    "duration": 46,
    "start_time": "2022-12-12T12:58:44.297Z"
   },
   {
    "duration": 75021,
    "start_time": "2022-12-12T12:58:44.345Z"
   },
   {
    "duration": 16,
    "start_time": "2022-12-12T12:59:59.368Z"
   },
   {
    "duration": 6,
    "start_time": "2022-12-12T12:59:59.386Z"
   },
   {
    "duration": 13,
    "start_time": "2022-12-12T12:59:59.394Z"
   },
   {
    "duration": 71,
    "start_time": "2022-12-12T12:59:59.409Z"
   },
   {
    "duration": 79,
    "start_time": "2022-12-12T12:59:59.483Z"
   },
   {
    "duration": 11,
    "start_time": "2022-12-12T12:59:59.564Z"
   },
   {
    "duration": 20,
    "start_time": "2022-12-12T12:59:59.578Z"
   },
   {
    "duration": 26,
    "start_time": "2022-12-12T12:59:59.600Z"
   },
   {
    "duration": 35,
    "start_time": "2022-12-12T12:59:59.629Z"
   },
   {
    "duration": 18,
    "start_time": "2022-12-12T12:59:59.666Z"
   },
   {
    "duration": 5,
    "start_time": "2022-12-12T12:59:59.687Z"
   },
   {
    "duration": 538,
    "start_time": "2022-12-12T12:59:59.694Z"
   },
   {
    "duration": 14,
    "start_time": "2022-12-12T13:00:00.234Z"
   },
   {
    "duration": 57,
    "start_time": "2022-12-12T13:00:00.255Z"
   },
   {
    "duration": 5,
    "start_time": "2022-12-12T13:00:00.315Z"
   },
   {
    "duration": 450,
    "start_time": "2022-12-12T13:00:00.322Z"
   },
   {
    "duration": 4,
    "start_time": "2022-12-12T13:00:00.773Z"
   },
   {
    "duration": 40,
    "start_time": "2022-12-12T13:00:00.778Z"
   },
   {
    "duration": 24,
    "start_time": "2022-12-12T13:00:00.824Z"
   },
   {
    "duration": 132,
    "start_time": "2022-12-12T13:00:00.850Z"
   },
   {
    "duration": 174,
    "start_time": "2022-12-12T13:00:00.984Z"
   },
   {
    "duration": 97,
    "start_time": "2022-12-12T13:00:01.161Z"
   },
   {
    "duration": 26,
    "start_time": "2022-12-12T13:00:01.261Z"
   },
   {
    "duration": 625,
    "start_time": "2022-12-12T13:00:01.290Z"
   },
   {
    "duration": 78553,
    "start_time": "2022-12-12T13:00:01.917Z"
   },
   {
    "duration": 4,
    "start_time": "2022-12-12T13:01:20.472Z"
   },
   {
    "duration": 3647,
    "start_time": "2022-12-12T13:01:20.479Z"
   },
   {
    "duration": 615,
    "start_time": "2022-12-12T13:01:24.128Z"
   },
   {
    "duration": 513,
    "start_time": "2022-12-12T13:01:24.745Z"
   },
   {
    "duration": 31636,
    "start_time": "2022-12-12T13:01:25.260Z"
   },
   {
    "duration": 107,
    "start_time": "2022-12-12T13:01:56.898Z"
   },
   {
    "duration": 534,
    "start_time": "2022-12-12T13:01:57.007Z"
   },
   {
    "duration": 232,
    "start_time": "2022-12-12T13:01:57.543Z"
   },
   {
    "duration": 66888,
    "start_time": "2022-12-12T13:01:57.777Z"
   },
   {
    "duration": 6725,
    "start_time": "2022-12-12T13:03:04.667Z"
   },
   {
    "duration": 5,
    "start_time": "2022-12-12T13:03:11.394Z"
   },
   {
    "duration": 576,
    "start_time": "2022-12-12T13:03:11.400Z"
   },
   {
    "duration": 206,
    "start_time": "2022-12-12T13:03:11.978Z"
   },
   {
    "duration": 28,
    "start_time": "2022-12-12T13:03:12.186Z"
   },
   {
    "duration": 13,
    "start_time": "2022-12-12T13:03:12.216Z"
   },
   {
    "duration": 25,
    "start_time": "2022-12-12T13:03:12.231Z"
   },
   {
    "duration": 122,
    "start_time": "2022-12-12T13:03:12.258Z"
   },
   {
    "duration": 12,
    "start_time": "2022-12-12T13:03:12.382Z"
   },
   {
    "duration": 11,
    "start_time": "2022-12-12T13:03:12.396Z"
   },
   {
    "duration": 22,
    "start_time": "2022-12-12T13:03:12.409Z"
   },
   {
    "duration": 38,
    "start_time": "2022-12-12T13:03:12.433Z"
   },
   {
    "duration": 267,
    "start_time": "2022-12-12T13:03:12.473Z"
   },
   {
    "duration": 1770,
    "start_time": "2022-12-13T10:30:03.512Z"
   },
   {
    "duration": 2892,
    "start_time": "2022-12-13T10:30:28.052Z"
   },
   {
    "duration": 122,
    "start_time": "2022-12-13T10:30:30.946Z"
   },
   {
    "duration": 245,
    "start_time": "2022-12-13T10:30:35.442Z"
   },
   {
    "duration": 92,
    "start_time": "2022-12-13T10:30:36.915Z"
   },
   {
    "duration": 300,
    "start_time": "2022-12-13T10:30:38.019Z"
   },
   {
    "duration": 14,
    "start_time": "2022-12-13T10:30:50.457Z"
   },
   {
    "duration": 539,
    "start_time": "2022-12-13T10:30:52.110Z"
   },
   {
    "duration": 35,
    "start_time": "2022-12-13T10:30:59.584Z"
   },
   {
    "duration": 7,
    "start_time": "2022-12-13T10:31:18.163Z"
   },
   {
    "duration": 84,
    "start_time": "2022-12-13T10:31:19.677Z"
   },
   {
    "duration": 19,
    "start_time": "2022-12-13T10:31:25.884Z"
   },
   {
    "duration": 16,
    "start_time": "2022-12-13T10:31:44.057Z"
   },
   {
    "duration": 6,
    "start_time": "2022-12-13T10:31:48.124Z"
   },
   {
    "duration": 200,
    "start_time": "2022-12-13T10:31:59.361Z"
   },
   {
    "duration": 5,
    "start_time": "2022-12-13T10:32:06.834Z"
   },
   {
    "duration": 32,
    "start_time": "2022-12-13T10:32:07.858Z"
   },
   {
    "duration": 365,
    "start_time": "2022-12-13T10:32:24.169Z"
   },
   {
    "duration": 81,
    "start_time": "2022-12-13T10:32:41.100Z"
   },
   {
    "duration": 38,
    "start_time": "2022-12-13T10:32:44.430Z"
   },
   {
    "duration": 40,
    "start_time": "2022-12-13T10:33:01.724Z"
   },
   {
    "duration": 18,
    "start_time": "2022-12-13T10:33:16.640Z"
   },
   {
    "duration": 314,
    "start_time": "2022-12-13T10:33:21.728Z"
   },
   {
    "duration": 272,
    "start_time": "2022-12-13T10:33:29.851Z"
   },
   {
    "duration": 15,
    "start_time": "2022-12-13T10:33:36.998Z"
   },
   {
    "duration": 25,
    "start_time": "2022-12-13T10:33:39.426Z"
   },
   {
    "duration": 82,
    "start_time": "2022-12-13T10:34:00.002Z"
   },
   {
    "duration": 35,
    "start_time": "2022-12-13T10:34:02.838Z"
   },
   {
    "duration": 31,
    "start_time": "2022-12-13T10:34:10.586Z"
   },
   {
    "duration": 77,
    "start_time": "2022-12-13T10:34:11.180Z"
   },
   {
    "duration": 16,
    "start_time": "2022-12-13T10:34:16.953Z"
   },
   {
    "duration": 14,
    "start_time": "2022-12-13T10:34:20.116Z"
   },
   {
    "duration": 5,
    "start_time": "2022-12-13T10:34:22.732Z"
   },
   {
    "duration": 7,
    "start_time": "2022-12-13T10:34:23.216Z"
   },
   {
    "duration": 6,
    "start_time": "2022-12-13T10:34:30.650Z"
   },
   {
    "duration": 20,
    "start_time": "2022-12-13T10:34:34.295Z"
   },
   {
    "duration": 5,
    "start_time": "2022-12-13T10:34:36.818Z"
   },
   {
    "duration": 20,
    "start_time": "2022-12-13T10:34:37.712Z"
   },
   {
    "duration": 41,
    "start_time": "2022-12-13T10:34:38.230Z"
   },
   {
    "duration": 13,
    "start_time": "2022-12-13T10:34:43.976Z"
   },
   {
    "duration": 17,
    "start_time": "2022-12-13T10:34:47.422Z"
   },
   {
    "duration": 73,
    "start_time": "2022-12-13T10:34:48.076Z"
   },
   {
    "duration": 79,
    "start_time": "2022-12-13T10:35:10.809Z"
   },
   {
    "duration": 18,
    "start_time": "2022-12-13T10:35:12.689Z"
   },
   {
    "duration": 16,
    "start_time": "2022-12-13T10:35:14.469Z"
   },
   {
    "duration": 14,
    "start_time": "2022-12-13T10:35:15.114Z"
   },
   {
    "duration": 17,
    "start_time": "2022-12-13T10:35:22.382Z"
   },
   {
    "duration": 30,
    "start_time": "2022-12-13T10:35:25.145Z"
   },
   {
    "duration": 15,
    "start_time": "2022-12-13T10:35:27.495Z"
   },
   {
    "duration": 69,
    "start_time": "2022-12-13T10:35:29.845Z"
   },
   {
    "duration": 13,
    "start_time": "2022-12-13T10:35:32.145Z"
   },
   {
    "duration": 16,
    "start_time": "2022-12-13T10:35:33.452Z"
   },
   {
    "duration": 69,
    "start_time": "2022-12-13T10:35:34.837Z"
   },
   {
    "duration": 87,
    "start_time": "2022-12-13T10:35:54.282Z"
   },
   {
    "duration": 16,
    "start_time": "2022-12-13T10:35:55.593Z"
   },
   {
    "duration": 347,
    "start_time": "2022-12-13T10:35:58.172Z"
   },
   {
    "duration": 269,
    "start_time": "2022-12-13T10:36:20.673Z"
   },
   {
    "duration": 84,
    "start_time": "2022-12-13T10:36:29.169Z"
   },
   {
    "duration": 21,
    "start_time": "2022-12-13T10:36:48.200Z"
   },
   {
    "duration": 33,
    "start_time": "2022-12-13T10:36:51.902Z"
   },
   {
    "duration": 114,
    "start_time": "2022-12-13T10:36:56.128Z"
   },
   {
    "duration": 4,
    "start_time": "2022-12-13T10:37:51.224Z"
   },
   {
    "duration": 2,
    "start_time": "2022-12-13T10:37:55.100Z"
   },
   {
    "duration": 37,
    "start_time": "2022-12-13T10:37:56.964Z"
   },
   {
    "duration": 68964,
    "start_time": "2022-12-13T10:38:01.557Z"
   },
   {
    "duration": 10,
    "start_time": "2022-12-13T10:41:53.060Z"
   },
   {
    "duration": 190,
    "start_time": "2022-12-13T10:41:57.373Z"
   },
   {
    "duration": 3,
    "start_time": "2022-12-13T10:44:18.454Z"
   },
   {
    "duration": 53,
    "start_time": "2022-12-13T10:44:19.901Z"
   },
   {
    "duration": 67,
    "start_time": "2022-12-13T10:44:21.697Z"
   },
   {
    "duration": 11,
    "start_time": "2022-12-13T10:44:25.321Z"
   },
   {
    "duration": 20,
    "start_time": "2022-12-13T10:44:32.670Z"
   },
   {
    "duration": 26,
    "start_time": "2022-12-13T10:44:34.767Z"
   },
   {
    "duration": 4,
    "start_time": "2022-12-13T10:44:35.879Z"
   },
   {
    "duration": 10,
    "start_time": "2022-12-13T10:44:36.388Z"
   },
   {
    "duration": 121,
    "start_time": "2022-12-13T10:47:44.459Z"
   },
   {
    "duration": 11,
    "start_time": "2022-12-13T10:47:47.188Z"
   },
   {
    "duration": 3,
    "start_time": "2022-12-13T10:47:50.399Z"
   },
   {
    "duration": 455,
    "start_time": "2022-12-13T10:47:50.975Z"
   },
   {
    "duration": 13,
    "start_time": "2022-12-13T10:47:52.477Z"
   },
   {
    "duration": 45,
    "start_time": "2022-12-13T10:47:57.840Z"
   },
   {
    "duration": 4,
    "start_time": "2022-12-13T10:48:56.347Z"
   },
   {
    "duration": 419,
    "start_time": "2022-12-13T10:49:12.585Z"
   },
   {
    "duration": 3,
    "start_time": "2022-12-13T10:49:48.284Z"
   },
   {
    "duration": 6,
    "start_time": "2022-12-13T10:51:01.249Z"
   },
   {
    "duration": 4,
    "start_time": "2022-12-13T10:51:27.682Z"
   },
   {
    "duration": 5,
    "start_time": "2022-12-13T10:52:33.731Z"
   },
   {
    "duration": 87,
    "start_time": "2022-12-13T10:52:37.338Z"
   },
   {
    "duration": 19,
    "start_time": "2022-12-13T10:52:44.130Z"
   },
   {
    "duration": 5,
    "start_time": "2022-12-13T10:52:48.477Z"
   },
   {
    "duration": 5,
    "start_time": "2022-12-13T10:52:53.993Z"
   },
   {
    "duration": 479,
    "start_time": "2022-12-13T10:52:55.393Z"
   },
   {
    "duration": 69201,
    "start_time": "2022-12-13T10:53:47.550Z"
   },
   {
    "duration": 4,
    "start_time": "2022-12-13T10:54:56.753Z"
   },
   {
    "duration": 3283,
    "start_time": "2022-12-13T10:54:56.759Z"
   },
   {
    "duration": 542,
    "start_time": "2022-12-13T10:55:00.044Z"
   },
   {
    "duration": 449,
    "start_time": "2022-12-13T10:55:00.587Z"
   },
   {
    "duration": 44,
    "start_time": "2022-12-13T12:09:18.758Z"
   },
   {
    "duration": 1694,
    "start_time": "2022-12-13T12:14:27.413Z"
   },
   {
    "duration": 90,
    "start_time": "2022-12-13T12:15:16.409Z"
   },
   {
    "duration": 1476,
    "start_time": "2022-12-13T12:15:29.033Z"
   },
   {
    "duration": 3352,
    "start_time": "2022-12-13T12:15:30.511Z"
   },
   {
    "duration": 116,
    "start_time": "2022-12-13T12:15:33.865Z"
   },
   {
    "duration": 309,
    "start_time": "2022-12-13T12:15:33.983Z"
   },
   {
    "duration": 94,
    "start_time": "2022-12-13T12:15:34.294Z"
   },
   {
    "duration": 282,
    "start_time": "2022-12-13T12:15:34.390Z"
   },
   {
    "duration": 11,
    "start_time": "2022-12-13T12:15:34.674Z"
   },
   {
    "duration": 434,
    "start_time": "2022-12-13T12:15:34.686Z"
   },
   {
    "duration": 46,
    "start_time": "2022-12-13T12:15:35.122Z"
   },
   {
    "duration": 5,
    "start_time": "2022-12-13T12:15:35.170Z"
   },
   {
    "duration": 165,
    "start_time": "2022-12-13T12:15:35.176Z"
   },
   {
    "duration": 22,
    "start_time": "2022-12-13T12:15:35.348Z"
   },
   {
    "duration": 15,
    "start_time": "2022-12-13T12:15:35.372Z"
   },
   {
    "duration": 8,
    "start_time": "2022-12-13T12:15:35.388Z"
   },
   {
    "duration": 243,
    "start_time": "2022-12-13T12:15:35.397Z"
   },
   {
    "duration": 5,
    "start_time": "2022-12-13T12:15:35.642Z"
   },
   {
    "duration": 57,
    "start_time": "2022-12-13T12:15:35.648Z"
   },
   {
    "duration": 419,
    "start_time": "2022-12-13T12:15:35.707Z"
   },
   {
    "duration": 77,
    "start_time": "2022-12-13T12:15:36.127Z"
   },
   {
    "duration": 58,
    "start_time": "2022-12-13T12:15:36.206Z"
   },
   {
    "duration": 36,
    "start_time": "2022-12-13T12:15:36.265Z"
   },
   {
    "duration": 43,
    "start_time": "2022-12-13T12:15:36.303Z"
   },
   {
    "duration": 358,
    "start_time": "2022-12-13T12:15:36.352Z"
   },
   {
    "duration": 260,
    "start_time": "2022-12-13T12:15:36.712Z"
   },
   {
    "duration": 15,
    "start_time": "2022-12-13T12:15:36.974Z"
   },
   {
    "duration": 44,
    "start_time": "2022-12-13T12:15:36.991Z"
   },
   {
    "duration": 65,
    "start_time": "2022-12-13T12:15:37.042Z"
   },
   {
    "duration": 55,
    "start_time": "2022-12-13T12:15:37.112Z"
   },
   {
    "duration": 30,
    "start_time": "2022-12-13T12:15:37.168Z"
   },
   {
    "duration": 86,
    "start_time": "2022-12-13T12:15:37.200Z"
   },
   {
    "duration": 11,
    "start_time": "2022-12-13T12:15:37.288Z"
   },
   {
    "duration": 11,
    "start_time": "2022-12-13T12:15:37.301Z"
   },
   {
    "duration": 20,
    "start_time": "2022-12-13T12:15:37.326Z"
   },
   {
    "duration": 22,
    "start_time": "2022-12-13T12:15:37.347Z"
   },
   {
    "duration": 6,
    "start_time": "2022-12-13T12:15:37.370Z"
   },
   {
    "duration": 24,
    "start_time": "2022-12-13T12:15:37.377Z"
   },
   {
    "duration": 6,
    "start_time": "2022-12-13T12:15:37.403Z"
   },
   {
    "duration": 34,
    "start_time": "2022-12-13T12:15:37.411Z"
   },
   {
    "duration": 51,
    "start_time": "2022-12-13T12:15:37.446Z"
   },
   {
    "duration": 16,
    "start_time": "2022-12-13T12:15:37.499Z"
   },
   {
    "duration": 26,
    "start_time": "2022-12-13T12:15:37.517Z"
   },
   {
    "duration": 70,
    "start_time": "2022-12-13T12:15:37.544Z"
   },
   {
    "duration": 26,
    "start_time": "2022-12-13T12:15:37.615Z"
   },
   {
    "duration": 34,
    "start_time": "2022-12-13T12:15:37.642Z"
   },
   {
    "duration": 14,
    "start_time": "2022-12-13T12:15:37.678Z"
   },
   {
    "duration": 15,
    "start_time": "2022-12-13T12:15:37.693Z"
   },
   {
    "duration": 15,
    "start_time": "2022-12-13T12:15:37.710Z"
   },
   {
    "duration": 44,
    "start_time": "2022-12-13T12:15:37.726Z"
   },
   {
    "duration": 57,
    "start_time": "2022-12-13T12:15:37.771Z"
   },
   {
    "duration": 15,
    "start_time": "2022-12-13T12:15:37.829Z"
   },
   {
    "duration": 37,
    "start_time": "2022-12-13T12:15:37.846Z"
   },
   {
    "duration": 72,
    "start_time": "2022-12-13T12:15:37.885Z"
   },
   {
    "duration": 13,
    "start_time": "2022-12-13T12:15:37.959Z"
   },
   {
    "duration": 328,
    "start_time": "2022-12-13T12:15:37.973Z"
   },
   {
    "duration": 245,
    "start_time": "2022-12-13T12:15:38.303Z"
   },
   {
    "duration": 71,
    "start_time": "2022-12-13T12:15:38.549Z"
   },
   {
    "duration": 24,
    "start_time": "2022-12-13T12:15:38.621Z"
   },
   {
    "duration": 38,
    "start_time": "2022-12-13T12:15:38.647Z"
   },
   {
    "duration": 102,
    "start_time": "2022-12-13T12:15:38.686Z"
   },
   {
    "duration": 4,
    "start_time": "2022-12-13T12:15:38.789Z"
   },
   {
    "duration": 7,
    "start_time": "2022-12-13T12:15:38.794Z"
   },
   {
    "duration": 57,
    "start_time": "2022-12-13T12:15:38.803Z"
   },
   {
    "duration": 76751,
    "start_time": "2022-12-13T12:15:38.861Z"
   },
   {
    "duration": 19,
    "start_time": "2022-12-13T12:16:55.614Z"
   },
   {
    "duration": 52,
    "start_time": "2022-12-13T12:16:55.639Z"
   },
   {
    "duration": 30,
    "start_time": "2022-12-13T12:16:55.692Z"
   },
   {
    "duration": 134,
    "start_time": "2022-12-13T12:16:55.725Z"
   },
   {
    "duration": 86,
    "start_time": "2022-12-13T12:16:55.864Z"
   },
   {
    "duration": 42,
    "start_time": "2022-12-13T12:16:55.953Z"
   },
   {
    "duration": 58,
    "start_time": "2022-12-13T12:16:55.997Z"
   },
   {
    "duration": 52,
    "start_time": "2022-12-13T12:16:56.057Z"
   },
   {
    "duration": 42,
    "start_time": "2022-12-13T12:16:56.111Z"
   },
   {
    "duration": 40,
    "start_time": "2022-12-13T12:16:56.156Z"
   },
   {
    "duration": 25,
    "start_time": "2022-12-13T12:16:56.198Z"
   },
   {
    "duration": 12469,
    "start_time": "2022-12-13T12:16:56.225Z"
   },
   {
    "duration": 0,
    "start_time": "2022-12-13T12:17:08.697Z"
   },
   {
    "duration": 0,
    "start_time": "2022-12-13T12:17:08.698Z"
   },
   {
    "duration": 0,
    "start_time": "2022-12-13T12:17:08.699Z"
   },
   {
    "duration": 0,
    "start_time": "2022-12-13T12:17:08.700Z"
   },
   {
    "duration": 0,
    "start_time": "2022-12-13T12:17:08.701Z"
   },
   {
    "duration": 0,
    "start_time": "2022-12-13T12:17:08.702Z"
   },
   {
    "duration": 0,
    "start_time": "2022-12-13T12:17:08.704Z"
   },
   {
    "duration": 0,
    "start_time": "2022-12-13T12:17:08.704Z"
   },
   {
    "duration": 0,
    "start_time": "2022-12-13T12:17:08.705Z"
   },
   {
    "duration": 0,
    "start_time": "2022-12-13T12:17:08.706Z"
   },
   {
    "duration": 0,
    "start_time": "2022-12-13T12:17:08.707Z"
   },
   {
    "duration": 0,
    "start_time": "2022-12-13T12:17:08.708Z"
   },
   {
    "duration": 0,
    "start_time": "2022-12-13T12:17:08.729Z"
   },
   {
    "duration": 0,
    "start_time": "2022-12-13T12:17:08.729Z"
   },
   {
    "duration": 0,
    "start_time": "2022-12-13T12:17:08.730Z"
   },
   {
    "duration": 0,
    "start_time": "2022-12-13T12:17:08.731Z"
   },
   {
    "duration": 0,
    "start_time": "2022-12-13T12:17:08.732Z"
   },
   {
    "duration": 0,
    "start_time": "2022-12-13T12:17:08.732Z"
   },
   {
    "duration": 0,
    "start_time": "2022-12-13T12:17:08.733Z"
   },
   {
    "duration": 0,
    "start_time": "2022-12-13T12:17:08.734Z"
   },
   {
    "duration": 0,
    "start_time": "2022-12-13T12:17:08.734Z"
   },
   {
    "duration": 0,
    "start_time": "2022-12-13T12:17:08.735Z"
   },
   {
    "duration": 0,
    "start_time": "2022-12-13T12:17:08.736Z"
   },
   {
    "duration": 0,
    "start_time": "2022-12-13T12:17:08.737Z"
   },
   {
    "duration": 0,
    "start_time": "2022-12-13T12:17:08.738Z"
   },
   {
    "duration": 0,
    "start_time": "2022-12-13T12:17:08.738Z"
   },
   {
    "duration": 0,
    "start_time": "2022-12-13T12:17:08.739Z"
   },
   {
    "duration": 0,
    "start_time": "2022-12-13T12:17:08.742Z"
   },
   {
    "duration": 0,
    "start_time": "2022-12-13T12:17:08.743Z"
   },
   {
    "duration": 0,
    "start_time": "2022-12-13T12:17:08.745Z"
   },
   {
    "duration": 0,
    "start_time": "2022-12-13T12:17:08.746Z"
   },
   {
    "duration": 0,
    "start_time": "2022-12-13T12:17:08.747Z"
   },
   {
    "duration": 0,
    "start_time": "2022-12-13T12:17:08.748Z"
   },
   {
    "duration": 0,
    "start_time": "2022-12-13T12:17:08.749Z"
   },
   {
    "duration": 0,
    "start_time": "2022-12-13T12:17:08.751Z"
   },
   {
    "duration": 10907,
    "start_time": "2022-12-13T12:21:36.013Z"
   },
   {
    "duration": 461,
    "start_time": "2022-12-13T12:22:49.160Z"
   },
   {
    "duration": 12,
    "start_time": "2022-12-13T12:32:02.761Z"
   },
   {
    "duration": 1296,
    "start_time": "2022-12-14T08:22:00.751Z"
   },
   {
    "duration": 2522,
    "start_time": "2022-12-14T08:22:02.048Z"
   },
   {
    "duration": 614,
    "start_time": "2022-12-14T08:22:04.573Z"
   },
   {
    "duration": 100,
    "start_time": "2022-12-14T08:22:05.190Z"
   },
   {
    "duration": 112,
    "start_time": "2022-12-14T08:22:05.292Z"
   },
   {
    "duration": 134,
    "start_time": "2022-12-14T08:22:05.406Z"
   },
   {
    "duration": 0,
    "start_time": "2022-12-14T08:22:05.546Z"
   },
   {
    "duration": 0,
    "start_time": "2022-12-14T08:22:05.547Z"
   },
   {
    "duration": 0,
    "start_time": "2022-12-14T08:22:05.548Z"
   },
   {
    "duration": 0,
    "start_time": "2022-12-14T08:22:05.550Z"
   },
   {
    "duration": 0,
    "start_time": "2022-12-14T08:22:05.552Z"
   },
   {
    "duration": 0,
    "start_time": "2022-12-14T08:22:05.553Z"
   },
   {
    "duration": 0,
    "start_time": "2022-12-14T08:22:05.555Z"
   },
   {
    "duration": 0,
    "start_time": "2022-12-14T08:22:05.556Z"
   },
   {
    "duration": 0,
    "start_time": "2022-12-14T08:22:05.557Z"
   },
   {
    "duration": 0,
    "start_time": "2022-12-14T08:22:05.558Z"
   },
   {
    "duration": 0,
    "start_time": "2022-12-14T08:22:05.559Z"
   },
   {
    "duration": 0,
    "start_time": "2022-12-14T08:22:05.561Z"
   },
   {
    "duration": 0,
    "start_time": "2022-12-14T08:22:05.562Z"
   },
   {
    "duration": 0,
    "start_time": "2022-12-14T08:22:05.563Z"
   },
   {
    "duration": 0,
    "start_time": "2022-12-14T08:22:05.566Z"
   },
   {
    "duration": 0,
    "start_time": "2022-12-14T08:22:05.569Z"
   },
   {
    "duration": 0,
    "start_time": "2022-12-14T08:22:05.571Z"
   },
   {
    "duration": 0,
    "start_time": "2022-12-14T08:22:05.573Z"
   },
   {
    "duration": 0,
    "start_time": "2022-12-14T08:22:05.574Z"
   },
   {
    "duration": 0,
    "start_time": "2022-12-14T08:22:05.575Z"
   },
   {
    "duration": 0,
    "start_time": "2022-12-14T08:22:05.577Z"
   },
   {
    "duration": 0,
    "start_time": "2022-12-14T08:22:05.578Z"
   },
   {
    "duration": 0,
    "start_time": "2022-12-14T08:22:05.579Z"
   },
   {
    "duration": 0,
    "start_time": "2022-12-14T08:22:05.582Z"
   },
   {
    "duration": 0,
    "start_time": "2022-12-14T08:22:05.583Z"
   },
   {
    "duration": 0,
    "start_time": "2022-12-14T08:22:05.627Z"
   },
   {
    "duration": 0,
    "start_time": "2022-12-14T08:22:05.629Z"
   },
   {
    "duration": 0,
    "start_time": "2022-12-14T08:22:05.630Z"
   },
   {
    "duration": 0,
    "start_time": "2022-12-14T08:22:05.631Z"
   },
   {
    "duration": 0,
    "start_time": "2022-12-14T08:22:05.633Z"
   },
   {
    "duration": 0,
    "start_time": "2022-12-14T08:22:05.634Z"
   },
   {
    "duration": 0,
    "start_time": "2022-12-14T08:22:05.635Z"
   },
   {
    "duration": 0,
    "start_time": "2022-12-14T08:22:05.636Z"
   },
   {
    "duration": 0,
    "start_time": "2022-12-14T08:22:05.638Z"
   },
   {
    "duration": 0,
    "start_time": "2022-12-14T08:22:05.639Z"
   },
   {
    "duration": 0,
    "start_time": "2022-12-14T08:22:05.640Z"
   },
   {
    "duration": 0,
    "start_time": "2022-12-14T08:22:05.641Z"
   },
   {
    "duration": 0,
    "start_time": "2022-12-14T08:22:05.643Z"
   },
   {
    "duration": 0,
    "start_time": "2022-12-14T08:22:05.644Z"
   },
   {
    "duration": 0,
    "start_time": "2022-12-14T08:22:05.646Z"
   },
   {
    "duration": 0,
    "start_time": "2022-12-14T08:22:05.649Z"
   },
   {
    "duration": 0,
    "start_time": "2022-12-14T08:22:05.652Z"
   },
   {
    "duration": 0,
    "start_time": "2022-12-14T08:22:05.653Z"
   },
   {
    "duration": 0,
    "start_time": "2022-12-14T08:22:05.654Z"
   },
   {
    "duration": 0,
    "start_time": "2022-12-14T08:22:05.655Z"
   },
   {
    "duration": 0,
    "start_time": "2022-12-14T08:22:05.657Z"
   },
   {
    "duration": 0,
    "start_time": "2022-12-14T08:22:05.658Z"
   },
   {
    "duration": 0,
    "start_time": "2022-12-14T08:22:05.660Z"
   },
   {
    "duration": 0,
    "start_time": "2022-12-14T08:22:05.662Z"
   },
   {
    "duration": 0,
    "start_time": "2022-12-14T08:22:05.663Z"
   },
   {
    "duration": 0,
    "start_time": "2022-12-14T08:22:05.665Z"
   },
   {
    "duration": 0,
    "start_time": "2022-12-14T08:22:05.666Z"
   },
   {
    "duration": 0,
    "start_time": "2022-12-14T08:22:05.668Z"
   },
   {
    "duration": 0,
    "start_time": "2022-12-14T08:22:05.727Z"
   },
   {
    "duration": 0,
    "start_time": "2022-12-14T08:22:05.728Z"
   },
   {
    "duration": 0,
    "start_time": "2022-12-14T08:22:05.732Z"
   },
   {
    "duration": 0,
    "start_time": "2022-12-14T08:22:05.733Z"
   },
   {
    "duration": 0,
    "start_time": "2022-12-14T08:22:05.734Z"
   },
   {
    "duration": 0,
    "start_time": "2022-12-14T08:22:05.738Z"
   },
   {
    "duration": 0,
    "start_time": "2022-12-14T08:22:05.739Z"
   },
   {
    "duration": 0,
    "start_time": "2022-12-14T08:22:05.741Z"
   },
   {
    "duration": 0,
    "start_time": "2022-12-14T08:22:05.742Z"
   },
   {
    "duration": 0,
    "start_time": "2022-12-14T08:22:05.743Z"
   },
   {
    "duration": 0,
    "start_time": "2022-12-14T08:22:05.744Z"
   },
   {
    "duration": 0,
    "start_time": "2022-12-14T08:22:05.745Z"
   },
   {
    "duration": 0,
    "start_time": "2022-12-14T08:22:05.746Z"
   },
   {
    "duration": 0,
    "start_time": "2022-12-14T08:22:05.747Z"
   },
   {
    "duration": 0,
    "start_time": "2022-12-14T08:22:05.747Z"
   },
   {
    "duration": 0,
    "start_time": "2022-12-14T08:22:05.750Z"
   },
   {
    "duration": 0,
    "start_time": "2022-12-14T08:22:05.751Z"
   },
   {
    "duration": 0,
    "start_time": "2022-12-14T08:22:05.752Z"
   },
   {
    "duration": 0,
    "start_time": "2022-12-14T08:22:05.753Z"
   },
   {
    "duration": 0,
    "start_time": "2022-12-14T08:22:05.755Z"
   },
   {
    "duration": 0,
    "start_time": "2022-12-14T08:22:05.756Z"
   },
   {
    "duration": 0,
    "start_time": "2022-12-14T08:22:05.757Z"
   },
   {
    "duration": 0,
    "start_time": "2022-12-14T08:22:05.758Z"
   },
   {
    "duration": 0,
    "start_time": "2022-12-14T08:22:05.760Z"
   },
   {
    "duration": 0,
    "start_time": "2022-12-14T08:22:05.760Z"
   },
   {
    "duration": 0,
    "start_time": "2022-12-14T08:22:05.761Z"
   },
   {
    "duration": 0,
    "start_time": "2022-12-14T08:22:05.763Z"
   },
   {
    "duration": 0,
    "start_time": "2022-12-14T08:22:05.764Z"
   },
   {
    "duration": 0,
    "start_time": "2022-12-14T08:22:05.764Z"
   },
   {
    "duration": 0,
    "start_time": "2022-12-14T08:22:05.765Z"
   },
   {
    "duration": 0,
    "start_time": "2022-12-14T08:22:05.766Z"
   },
   {
    "duration": 0,
    "start_time": "2022-12-14T08:22:05.827Z"
   },
   {
    "duration": 0,
    "start_time": "2022-12-14T08:22:05.829Z"
   },
   {
    "duration": 0,
    "start_time": "2022-12-14T08:22:05.830Z"
   },
   {
    "duration": 0,
    "start_time": "2022-12-14T08:22:05.832Z"
   },
   {
    "duration": 0,
    "start_time": "2022-12-14T08:22:05.833Z"
   },
   {
    "duration": 0,
    "start_time": "2022-12-14T08:22:05.834Z"
   },
   {
    "duration": 0,
    "start_time": "2022-12-14T08:22:05.844Z"
   },
   {
    "duration": 0,
    "start_time": "2022-12-14T08:22:05.845Z"
   },
   {
    "duration": 0,
    "start_time": "2022-12-14T08:22:05.845Z"
   },
   {
    "duration": 0,
    "start_time": "2022-12-14T08:22:05.846Z"
   },
   {
    "duration": 0,
    "start_time": "2022-12-14T08:22:05.848Z"
   },
   {
    "duration": 0,
    "start_time": "2022-12-14T08:22:05.848Z"
   },
   {
    "duration": 0,
    "start_time": "2022-12-14T08:22:05.850Z"
   },
   {
    "duration": 0,
    "start_time": "2022-12-14T08:22:05.852Z"
   },
   {
    "duration": 0,
    "start_time": "2022-12-14T08:22:05.853Z"
   },
   {
    "duration": 0,
    "start_time": "2022-12-14T08:22:05.856Z"
   },
   {
    "duration": 0,
    "start_time": "2022-12-14T08:22:05.857Z"
   },
   {
    "duration": 1378,
    "start_time": "2022-12-14T08:22:47.895Z"
   },
   {
    "duration": 845,
    "start_time": "2022-12-14T08:22:49.275Z"
   },
   {
    "duration": 588,
    "start_time": "2022-12-14T08:22:50.122Z"
   },
   {
    "duration": 100,
    "start_time": "2022-12-14T08:22:50.712Z"
   },
   {
    "duration": 92,
    "start_time": "2022-12-14T08:22:50.826Z"
   },
   {
    "duration": 109,
    "start_time": "2022-12-14T08:22:50.925Z"
   },
   {
    "duration": 0,
    "start_time": "2022-12-14T08:22:51.038Z"
   },
   {
    "duration": 0,
    "start_time": "2022-12-14T08:22:51.039Z"
   },
   {
    "duration": 0,
    "start_time": "2022-12-14T08:22:51.041Z"
   },
   {
    "duration": 0,
    "start_time": "2022-12-14T08:22:51.042Z"
   },
   {
    "duration": 0,
    "start_time": "2022-12-14T08:22:51.043Z"
   },
   {
    "duration": 0,
    "start_time": "2022-12-14T08:22:51.044Z"
   },
   {
    "duration": 1,
    "start_time": "2022-12-14T08:22:51.045Z"
   },
   {
    "duration": 0,
    "start_time": "2022-12-14T08:22:51.047Z"
   },
   {
    "duration": 0,
    "start_time": "2022-12-14T08:22:51.048Z"
   },
   {
    "duration": 0,
    "start_time": "2022-12-14T08:22:51.049Z"
   },
   {
    "duration": 0,
    "start_time": "2022-12-14T08:22:51.050Z"
   },
   {
    "duration": 0,
    "start_time": "2022-12-14T08:22:51.051Z"
   },
   {
    "duration": 0,
    "start_time": "2022-12-14T08:22:51.052Z"
   },
   {
    "duration": 0,
    "start_time": "2022-12-14T08:22:51.054Z"
   },
   {
    "duration": 0,
    "start_time": "2022-12-14T08:22:51.056Z"
   },
   {
    "duration": 0,
    "start_time": "2022-12-14T08:22:51.057Z"
   },
   {
    "duration": 0,
    "start_time": "2022-12-14T08:22:51.058Z"
   },
   {
    "duration": 0,
    "start_time": "2022-12-14T08:22:51.059Z"
   },
   {
    "duration": 0,
    "start_time": "2022-12-14T08:22:51.061Z"
   },
   {
    "duration": 0,
    "start_time": "2022-12-14T08:22:51.062Z"
   },
   {
    "duration": 0,
    "start_time": "2022-12-14T08:22:51.064Z"
   },
   {
    "duration": 0,
    "start_time": "2022-12-14T08:22:51.066Z"
   },
   {
    "duration": 0,
    "start_time": "2022-12-14T08:22:51.067Z"
   },
   {
    "duration": 0,
    "start_time": "2022-12-14T08:22:51.068Z"
   },
   {
    "duration": 0,
    "start_time": "2022-12-14T08:22:51.069Z"
   },
   {
    "duration": 0,
    "start_time": "2022-12-14T08:22:51.071Z"
   },
   {
    "duration": 0,
    "start_time": "2022-12-14T08:22:51.072Z"
   },
   {
    "duration": 0,
    "start_time": "2022-12-14T08:22:51.127Z"
   },
   {
    "duration": 0,
    "start_time": "2022-12-14T08:22:51.128Z"
   },
   {
    "duration": 0,
    "start_time": "2022-12-14T08:22:51.129Z"
   },
   {
    "duration": 0,
    "start_time": "2022-12-14T08:22:51.130Z"
   },
   {
    "duration": 0,
    "start_time": "2022-12-14T08:22:51.131Z"
   },
   {
    "duration": 0,
    "start_time": "2022-12-14T08:22:51.132Z"
   },
   {
    "duration": 0,
    "start_time": "2022-12-14T08:22:51.133Z"
   },
   {
    "duration": 0,
    "start_time": "2022-12-14T08:22:51.134Z"
   },
   {
    "duration": 0,
    "start_time": "2022-12-14T08:22:51.135Z"
   },
   {
    "duration": 0,
    "start_time": "2022-12-14T08:22:51.136Z"
   },
   {
    "duration": 0,
    "start_time": "2022-12-14T08:22:51.137Z"
   },
   {
    "duration": 0,
    "start_time": "2022-12-14T08:22:51.138Z"
   },
   {
    "duration": 0,
    "start_time": "2022-12-14T08:22:51.140Z"
   },
   {
    "duration": 0,
    "start_time": "2022-12-14T08:22:51.141Z"
   },
   {
    "duration": 0,
    "start_time": "2022-12-14T08:22:51.142Z"
   },
   {
    "duration": 0,
    "start_time": "2022-12-14T08:22:51.143Z"
   },
   {
    "duration": 0,
    "start_time": "2022-12-14T08:22:51.144Z"
   },
   {
    "duration": 0,
    "start_time": "2022-12-14T08:22:51.145Z"
   },
   {
    "duration": 0,
    "start_time": "2022-12-14T08:22:51.146Z"
   },
   {
    "duration": 0,
    "start_time": "2022-12-14T08:22:51.147Z"
   },
   {
    "duration": 0,
    "start_time": "2022-12-14T08:22:51.148Z"
   },
   {
    "duration": 0,
    "start_time": "2022-12-14T08:22:51.149Z"
   },
   {
    "duration": 0,
    "start_time": "2022-12-14T08:22:51.151Z"
   },
   {
    "duration": 0,
    "start_time": "2022-12-14T08:22:51.152Z"
   },
   {
    "duration": 0,
    "start_time": "2022-12-14T08:22:51.154Z"
   },
   {
    "duration": 0,
    "start_time": "2022-12-14T08:22:51.155Z"
   },
   {
    "duration": 0,
    "start_time": "2022-12-14T08:22:51.158Z"
   },
   {
    "duration": 0,
    "start_time": "2022-12-14T08:22:51.159Z"
   },
   {
    "duration": 0,
    "start_time": "2022-12-14T08:22:51.160Z"
   },
   {
    "duration": 0,
    "start_time": "2022-12-14T08:22:51.161Z"
   },
   {
    "duration": 0,
    "start_time": "2022-12-14T08:22:51.162Z"
   },
   {
    "duration": 0,
    "start_time": "2022-12-14T08:22:51.164Z"
   },
   {
    "duration": 0,
    "start_time": "2022-12-14T08:22:51.227Z"
   },
   {
    "duration": 0,
    "start_time": "2022-12-14T08:22:51.228Z"
   },
   {
    "duration": 0,
    "start_time": "2022-12-14T08:22:51.230Z"
   },
   {
    "duration": 1,
    "start_time": "2022-12-14T08:22:51.231Z"
   },
   {
    "duration": 0,
    "start_time": "2022-12-14T08:22:51.232Z"
   },
   {
    "duration": 0,
    "start_time": "2022-12-14T08:22:51.233Z"
   },
   {
    "duration": 0,
    "start_time": "2022-12-14T08:22:51.234Z"
   },
   {
    "duration": 0,
    "start_time": "2022-12-14T08:22:51.235Z"
   },
   {
    "duration": 0,
    "start_time": "2022-12-14T08:22:51.237Z"
   },
   {
    "duration": 0,
    "start_time": "2022-12-14T08:22:51.237Z"
   },
   {
    "duration": 0,
    "start_time": "2022-12-14T08:22:51.238Z"
   },
   {
    "duration": 0,
    "start_time": "2022-12-14T08:22:51.240Z"
   },
   {
    "duration": 0,
    "start_time": "2022-12-14T08:22:51.241Z"
   },
   {
    "duration": 0,
    "start_time": "2022-12-14T08:22:51.242Z"
   },
   {
    "duration": 0,
    "start_time": "2022-12-14T08:22:51.242Z"
   },
   {
    "duration": 0,
    "start_time": "2022-12-14T08:22:51.244Z"
   },
   {
    "duration": 0,
    "start_time": "2022-12-14T08:22:51.244Z"
   },
   {
    "duration": 0,
    "start_time": "2022-12-14T08:22:51.245Z"
   },
   {
    "duration": 0,
    "start_time": "2022-12-14T08:22:51.246Z"
   },
   {
    "duration": 0,
    "start_time": "2022-12-14T08:22:51.247Z"
   },
   {
    "duration": 0,
    "start_time": "2022-12-14T08:22:51.248Z"
   },
   {
    "duration": 0,
    "start_time": "2022-12-14T08:22:51.250Z"
   },
   {
    "duration": 0,
    "start_time": "2022-12-14T08:22:51.251Z"
   },
   {
    "duration": 0,
    "start_time": "2022-12-14T08:22:51.252Z"
   },
   {
    "duration": 0,
    "start_time": "2022-12-14T08:22:51.254Z"
   },
   {
    "duration": 0,
    "start_time": "2022-12-14T08:22:51.255Z"
   },
   {
    "duration": 0,
    "start_time": "2022-12-14T08:22:51.256Z"
   },
   {
    "duration": 1,
    "start_time": "2022-12-14T08:22:51.257Z"
   },
   {
    "duration": 0,
    "start_time": "2022-12-14T08:22:51.259Z"
   },
   {
    "duration": 0,
    "start_time": "2022-12-14T08:22:51.265Z"
   },
   {
    "duration": 0,
    "start_time": "2022-12-14T08:22:51.266Z"
   },
   {
    "duration": 0,
    "start_time": "2022-12-14T08:22:51.267Z"
   },
   {
    "duration": 0,
    "start_time": "2022-12-14T08:22:51.326Z"
   },
   {
    "duration": 1,
    "start_time": "2022-12-14T08:22:51.327Z"
   },
   {
    "duration": 0,
    "start_time": "2022-12-14T08:22:51.329Z"
   },
   {
    "duration": 0,
    "start_time": "2022-12-14T08:22:51.330Z"
   },
   {
    "duration": 0,
    "start_time": "2022-12-14T08:22:51.331Z"
   },
   {
    "duration": 0,
    "start_time": "2022-12-14T08:22:51.332Z"
   },
   {
    "duration": 0,
    "start_time": "2022-12-14T08:22:51.333Z"
   },
   {
    "duration": 0,
    "start_time": "2022-12-14T08:22:51.334Z"
   },
   {
    "duration": 0,
    "start_time": "2022-12-14T08:22:51.335Z"
   },
   {
    "duration": 1418,
    "start_time": "2022-12-14T08:23:55.234Z"
   },
   {
    "duration": 710,
    "start_time": "2022-12-14T08:23:56.654Z"
   },
   {
    "duration": 546,
    "start_time": "2022-12-14T08:23:57.366Z"
   },
   {
    "duration": 95,
    "start_time": "2022-12-14T08:23:57.914Z"
   },
   {
    "duration": 96,
    "start_time": "2022-12-14T08:23:58.010Z"
   },
   {
    "duration": 97,
    "start_time": "2022-12-14T08:23:58.107Z"
   },
   {
    "duration": 174,
    "start_time": "2022-12-14T08:23:58.205Z"
   },
   {
    "duration": 315,
    "start_time": "2022-12-14T08:23:58.382Z"
   },
   {
    "duration": 385,
    "start_time": "2022-12-14T08:23:58.700Z"
   },
   {
    "duration": 8,
    "start_time": "2022-12-14T08:23:59.088Z"
   },
   {
    "duration": 311,
    "start_time": "2022-12-14T08:23:59.097Z"
   },
   {
    "duration": 17,
    "start_time": "2022-12-14T08:23:59.410Z"
   },
   {
    "duration": 112,
    "start_time": "2022-12-14T08:23:59.428Z"
   },
   {
    "duration": 0,
    "start_time": "2022-12-14T08:23:59.616Z"
   },
   {
    "duration": 0,
    "start_time": "2022-12-14T08:23:59.618Z"
   },
   {
    "duration": 0,
    "start_time": "2022-12-14T08:23:59.626Z"
   },
   {
    "duration": 0,
    "start_time": "2022-12-14T08:23:59.628Z"
   },
   {
    "duration": 0,
    "start_time": "2022-12-14T08:23:59.629Z"
   },
   {
    "duration": 0,
    "start_time": "2022-12-14T08:23:59.630Z"
   },
   {
    "duration": 0,
    "start_time": "2022-12-14T08:23:59.632Z"
   },
   {
    "duration": 0,
    "start_time": "2022-12-14T08:23:59.633Z"
   },
   {
    "duration": 0,
    "start_time": "2022-12-14T08:23:59.634Z"
   },
   {
    "duration": 0,
    "start_time": "2022-12-14T08:23:59.636Z"
   },
   {
    "duration": 0,
    "start_time": "2022-12-14T08:23:59.637Z"
   },
   {
    "duration": 0,
    "start_time": "2022-12-14T08:23:59.639Z"
   },
   {
    "duration": 0,
    "start_time": "2022-12-14T08:23:59.640Z"
   },
   {
    "duration": 0,
    "start_time": "2022-12-14T08:23:59.641Z"
   },
   {
    "duration": 0,
    "start_time": "2022-12-14T08:23:59.642Z"
   },
   {
    "duration": 0,
    "start_time": "2022-12-14T08:23:59.644Z"
   },
   {
    "duration": 0,
    "start_time": "2022-12-14T08:23:59.645Z"
   },
   {
    "duration": 0,
    "start_time": "2022-12-14T08:23:59.647Z"
   },
   {
    "duration": 0,
    "start_time": "2022-12-14T08:23:59.648Z"
   },
   {
    "duration": 0,
    "start_time": "2022-12-14T08:23:59.649Z"
   },
   {
    "duration": 0,
    "start_time": "2022-12-14T08:23:59.650Z"
   },
   {
    "duration": 0,
    "start_time": "2022-12-14T08:23:59.652Z"
   },
   {
    "duration": 0,
    "start_time": "2022-12-14T08:23:59.653Z"
   },
   {
    "duration": 0,
    "start_time": "2022-12-14T08:23:59.655Z"
   },
   {
    "duration": 0,
    "start_time": "2022-12-14T08:23:59.656Z"
   },
   {
    "duration": 0,
    "start_time": "2022-12-14T08:23:59.657Z"
   },
   {
    "duration": 0,
    "start_time": "2022-12-14T08:23:59.658Z"
   },
   {
    "duration": 0,
    "start_time": "2022-12-14T08:23:59.660Z"
   },
   {
    "duration": 0,
    "start_time": "2022-12-14T08:23:59.661Z"
   },
   {
    "duration": 0,
    "start_time": "2022-12-14T08:23:59.662Z"
   },
   {
    "duration": 0,
    "start_time": "2022-12-14T08:23:59.663Z"
   },
   {
    "duration": 0,
    "start_time": "2022-12-14T08:23:59.664Z"
   },
   {
    "duration": 0,
    "start_time": "2022-12-14T08:23:59.726Z"
   },
   {
    "duration": 0,
    "start_time": "2022-12-14T08:23:59.727Z"
   },
   {
    "duration": 0,
    "start_time": "2022-12-14T08:23:59.728Z"
   },
   {
    "duration": 0,
    "start_time": "2022-12-14T08:23:59.730Z"
   },
   {
    "duration": 0,
    "start_time": "2022-12-14T08:23:59.731Z"
   },
   {
    "duration": 0,
    "start_time": "2022-12-14T08:23:59.732Z"
   },
   {
    "duration": 0,
    "start_time": "2022-12-14T08:23:59.734Z"
   },
   {
    "duration": 0,
    "start_time": "2022-12-14T08:23:59.735Z"
   },
   {
    "duration": 0,
    "start_time": "2022-12-14T08:23:59.736Z"
   },
   {
    "duration": 0,
    "start_time": "2022-12-14T08:23:59.738Z"
   },
   {
    "duration": 0,
    "start_time": "2022-12-14T08:23:59.741Z"
   },
   {
    "duration": 0,
    "start_time": "2022-12-14T08:23:59.742Z"
   },
   {
    "duration": 0,
    "start_time": "2022-12-14T08:23:59.746Z"
   },
   {
    "duration": 0,
    "start_time": "2022-12-14T08:23:59.747Z"
   },
   {
    "duration": 0,
    "start_time": "2022-12-14T08:23:59.748Z"
   },
   {
    "duration": 0,
    "start_time": "2022-12-14T08:23:59.749Z"
   },
   {
    "duration": 0,
    "start_time": "2022-12-14T08:23:59.750Z"
   },
   {
    "duration": 0,
    "start_time": "2022-12-14T08:23:59.751Z"
   },
   {
    "duration": 0,
    "start_time": "2022-12-14T08:23:59.752Z"
   },
   {
    "duration": 0,
    "start_time": "2022-12-14T08:23:59.753Z"
   },
   {
    "duration": 0,
    "start_time": "2022-12-14T08:23:59.755Z"
   },
   {
    "duration": 0,
    "start_time": "2022-12-14T08:23:59.756Z"
   },
   {
    "duration": 0,
    "start_time": "2022-12-14T08:23:59.757Z"
   },
   {
    "duration": 1,
    "start_time": "2022-12-14T08:23:59.758Z"
   },
   {
    "duration": 0,
    "start_time": "2022-12-14T08:23:59.760Z"
   },
   {
    "duration": 0,
    "start_time": "2022-12-14T08:23:59.761Z"
   },
   {
    "duration": 0,
    "start_time": "2022-12-14T08:23:59.763Z"
   },
   {
    "duration": 0,
    "start_time": "2022-12-14T08:23:59.764Z"
   },
   {
    "duration": 0,
    "start_time": "2022-12-14T08:23:59.827Z"
   },
   {
    "duration": 0,
    "start_time": "2022-12-14T08:23:59.829Z"
   },
   {
    "duration": 0,
    "start_time": "2022-12-14T08:23:59.829Z"
   },
   {
    "duration": 0,
    "start_time": "2022-12-14T08:23:59.831Z"
   },
   {
    "duration": 0,
    "start_time": "2022-12-14T08:23:59.832Z"
   },
   {
    "duration": 0,
    "start_time": "2022-12-14T08:23:59.834Z"
   },
   {
    "duration": 0,
    "start_time": "2022-12-14T08:23:59.835Z"
   },
   {
    "duration": 0,
    "start_time": "2022-12-14T08:23:59.836Z"
   },
   {
    "duration": 0,
    "start_time": "2022-12-14T08:23:59.837Z"
   },
   {
    "duration": 0,
    "start_time": "2022-12-14T08:23:59.839Z"
   },
   {
    "duration": 0,
    "start_time": "2022-12-14T08:23:59.841Z"
   },
   {
    "duration": 0,
    "start_time": "2022-12-14T08:23:59.842Z"
   },
   {
    "duration": 0,
    "start_time": "2022-12-14T08:23:59.843Z"
   },
   {
    "duration": 0,
    "start_time": "2022-12-14T08:23:59.844Z"
   },
   {
    "duration": 0,
    "start_time": "2022-12-14T08:23:59.845Z"
   },
   {
    "duration": 0,
    "start_time": "2022-12-14T08:23:59.847Z"
   },
   {
    "duration": 0,
    "start_time": "2022-12-14T08:23:59.848Z"
   },
   {
    "duration": 0,
    "start_time": "2022-12-14T08:23:59.849Z"
   },
   {
    "duration": 0,
    "start_time": "2022-12-14T08:23:59.851Z"
   },
   {
    "duration": 0,
    "start_time": "2022-12-14T08:23:59.852Z"
   },
   {
    "duration": 0,
    "start_time": "2022-12-14T08:23:59.853Z"
   },
   {
    "duration": 0,
    "start_time": "2022-12-14T08:23:59.855Z"
   },
   {
    "duration": 0,
    "start_time": "2022-12-14T08:23:59.856Z"
   },
   {
    "duration": 0,
    "start_time": "2022-12-14T08:23:59.857Z"
   },
   {
    "duration": 0,
    "start_time": "2022-12-14T08:23:59.858Z"
   },
   {
    "duration": 0,
    "start_time": "2022-12-14T08:23:59.859Z"
   },
   {
    "duration": 0,
    "start_time": "2022-12-14T08:23:59.860Z"
   },
   {
    "duration": 0,
    "start_time": "2022-12-14T08:23:59.862Z"
   },
   {
    "duration": 0,
    "start_time": "2022-12-14T08:23:59.863Z"
   },
   {
    "duration": 0,
    "start_time": "2022-12-14T08:23:59.927Z"
   },
   {
    "duration": 0,
    "start_time": "2022-12-14T08:23:59.928Z"
   },
   {
    "duration": 0,
    "start_time": "2022-12-14T08:23:59.930Z"
   },
   {
    "duration": 0,
    "start_time": "2022-12-14T08:23:59.931Z"
   },
   {
    "duration": 1342,
    "start_time": "2022-12-14T09:10:18.312Z"
   },
   {
    "duration": 776,
    "start_time": "2022-12-14T09:10:19.656Z"
   },
   {
    "duration": 570,
    "start_time": "2022-12-14T09:10:20.433Z"
   },
   {
    "duration": 100,
    "start_time": "2022-12-14T09:10:21.004Z"
   },
   {
    "duration": 93,
    "start_time": "2022-12-14T09:10:21.106Z"
   },
   {
    "duration": 92,
    "start_time": "2022-12-14T09:10:21.201Z"
   },
   {
    "duration": 168,
    "start_time": "2022-12-14T09:10:21.295Z"
   },
   {
    "duration": 324,
    "start_time": "2022-12-14T09:10:21.464Z"
   },
   {
    "duration": 409,
    "start_time": "2022-12-14T09:10:21.790Z"
   },
   {
    "duration": 8,
    "start_time": "2022-12-14T09:10:22.201Z"
   },
   {
    "duration": 348,
    "start_time": "2022-12-14T09:10:22.211Z"
   },
   {
    "duration": 12,
    "start_time": "2022-12-14T09:10:22.561Z"
   },
   {
    "duration": 74,
    "start_time": "2022-12-14T09:10:22.574Z"
   },
   {
    "duration": 344,
    "start_time": "2022-12-14T09:10:22.651Z"
   },
   {
    "duration": 62,
    "start_time": "2022-12-14T09:10:22.996Z"
   },
   {
    "duration": 35,
    "start_time": "2022-12-14T09:10:23.060Z"
   },
   {
    "duration": 271,
    "start_time": "2022-12-14T09:10:23.096Z"
   },
   {
    "duration": 59,
    "start_time": "2022-12-14T09:10:23.369Z"
   },
   {
    "duration": 24,
    "start_time": "2022-12-14T09:10:23.430Z"
   },
   {
    "duration": 80,
    "start_time": "2022-12-14T09:10:23.456Z"
   },
   {
    "duration": 27,
    "start_time": "2022-12-14T09:10:23.537Z"
   },
   {
    "duration": 2032,
    "start_time": "2022-12-14T09:10:23.566Z"
   },
   {
    "duration": 1566,
    "start_time": "2022-12-14T09:10:25.599Z"
   },
   {
    "duration": 35,
    "start_time": "2022-12-14T09:10:27.167Z"
   },
   {
    "duration": 277,
    "start_time": "2022-12-14T09:10:27.204Z"
   },
   {
    "duration": 271,
    "start_time": "2022-12-14T09:10:27.483Z"
   },
   {
    "duration": 273,
    "start_time": "2022-12-14T09:10:27.755Z"
   },
   {
    "duration": 38,
    "start_time": "2022-12-14T09:10:28.029Z"
   },
   {
    "duration": 48,
    "start_time": "2022-12-14T09:10:28.069Z"
   },
   {
    "duration": 1276,
    "start_time": "2022-12-14T09:10:28.118Z"
   },
   {
    "duration": 0,
    "start_time": "2022-12-14T09:10:29.398Z"
   },
   {
    "duration": 0,
    "start_time": "2022-12-14T09:10:29.399Z"
   },
   {
    "duration": 0,
    "start_time": "2022-12-14T09:10:29.400Z"
   },
   {
    "duration": 0,
    "start_time": "2022-12-14T09:10:29.401Z"
   },
   {
    "duration": 0,
    "start_time": "2022-12-14T09:10:29.402Z"
   },
   {
    "duration": 0,
    "start_time": "2022-12-14T09:10:29.403Z"
   },
   {
    "duration": 0,
    "start_time": "2022-12-14T09:10:29.404Z"
   },
   {
    "duration": 0,
    "start_time": "2022-12-14T09:10:29.405Z"
   },
   {
    "duration": 0,
    "start_time": "2022-12-14T09:10:29.406Z"
   },
   {
    "duration": 0,
    "start_time": "2022-12-14T09:10:29.407Z"
   },
   {
    "duration": 0,
    "start_time": "2022-12-14T09:10:29.408Z"
   },
   {
    "duration": 0,
    "start_time": "2022-12-14T09:10:29.409Z"
   },
   {
    "duration": 0,
    "start_time": "2022-12-14T09:10:29.410Z"
   },
   {
    "duration": 0,
    "start_time": "2022-12-14T09:10:29.411Z"
   },
   {
    "duration": 0,
    "start_time": "2022-12-14T09:10:29.412Z"
   },
   {
    "duration": 0,
    "start_time": "2022-12-14T09:10:29.413Z"
   },
   {
    "duration": 0,
    "start_time": "2022-12-14T09:10:29.414Z"
   },
   {
    "duration": 0,
    "start_time": "2022-12-14T09:10:29.415Z"
   },
   {
    "duration": 0,
    "start_time": "2022-12-14T09:10:29.416Z"
   },
   {
    "duration": 0,
    "start_time": "2022-12-14T09:10:29.416Z"
   },
   {
    "duration": 0,
    "start_time": "2022-12-14T09:10:29.417Z"
   },
   {
    "duration": 0,
    "start_time": "2022-12-14T09:10:29.418Z"
   },
   {
    "duration": 0,
    "start_time": "2022-12-14T09:10:29.419Z"
   },
   {
    "duration": 0,
    "start_time": "2022-12-14T09:10:29.421Z"
   },
   {
    "duration": 0,
    "start_time": "2022-12-14T09:10:29.421Z"
   },
   {
    "duration": 0,
    "start_time": "2022-12-14T09:10:29.422Z"
   },
   {
    "duration": 0,
    "start_time": "2022-12-14T09:10:29.423Z"
   },
   {
    "duration": 0,
    "start_time": "2022-12-14T09:10:29.424Z"
   },
   {
    "duration": 0,
    "start_time": "2022-12-14T09:10:29.426Z"
   },
   {
    "duration": 0,
    "start_time": "2022-12-14T09:10:29.426Z"
   },
   {
    "duration": 0,
    "start_time": "2022-12-14T09:10:29.427Z"
   },
   {
    "duration": 0,
    "start_time": "2022-12-14T09:10:29.428Z"
   },
   {
    "duration": 0,
    "start_time": "2022-12-14T09:10:29.429Z"
   },
   {
    "duration": 0,
    "start_time": "2022-12-14T09:10:29.430Z"
   },
   {
    "duration": 0,
    "start_time": "2022-12-14T09:10:29.431Z"
   },
   {
    "duration": 0,
    "start_time": "2022-12-14T09:10:29.433Z"
   },
   {
    "duration": 0,
    "start_time": "2022-12-14T09:10:29.433Z"
   },
   {
    "duration": 0,
    "start_time": "2022-12-14T09:10:29.435Z"
   },
   {
    "duration": 0,
    "start_time": "2022-12-14T09:10:29.436Z"
   },
   {
    "duration": 0,
    "start_time": "2022-12-14T09:10:29.437Z"
   },
   {
    "duration": 0,
    "start_time": "2022-12-14T09:10:29.438Z"
   },
   {
    "duration": 0,
    "start_time": "2022-12-14T09:10:29.439Z"
   },
   {
    "duration": 0,
    "start_time": "2022-12-14T09:10:29.440Z"
   },
   {
    "duration": 0,
    "start_time": "2022-12-14T09:10:29.441Z"
   },
   {
    "duration": 0,
    "start_time": "2022-12-14T09:10:29.443Z"
   },
   {
    "duration": 0,
    "start_time": "2022-12-14T09:10:29.444Z"
   },
   {
    "duration": 0,
    "start_time": "2022-12-14T09:10:29.445Z"
   },
   {
    "duration": 0,
    "start_time": "2022-12-14T09:10:29.446Z"
   },
   {
    "duration": 0,
    "start_time": "2022-12-14T09:10:29.448Z"
   },
   {
    "duration": 0,
    "start_time": "2022-12-14T09:10:29.449Z"
   },
   {
    "duration": 0,
    "start_time": "2022-12-14T09:10:29.450Z"
   },
   {
    "duration": 0,
    "start_time": "2022-12-14T09:10:29.452Z"
   },
   {
    "duration": 0,
    "start_time": "2022-12-14T09:10:29.453Z"
   },
   {
    "duration": 0,
    "start_time": "2022-12-14T09:10:29.454Z"
   },
   {
    "duration": 0,
    "start_time": "2022-12-14T09:10:29.455Z"
   },
   {
    "duration": 0,
    "start_time": "2022-12-14T09:10:29.456Z"
   },
   {
    "duration": 0,
    "start_time": "2022-12-14T09:10:29.456Z"
   },
   {
    "duration": 0,
    "start_time": "2022-12-14T09:10:29.457Z"
   },
   {
    "duration": 0,
    "start_time": "2022-12-14T09:10:29.458Z"
   },
   {
    "duration": 1,
    "start_time": "2022-12-14T09:10:29.459Z"
   },
   {
    "duration": 0,
    "start_time": "2022-12-14T09:10:29.461Z"
   },
   {
    "duration": 0,
    "start_time": "2022-12-14T09:10:29.462Z"
   },
   {
    "duration": 0,
    "start_time": "2022-12-14T09:10:29.463Z"
   },
   {
    "duration": 0,
    "start_time": "2022-12-14T09:10:29.464Z"
   },
   {
    "duration": 0,
    "start_time": "2022-12-14T09:10:29.528Z"
   },
   {
    "duration": 1,
    "start_time": "2022-12-14T09:10:29.528Z"
   },
   {
    "duration": 0,
    "start_time": "2022-12-14T09:10:29.530Z"
   },
   {
    "duration": 0,
    "start_time": "2022-12-14T09:10:29.531Z"
   },
   {
    "duration": 0,
    "start_time": "2022-12-14T09:10:29.532Z"
   },
   {
    "duration": 1224,
    "start_time": "2022-12-14T09:11:51.371Z"
   },
   {
    "duration": 716,
    "start_time": "2022-12-14T09:11:52.599Z"
   },
   {
    "duration": 552,
    "start_time": "2022-12-14T09:11:53.317Z"
   },
   {
    "duration": 99,
    "start_time": "2022-12-14T09:11:53.872Z"
   },
   {
    "duration": 98,
    "start_time": "2022-12-14T09:11:53.973Z"
   },
   {
    "duration": 91,
    "start_time": "2022-12-14T09:11:54.073Z"
   },
   {
    "duration": 181,
    "start_time": "2022-12-14T09:11:54.166Z"
   },
   {
    "duration": 300,
    "start_time": "2022-12-14T09:11:54.349Z"
   },
   {
    "duration": 369,
    "start_time": "2022-12-14T09:11:54.651Z"
   },
   {
    "duration": 8,
    "start_time": "2022-12-14T09:11:55.025Z"
   },
   {
    "duration": 295,
    "start_time": "2022-12-14T09:11:55.035Z"
   },
   {
    "duration": 12,
    "start_time": "2022-12-14T09:11:55.332Z"
   },
   {
    "duration": 84,
    "start_time": "2022-12-14T09:11:55.346Z"
   },
   {
    "duration": 373,
    "start_time": "2022-12-14T09:11:55.432Z"
   },
   {
    "duration": 67,
    "start_time": "2022-12-14T09:11:55.807Z"
   },
   {
    "duration": 12,
    "start_time": "2022-12-14T09:11:55.876Z"
   },
   {
    "duration": 294,
    "start_time": "2022-12-14T09:11:55.890Z"
   },
   {
    "duration": 62,
    "start_time": "2022-12-14T09:11:56.186Z"
   },
   {
    "duration": 25,
    "start_time": "2022-12-14T09:11:56.249Z"
   },
   {
    "duration": 81,
    "start_time": "2022-12-14T09:11:56.276Z"
   },
   {
    "duration": 26,
    "start_time": "2022-12-14T09:11:56.359Z"
   },
   {
    "duration": 1997,
    "start_time": "2022-12-14T09:11:56.386Z"
   },
   {
    "duration": 1501,
    "start_time": "2022-12-14T09:11:58.384Z"
   },
   {
    "duration": 42,
    "start_time": "2022-12-14T09:11:59.887Z"
   },
   {
    "duration": 286,
    "start_time": "2022-12-14T09:11:59.931Z"
   },
   {
    "duration": 267,
    "start_time": "2022-12-14T09:12:00.219Z"
   },
   {
    "duration": 274,
    "start_time": "2022-12-14T09:12:00.487Z"
   },
   {
    "duration": 39,
    "start_time": "2022-12-14T09:12:00.765Z"
   },
   {
    "duration": 46,
    "start_time": "2022-12-14T09:12:00.806Z"
   },
   {
    "duration": 30,
    "start_time": "2022-12-14T09:12:00.854Z"
   },
   {
    "duration": 79,
    "start_time": "2022-12-14T09:12:00.886Z"
   },
   {
    "duration": 4,
    "start_time": "2022-12-14T09:12:00.966Z"
   },
   {
    "duration": 115,
    "start_time": "2022-12-14T09:12:00.971Z"
   },
   {
    "duration": 0,
    "start_time": "2022-12-14T09:12:01.088Z"
   },
   {
    "duration": 0,
    "start_time": "2022-12-14T09:12:01.089Z"
   },
   {
    "duration": 0,
    "start_time": "2022-12-14T09:12:01.090Z"
   },
   {
    "duration": 0,
    "start_time": "2022-12-14T09:12:01.091Z"
   },
   {
    "duration": 0,
    "start_time": "2022-12-14T09:12:01.092Z"
   },
   {
    "duration": 0,
    "start_time": "2022-12-14T09:12:01.093Z"
   },
   {
    "duration": 0,
    "start_time": "2022-12-14T09:12:01.094Z"
   },
   {
    "duration": 0,
    "start_time": "2022-12-14T09:12:01.095Z"
   },
   {
    "duration": 0,
    "start_time": "2022-12-14T09:12:01.096Z"
   },
   {
    "duration": 0,
    "start_time": "2022-12-14T09:12:01.097Z"
   },
   {
    "duration": 0,
    "start_time": "2022-12-14T09:12:01.098Z"
   },
   {
    "duration": 0,
    "start_time": "2022-12-14T09:12:01.099Z"
   },
   {
    "duration": 0,
    "start_time": "2022-12-14T09:12:01.100Z"
   },
   {
    "duration": 0,
    "start_time": "2022-12-14T09:12:01.101Z"
   },
   {
    "duration": 0,
    "start_time": "2022-12-14T09:12:01.102Z"
   },
   {
    "duration": 0,
    "start_time": "2022-12-14T09:12:01.126Z"
   },
   {
    "duration": 0,
    "start_time": "2022-12-14T09:12:01.127Z"
   },
   {
    "duration": 0,
    "start_time": "2022-12-14T09:12:01.128Z"
   },
   {
    "duration": 0,
    "start_time": "2022-12-14T09:12:01.129Z"
   },
   {
    "duration": 0,
    "start_time": "2022-12-14T09:12:01.130Z"
   },
   {
    "duration": 0,
    "start_time": "2022-12-14T09:12:01.131Z"
   },
   {
    "duration": 0,
    "start_time": "2022-12-14T09:12:01.132Z"
   },
   {
    "duration": 0,
    "start_time": "2022-12-14T09:12:01.133Z"
   },
   {
    "duration": 0,
    "start_time": "2022-12-14T09:12:01.133Z"
   },
   {
    "duration": 0,
    "start_time": "2022-12-14T09:12:01.134Z"
   },
   {
    "duration": 0,
    "start_time": "2022-12-14T09:12:01.135Z"
   },
   {
    "duration": 0,
    "start_time": "2022-12-14T09:12:01.136Z"
   },
   {
    "duration": 0,
    "start_time": "2022-12-14T09:12:01.137Z"
   },
   {
    "duration": 0,
    "start_time": "2022-12-14T09:12:01.137Z"
   },
   {
    "duration": 0,
    "start_time": "2022-12-14T09:12:01.138Z"
   },
   {
    "duration": 0,
    "start_time": "2022-12-14T09:12:01.139Z"
   },
   {
    "duration": 0,
    "start_time": "2022-12-14T09:12:01.141Z"
   },
   {
    "duration": 0,
    "start_time": "2022-12-14T09:12:01.141Z"
   },
   {
    "duration": 0,
    "start_time": "2022-12-14T09:12:01.142Z"
   },
   {
    "duration": 0,
    "start_time": "2022-12-14T09:12:01.143Z"
   },
   {
    "duration": 0,
    "start_time": "2022-12-14T09:12:01.144Z"
   },
   {
    "duration": 0,
    "start_time": "2022-12-14T09:12:01.145Z"
   },
   {
    "duration": 0,
    "start_time": "2022-12-14T09:12:01.147Z"
   },
   {
    "duration": 0,
    "start_time": "2022-12-14T09:12:01.148Z"
   },
   {
    "duration": 0,
    "start_time": "2022-12-14T09:12:01.149Z"
   },
   {
    "duration": 0,
    "start_time": "2022-12-14T09:12:01.150Z"
   },
   {
    "duration": 0,
    "start_time": "2022-12-14T09:12:01.151Z"
   },
   {
    "duration": 0,
    "start_time": "2022-12-14T09:12:01.152Z"
   },
   {
    "duration": 0,
    "start_time": "2022-12-14T09:12:01.153Z"
   },
   {
    "duration": 0,
    "start_time": "2022-12-14T09:12:01.153Z"
   },
   {
    "duration": 0,
    "start_time": "2022-12-14T09:12:01.154Z"
   },
   {
    "duration": 0,
    "start_time": "2022-12-14T09:12:01.155Z"
   },
   {
    "duration": 0,
    "start_time": "2022-12-14T09:12:01.157Z"
   },
   {
    "duration": 0,
    "start_time": "2022-12-14T09:12:01.157Z"
   },
   {
    "duration": 0,
    "start_time": "2022-12-14T09:12:01.158Z"
   },
   {
    "duration": 0,
    "start_time": "2022-12-14T09:12:01.159Z"
   },
   {
    "duration": 0,
    "start_time": "2022-12-14T09:12:01.160Z"
   },
   {
    "duration": 0,
    "start_time": "2022-12-14T09:12:01.161Z"
   },
   {
    "duration": 0,
    "start_time": "2022-12-14T09:12:01.162Z"
   },
   {
    "duration": 0,
    "start_time": "2022-12-14T09:12:01.226Z"
   },
   {
    "duration": 0,
    "start_time": "2022-12-14T09:12:01.227Z"
   },
   {
    "duration": 0,
    "start_time": "2022-12-14T09:12:01.228Z"
   },
   {
    "duration": 0,
    "start_time": "2022-12-14T09:12:01.229Z"
   },
   {
    "duration": 0,
    "start_time": "2022-12-14T09:12:01.230Z"
   },
   {
    "duration": 0,
    "start_time": "2022-12-14T09:12:01.231Z"
   },
   {
    "duration": 0,
    "start_time": "2022-12-14T09:12:01.232Z"
   },
   {
    "duration": 0,
    "start_time": "2022-12-14T09:12:01.233Z"
   },
   {
    "duration": 0,
    "start_time": "2022-12-14T09:12:01.234Z"
   },
   {
    "duration": 0,
    "start_time": "2022-12-14T09:12:01.234Z"
   },
   {
    "duration": 0,
    "start_time": "2022-12-14T09:12:01.236Z"
   },
   {
    "duration": 0,
    "start_time": "2022-12-14T09:12:01.237Z"
   },
   {
    "duration": 1239,
    "start_time": "2022-12-14T10:02:56.195Z"
   },
   {
    "duration": 733,
    "start_time": "2022-12-14T10:02:57.436Z"
   },
   {
    "duration": 550,
    "start_time": "2022-12-14T10:02:58.171Z"
   },
   {
    "duration": 91,
    "start_time": "2022-12-14T10:02:58.726Z"
   },
   {
    "duration": 90,
    "start_time": "2022-12-14T10:02:58.819Z"
   },
   {
    "duration": 96,
    "start_time": "2022-12-14T10:02:58.910Z"
   },
   {
    "duration": 172,
    "start_time": "2022-12-14T10:02:59.008Z"
   },
   {
    "duration": 304,
    "start_time": "2022-12-14T10:02:59.182Z"
   },
   {
    "duration": 370,
    "start_time": "2022-12-14T10:02:59.488Z"
   },
   {
    "duration": 8,
    "start_time": "2022-12-14T10:02:59.860Z"
   },
   {
    "duration": 308,
    "start_time": "2022-12-14T10:02:59.870Z"
   },
   {
    "duration": 11,
    "start_time": "2022-12-14T10:03:00.180Z"
   },
   {
    "duration": 71,
    "start_time": "2022-12-14T10:03:00.193Z"
   },
   {
    "duration": 317,
    "start_time": "2022-12-14T10:03:00.266Z"
   },
   {
    "duration": 57,
    "start_time": "2022-12-14T10:03:00.584Z"
   },
   {
    "duration": 27,
    "start_time": "2022-12-14T10:03:00.642Z"
   },
   {
    "duration": 273,
    "start_time": "2022-12-14T10:03:00.670Z"
   },
   {
    "duration": 56,
    "start_time": "2022-12-14T10:03:00.945Z"
   },
   {
    "duration": 34,
    "start_time": "2022-12-14T10:03:01.003Z"
   },
   {
    "duration": 87,
    "start_time": "2022-12-14T10:03:01.039Z"
   },
   {
    "duration": 26,
    "start_time": "2022-12-14T10:03:01.128Z"
   },
   {
    "duration": 2177,
    "start_time": "2022-12-14T10:03:01.156Z"
   },
   {
    "duration": 1701,
    "start_time": "2022-12-14T10:03:03.335Z"
   },
   {
    "duration": 38,
    "start_time": "2022-12-14T10:03:05.038Z"
   },
   {
    "duration": 273,
    "start_time": "2022-12-14T10:03:05.078Z"
   },
   {
    "duration": 286,
    "start_time": "2022-12-14T10:03:05.353Z"
   },
   {
    "duration": 304,
    "start_time": "2022-12-14T10:03:05.641Z"
   },
   {
    "duration": 37,
    "start_time": "2022-12-14T10:03:05.948Z"
   },
   {
    "duration": 42,
    "start_time": "2022-12-14T10:03:05.987Z"
   },
   {
    "duration": 30,
    "start_time": "2022-12-14T10:03:06.030Z"
   },
   {
    "duration": 84,
    "start_time": "2022-12-14T10:03:06.062Z"
   },
   {
    "duration": 4,
    "start_time": "2022-12-14T10:03:06.147Z"
   },
   {
    "duration": 638,
    "start_time": "2022-12-14T10:03:06.153Z"
   },
   {
    "duration": 383,
    "start_time": "2022-12-14T10:03:06.793Z"
   },
   {
    "duration": 84154,
    "start_time": "2022-12-14T10:03:07.177Z"
   },
   {
    "duration": 103094,
    "start_time": "2022-12-14T10:04:31.332Z"
   },
   {
    "duration": 94896,
    "start_time": "2022-12-14T10:06:14.429Z"
   },
   {
    "duration": 78933,
    "start_time": "2022-12-14T10:07:49.328Z"
   },
   {
    "duration": 4916,
    "start_time": "2022-12-14T10:09:08.262Z"
   },
   {
    "duration": 225467,
    "start_time": "2022-12-14T10:09:13.180Z"
   },
   {
    "duration": 18609,
    "start_time": "2022-12-14T10:12:58.648Z"
   },
   {
    "duration": 61472,
    "start_time": "2022-12-14T10:13:17.259Z"
   },
   {
    "duration": 20103,
    "start_time": "2022-12-14T10:14:18.733Z"
   },
   {
    "duration": 302,
    "start_time": "2022-12-14T10:14:38.927Z"
   },
   {
    "duration": 4448,
    "start_time": "2022-12-14T10:14:39.234Z"
   },
   {
    "duration": 106,
    "start_time": "2022-12-14T10:14:43.683Z"
   },
   {
    "duration": 3,
    "start_time": "2022-12-14T10:14:43.790Z"
   },
   {
    "duration": 280,
    "start_time": "2022-12-14T10:14:43.794Z"
   },
   {
    "duration": 12,
    "start_time": "2022-12-14T10:14:44.076Z"
   },
   {
    "duration": 3,
    "start_time": "2022-12-14T10:14:44.089Z"
   },
   {
    "duration": 16409,
    "start_time": "2022-12-14T10:14:44.093Z"
   },
   {
    "duration": 45,
    "start_time": "2022-12-14T10:15:00.503Z"
   },
   {
    "duration": 4,
    "start_time": "2022-12-14T10:15:00.549Z"
   },
   {
    "duration": 4350,
    "start_time": "2022-12-14T10:15:00.554Z"
   },
   {
    "duration": 41,
    "start_time": "2022-12-14T10:15:04.905Z"
   },
   {
    "duration": 3,
    "start_time": "2022-12-14T10:15:04.948Z"
   },
   {
    "duration": 6185,
    "start_time": "2022-12-14T10:15:04.953Z"
   },
   {
    "duration": 491,
    "start_time": "2022-12-14T10:15:11.140Z"
   },
   {
    "duration": 4,
    "start_time": "2022-12-14T10:15:11.633Z"
   },
   {
    "duration": 141,
    "start_time": "2022-12-14T10:15:11.638Z"
   },
   {
    "duration": 0,
    "start_time": "2022-12-14T10:15:11.781Z"
   },
   {
    "duration": 23,
    "start_time": "2022-12-14T10:30:29.726Z"
   },
   {
    "duration": 19,
    "start_time": "2022-12-14T10:33:06.787Z"
   },
   {
    "duration": 1261,
    "start_time": "2022-12-15T07:52:52.577Z"
   },
   {
    "duration": 967,
    "start_time": "2022-12-15T07:52:53.840Z"
   },
   {
    "duration": 548,
    "start_time": "2022-12-15T07:52:54.809Z"
   },
   {
    "duration": 95,
    "start_time": "2022-12-15T07:52:55.359Z"
   },
   {
    "duration": 93,
    "start_time": "2022-12-15T07:52:55.455Z"
   },
   {
    "duration": 92,
    "start_time": "2022-12-15T07:52:55.550Z"
   },
   {
    "duration": 168,
    "start_time": "2022-12-15T07:52:55.643Z"
   },
   {
    "duration": 375,
    "start_time": "2022-12-15T07:52:55.812Z"
   },
   {
    "duration": 565,
    "start_time": "2022-12-15T07:52:56.189Z"
   },
   {
    "duration": 10,
    "start_time": "2022-12-15T07:52:56.756Z"
   },
   {
    "duration": 392,
    "start_time": "2022-12-15T07:52:56.767Z"
   },
   {
    "duration": 12,
    "start_time": "2022-12-15T07:52:57.161Z"
   },
   {
    "duration": 72,
    "start_time": "2022-12-15T07:52:57.174Z"
   },
   {
    "duration": 245,
    "start_time": "2022-12-15T07:52:57.248Z"
   },
   {
    "duration": 65,
    "start_time": "2022-12-15T07:52:57.496Z"
   },
   {
    "duration": 12,
    "start_time": "2022-12-15T07:52:57.563Z"
   },
   {
    "duration": 292,
    "start_time": "2022-12-15T07:52:57.577Z"
   },
   {
    "duration": 81,
    "start_time": "2022-12-15T07:52:57.871Z"
   },
   {
    "duration": 25,
    "start_time": "2022-12-15T07:52:57.953Z"
   },
   {
    "duration": 80,
    "start_time": "2022-12-15T07:52:57.979Z"
   },
   {
    "duration": 36,
    "start_time": "2022-12-15T07:52:58.061Z"
   },
   {
    "duration": 2237,
    "start_time": "2022-12-15T07:52:58.099Z"
   },
   {
    "duration": 1684,
    "start_time": "2022-12-15T07:53:00.338Z"
   },
   {
    "duration": 38,
    "start_time": "2022-12-15T07:53:02.023Z"
   },
   {
    "duration": 300,
    "start_time": "2022-12-15T07:53:02.063Z"
   },
   {
    "duration": 281,
    "start_time": "2022-12-15T07:53:02.365Z"
   },
   {
    "duration": 293,
    "start_time": "2022-12-15T07:53:02.647Z"
   },
   {
    "duration": 41,
    "start_time": "2022-12-15T07:53:02.944Z"
   },
   {
    "duration": 32,
    "start_time": "2022-12-15T07:53:02.996Z"
   },
   {
    "duration": 31,
    "start_time": "2022-12-15T07:53:03.029Z"
   },
   {
    "duration": 192,
    "start_time": "2022-12-15T07:53:03.062Z"
   },
   {
    "duration": 3,
    "start_time": "2022-12-15T07:53:03.256Z"
   },
   {
    "duration": 651,
    "start_time": "2022-12-15T07:53:03.261Z"
   },
   {
    "duration": 387,
    "start_time": "2022-12-15T07:53:03.914Z"
   },
   {
    "duration": 89999,
    "start_time": "2022-12-15T07:53:04.302Z"
   },
   {
    "duration": 90818,
    "start_time": "2022-12-15T07:54:34.303Z"
   },
   {
    "duration": 90793,
    "start_time": "2022-12-15T07:56:05.123Z"
   },
   {
    "duration": 77720,
    "start_time": "2022-12-15T07:57:35.918Z"
   },
   {
    "duration": 5087,
    "start_time": "2022-12-15T07:58:53.640Z"
   },
   {
    "duration": 230385,
    "start_time": "2022-12-15T07:58:58.729Z"
   },
   {
    "duration": 17711,
    "start_time": "2022-12-15T08:02:49.116Z"
   },
   {
    "duration": 65379,
    "start_time": "2022-12-15T08:03:06.828Z"
   },
   {
    "duration": 36191,
    "start_time": "2022-12-15T08:04:12.209Z"
   },
   {
    "duration": 511,
    "start_time": "2022-12-15T08:04:48.404Z"
   },
   {
    "duration": 4495,
    "start_time": "2022-12-15T08:04:48.917Z"
   },
   {
    "duration": 109,
    "start_time": "2022-12-15T08:04:53.413Z"
   },
   {
    "duration": 13,
    "start_time": "2022-12-15T08:04:53.524Z"
   },
   {
    "duration": 0,
    "start_time": "2022-12-15T08:04:53.538Z"
   },
   {
    "duration": 0,
    "start_time": "2022-12-15T08:04:53.540Z"
   },
   {
    "duration": 0,
    "start_time": "2022-12-15T08:04:53.541Z"
   },
   {
    "duration": 0,
    "start_time": "2022-12-15T08:04:53.542Z"
   },
   {
    "duration": 0,
    "start_time": "2022-12-15T08:04:53.543Z"
   },
   {
    "duration": 0,
    "start_time": "2022-12-15T08:04:53.544Z"
   },
   {
    "duration": 0,
    "start_time": "2022-12-15T08:04:53.546Z"
   },
   {
    "duration": 0,
    "start_time": "2022-12-15T08:04:53.547Z"
   },
   {
    "duration": 0,
    "start_time": "2022-12-15T08:04:53.548Z"
   },
   {
    "duration": 0,
    "start_time": "2022-12-15T08:04:53.549Z"
   },
   {
    "duration": 0,
    "start_time": "2022-12-15T08:04:53.551Z"
   },
   {
    "duration": 0,
    "start_time": "2022-12-15T08:04:53.552Z"
   },
   {
    "duration": 0,
    "start_time": "2022-12-15T08:04:53.554Z"
   },
   {
    "duration": 13,
    "start_time": "2022-12-15T08:51:27.113Z"
   },
   {
    "duration": 1441,
    "start_time": "2022-12-16T05:19:29.322Z"
   },
   {
    "duration": 1171,
    "start_time": "2022-12-16T05:19:30.765Z"
   },
   {
    "duration": 892,
    "start_time": "2022-12-16T05:19:31.938Z"
   },
   {
    "duration": 136,
    "start_time": "2022-12-16T05:19:32.832Z"
   },
   {
    "duration": 115,
    "start_time": "2022-12-16T05:19:32.970Z"
   },
   {
    "duration": 111,
    "start_time": "2022-12-16T05:19:33.088Z"
   },
   {
    "duration": 202,
    "start_time": "2022-12-16T05:19:33.201Z"
   },
   {
    "duration": 381,
    "start_time": "2022-12-16T05:19:33.405Z"
   },
   {
    "duration": 613,
    "start_time": "2022-12-16T05:19:33.787Z"
   },
   {
    "duration": 11,
    "start_time": "2022-12-16T05:19:34.403Z"
   },
   {
    "duration": 428,
    "start_time": "2022-12-16T05:19:34.416Z"
   },
   {
    "duration": 12,
    "start_time": "2022-12-16T05:19:34.846Z"
   },
   {
    "duration": 105,
    "start_time": "2022-12-16T05:19:34.859Z"
   },
   {
    "duration": 271,
    "start_time": "2022-12-16T05:19:34.966Z"
   },
   {
    "duration": 69,
    "start_time": "2022-12-16T05:19:35.238Z"
   },
   {
    "duration": 28,
    "start_time": "2022-12-16T05:19:35.308Z"
   },
   {
    "duration": 310,
    "start_time": "2022-12-16T05:19:35.338Z"
   },
   {
    "duration": 91,
    "start_time": "2022-12-16T05:19:35.650Z"
   },
   {
    "duration": 31,
    "start_time": "2022-12-16T05:19:35.743Z"
   },
   {
    "duration": 86,
    "start_time": "2022-12-16T05:19:35.776Z"
   },
   {
    "duration": 28,
    "start_time": "2022-12-16T05:19:35.863Z"
   },
   {
    "duration": 2303,
    "start_time": "2022-12-16T05:19:35.893Z"
   },
   {
    "duration": 1702,
    "start_time": "2022-12-16T05:19:38.198Z"
   },
   {
    "duration": 51,
    "start_time": "2022-12-16T05:19:39.902Z"
   },
   {
    "duration": 310,
    "start_time": "2022-12-16T05:19:39.955Z"
   },
   {
    "duration": 282,
    "start_time": "2022-12-16T05:19:40.266Z"
   },
   {
    "duration": 286,
    "start_time": "2022-12-16T05:19:40.550Z"
   },
   {
    "duration": 47,
    "start_time": "2022-12-16T05:19:40.839Z"
   },
   {
    "duration": 55,
    "start_time": "2022-12-16T05:19:40.888Z"
   },
   {
    "duration": 34,
    "start_time": "2022-12-16T05:19:40.944Z"
   },
   {
    "duration": 197,
    "start_time": "2022-12-16T05:19:40.980Z"
   },
   {
    "duration": 4,
    "start_time": "2022-12-16T05:19:41.179Z"
   },
   {
    "duration": 727,
    "start_time": "2022-12-16T05:19:41.184Z"
   },
   {
    "duration": 428,
    "start_time": "2022-12-16T05:19:41.913Z"
   },
   {
    "duration": 101457,
    "start_time": "2022-12-16T05:19:44.678Z"
   },
   {
    "duration": 23,
    "start_time": "2022-12-16T05:21:46.064Z"
   },
   {
    "duration": 19943,
    "start_time": "2022-12-16T05:21:53.599Z"
   },
   {
    "duration": 596,
    "start_time": "2022-12-16T05:25:35.738Z"
   },
   {
    "duration": 1232,
    "start_time": "2022-12-16T06:49:24.631Z"
   },
   {
    "duration": 1106,
    "start_time": "2022-12-16T06:49:25.865Z"
   },
   {
    "duration": 574,
    "start_time": "2022-12-16T06:49:26.973Z"
   },
   {
    "duration": 107,
    "start_time": "2022-12-16T06:49:27.551Z"
   },
   {
    "duration": 111,
    "start_time": "2022-12-16T06:49:27.660Z"
   },
   {
    "duration": 100,
    "start_time": "2022-12-16T06:49:27.773Z"
   },
   {
    "duration": 186,
    "start_time": "2022-12-16T06:49:27.875Z"
   },
   {
    "duration": 327,
    "start_time": "2022-12-16T06:49:28.063Z"
   },
   {
    "duration": 595,
    "start_time": "2022-12-16T06:49:28.391Z"
   },
   {
    "duration": 15,
    "start_time": "2022-12-16T06:49:28.989Z"
   },
   {
    "duration": 440,
    "start_time": "2022-12-16T06:49:29.005Z"
   },
   {
    "duration": 12,
    "start_time": "2022-12-16T06:49:29.446Z"
   },
   {
    "duration": 84,
    "start_time": "2022-12-16T06:49:29.459Z"
   },
   {
    "duration": 285,
    "start_time": "2022-12-16T06:49:29.545Z"
   },
   {
    "duration": 74,
    "start_time": "2022-12-16T06:49:29.832Z"
   },
   {
    "duration": 21,
    "start_time": "2022-12-16T06:49:29.908Z"
   },
   {
    "duration": 328,
    "start_time": "2022-12-16T06:49:29.931Z"
   },
   {
    "duration": 83,
    "start_time": "2022-12-16T06:49:30.261Z"
   },
   {
    "duration": 36,
    "start_time": "2022-12-16T06:49:30.346Z"
   },
   {
    "duration": 105,
    "start_time": "2022-12-16T06:49:30.383Z"
   },
   {
    "duration": 27,
    "start_time": "2022-12-16T06:49:30.489Z"
   },
   {
    "duration": 2297,
    "start_time": "2022-12-16T06:49:30.517Z"
   },
   {
    "duration": 1584,
    "start_time": "2022-12-16T06:49:32.816Z"
   },
   {
    "duration": 37,
    "start_time": "2022-12-16T06:49:34.402Z"
   },
   {
    "duration": 321,
    "start_time": "2022-12-16T06:49:34.440Z"
   },
   {
    "duration": 285,
    "start_time": "2022-12-16T06:49:34.763Z"
   },
   {
    "duration": 295,
    "start_time": "2022-12-16T06:49:35.049Z"
   },
   {
    "duration": 48,
    "start_time": "2022-12-16T06:49:35.348Z"
   },
   {
    "duration": 31,
    "start_time": "2022-12-16T06:49:35.398Z"
   },
   {
    "duration": 28,
    "start_time": "2022-12-16T06:49:35.431Z"
   },
   {
    "duration": 191,
    "start_time": "2022-12-16T06:49:35.461Z"
   },
   {
    "duration": 4,
    "start_time": "2022-12-16T06:49:35.654Z"
   },
   {
    "duration": 690,
    "start_time": "2022-12-16T06:49:35.659Z"
   },
   {
    "duration": 390,
    "start_time": "2022-12-16T06:49:36.351Z"
   },
   {
    "duration": 86459,
    "start_time": "2022-12-16T06:49:36.743Z"
   },
   {
    "duration": 97206,
    "start_time": "2022-12-16T06:51:03.204Z"
   },
   {
    "duration": 89197,
    "start_time": "2022-12-16T06:52:40.413Z"
   },
   {
    "duration": 77568,
    "start_time": "2022-12-16T06:54:09.701Z"
   },
   {
    "duration": 5141,
    "start_time": "2022-12-16T06:55:27.270Z"
   },
   {
    "duration": 232218,
    "start_time": "2022-12-16T06:55:32.413Z"
   },
   {
    "duration": 17789,
    "start_time": "2022-12-16T06:59:24.633Z"
   },
   {
    "duration": 58986,
    "start_time": "2022-12-16T06:59:42.423Z"
   },
   {
    "duration": 19587,
    "start_time": "2022-12-16T07:00:41.411Z"
   },
   {
    "duration": 265,
    "start_time": "2022-12-16T07:01:01.000Z"
   },
   {
    "duration": 4552,
    "start_time": "2022-12-16T07:01:01.267Z"
   },
   {
    "duration": 117,
    "start_time": "2022-12-16T07:01:05.820Z"
   },
   {
    "duration": 19,
    "start_time": "2022-12-16T07:01:05.939Z"
   },
   {
    "duration": 0,
    "start_time": "2022-12-16T07:01:05.960Z"
   },
   {
    "duration": 0,
    "start_time": "2022-12-16T07:01:05.961Z"
   },
   {
    "duration": 0,
    "start_time": "2022-12-16T07:01:05.963Z"
   },
   {
    "duration": 0,
    "start_time": "2022-12-16T07:01:05.964Z"
   },
   {
    "duration": 0,
    "start_time": "2022-12-16T07:01:05.965Z"
   },
   {
    "duration": 0,
    "start_time": "2022-12-16T07:01:05.967Z"
   },
   {
    "duration": 0,
    "start_time": "2022-12-16T07:01:05.969Z"
   },
   {
    "duration": 0,
    "start_time": "2022-12-16T07:01:05.970Z"
   },
   {
    "duration": 0,
    "start_time": "2022-12-16T07:01:05.971Z"
   },
   {
    "duration": 0,
    "start_time": "2022-12-16T07:01:05.997Z"
   },
   {
    "duration": 0,
    "start_time": "2022-12-16T07:01:05.999Z"
   },
   {
    "duration": 0,
    "start_time": "2022-12-16T07:01:06.000Z"
   },
   {
    "duration": 0,
    "start_time": "2022-12-16T07:01:06.001Z"
   },
   {
    "duration": 14,
    "start_time": "2022-12-16T07:22:14.663Z"
   },
   {
    "duration": 14,
    "start_time": "2022-12-16T07:22:28.800Z"
   },
   {
    "duration": 19,
    "start_time": "2022-12-16T07:22:54.816Z"
   },
   {
    "duration": 20,
    "start_time": "2022-12-16T07:23:12.113Z"
   },
   {
    "duration": 293,
    "start_time": "2022-12-16T07:23:24.209Z"
   },
   {
    "duration": 1308,
    "start_time": "2022-12-16T07:23:34.775Z"
   },
   {
    "duration": 750,
    "start_time": "2022-12-16T07:23:36.086Z"
   },
   {
    "duration": 590,
    "start_time": "2022-12-16T07:23:36.837Z"
   },
   {
    "duration": 100,
    "start_time": "2022-12-16T07:23:37.429Z"
   },
   {
    "duration": 101,
    "start_time": "2022-12-16T07:23:37.530Z"
   },
   {
    "duration": 100,
    "start_time": "2022-12-16T07:23:37.633Z"
   },
   {
    "duration": 182,
    "start_time": "2022-12-16T07:23:37.735Z"
   },
   {
    "duration": 321,
    "start_time": "2022-12-16T07:23:37.919Z"
   },
   {
    "duration": 387,
    "start_time": "2022-12-16T07:23:38.242Z"
   },
   {
    "duration": 8,
    "start_time": "2022-12-16T07:23:38.631Z"
   },
   {
    "duration": 312,
    "start_time": "2022-12-16T07:23:38.640Z"
   },
   {
    "duration": 11,
    "start_time": "2022-12-16T07:23:38.953Z"
   },
   {
    "duration": 75,
    "start_time": "2022-12-16T07:23:38.966Z"
   },
   {
    "duration": 313,
    "start_time": "2022-12-16T07:23:39.043Z"
   },
   {
    "duration": 60,
    "start_time": "2022-12-16T07:23:39.357Z"
   },
   {
    "duration": 13,
    "start_time": "2022-12-16T07:23:39.418Z"
   },
   {
    "duration": 284,
    "start_time": "2022-12-16T07:23:39.432Z"
   },
   {
    "duration": 57,
    "start_time": "2022-12-16T07:23:39.717Z"
   },
   {
    "duration": 36,
    "start_time": "2022-12-16T07:23:39.775Z"
   },
   {
    "duration": 66,
    "start_time": "2022-12-16T07:23:39.812Z"
   },
   {
    "duration": 48,
    "start_time": "2022-12-16T07:23:39.880Z"
   },
   {
    "duration": 2135,
    "start_time": "2022-12-16T07:23:39.929Z"
   },
   {
    "duration": 1527,
    "start_time": "2022-12-16T07:23:42.066Z"
   },
   {
    "duration": 36,
    "start_time": "2022-12-16T07:23:43.596Z"
   },
   {
    "duration": 295,
    "start_time": "2022-12-16T07:23:43.633Z"
   },
   {
    "duration": 275,
    "start_time": "2022-12-16T07:23:43.929Z"
   },
   {
    "duration": 276,
    "start_time": "2022-12-16T07:23:44.205Z"
   },
   {
    "duration": 49,
    "start_time": "2022-12-16T07:23:44.485Z"
   },
   {
    "duration": 32,
    "start_time": "2022-12-16T07:23:44.536Z"
   },
   {
    "duration": 45,
    "start_time": "2022-12-16T07:23:44.570Z"
   },
   {
    "duration": 66,
    "start_time": "2022-12-16T07:23:44.617Z"
   },
   {
    "duration": 3,
    "start_time": "2022-12-16T07:23:44.697Z"
   },
   {
    "duration": 658,
    "start_time": "2022-12-16T07:23:44.701Z"
   },
   {
    "duration": 375,
    "start_time": "2022-12-16T07:23:45.361Z"
   },
   {
    "duration": 84364,
    "start_time": "2022-12-16T07:23:45.738Z"
   },
   {
    "duration": 92817,
    "start_time": "2022-12-16T07:25:10.104Z"
   },
   {
    "duration": 91098,
    "start_time": "2022-12-16T07:26:42.922Z"
   },
   {
    "duration": 78106,
    "start_time": "2022-12-16T07:28:14.097Z"
   },
   {
    "duration": 5031,
    "start_time": "2022-12-16T07:29:32.205Z"
   },
   {
    "duration": 226602,
    "start_time": "2022-12-16T07:29:37.238Z"
   },
   {
    "duration": 17790,
    "start_time": "2022-12-16T07:33:23.841Z"
   },
   {
    "duration": 61768,
    "start_time": "2022-12-16T07:33:41.634Z"
   },
   {
    "duration": 19294,
    "start_time": "2022-12-16T07:34:43.404Z"
   },
   {
    "duration": 602,
    "start_time": "2022-12-16T07:35:02.700Z"
   },
   {
    "duration": 4643,
    "start_time": "2022-12-16T07:35:03.304Z"
   },
   {
    "duration": 110,
    "start_time": "2022-12-16T07:35:07.949Z"
   },
   {
    "duration": 116,
    "start_time": "2022-12-16T07:35:08.061Z"
   },
   {
    "duration": 0,
    "start_time": "2022-12-16T07:35:08.179Z"
   },
   {
    "duration": 0,
    "start_time": "2022-12-16T07:35:08.181Z"
   },
   {
    "duration": 0,
    "start_time": "2022-12-16T07:35:08.181Z"
   },
   {
    "duration": 0,
    "start_time": "2022-12-16T07:35:08.182Z"
   },
   {
    "duration": 0,
    "start_time": "2022-12-16T07:35:08.196Z"
   },
   {
    "duration": 0,
    "start_time": "2022-12-16T07:35:08.197Z"
   },
   {
    "duration": 0,
    "start_time": "2022-12-16T07:35:08.199Z"
   },
   {
    "duration": 0,
    "start_time": "2022-12-16T07:35:08.200Z"
   },
   {
    "duration": 0,
    "start_time": "2022-12-16T07:35:08.201Z"
   },
   {
    "duration": 0,
    "start_time": "2022-12-16T07:35:08.202Z"
   },
   {
    "duration": 0,
    "start_time": "2022-12-16T07:35:08.203Z"
   },
   {
    "duration": 0,
    "start_time": "2022-12-16T07:35:08.204Z"
   },
   {
    "duration": 0,
    "start_time": "2022-12-16T07:35:08.205Z"
   },
   {
    "duration": 4,
    "start_time": "2022-12-16T07:39:06.024Z"
   },
   {
    "duration": 1227,
    "start_time": "2022-12-16T07:39:13.489Z"
   },
   {
    "duration": 769,
    "start_time": "2022-12-16T07:39:14.717Z"
   },
   {
    "duration": 609,
    "start_time": "2022-12-16T07:39:15.488Z"
   },
   {
    "duration": 122,
    "start_time": "2022-12-16T07:39:16.099Z"
   },
   {
    "duration": 100,
    "start_time": "2022-12-16T07:39:16.223Z"
   },
   {
    "duration": 101,
    "start_time": "2022-12-16T07:39:16.324Z"
   },
   {
    "duration": 188,
    "start_time": "2022-12-16T07:39:16.427Z"
   },
   {
    "duration": 319,
    "start_time": "2022-12-16T07:39:16.617Z"
   },
   {
    "duration": 404,
    "start_time": "2022-12-16T07:39:16.938Z"
   },
   {
    "duration": 8,
    "start_time": "2022-12-16T07:39:17.344Z"
   },
   {
    "duration": 334,
    "start_time": "2022-12-16T07:39:17.354Z"
   },
   {
    "duration": 15,
    "start_time": "2022-12-16T07:39:17.690Z"
   },
   {
    "duration": 64,
    "start_time": "2022-12-16T07:39:17.706Z"
   },
   {
    "duration": 343,
    "start_time": "2022-12-16T07:39:17.771Z"
   },
   {
    "duration": 57,
    "start_time": "2022-12-16T07:39:18.116Z"
   },
   {
    "duration": 22,
    "start_time": "2022-12-16T07:39:18.174Z"
   },
   {
    "duration": 292,
    "start_time": "2022-12-16T07:39:18.198Z"
   },
   {
    "duration": 65,
    "start_time": "2022-12-16T07:39:18.491Z"
   },
   {
    "duration": 41,
    "start_time": "2022-12-16T07:39:18.557Z"
   },
   {
    "duration": 75,
    "start_time": "2022-12-16T07:39:18.599Z"
   },
   {
    "duration": 40,
    "start_time": "2022-12-16T07:39:18.675Z"
   },
   {
    "duration": 2251,
    "start_time": "2022-12-16T07:39:18.716Z"
   },
   {
    "duration": 1738,
    "start_time": "2022-12-16T07:39:20.969Z"
   },
   {
    "duration": 40,
    "start_time": "2022-12-16T07:39:22.709Z"
   },
   {
    "duration": 280,
    "start_time": "2022-12-16T07:39:22.750Z"
   },
   {
    "duration": 269,
    "start_time": "2022-12-16T07:39:23.031Z"
   },
   {
    "duration": 283,
    "start_time": "2022-12-16T07:39:23.302Z"
   },
   {
    "duration": 38,
    "start_time": "2022-12-16T07:39:23.597Z"
   },
   {
    "duration": 40,
    "start_time": "2022-12-16T07:39:23.637Z"
   },
   {
    "duration": 43,
    "start_time": "2022-12-16T07:39:23.679Z"
   },
   {
    "duration": 92,
    "start_time": "2022-12-16T07:39:23.723Z"
   },
   {
    "duration": 3,
    "start_time": "2022-12-16T07:39:23.816Z"
   },
   {
    "duration": 645,
    "start_time": "2022-12-16T07:39:23.821Z"
   },
   {
    "duration": 390,
    "start_time": "2022-12-16T07:39:24.467Z"
   },
   {
    "duration": 1339,
    "start_time": "2022-12-17T05:09:17.887Z"
   },
   {
    "duration": 778,
    "start_time": "2022-12-17T05:09:19.228Z"
   },
   {
    "duration": 590,
    "start_time": "2022-12-17T05:09:20.008Z"
   },
   {
    "duration": 102,
    "start_time": "2022-12-17T05:09:20.601Z"
   },
   {
    "duration": 100,
    "start_time": "2022-12-17T05:09:20.705Z"
   },
   {
    "duration": 96,
    "start_time": "2022-12-17T05:09:20.807Z"
   },
   {
    "duration": 174,
    "start_time": "2022-12-17T05:09:20.905Z"
   },
   {
    "duration": 317,
    "start_time": "2022-12-17T05:09:21.081Z"
   },
   {
    "duration": 387,
    "start_time": "2022-12-17T05:09:21.400Z"
   },
   {
    "duration": 8,
    "start_time": "2022-12-17T05:09:21.789Z"
   },
   {
    "duration": 310,
    "start_time": "2022-12-17T05:09:21.798Z"
   },
   {
    "duration": 19,
    "start_time": "2022-12-17T05:09:22.109Z"
   },
   {
    "duration": 64,
    "start_time": "2022-12-17T05:09:22.130Z"
   },
   {
    "duration": 320,
    "start_time": "2022-12-17T05:09:22.196Z"
   },
   {
    "duration": 55,
    "start_time": "2022-12-17T05:09:22.521Z"
   },
   {
    "duration": 13,
    "start_time": "2022-12-17T05:09:22.578Z"
   },
   {
    "duration": 286,
    "start_time": "2022-12-17T05:09:22.593Z"
   },
   {
    "duration": 70,
    "start_time": "2022-12-17T05:09:22.881Z"
   },
   {
    "duration": 24,
    "start_time": "2022-12-17T05:09:22.952Z"
   },
   {
    "duration": 80,
    "start_time": "2022-12-17T05:09:22.977Z"
   },
   {
    "duration": 26,
    "start_time": "2022-12-17T05:09:23.059Z"
   },
   {
    "duration": 2187,
    "start_time": "2022-12-17T05:09:23.087Z"
   },
   {
    "duration": 1576,
    "start_time": "2022-12-17T05:09:25.275Z"
   },
   {
    "duration": 38,
    "start_time": "2022-12-17T05:09:26.853Z"
   },
   {
    "duration": 299,
    "start_time": "2022-12-17T05:09:26.893Z"
   },
   {
    "duration": 275,
    "start_time": "2022-12-17T05:09:27.194Z"
   },
   {
    "duration": 281,
    "start_time": "2022-12-17T05:09:27.471Z"
   },
   {
    "duration": 38,
    "start_time": "2022-12-17T05:09:27.756Z"
   },
   {
    "duration": 42,
    "start_time": "2022-12-17T05:09:27.796Z"
   },
   {
    "duration": 36,
    "start_time": "2022-12-17T05:09:27.840Z"
   },
   {
    "duration": 86,
    "start_time": "2022-12-17T05:09:27.878Z"
   },
   {
    "duration": 3,
    "start_time": "2022-12-17T05:09:27.966Z"
   },
   {
    "duration": 632,
    "start_time": "2022-12-17T05:09:27.970Z"
   },
   {
    "duration": 381,
    "start_time": "2022-12-17T05:09:28.603Z"
   },
   {
    "duration": 82346,
    "start_time": "2022-12-17T05:09:28.986Z"
   },
   {
    "duration": 111212,
    "start_time": "2022-12-17T05:10:51.334Z"
   },
   {
    "duration": 100893,
    "start_time": "2022-12-17T05:12:42.549Z"
   },
   {
    "duration": 79029,
    "start_time": "2022-12-17T05:14:23.444Z"
   },
   {
    "duration": 5023,
    "start_time": "2022-12-17T05:15:42.474Z"
   },
   {
    "duration": 232395,
    "start_time": "2022-12-17T05:15:47.498Z"
   },
   {
    "duration": 18289,
    "start_time": "2022-12-17T05:19:39.895Z"
   },
   {
    "duration": 53941,
    "start_time": "2022-12-17T05:19:58.186Z"
   },
   {
    "duration": 20903,
    "start_time": "2022-12-17T05:20:52.129Z"
   },
   {
    "duration": 600,
    "start_time": "2022-12-17T05:21:13.123Z"
   },
   {
    "duration": 4716,
    "start_time": "2022-12-17T05:21:13.725Z"
   },
   {
    "duration": 110,
    "start_time": "2022-12-17T05:21:18.443Z"
   },
   {
    "duration": 4,
    "start_time": "2022-12-17T05:21:18.554Z"
   },
   {
    "duration": 297,
    "start_time": "2022-12-17T05:21:18.559Z"
   },
   {
    "duration": 12,
    "start_time": "2022-12-17T05:21:18.858Z"
   },
   {
    "duration": 131,
    "start_time": "2022-12-17T05:21:18.872Z"
   },
   {
    "duration": 0,
    "start_time": "2022-12-17T05:21:19.004Z"
   },
   {
    "duration": 0,
    "start_time": "2022-12-17T05:21:19.006Z"
   },
   {
    "duration": 0,
    "start_time": "2022-12-17T05:21:19.007Z"
   },
   {
    "duration": 0,
    "start_time": "2022-12-17T05:21:19.009Z"
   },
   {
    "duration": 0,
    "start_time": "2022-12-17T05:21:19.010Z"
   },
   {
    "duration": 0,
    "start_time": "2022-12-17T05:21:19.022Z"
   },
   {
    "duration": 0,
    "start_time": "2022-12-17T05:21:19.023Z"
   },
   {
    "duration": 0,
    "start_time": "2022-12-17T05:21:19.024Z"
   },
   {
    "duration": 0,
    "start_time": "2022-12-17T05:21:19.025Z"
   },
   {
    "duration": 0,
    "start_time": "2022-12-17T05:21:19.026Z"
   },
   {
    "duration": 1423,
    "start_time": "2022-12-17T08:36:36.224Z"
   },
   {
    "duration": 1260,
    "start_time": "2022-12-17T08:36:37.650Z"
   },
   {
    "duration": 666,
    "start_time": "2022-12-17T08:36:38.926Z"
   },
   {
    "duration": 141,
    "start_time": "2022-12-17T08:36:39.594Z"
   },
   {
    "duration": 132,
    "start_time": "2022-12-17T08:36:39.739Z"
   },
   {
    "duration": 110,
    "start_time": "2022-12-17T08:36:39.872Z"
   },
   {
    "duration": 194,
    "start_time": "2022-12-17T08:36:39.984Z"
   },
   {
    "duration": 363,
    "start_time": "2022-12-17T08:36:40.180Z"
   },
   {
    "duration": 639,
    "start_time": "2022-12-17T08:36:40.545Z"
   },
   {
    "duration": 11,
    "start_time": "2022-12-17T08:36:41.186Z"
   },
   {
    "duration": 435,
    "start_time": "2022-12-17T08:36:41.198Z"
   },
   {
    "duration": 13,
    "start_time": "2022-12-17T08:36:41.634Z"
   },
   {
    "duration": 102,
    "start_time": "2022-12-17T08:36:41.649Z"
   },
   {
    "duration": 294,
    "start_time": "2022-12-17T08:36:41.755Z"
   },
   {
    "duration": 75,
    "start_time": "2022-12-17T08:36:42.051Z"
   },
   {
    "duration": 72,
    "start_time": "2022-12-17T08:36:42.128Z"
   },
   {
    "duration": 374,
    "start_time": "2022-12-17T08:36:42.203Z"
   },
   {
    "duration": 81,
    "start_time": "2022-12-17T08:36:42.579Z"
   },
   {
    "duration": 30,
    "start_time": "2022-12-17T08:36:42.661Z"
   },
   {
    "duration": 99,
    "start_time": "2022-12-17T08:36:42.692Z"
   },
   {
    "duration": 46,
    "start_time": "2022-12-17T08:36:42.792Z"
   },
   {
    "duration": 2560,
    "start_time": "2022-12-17T08:36:42.840Z"
   },
   {
    "duration": 1958,
    "start_time": "2022-12-17T08:36:45.402Z"
   },
   {
    "duration": 44,
    "start_time": "2022-12-17T08:36:47.362Z"
   },
   {
    "duration": 366,
    "start_time": "2022-12-17T08:36:47.408Z"
   },
   {
    "duration": 341,
    "start_time": "2022-12-17T08:36:47.776Z"
   },
   {
    "duration": 341,
    "start_time": "2022-12-17T08:36:48.120Z"
   },
   {
    "duration": 57,
    "start_time": "2022-12-17T08:36:48.463Z"
   },
   {
    "duration": 44,
    "start_time": "2022-12-17T08:36:48.526Z"
   },
   {
    "duration": 66,
    "start_time": "2022-12-17T08:36:48.572Z"
   },
   {
    "duration": 211,
    "start_time": "2022-12-17T08:36:48.640Z"
   },
   {
    "duration": 4,
    "start_time": "2022-12-17T08:36:48.853Z"
   },
   {
    "duration": 808,
    "start_time": "2022-12-17T08:36:48.859Z"
   },
   {
    "duration": 454,
    "start_time": "2022-12-17T08:36:49.670Z"
   },
   {
    "duration": 272318,
    "start_time": "2022-12-17T08:36:50.126Z"
   },
   {
    "duration": 259216,
    "start_time": "2022-12-17T08:41:22.512Z"
   },
   {
    "duration": 243218,
    "start_time": "2022-12-17T08:45:41.731Z"
   },
   {
    "duration": 87029,
    "start_time": "2022-12-17T08:49:45.013Z"
   },
   {
    "duration": 6257,
    "start_time": "2022-12-17T08:51:12.044Z"
   },
   {
    "duration": 276962,
    "start_time": "2022-12-17T08:51:18.303Z"
   },
   {
    "duration": 21871,
    "start_time": "2022-12-17T08:55:55.270Z"
   },
   {
    "duration": 671685,
    "start_time": "2022-12-17T08:56:17.143Z"
   },
   {
    "duration": 47388,
    "start_time": "2022-12-17T09:07:28.830Z"
   },
   {
    "duration": 694,
    "start_time": "2022-12-17T09:08:16.226Z"
   },
   {
    "duration": 5086,
    "start_time": "2022-12-17T09:08:16.922Z"
   },
   {
    "duration": 127,
    "start_time": "2022-12-17T09:08:22.009Z"
   },
   {
    "duration": 4,
    "start_time": "2022-12-17T09:08:22.137Z"
   },
   {
    "duration": 366,
    "start_time": "2022-12-17T09:08:22.142Z"
   },
   {
    "duration": 23,
    "start_time": "2022-12-17T09:08:22.509Z"
   },
   {
    "duration": 132,
    "start_time": "2022-12-17T09:08:22.533Z"
   },
   {
    "duration": 0,
    "start_time": "2022-12-17T09:08:22.667Z"
   },
   {
    "duration": 0,
    "start_time": "2022-12-17T09:08:22.668Z"
   },
   {
    "duration": 0,
    "start_time": "2022-12-17T09:08:22.669Z"
   },
   {
    "duration": 0,
    "start_time": "2022-12-17T09:08:22.670Z"
   },
   {
    "duration": 0,
    "start_time": "2022-12-17T09:08:22.671Z"
   },
   {
    "duration": 0,
    "start_time": "2022-12-17T09:08:22.672Z"
   },
   {
    "duration": 0,
    "start_time": "2022-12-17T09:08:22.673Z"
   },
   {
    "duration": 0,
    "start_time": "2022-12-17T09:08:22.675Z"
   },
   {
    "duration": 0,
    "start_time": "2022-12-17T09:08:22.676Z"
   },
   {
    "duration": 0,
    "start_time": "2022-12-17T09:08:22.678Z"
   },
   {
    "duration": 4,
    "start_time": "2022-12-17T10:13:20.735Z"
   },
   {
    "duration": 1332,
    "start_time": "2022-12-17T10:13:29.438Z"
   },
   {
    "duration": 938,
    "start_time": "2022-12-17T10:13:30.773Z"
   },
   {
    "duration": 728,
    "start_time": "2022-12-17T10:13:31.715Z"
   },
   {
    "duration": 119,
    "start_time": "2022-12-17T10:13:32.445Z"
   },
   {
    "duration": 112,
    "start_time": "2022-12-17T10:13:32.567Z"
   },
   {
    "duration": 140,
    "start_time": "2022-12-17T10:13:32.681Z"
   },
   {
    "duration": 232,
    "start_time": "2022-12-17T10:13:32.830Z"
   },
   {
    "duration": 416,
    "start_time": "2022-12-17T10:13:33.064Z"
   },
   {
    "duration": 494,
    "start_time": "2022-12-17T10:13:33.482Z"
   },
   {
    "duration": 9,
    "start_time": "2022-12-17T10:13:33.978Z"
   },
   {
    "duration": 399,
    "start_time": "2022-12-17T10:13:33.988Z"
   },
   {
    "duration": 12,
    "start_time": "2022-12-17T10:13:34.389Z"
   },
   {
    "duration": 84,
    "start_time": "2022-12-17T10:13:34.403Z"
   },
   {
    "duration": 401,
    "start_time": "2022-12-17T10:13:34.491Z"
   },
   {
    "duration": 92,
    "start_time": "2022-12-17T10:13:34.894Z"
   },
   {
    "duration": 38,
    "start_time": "2022-12-17T10:13:34.988Z"
   },
   {
    "duration": 355,
    "start_time": "2022-12-17T10:13:35.028Z"
   },
   {
    "duration": 95,
    "start_time": "2022-12-17T10:13:35.385Z"
   },
   {
    "duration": 47,
    "start_time": "2022-12-17T10:13:35.482Z"
   },
   {
    "duration": 106,
    "start_time": "2022-12-17T10:13:35.531Z"
   },
   {
    "duration": 33,
    "start_time": "2022-12-17T10:13:35.639Z"
   },
   {
    "duration": 2809,
    "start_time": "2022-12-17T10:13:35.674Z"
   },
   {
    "duration": 2003,
    "start_time": "2022-12-17T10:13:38.484Z"
   },
   {
    "duration": 50,
    "start_time": "2022-12-17T10:13:40.488Z"
   },
   {
    "duration": 342,
    "start_time": "2022-12-17T10:13:40.541Z"
   },
   {
    "duration": 311,
    "start_time": "2022-12-17T10:13:40.885Z"
   },
   {
    "duration": 344,
    "start_time": "2022-12-17T10:13:41.197Z"
   },
   {
    "duration": 45,
    "start_time": "2022-12-17T10:13:41.543Z"
   },
   {
    "duration": 60,
    "start_time": "2022-12-17T10:13:41.590Z"
   },
   {
    "duration": 47,
    "start_time": "2022-12-17T10:13:41.651Z"
   },
   {
    "duration": 78,
    "start_time": "2022-12-17T10:13:41.700Z"
   },
   {
    "duration": 4,
    "start_time": "2022-12-17T10:13:41.780Z"
   },
   {
    "duration": 836,
    "start_time": "2022-12-17T10:13:41.785Z"
   },
   {
    "duration": 467,
    "start_time": "2022-12-17T10:13:42.627Z"
   },
   {
    "duration": 278821,
    "start_time": "2022-12-17T10:13:43.096Z"
   },
   {
    "duration": 235645,
    "start_time": "2022-12-17T10:18:21.924Z"
   },
   {
    "duration": 1320,
    "start_time": "2022-12-17T10:24:51.967Z"
   },
   {
    "duration": 899,
    "start_time": "2022-12-17T10:24:53.289Z"
   },
   {
    "duration": 673,
    "start_time": "2022-12-17T10:24:54.190Z"
   },
   {
    "duration": 135,
    "start_time": "2022-12-17T10:24:54.865Z"
   },
   {
    "duration": 106,
    "start_time": "2022-12-17T10:24:55.002Z"
   },
   {
    "duration": 115,
    "start_time": "2022-12-17T10:24:55.113Z"
   },
   {
    "duration": 220,
    "start_time": "2022-12-17T10:24:55.229Z"
   },
   {
    "duration": 384,
    "start_time": "2022-12-17T10:24:55.450Z"
   },
   {
    "duration": 451,
    "start_time": "2022-12-17T10:24:55.836Z"
   },
   {
    "duration": 9,
    "start_time": "2022-12-17T10:24:56.289Z"
   },
   {
    "duration": 465,
    "start_time": "2022-12-17T10:24:56.299Z"
   },
   {
    "duration": 13,
    "start_time": "2022-12-17T10:24:56.767Z"
   },
   {
    "duration": 103,
    "start_time": "2022-12-17T10:24:56.782Z"
   },
   {
    "duration": 384,
    "start_time": "2022-12-17T10:24:56.887Z"
   },
   {
    "duration": 78,
    "start_time": "2022-12-17T10:24:57.273Z"
   },
   {
    "duration": 24,
    "start_time": "2022-12-17T10:24:57.353Z"
   },
   {
    "duration": 316,
    "start_time": "2022-12-17T10:24:57.379Z"
   },
   {
    "duration": 81,
    "start_time": "2022-12-17T10:24:57.696Z"
   },
   {
    "duration": 40,
    "start_time": "2022-12-17T10:24:57.779Z"
   },
   {
    "duration": 86,
    "start_time": "2022-12-17T10:24:57.823Z"
   },
   {
    "duration": 36,
    "start_time": "2022-12-17T10:24:57.911Z"
   },
   {
    "duration": 2580,
    "start_time": "2022-12-17T10:24:57.949Z"
   },
   {
    "duration": 1966,
    "start_time": "2022-12-17T10:25:00.533Z"
   },
   {
    "duration": 58,
    "start_time": "2022-12-17T10:25:02.500Z"
   },
   {
    "duration": 333,
    "start_time": "2022-12-17T10:25:02.560Z"
   },
   {
    "duration": 334,
    "start_time": "2022-12-17T10:25:02.895Z"
   },
   {
    "duration": 325,
    "start_time": "2022-12-17T10:25:03.235Z"
   },
   {
    "duration": 64,
    "start_time": "2022-12-17T10:25:03.563Z"
   },
   {
    "duration": 44,
    "start_time": "2022-12-17T10:25:03.632Z"
   },
   {
    "duration": 54,
    "start_time": "2022-12-17T10:25:03.678Z"
   },
   {
    "duration": 91,
    "start_time": "2022-12-17T10:25:03.734Z"
   },
   {
    "duration": 4,
    "start_time": "2022-12-17T10:25:03.831Z"
   },
   {
    "duration": 738,
    "start_time": "2022-12-17T10:25:03.837Z"
   },
   {
    "duration": 450,
    "start_time": "2022-12-17T10:25:04.577Z"
   },
   {
    "duration": 1264,
    "start_time": "2022-12-17T10:25:31.167Z"
   },
   {
    "duration": 929,
    "start_time": "2022-12-17T10:25:32.434Z"
   },
   {
    "duration": 743,
    "start_time": "2022-12-17T10:25:33.364Z"
   },
   {
    "duration": 129,
    "start_time": "2022-12-17T10:25:34.109Z"
   },
   {
    "duration": 111,
    "start_time": "2022-12-17T10:25:34.240Z"
   },
   {
    "duration": 113,
    "start_time": "2022-12-17T10:25:34.353Z"
   },
   {
    "duration": 221,
    "start_time": "2022-12-17T10:25:34.468Z"
   },
   {
    "duration": 397,
    "start_time": "2022-12-17T10:25:34.691Z"
   },
   {
    "duration": 491,
    "start_time": "2022-12-17T10:25:35.090Z"
   },
   {
    "duration": 10,
    "start_time": "2022-12-17T10:25:35.587Z"
   },
   {
    "duration": 442,
    "start_time": "2022-12-17T10:25:35.599Z"
   },
   {
    "duration": 16,
    "start_time": "2022-12-17T10:25:36.044Z"
   },
   {
    "duration": 110,
    "start_time": "2022-12-17T10:25:36.062Z"
   },
   {
    "duration": 484,
    "start_time": "2022-12-17T10:25:36.174Z"
   },
   {
    "duration": 99,
    "start_time": "2022-12-17T10:25:36.660Z"
   },
   {
    "duration": 18,
    "start_time": "2022-12-17T10:25:36.761Z"
   },
   {
    "duration": 415,
    "start_time": "2022-12-17T10:25:36.781Z"
   },
   {
    "duration": 86,
    "start_time": "2022-12-17T10:25:37.198Z"
   },
   {
    "duration": 45,
    "start_time": "2022-12-17T10:25:37.285Z"
   },
   {
    "duration": 72,
    "start_time": "2022-12-17T10:25:37.332Z"
   },
   {
    "duration": 55,
    "start_time": "2022-12-17T10:25:37.406Z"
   },
   {
    "duration": 2702,
    "start_time": "2022-12-17T10:25:37.463Z"
   },
   {
    "duration": 2104,
    "start_time": "2022-12-17T10:25:40.168Z"
   },
   {
    "duration": 54,
    "start_time": "2022-12-17T10:25:42.273Z"
   },
   {
    "duration": 361,
    "start_time": "2022-12-17T10:25:42.331Z"
   },
   {
    "duration": 371,
    "start_time": "2022-12-17T10:25:42.694Z"
   },
   {
    "duration": 374,
    "start_time": "2022-12-17T10:25:43.068Z"
   },
   {
    "duration": 46,
    "start_time": "2022-12-17T10:25:43.448Z"
   },
   {
    "duration": 70,
    "start_time": "2022-12-17T10:25:43.496Z"
   },
   {
    "duration": 87,
    "start_time": "2022-12-17T10:25:43.568Z"
   },
   {
    "duration": 103,
    "start_time": "2022-12-17T10:25:43.657Z"
   },
   {
    "duration": 3,
    "start_time": "2022-12-17T10:25:43.762Z"
   },
   {
    "duration": 757,
    "start_time": "2022-12-17T10:25:43.767Z"
   },
   {
    "duration": 484,
    "start_time": "2022-12-17T10:25:44.526Z"
   },
   {
    "duration": 279836,
    "start_time": "2022-12-17T10:25:45.014Z"
   },
   {
    "duration": 299887,
    "start_time": "2022-12-17T10:30:24.852Z"
   },
   {
    "duration": 253610,
    "start_time": "2022-12-17T10:35:24.741Z"
   },
   {
    "duration": 87033,
    "start_time": "2022-12-17T10:39:38.420Z"
   },
   {
    "duration": 5644,
    "start_time": "2022-12-17T10:41:05.455Z"
   },
   {
    "duration": 262419,
    "start_time": "2022-12-17T10:41:11.101Z"
   },
   {
    "duration": 21126,
    "start_time": "2022-12-17T10:45:33.521Z"
   },
   {
    "duration": 685372,
    "start_time": "2022-12-17T10:45:54.649Z"
   },
   {
    "duration": 47400,
    "start_time": "2022-12-17T10:57:20.022Z"
   },
   {
    "duration": 601,
    "start_time": "2022-12-17T10:58:07.423Z"
   },
   {
    "duration": 5212,
    "start_time": "2022-12-17T10:58:08.030Z"
   },
   {
    "duration": 328,
    "start_time": "2022-12-17T10:58:13.244Z"
   },
   {
    "duration": 4,
    "start_time": "2022-12-17T10:58:13.574Z"
   },
   {
    "duration": 333,
    "start_time": "2022-12-17T10:58:13.580Z"
   },
   {
    "duration": 464,
    "start_time": "2022-12-17T10:58:13.915Z"
   },
   {
    "duration": 4,
    "start_time": "2022-12-17T10:58:14.381Z"
   },
   {
    "duration": 20406,
    "start_time": "2022-12-17T10:58:14.387Z"
   },
   {
    "duration": 59,
    "start_time": "2022-12-17T10:58:34.795Z"
   },
   {
    "duration": 4,
    "start_time": "2022-12-17T10:58:34.856Z"
   },
   {
    "duration": 5027,
    "start_time": "2022-12-17T10:58:34.861Z"
   },
   {
    "duration": 55,
    "start_time": "2022-12-17T10:58:39.889Z"
   },
   {
    "duration": 4,
    "start_time": "2022-12-17T10:58:39.945Z"
   },
   {
    "duration": 49572,
    "start_time": "2022-12-17T10:58:39.950Z"
   },
   {
    "duration": 504,
    "start_time": "2022-12-17T10:59:29.524Z"
   },
   {
    "duration": 5,
    "start_time": "2022-12-17T10:59:30.030Z"
   },
   {
    "duration": 89,
    "start_time": "2022-12-17T10:59:30.037Z"
   },
   {
    "duration": 1408,
    "start_time": "2022-12-19T07:15:30.828Z"
   },
   {
    "duration": 3101,
    "start_time": "2022-12-19T07:15:32.239Z"
   },
   {
    "duration": 662,
    "start_time": "2022-12-19T07:15:35.341Z"
   },
   {
    "duration": 147,
    "start_time": "2022-12-19T07:15:36.006Z"
   },
   {
    "duration": 112,
    "start_time": "2022-12-19T07:15:36.155Z"
   },
   {
    "duration": 122,
    "start_time": "2022-12-19T07:15:36.269Z"
   },
   {
    "duration": 213,
    "start_time": "2022-12-19T07:15:36.393Z"
   },
   {
    "duration": 382,
    "start_time": "2022-12-19T07:15:36.608Z"
   },
   {
    "duration": 635,
    "start_time": "2022-12-19T07:15:36.992Z"
   },
   {
    "duration": 22,
    "start_time": "2022-12-19T07:15:37.630Z"
   },
   {
    "duration": 448,
    "start_time": "2022-12-19T07:15:37.654Z"
   },
   {
    "duration": 12,
    "start_time": "2022-12-19T07:15:38.104Z"
   },
   {
    "duration": 102,
    "start_time": "2022-12-19T07:15:38.117Z"
   },
   {
    "duration": 277,
    "start_time": "2022-12-19T07:15:38.221Z"
   },
   {
    "duration": 73,
    "start_time": "2022-12-19T07:15:38.500Z"
   },
   {
    "duration": 49,
    "start_time": "2022-12-19T07:15:38.575Z"
   },
   {
    "duration": 308,
    "start_time": "2022-12-19T07:15:38.625Z"
   },
   {
    "duration": 85,
    "start_time": "2022-12-19T07:15:38.934Z"
   },
   {
    "duration": 46,
    "start_time": "2022-12-19T07:15:39.021Z"
   },
   {
    "duration": 101,
    "start_time": "2022-12-19T07:15:39.070Z"
   },
   {
    "duration": 38,
    "start_time": "2022-12-19T07:15:39.173Z"
   },
   {
    "duration": 2623,
    "start_time": "2022-12-19T07:15:39.213Z"
   },
   {
    "duration": 1969,
    "start_time": "2022-12-19T07:15:41.837Z"
   },
   {
    "duration": 54,
    "start_time": "2022-12-19T07:15:43.808Z"
   },
   {
    "duration": 345,
    "start_time": "2022-12-19T07:15:43.864Z"
   },
   {
    "duration": 320,
    "start_time": "2022-12-19T07:15:44.212Z"
   },
   {
    "duration": 309,
    "start_time": "2022-12-19T07:15:44.533Z"
   },
   {
    "duration": 57,
    "start_time": "2022-12-19T07:15:44.859Z"
   },
   {
    "duration": 54,
    "start_time": "2022-12-19T07:15:44.918Z"
   },
   {
    "duration": 42,
    "start_time": "2022-12-19T07:15:44.974Z"
   },
   {
    "duration": 244,
    "start_time": "2022-12-19T07:15:45.019Z"
   },
   {
    "duration": 5,
    "start_time": "2022-12-19T07:15:45.265Z"
   },
   {
    "duration": 758,
    "start_time": "2022-12-19T07:15:45.272Z"
   },
   {
    "duration": 422,
    "start_time": "2022-12-19T07:15:46.032Z"
   },
   {
    "duration": 115904,
    "start_time": "2022-12-19T07:15:46.456Z"
   },
   {
    "duration": 122599,
    "start_time": "2022-12-19T07:17:42.455Z"
   },
   {
    "duration": 111996,
    "start_time": "2022-12-19T07:19:45.057Z"
   },
   {
    "duration": 84869,
    "start_time": "2022-12-19T07:21:37.055Z"
   },
   {
    "duration": 6020,
    "start_time": "2022-12-19T07:23:01.926Z"
   },
   {
    "duration": 265772,
    "start_time": "2022-12-19T07:23:07.951Z"
   },
   {
    "duration": 22559,
    "start_time": "2022-12-19T07:27:33.725Z"
   },
   {
    "duration": 167470,
    "start_time": "2022-12-19T07:27:56.286Z"
   },
   {
    "duration": 21593,
    "start_time": "2022-12-19T07:30:43.758Z"
   },
   {
    "duration": 606,
    "start_time": "2022-12-19T07:31:05.353Z"
   },
   {
    "duration": 5056,
    "start_time": "2022-12-19T07:31:05.961Z"
   },
   {
    "duration": 312,
    "start_time": "2022-12-19T07:31:11.018Z"
   },
   {
    "duration": 4,
    "start_time": "2022-12-19T07:31:11.332Z"
   },
   {
    "duration": 356,
    "start_time": "2022-12-19T07:31:11.338Z"
   },
   {
    "duration": 28,
    "start_time": "2022-12-19T07:31:11.695Z"
   },
   {
    "duration": 3,
    "start_time": "2022-12-19T07:31:11.725Z"
   },
   {
    "duration": 19566,
    "start_time": "2022-12-19T07:31:11.730Z"
   },
   {
    "duration": 152,
    "start_time": "2022-12-19T07:31:31.299Z"
   },
   {
    "duration": 4,
    "start_time": "2022-12-19T07:31:31.453Z"
   },
   {
    "duration": 4885,
    "start_time": "2022-12-19T07:31:31.460Z"
   },
   {
    "duration": 143,
    "start_time": "2022-12-19T07:31:36.346Z"
   },
   {
    "duration": 4,
    "start_time": "2022-12-19T07:31:36.491Z"
   },
   {
    "duration": 10679,
    "start_time": "2022-12-19T07:31:36.496Z"
   },
   {
    "duration": 1488,
    "start_time": "2022-12-19T07:31:47.177Z"
   },
   {
    "duration": 4,
    "start_time": "2022-12-19T07:31:48.667Z"
   },
   {
    "duration": 23,
    "start_time": "2022-12-19T07:31:48.672Z"
   },
   {
    "duration": 1426,
    "start_time": "2022-12-19T07:48:52.875Z"
   },
   {
    "duration": 894,
    "start_time": "2022-12-19T07:48:54.302Z"
   },
   {
    "duration": 721,
    "start_time": "2022-12-19T07:48:55.198Z"
   },
   {
    "duration": 132,
    "start_time": "2022-12-19T07:48:55.922Z"
   },
   {
    "duration": 114,
    "start_time": "2022-12-19T07:48:56.055Z"
   },
   {
    "duration": 128,
    "start_time": "2022-12-19T07:48:56.171Z"
   },
   {
    "duration": 210,
    "start_time": "2022-12-19T07:48:56.301Z"
   },
   {
    "duration": 369,
    "start_time": "2022-12-19T07:48:56.513Z"
   },
   {
    "duration": 439,
    "start_time": "2022-12-19T07:48:56.883Z"
   },
   {
    "duration": 9,
    "start_time": "2022-12-19T07:48:57.325Z"
   },
   {
    "duration": 353,
    "start_time": "2022-12-19T07:48:57.335Z"
   },
   {
    "duration": 13,
    "start_time": "2022-12-19T07:48:57.689Z"
   },
   {
    "duration": 91,
    "start_time": "2022-12-19T07:48:57.703Z"
   },
   {
    "duration": 371,
    "start_time": "2022-12-19T07:48:57.796Z"
   },
   {
    "duration": 67,
    "start_time": "2022-12-19T07:48:58.168Z"
   },
   {
    "duration": 19,
    "start_time": "2022-12-19T07:48:58.237Z"
   },
   {
    "duration": 319,
    "start_time": "2022-12-19T07:48:58.258Z"
   },
   {
    "duration": 85,
    "start_time": "2022-12-19T07:48:58.578Z"
   },
   {
    "duration": 32,
    "start_time": "2022-12-19T07:48:58.664Z"
   },
   {
    "duration": 105,
    "start_time": "2022-12-19T07:48:58.697Z"
   },
   {
    "duration": 30,
    "start_time": "2022-12-19T07:48:58.803Z"
   },
   {
    "duration": 2587,
    "start_time": "2022-12-19T07:48:58.834Z"
   },
   {
    "duration": 1784,
    "start_time": "2022-12-19T07:49:01.423Z"
   },
   {
    "duration": 59,
    "start_time": "2022-12-19T07:49:03.210Z"
   },
   {
    "duration": 327,
    "start_time": "2022-12-19T07:49:03.271Z"
   },
   {
    "duration": 315,
    "start_time": "2022-12-19T07:49:03.600Z"
   },
   {
    "duration": 323,
    "start_time": "2022-12-19T07:49:03.917Z"
   },
   {
    "duration": 55,
    "start_time": "2022-12-19T07:49:04.244Z"
   },
   {
    "duration": 56,
    "start_time": "2022-12-19T07:49:04.301Z"
   },
   {
    "duration": 41,
    "start_time": "2022-12-19T07:49:04.359Z"
   },
   {
    "duration": 105,
    "start_time": "2022-12-19T07:49:04.401Z"
   },
   {
    "duration": 3,
    "start_time": "2022-12-19T07:49:04.509Z"
   },
   {
    "duration": 765,
    "start_time": "2022-12-19T07:49:04.514Z"
   },
   {
    "duration": 425,
    "start_time": "2022-12-19T07:49:05.281Z"
   },
   {
    "duration": 131750,
    "start_time": "2022-12-19T07:49:05.708Z"
   },
   {
    "duration": 192893,
    "start_time": "2022-12-19T07:51:17.461Z"
   },
   {
    "duration": 276519,
    "start_time": "2022-12-19T07:54:30.450Z"
   },
   {
    "duration": 90193,
    "start_time": "2022-12-19T07:59:06.975Z"
   },
   {
    "duration": 6411,
    "start_time": "2022-12-19T08:00:37.170Z"
   },
   {
    "duration": 289390,
    "start_time": "2022-12-19T08:00:43.582Z"
   },
   {
    "duration": 25296,
    "start_time": "2022-12-19T08:05:32.974Z"
   },
   {
    "duration": 1531,
    "start_time": "2022-12-19T08:19:02.245Z"
   },
   {
    "duration": 917,
    "start_time": "2022-12-19T08:19:03.779Z"
   },
   {
    "duration": 723,
    "start_time": "2022-12-19T08:19:04.697Z"
   },
   {
    "duration": 138,
    "start_time": "2022-12-19T08:19:05.422Z"
   },
   {
    "duration": 112,
    "start_time": "2022-12-19T08:19:05.562Z"
   },
   {
    "duration": 126,
    "start_time": "2022-12-19T08:19:05.676Z"
   },
   {
    "duration": 226,
    "start_time": "2022-12-19T08:19:05.804Z"
   },
   {
    "duration": 392,
    "start_time": "2022-12-19T08:19:06.031Z"
   },
   {
    "duration": 472,
    "start_time": "2022-12-19T08:19:06.426Z"
   },
   {
    "duration": 10,
    "start_time": "2022-12-19T08:19:06.900Z"
   },
   {
    "duration": 366,
    "start_time": "2022-12-19T08:19:06.912Z"
   },
   {
    "duration": 12,
    "start_time": "2022-12-19T08:19:07.280Z"
   },
   {
    "duration": 94,
    "start_time": "2022-12-19T08:19:07.294Z"
   },
   {
    "duration": 378,
    "start_time": "2022-12-19T08:19:07.390Z"
   },
   {
    "duration": 65,
    "start_time": "2022-12-19T08:19:07.770Z"
   },
   {
    "duration": 23,
    "start_time": "2022-12-19T08:19:07.837Z"
   },
   {
    "duration": 348,
    "start_time": "2022-12-19T08:19:07.861Z"
   },
   {
    "duration": 87,
    "start_time": "2022-12-19T08:19:08.211Z"
   },
   {
    "duration": 32,
    "start_time": "2022-12-19T08:19:08.300Z"
   },
   {
    "duration": 89,
    "start_time": "2022-12-19T08:19:08.334Z"
   },
   {
    "duration": 52,
    "start_time": "2022-12-19T08:19:08.424Z"
   },
   {
    "duration": 2608,
    "start_time": "2022-12-19T08:19:08.478Z"
   },
   {
    "duration": 1796,
    "start_time": "2022-12-19T08:19:11.088Z"
   },
   {
    "duration": 69,
    "start_time": "2022-12-19T08:19:12.886Z"
   },
   {
    "duration": 351,
    "start_time": "2022-12-19T08:19:12.957Z"
   },
   {
    "duration": 330,
    "start_time": "2022-12-19T08:19:13.310Z"
   },
   {
    "duration": 327,
    "start_time": "2022-12-19T08:19:13.642Z"
   },
   {
    "duration": 51,
    "start_time": "2022-12-19T08:19:13.974Z"
   },
   {
    "duration": 60,
    "start_time": "2022-12-19T08:19:14.027Z"
   },
   {
    "duration": 40,
    "start_time": "2022-12-19T08:19:14.089Z"
   },
   {
    "duration": 125,
    "start_time": "2022-12-19T08:19:14.131Z"
   },
   {
    "duration": 3,
    "start_time": "2022-12-19T08:19:14.258Z"
   },
   {
    "duration": 772,
    "start_time": "2022-12-19T08:19:14.263Z"
   },
   {
    "duration": 432,
    "start_time": "2022-12-19T08:19:15.037Z"
   },
   {
    "duration": 149085,
    "start_time": "2022-12-19T08:19:15.472Z"
   },
   {
    "duration": 140292,
    "start_time": "2022-12-19T08:21:44.560Z"
   },
   {
    "duration": 180497,
    "start_time": "2022-12-19T08:24:04.855Z"
   },
   {
    "duration": 88214,
    "start_time": "2022-12-19T08:27:05.354Z"
   },
   {
    "duration": 6919,
    "start_time": "2022-12-19T08:28:33.570Z"
   },
   {
    "duration": 281400,
    "start_time": "2022-12-19T08:28:40.491Z"
   },
   {
    "duration": 21620,
    "start_time": "2022-12-19T08:33:21.893Z"
   },
   {
    "duration": 579540,
    "start_time": "2022-12-19T08:33:43.515Z"
   },
   {
    "duration": 26301,
    "start_time": "2022-12-19T08:43:23.057Z"
   },
   {
    "duration": 690,
    "start_time": "2022-12-19T08:43:49.361Z"
   },
   {
    "duration": 4847,
    "start_time": "2022-12-19T08:43:50.053Z"
   },
   {
    "duration": 318,
    "start_time": "2022-12-19T08:43:54.902Z"
   },
   {
    "duration": 5,
    "start_time": "2022-12-19T08:43:55.222Z"
   },
   {
    "duration": 350,
    "start_time": "2022-12-19T08:43:55.228Z"
   },
   {
    "duration": 27,
    "start_time": "2022-12-19T08:43:55.579Z"
   },
   {
    "duration": 4,
    "start_time": "2022-12-19T08:43:55.607Z"
   },
   {
    "duration": 19466,
    "start_time": "2022-12-19T08:43:55.613Z"
   },
   {
    "duration": 144,
    "start_time": "2022-12-19T08:44:15.080Z"
   },
   {
    "duration": 4,
    "start_time": "2022-12-19T08:44:15.226Z"
   },
   {
    "duration": 4973,
    "start_time": "2022-12-19T08:44:15.232Z"
   },
   {
    "duration": 132,
    "start_time": "2022-12-19T08:44:20.207Z"
   },
   {
    "duration": 12,
    "start_time": "2022-12-19T08:44:20.341Z"
   },
   {
    "duration": 8497,
    "start_time": "2022-12-19T08:44:20.355Z"
   },
   {
    "duration": 1416,
    "start_time": "2022-12-19T08:44:28.854Z"
   },
   {
    "duration": 4,
    "start_time": "2022-12-19T08:44:30.272Z"
   },
   {
    "duration": 36,
    "start_time": "2022-12-19T08:44:30.278Z"
   },
   {
    "duration": 110,
    "start_time": "2022-12-19T08:59:45.629Z"
   },
   {
    "duration": 24,
    "start_time": "2022-12-19T09:04:57.945Z"
   },
   {
    "duration": 9204,
    "start_time": "2022-12-19T09:12:00.329Z"
   },
   {
    "duration": 1433,
    "start_time": "2022-12-19T09:18:47.245Z"
   },
   {
    "duration": 982,
    "start_time": "2022-12-19T09:18:48.680Z"
   },
   {
    "duration": 782,
    "start_time": "2022-12-19T09:18:49.664Z"
   },
   {
    "duration": 128,
    "start_time": "2022-12-19T09:18:50.451Z"
   },
   {
    "duration": 127,
    "start_time": "2022-12-19T09:18:50.581Z"
   },
   {
    "duration": 118,
    "start_time": "2022-12-19T09:18:50.709Z"
   },
   {
    "duration": 220,
    "start_time": "2022-12-19T09:18:50.829Z"
   },
   {
    "duration": 385,
    "start_time": "2022-12-19T09:18:51.051Z"
   },
   {
    "duration": 481,
    "start_time": "2022-12-19T09:18:51.438Z"
   },
   {
    "duration": 10,
    "start_time": "2022-12-19T09:18:51.922Z"
   },
   {
    "duration": 417,
    "start_time": "2022-12-19T09:18:51.934Z"
   },
   {
    "duration": 13,
    "start_time": "2022-12-19T09:18:52.353Z"
   },
   {
    "duration": 109,
    "start_time": "2022-12-19T09:18:52.367Z"
   },
   {
    "duration": 400,
    "start_time": "2022-12-19T09:18:52.478Z"
   },
   {
    "duration": 75,
    "start_time": "2022-12-19T09:18:52.880Z"
   },
   {
    "duration": 18,
    "start_time": "2022-12-19T09:18:52.956Z"
   },
   {
    "duration": 351,
    "start_time": "2022-12-19T09:18:52.976Z"
   },
   {
    "duration": 91,
    "start_time": "2022-12-19T09:18:53.329Z"
   },
   {
    "duration": 44,
    "start_time": "2022-12-19T09:18:53.423Z"
   },
   {
    "duration": 103,
    "start_time": "2022-12-19T09:18:53.469Z"
   },
   {
    "duration": 34,
    "start_time": "2022-12-19T09:18:53.575Z"
   },
   {
    "duration": 2528,
    "start_time": "2022-12-19T09:18:53.610Z"
   },
   {
    "duration": 1872,
    "start_time": "2022-12-19T09:18:56.140Z"
   },
   {
    "duration": 60,
    "start_time": "2022-12-19T09:18:58.014Z"
   },
   {
    "duration": 350,
    "start_time": "2022-12-19T09:18:58.076Z"
   },
   {
    "duration": 323,
    "start_time": "2022-12-19T09:18:58.428Z"
   },
   {
    "duration": 331,
    "start_time": "2022-12-19T09:18:58.753Z"
   },
   {
    "duration": 63,
    "start_time": "2022-12-19T09:18:59.088Z"
   },
   {
    "duration": 46,
    "start_time": "2022-12-19T09:18:59.154Z"
   },
   {
    "duration": 67,
    "start_time": "2022-12-19T09:18:59.202Z"
   },
   {
    "duration": 96,
    "start_time": "2022-12-19T09:18:59.271Z"
   },
   {
    "duration": 4,
    "start_time": "2022-12-19T09:18:59.369Z"
   },
   {
    "duration": 871,
    "start_time": "2022-12-19T09:18:59.374Z"
   },
   {
    "duration": 450,
    "start_time": "2022-12-19T09:19:00.247Z"
   },
   {
    "duration": 120953,
    "start_time": "2022-12-19T09:19:00.699Z"
   },
   {
    "duration": 98297,
    "start_time": "2022-12-19T09:21:01.656Z"
   },
   {
    "duration": 97196,
    "start_time": "2022-12-19T09:22:39.955Z"
   },
   {
    "duration": 83728,
    "start_time": "2022-12-19T09:24:17.154Z"
   },
   {
    "duration": 6235,
    "start_time": "2022-12-19T09:25:40.884Z"
   },
   {
    "duration": 264879,
    "start_time": "2022-12-19T09:25:47.121Z"
   },
   {
    "duration": 20744,
    "start_time": "2022-12-19T09:30:12.001Z"
   },
   {
    "duration": 74007,
    "start_time": "2022-12-19T09:30:32.747Z"
   },
   {
    "duration": 23494,
    "start_time": "2022-12-19T09:31:46.756Z"
   },
   {
    "duration": 507,
    "start_time": "2022-12-19T09:32:10.252Z"
   },
   {
    "duration": 4973,
    "start_time": "2022-12-19T09:32:10.852Z"
   },
   {
    "duration": 327,
    "start_time": "2022-12-19T09:32:15.827Z"
   },
   {
    "duration": 5,
    "start_time": "2022-12-19T09:32:16.156Z"
   },
   {
    "duration": 376,
    "start_time": "2022-12-19T09:32:16.163Z"
   },
   {
    "duration": 35,
    "start_time": "2022-12-19T09:32:16.542Z"
   },
   {
    "duration": 4,
    "start_time": "2022-12-19T09:32:16.580Z"
   },
   {
    "duration": 19481,
    "start_time": "2022-12-19T09:32:16.586Z"
   },
   {
    "duration": 144,
    "start_time": "2022-12-19T09:32:36.069Z"
   },
   {
    "duration": 4,
    "start_time": "2022-12-19T09:32:36.215Z"
   },
   {
    "duration": 5006,
    "start_time": "2022-12-19T09:32:36.221Z"
   },
   {
    "duration": 127,
    "start_time": "2022-12-19T09:32:41.229Z"
   },
   {
    "duration": 4,
    "start_time": "2022-12-19T09:32:41.358Z"
   },
   {
    "duration": 8506,
    "start_time": "2022-12-19T09:32:41.364Z"
   },
   {
    "duration": 1480,
    "start_time": "2022-12-19T09:32:49.872Z"
   },
   {
    "duration": 4,
    "start_time": "2022-12-19T09:32:51.354Z"
   },
   {
    "duration": 29,
    "start_time": "2022-12-19T09:32:51.360Z"
   },
   {
    "duration": 9258,
    "start_time": "2022-12-19T09:32:51.391Z"
   },
   {
    "duration": 1183,
    "start_time": "2022-12-20T07:26:43.570Z"
   },
   {
    "duration": 2742,
    "start_time": "2022-12-20T07:26:44.755Z"
   },
   {
    "duration": 539,
    "start_time": "2022-12-20T07:26:47.499Z"
   },
   {
    "duration": 96,
    "start_time": "2022-12-20T07:26:48.040Z"
   },
   {
    "duration": 96,
    "start_time": "2022-12-20T07:26:48.138Z"
   },
   {
    "duration": 91,
    "start_time": "2022-12-20T07:26:48.236Z"
   },
   {
    "duration": 163,
    "start_time": "2022-12-20T07:26:48.328Z"
   },
   {
    "duration": 290,
    "start_time": "2022-12-20T07:26:48.492Z"
   },
   {
    "duration": 559,
    "start_time": "2022-12-20T07:26:48.783Z"
   },
   {
    "duration": 10,
    "start_time": "2022-12-20T07:26:49.344Z"
   },
   {
    "duration": 366,
    "start_time": "2022-12-20T07:26:49.356Z"
   },
   {
    "duration": 10,
    "start_time": "2022-12-20T07:26:49.723Z"
   },
   {
    "duration": 60,
    "start_time": "2022-12-20T07:26:49.735Z"
   },
   {
    "duration": 246,
    "start_time": "2022-12-20T07:26:49.812Z"
   },
   {
    "duration": 64,
    "start_time": "2022-12-20T07:26:50.060Z"
   },
   {
    "duration": 13,
    "start_time": "2022-12-20T07:26:50.126Z"
   },
   {
    "duration": 326,
    "start_time": "2022-12-20T07:26:50.140Z"
   },
   {
    "duration": 58,
    "start_time": "2022-12-20T07:26:50.468Z"
   },
   {
    "duration": 25,
    "start_time": "2022-12-20T07:26:50.528Z"
   },
   {
    "duration": 81,
    "start_time": "2022-12-20T07:26:50.554Z"
   },
   {
    "duration": 25,
    "start_time": "2022-12-20T07:26:50.636Z"
   },
   {
    "duration": 2030,
    "start_time": "2022-12-20T07:26:50.663Z"
   },
   {
    "duration": 1481,
    "start_time": "2022-12-20T07:26:52.694Z"
   },
   {
    "duration": 40,
    "start_time": "2022-12-20T07:26:54.177Z"
   },
   {
    "duration": 269,
    "start_time": "2022-12-20T07:26:54.218Z"
   },
   {
    "duration": 284,
    "start_time": "2022-12-20T07:26:54.489Z"
   },
   {
    "duration": 261,
    "start_time": "2022-12-20T07:26:54.775Z"
   },
   {
    "duration": 39,
    "start_time": "2022-12-20T07:26:55.041Z"
   },
   {
    "duration": 45,
    "start_time": "2022-12-20T07:26:55.082Z"
   },
   {
    "duration": 136,
    "start_time": "2022-12-20T07:26:55.129Z"
   },
   {
    "duration": 71,
    "start_time": "2022-12-20T07:26:55.266Z"
   },
   {
    "duration": 3,
    "start_time": "2022-12-20T07:26:55.339Z"
   },
   {
    "duration": 638,
    "start_time": "2022-12-20T07:26:55.344Z"
   },
   {
    "duration": 381,
    "start_time": "2022-12-20T07:26:55.984Z"
   },
   {
    "duration": 84450,
    "start_time": "2022-12-20T07:26:56.367Z"
   },
   {
    "duration": 119320,
    "start_time": "2022-12-20T07:28:20.820Z"
   },
   {
    "duration": 94721,
    "start_time": "2022-12-20T07:30:20.212Z"
   },
   {
    "duration": 76379,
    "start_time": "2022-12-20T07:31:54.935Z"
   },
   {
    "duration": 4823,
    "start_time": "2022-12-20T07:33:11.316Z"
   },
   {
    "duration": 221172,
    "start_time": "2022-12-20T07:33:16.140Z"
   },
   {
    "duration": 17371,
    "start_time": "2022-12-20T07:36:57.314Z"
   },
   {
    "duration": 52134,
    "start_time": "2022-12-20T07:37:14.687Z"
   },
   {
    "duration": 19291,
    "start_time": "2022-12-20T07:38:06.823Z"
   },
   {
    "duration": 600,
    "start_time": "2022-12-20T07:38:26.116Z"
   },
   {
    "duration": 4489,
    "start_time": "2022-12-20T07:38:26.719Z"
   },
   {
    "duration": 289,
    "start_time": "2022-12-20T07:38:31.210Z"
   },
   {
    "duration": 3,
    "start_time": "2022-12-20T07:38:31.501Z"
   },
   {
    "duration": 294,
    "start_time": "2022-12-20T07:38:31.506Z"
   },
   {
    "duration": 28,
    "start_time": "2022-12-20T07:38:31.802Z"
   },
   {
    "duration": 23,
    "start_time": "2022-12-20T07:38:31.832Z"
   },
   {
    "duration": 16648,
    "start_time": "2022-12-20T07:38:31.856Z"
   },
   {
    "duration": 125,
    "start_time": "2022-12-20T07:38:48.506Z"
   },
   {
    "duration": 3,
    "start_time": "2022-12-20T07:38:48.633Z"
   },
   {
    "duration": 4205,
    "start_time": "2022-12-20T07:38:48.638Z"
   },
   {
    "duration": 115,
    "start_time": "2022-12-20T07:38:52.845Z"
   },
   {
    "duration": 4,
    "start_time": "2022-12-20T07:38:52.962Z"
   },
   {
    "duration": 6847,
    "start_time": "2022-12-20T07:38:52.967Z"
   },
   {
    "duration": 1206,
    "start_time": "2022-12-20T07:38:59.815Z"
   },
   {
    "duration": 5,
    "start_time": "2022-12-20T07:39:01.022Z"
   },
   {
    "duration": 64,
    "start_time": "2022-12-20T07:39:01.028Z"
   },
   {
    "duration": 32,
    "start_time": "2022-12-20T07:39:01.094Z"
   },
   {
    "duration": 4299,
    "start_time": "2022-12-20T07:39:01.128Z"
   },
   {
    "duration": 117,
    "start_time": "2022-12-20T07:39:05.428Z"
   },
   {
    "duration": 4,
    "start_time": "2022-12-20T07:39:05.547Z"
   },
   {
    "duration": 7,
    "start_time": "2022-12-20T07:39:05.553Z"
   },
   {
    "duration": 107,
    "start_time": "2022-12-20T07:56:59.644Z"
   },
   {
    "duration": 45,
    "start_time": "2022-12-20T07:57:37.187Z"
   },
   {
    "duration": 4,
    "start_time": "2022-12-20T07:57:46.839Z"
   },
   {
    "duration": 3,
    "start_time": "2022-12-20T07:57:51.535Z"
   },
   {
    "duration": 1220,
    "start_time": "2022-12-20T08:08:31.748Z"
   },
   {
    "duration": 705,
    "start_time": "2022-12-20T08:08:32.970Z"
   },
   {
    "duration": 564,
    "start_time": "2022-12-20T08:08:33.677Z"
   },
   {
    "duration": 104,
    "start_time": "2022-12-20T08:08:34.243Z"
   },
   {
    "duration": 89,
    "start_time": "2022-12-20T08:08:34.348Z"
   },
   {
    "duration": 97,
    "start_time": "2022-12-20T08:08:34.439Z"
   },
   {
    "duration": 191,
    "start_time": "2022-12-20T08:08:34.538Z"
   },
   {
    "duration": 311,
    "start_time": "2022-12-20T08:08:34.731Z"
   },
   {
    "duration": 381,
    "start_time": "2022-12-20T08:08:35.043Z"
   },
   {
    "duration": 8,
    "start_time": "2022-12-20T08:08:35.427Z"
   },
   {
    "duration": 299,
    "start_time": "2022-12-20T08:08:35.436Z"
   },
   {
    "duration": 11,
    "start_time": "2022-12-20T08:08:35.736Z"
   },
   {
    "duration": 80,
    "start_time": "2022-12-20T08:08:35.749Z"
   },
   {
    "duration": 307,
    "start_time": "2022-12-20T08:08:35.830Z"
   },
   {
    "duration": 53,
    "start_time": "2022-12-20T08:08:36.139Z"
   },
   {
    "duration": 23,
    "start_time": "2022-12-20T08:08:36.194Z"
   },
   {
    "duration": 276,
    "start_time": "2022-12-20T08:08:36.218Z"
   },
   {
    "duration": 65,
    "start_time": "2022-12-20T08:08:36.496Z"
   },
   {
    "duration": 27,
    "start_time": "2022-12-20T08:08:36.562Z"
   },
   {
    "duration": 85,
    "start_time": "2022-12-20T08:08:36.591Z"
   },
   {
    "duration": 36,
    "start_time": "2022-12-20T08:08:36.678Z"
   },
   {
    "duration": 2190,
    "start_time": "2022-12-20T08:08:36.715Z"
   },
   {
    "duration": 1702,
    "start_time": "2022-12-20T08:08:38.906Z"
   },
   {
    "duration": 40,
    "start_time": "2022-12-20T08:08:40.613Z"
   },
   {
    "duration": 278,
    "start_time": "2022-12-20T08:08:40.655Z"
   },
   {
    "duration": 263,
    "start_time": "2022-12-20T08:08:40.935Z"
   },
   {
    "duration": 262,
    "start_time": "2022-12-20T08:08:41.200Z"
   },
   {
    "duration": 50,
    "start_time": "2022-12-20T08:08:41.466Z"
   },
   {
    "duration": 32,
    "start_time": "2022-12-20T08:08:41.518Z"
   },
   {
    "duration": 32,
    "start_time": "2022-12-20T08:08:41.551Z"
   },
   {
    "duration": 94,
    "start_time": "2022-12-20T08:08:41.585Z"
   },
   {
    "duration": 3,
    "start_time": "2022-12-20T08:08:41.681Z"
   },
   {
    "duration": 869,
    "start_time": "2022-12-20T08:08:41.685Z"
   },
   {
    "duration": 476,
    "start_time": "2022-12-20T08:08:42.556Z"
   },
   {
    "duration": 98885,
    "start_time": "2022-12-20T08:08:43.033Z"
   },
   {
    "duration": 105993,
    "start_time": "2022-12-20T08:10:21.920Z"
   },
   {
    "duration": 105298,
    "start_time": "2022-12-20T08:12:07.915Z"
   },
   {
    "duration": 87393,
    "start_time": "2022-12-20T08:13:53.215Z"
   },
   {
    "duration": 5496,
    "start_time": "2022-12-20T08:15:20.609Z"
   },
   {
    "duration": 245807,
    "start_time": "2022-12-20T08:15:26.106Z"
   },
   {
    "duration": 19610,
    "start_time": "2022-12-20T08:19:31.915Z"
   },
   {
    "duration": 56694,
    "start_time": "2022-12-20T08:19:51.527Z"
   },
   {
    "duration": 24499,
    "start_time": "2022-12-20T08:20:48.223Z"
   },
   {
    "duration": 709,
    "start_time": "2022-12-20T08:21:12.814Z"
   },
   {
    "duration": 5124,
    "start_time": "2022-12-20T08:21:13.524Z"
   },
   {
    "duration": 338,
    "start_time": "2022-12-20T08:21:18.650Z"
   },
   {
    "duration": 3,
    "start_time": "2022-12-20T08:21:18.990Z"
   },
   {
    "duration": 385,
    "start_time": "2022-12-20T08:21:18.995Z"
   },
   {
    "duration": 33,
    "start_time": "2022-12-20T08:21:19.381Z"
   },
   {
    "duration": 3,
    "start_time": "2022-12-20T08:21:19.416Z"
   },
   {
    "duration": 18622,
    "start_time": "2022-12-20T08:21:19.420Z"
   },
   {
    "duration": 133,
    "start_time": "2022-12-20T08:21:38.044Z"
   },
   {
    "duration": 4,
    "start_time": "2022-12-20T08:21:38.178Z"
   },
   {
    "duration": 4616,
    "start_time": "2022-12-20T08:21:38.183Z"
   },
   {
    "duration": 129,
    "start_time": "2022-12-20T08:21:42.800Z"
   },
   {
    "duration": 4,
    "start_time": "2022-12-20T08:21:42.932Z"
   },
   {
    "duration": 9794,
    "start_time": "2022-12-20T08:21:42.938Z"
   },
   {
    "duration": 1381,
    "start_time": "2022-12-20T08:21:52.734Z"
   },
   {
    "duration": 4,
    "start_time": "2022-12-20T08:21:54.117Z"
   },
   {
    "duration": 36,
    "start_time": "2022-12-20T08:21:54.122Z"
   },
   {
    "duration": 22,
    "start_time": "2022-12-20T08:21:54.159Z"
   },
   {
    "duration": 4713,
    "start_time": "2022-12-20T08:21:54.183Z"
   },
   {
    "duration": 49,
    "start_time": "2022-12-20T08:21:58.898Z"
   },
   {
    "duration": 4,
    "start_time": "2022-12-20T08:21:58.949Z"
   },
   {
    "duration": 8,
    "start_time": "2022-12-20T08:21:58.954Z"
   },
   {
    "duration": 89,
    "start_time": "2022-12-20T08:29:06.152Z"
   }
  ],
  "kernelspec": {
   "display_name": "Python 3 (ipykernel)",
   "language": "python",
   "name": "python3"
  },
  "language_info": {
   "codemirror_mode": {
    "name": "ipython",
    "version": 3
   },
   "file_extension": ".py",
   "mimetype": "text/x-python",
   "name": "python",
   "nbconvert_exporter": "python",
   "pygments_lexer": "ipython3",
   "version": "3.9.5"
  },
  "toc": {
   "base_numbering": 1,
   "nav_menu": {},
   "number_sections": true,
   "sideBar": true,
   "skip_h1_title": true,
   "title_cell": "Table of Contents",
   "title_sidebar": "Contents",
   "toc_cell": false,
   "toc_position": {
    "height": "calc(100% - 180px)",
    "left": "10px",
    "top": "150px",
    "width": "356.797px"
   },
   "toc_section_display": true,
   "toc_window_display": false
  }
 },
 "nbformat": 4,
 "nbformat_minor": 2
}
