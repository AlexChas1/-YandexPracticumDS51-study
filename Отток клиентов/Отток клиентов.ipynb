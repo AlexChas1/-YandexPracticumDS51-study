{
 "cells": [
  {
   "cell_type": "markdown",
   "metadata": {
    "toc": true
   },
   "source": [
    "<h1>Содержание<span class=\"tocSkip\"></span></h1>\n",
    "<div class=\"toc\"><ul class=\"toc-item\"><li><span><a href=\"#Подготовка-данных\" data-toc-modified-id=\"Подготовка-данных-1\"><span class=\"toc-item-num\">1&nbsp;&nbsp;</span>Подготовка данных</a></span></li><li><span><a href=\"#Исследование-задачи\" data-toc-modified-id=\"Исследование-задачи-2\"><span class=\"toc-item-num\">2&nbsp;&nbsp;</span>Исследование задачи</a></span></li><li><span><a href=\"#Борьба-с-дисбалансом\" data-toc-modified-id=\"Борьба-с-дисбалансом-3\"><span class=\"toc-item-num\">3&nbsp;&nbsp;</span>Борьба с дисбалансом</a></span></li><li><span><a href=\"#Тестирование-модели\" data-toc-modified-id=\"Тестирование-модели-4\"><span class=\"toc-item-num\">4&nbsp;&nbsp;</span>Тестирование модели</a></span></li></ul></div>"
   ]
  },
  {
   "cell_type": "markdown",
   "metadata": {},
   "source": [
    "# Отток клиентов"
   ]
  },
  {
   "cell_type": "markdown",
   "metadata": {},
   "source": [
    "Из «Бета-Банка» стали уходить клиенты. Каждый месяц. Немного, но заметно. Банковские маркетологи посчитали: сохранять текущих клиентов дешевле, чем привлекать новых.\n",
    "\n",
    "Нужно спрогнозировать, уйдёт клиент из банка в ближайшее время или нет. Вам предоставлены исторические данные о поведении клиентов и расторжении договоров с банком. \n",
    "\n",
    "Постройте модель с предельно большим значением *F1*-меры. Чтобы сдать проект успешно, нужно довести метрику до 0.59. Проверьте *F1*-меру на тестовой выборке самостоятельно.\n",
    "\n",
    "Дополнительно измеряйте *AUC-ROC*, сравнивайте её значение с *F1*-мерой.\n",
    "\n",
    "Источник данных: [https://www.kaggle.com/barelydedicated/bank-customer-churn-modeling](https://www.kaggle.com/barelydedicated/bank-customer-churn-modeling)"
   ]
  },
  {
   "cell_type": "markdown",
   "metadata": {},
   "source": [
    "## Подготовка данных"
   ]
  },
  {
   "cell_type": "code",
   "execution_count": 1,
   "metadata": {},
   "outputs": [],
   "source": [
    "import numpy as np # linear algebra\n",
    "import pandas as pd # data processing, CSV file I/O (e.g. pd.read_csv)\n",
    "import os\n",
    "for dirname, _, filenames in os.walk('/kaggle/input'):\n",
    "    for filename in filenames:\n",
    "        print(os.path.join(dirname, filename))"
   ]
  },
  {
   "cell_type": "code",
   "execution_count": 2,
   "metadata": {},
   "outputs": [],
   "source": [
    "import pandas as pd\n",
    "import numpy as np\n",
    "import matplotlib.pyplot as plt\n",
    "from sklearn.model_selection import train_test_split\n",
    "from sklearn.preprocessing import StandardScaler"
   ]
  },
  {
   "cell_type": "code",
   "execution_count": 3,
   "metadata": {},
   "outputs": [
    {
     "data": {
      "text/html": [
       "<div>\n",
       "<style scoped>\n",
       "    .dataframe tbody tr th:only-of-type {\n",
       "        vertical-align: middle;\n",
       "    }\n",
       "\n",
       "    .dataframe tbody tr th {\n",
       "        vertical-align: top;\n",
       "    }\n",
       "\n",
       "    .dataframe thead th {\n",
       "        text-align: right;\n",
       "    }\n",
       "</style>\n",
       "<table border=\"1\" class=\"dataframe\">\n",
       "  <thead>\n",
       "    <tr style=\"text-align: right;\">\n",
       "      <th></th>\n",
       "      <th>RowNumber</th>\n",
       "      <th>CustomerId</th>\n",
       "      <th>Surname</th>\n",
       "      <th>CreditScore</th>\n",
       "      <th>Geography</th>\n",
       "      <th>Gender</th>\n",
       "      <th>Age</th>\n",
       "      <th>Tenure</th>\n",
       "      <th>Balance</th>\n",
       "      <th>NumOfProducts</th>\n",
       "      <th>HasCrCard</th>\n",
       "      <th>IsActiveMember</th>\n",
       "      <th>EstimatedSalary</th>\n",
       "      <th>Exited</th>\n",
       "    </tr>\n",
       "  </thead>\n",
       "  <tbody>\n",
       "    <tr>\n",
       "      <th>0</th>\n",
       "      <td>1</td>\n",
       "      <td>15634602</td>\n",
       "      <td>Hargrave</td>\n",
       "      <td>619</td>\n",
       "      <td>France</td>\n",
       "      <td>Female</td>\n",
       "      <td>42</td>\n",
       "      <td>2.0</td>\n",
       "      <td>0.00</td>\n",
       "      <td>1</td>\n",
       "      <td>1</td>\n",
       "      <td>1</td>\n",
       "      <td>101348.88</td>\n",
       "      <td>1</td>\n",
       "    </tr>\n",
       "    <tr>\n",
       "      <th>1</th>\n",
       "      <td>2</td>\n",
       "      <td>15647311</td>\n",
       "      <td>Hill</td>\n",
       "      <td>608</td>\n",
       "      <td>Spain</td>\n",
       "      <td>Female</td>\n",
       "      <td>41</td>\n",
       "      <td>1.0</td>\n",
       "      <td>83807.86</td>\n",
       "      <td>1</td>\n",
       "      <td>0</td>\n",
       "      <td>1</td>\n",
       "      <td>112542.58</td>\n",
       "      <td>0</td>\n",
       "    </tr>\n",
       "    <tr>\n",
       "      <th>2</th>\n",
       "      <td>3</td>\n",
       "      <td>15619304</td>\n",
       "      <td>Onio</td>\n",
       "      <td>502</td>\n",
       "      <td>France</td>\n",
       "      <td>Female</td>\n",
       "      <td>42</td>\n",
       "      <td>8.0</td>\n",
       "      <td>159660.80</td>\n",
       "      <td>3</td>\n",
       "      <td>1</td>\n",
       "      <td>0</td>\n",
       "      <td>113931.57</td>\n",
       "      <td>1</td>\n",
       "    </tr>\n",
       "    <tr>\n",
       "      <th>3</th>\n",
       "      <td>4</td>\n",
       "      <td>15701354</td>\n",
       "      <td>Boni</td>\n",
       "      <td>699</td>\n",
       "      <td>France</td>\n",
       "      <td>Female</td>\n",
       "      <td>39</td>\n",
       "      <td>1.0</td>\n",
       "      <td>0.00</td>\n",
       "      <td>2</td>\n",
       "      <td>0</td>\n",
       "      <td>0</td>\n",
       "      <td>93826.63</td>\n",
       "      <td>0</td>\n",
       "    </tr>\n",
       "    <tr>\n",
       "      <th>4</th>\n",
       "      <td>5</td>\n",
       "      <td>15737888</td>\n",
       "      <td>Mitchell</td>\n",
       "      <td>850</td>\n",
       "      <td>Spain</td>\n",
       "      <td>Female</td>\n",
       "      <td>43</td>\n",
       "      <td>2.0</td>\n",
       "      <td>125510.82</td>\n",
       "      <td>1</td>\n",
       "      <td>1</td>\n",
       "      <td>1</td>\n",
       "      <td>79084.10</td>\n",
       "      <td>0</td>\n",
       "    </tr>\n",
       "  </tbody>\n",
       "</table>\n",
       "</div>"
      ],
      "text/plain": [
       "   RowNumber  CustomerId   Surname  CreditScore Geography  Gender  Age  \\\n",
       "0          1    15634602  Hargrave          619    France  Female   42   \n",
       "1          2    15647311      Hill          608     Spain  Female   41   \n",
       "2          3    15619304      Onio          502    France  Female   42   \n",
       "3          4    15701354      Boni          699    France  Female   39   \n",
       "4          5    15737888  Mitchell          850     Spain  Female   43   \n",
       "\n",
       "   Tenure    Balance  NumOfProducts  HasCrCard  IsActiveMember  \\\n",
       "0     2.0       0.00              1          1               1   \n",
       "1     1.0   83807.86              1          0               1   \n",
       "2     8.0  159660.80              3          1               0   \n",
       "3     1.0       0.00              2          0               0   \n",
       "4     2.0  125510.82              1          1               1   \n",
       "\n",
       "   EstimatedSalary  Exited  \n",
       "0        101348.88       1  \n",
       "1        112542.58       0  \n",
       "2        113931.57       1  \n",
       "3         93826.63       0  \n",
       "4         79084.10       0  "
      ]
     },
     "execution_count": 3,
     "metadata": {},
     "output_type": "execute_result"
    }
   ],
   "source": [
    "data = pd.read_csv('/datasets/Churn.csv')\n",
    "data.head()"
   ]
  },
  {
   "cell_type": "markdown",
   "metadata": {},
   "source": [
    "Целевой признак Exited — факт ухода клиента — категориальный признак => задача будет достигаться методами классификации."
   ]
  },
  {
   "cell_type": "code",
   "execution_count": 4,
   "metadata": {},
   "outputs": [
    {
     "name": "stdout",
     "output_type": "stream",
     "text": [
      "<class 'pandas.core.frame.DataFrame'>\n",
      "RangeIndex: 10000 entries, 0 to 9999\n",
      "Data columns (total 14 columns):\n",
      " #   Column           Non-Null Count  Dtype  \n",
      "---  ------           --------------  -----  \n",
      " 0   RowNumber        10000 non-null  int64  \n",
      " 1   CustomerId       10000 non-null  int64  \n",
      " 2   Surname          10000 non-null  object \n",
      " 3   CreditScore      10000 non-null  int64  \n",
      " 4   Geography        10000 non-null  object \n",
      " 5   Gender           10000 non-null  object \n",
      " 6   Age              10000 non-null  int64  \n",
      " 7   Tenure           9091 non-null   float64\n",
      " 8   Balance          10000 non-null  float64\n",
      " 9   NumOfProducts    10000 non-null  int64  \n",
      " 10  HasCrCard        10000 non-null  int64  \n",
      " 11  IsActiveMember   10000 non-null  int64  \n",
      " 12  EstimatedSalary  10000 non-null  float64\n",
      " 13  Exited           10000 non-null  int64  \n",
      "dtypes: float64(3), int64(8), object(3)\n",
      "memory usage: 1.1+ MB\n"
     ]
    }
   ],
   "source": [
    "data.info()"
   ]
  },
  {
   "cell_type": "code",
   "execution_count": 5,
   "metadata": {},
   "outputs": [],
   "source": [
    "data['Tenure'] = data['Tenure'].fillna(-1)"
   ]
  },
  {
   "cell_type": "code",
   "execution_count": 6,
   "metadata": {},
   "outputs": [
    {
     "data": {
      "text/plain": [
       "array(['France', 'Spain', 'Germany'], dtype=object)"
      ]
     },
     "execution_count": 6,
     "metadata": {},
     "output_type": "execute_result"
    }
   ],
   "source": [
    "data['Geography'].unique()"
   ]
  },
  {
   "cell_type": "code",
   "execution_count": 7,
   "metadata": {},
   "outputs": [
    {
     "data": {
      "text/plain": [
       "array(['France', 'Spain', 'Germany'], dtype=object)"
      ]
     },
     "execution_count": 7,
     "metadata": {},
     "output_type": "execute_result"
    }
   ],
   "source": [
    "data['Geography'].unique()"
   ]
  },
  {
   "cell_type": "markdown",
   "metadata": {},
   "source": [
    "Датасет содержить 10000 строк, явных пропусков не обнаружено.\n",
    "Требуемые изменения:\n",
    "\n",
    "-RowNumber — столбец дублирует информацию стандартного датафрейма и не несетя ценности для обучения модели. Поэтому столбец можно удалить\n",
    "\n",
    "-CustomerId — является идентификатором пользователя (по данному столбцу значению необходимо проверить наличие дубликатов) и если отсутсвуют — стоблец также можно удалить.\n",
    "\n",
    "-Surname — является идентифицирующей пользователя информацией, содержит 2932 уникальных значений (данные kaggle), что сильно усложняет задачу, но не несет ценности для качества будущей модели — столбец можно удалить.\n",
    "\n",
    "-CreditScore — следует проверить распределение и сохранить данный столбец.\n",
    "\n",
    "-Geography — всего 3 уникальных значения France', 'Spain', 'Germany' — выполнить преобразование OHE / ordinal encoding\n",
    "\n",
    "-Gender — значение преобразовать — OHE / ordinal encoding.\n",
    "\n",
    "Age — Exited — тип данных верны, требуется проработка OHE."
   ]
  },
  {
   "cell_type": "code",
   "execution_count": 8,
   "metadata": {},
   "outputs": [
    {
     "data": {
      "text/plain": [
       "0"
      ]
     },
     "execution_count": 8,
     "metadata": {},
     "output_type": "execute_result"
    }
   ],
   "source": [
    "data.duplicated().sum()"
   ]
  },
  {
   "cell_type": "code",
   "execution_count": 9,
   "metadata": {},
   "outputs": [
    {
     "data": {
      "text/plain": [
       "10000"
      ]
     },
     "execution_count": 9,
     "metadata": {},
     "output_type": "execute_result"
    }
   ],
   "source": [
    "data['CustomerId'].value_counts().sum()"
   ]
  },
  {
   "cell_type": "markdown",
   "metadata": {},
   "source": [
    "Удалим столбцы-идентификаторы, не представляющие ценностия для алгоритма"
   ]
  },
  {
   "cell_type": "code",
   "execution_count": 10,
   "metadata": {},
   "outputs": [
    {
     "data": {
      "text/html": [
       "<div>\n",
       "<style scoped>\n",
       "    .dataframe tbody tr th:only-of-type {\n",
       "        vertical-align: middle;\n",
       "    }\n",
       "\n",
       "    .dataframe tbody tr th {\n",
       "        vertical-align: top;\n",
       "    }\n",
       "\n",
       "    .dataframe thead th {\n",
       "        text-align: right;\n",
       "    }\n",
       "</style>\n",
       "<table border=\"1\" class=\"dataframe\">\n",
       "  <thead>\n",
       "    <tr style=\"text-align: right;\">\n",
       "      <th></th>\n",
       "      <th>CreditScore</th>\n",
       "      <th>Geography</th>\n",
       "      <th>Gender</th>\n",
       "      <th>Age</th>\n",
       "      <th>Tenure</th>\n",
       "      <th>Balance</th>\n",
       "      <th>NumOfProducts</th>\n",
       "      <th>HasCrCard</th>\n",
       "      <th>IsActiveMember</th>\n",
       "      <th>EstimatedSalary</th>\n",
       "      <th>Exited</th>\n",
       "    </tr>\n",
       "  </thead>\n",
       "  <tbody>\n",
       "    <tr>\n",
       "      <th>0</th>\n",
       "      <td>619</td>\n",
       "      <td>France</td>\n",
       "      <td>Female</td>\n",
       "      <td>42</td>\n",
       "      <td>2.0</td>\n",
       "      <td>0.00</td>\n",
       "      <td>1</td>\n",
       "      <td>1</td>\n",
       "      <td>1</td>\n",
       "      <td>101348.88</td>\n",
       "      <td>1</td>\n",
       "    </tr>\n",
       "    <tr>\n",
       "      <th>1</th>\n",
       "      <td>608</td>\n",
       "      <td>Spain</td>\n",
       "      <td>Female</td>\n",
       "      <td>41</td>\n",
       "      <td>1.0</td>\n",
       "      <td>83807.86</td>\n",
       "      <td>1</td>\n",
       "      <td>0</td>\n",
       "      <td>1</td>\n",
       "      <td>112542.58</td>\n",
       "      <td>0</td>\n",
       "    </tr>\n",
       "    <tr>\n",
       "      <th>2</th>\n",
       "      <td>502</td>\n",
       "      <td>France</td>\n",
       "      <td>Female</td>\n",
       "      <td>42</td>\n",
       "      <td>8.0</td>\n",
       "      <td>159660.80</td>\n",
       "      <td>3</td>\n",
       "      <td>1</td>\n",
       "      <td>0</td>\n",
       "      <td>113931.57</td>\n",
       "      <td>1</td>\n",
       "    </tr>\n",
       "    <tr>\n",
       "      <th>3</th>\n",
       "      <td>699</td>\n",
       "      <td>France</td>\n",
       "      <td>Female</td>\n",
       "      <td>39</td>\n",
       "      <td>1.0</td>\n",
       "      <td>0.00</td>\n",
       "      <td>2</td>\n",
       "      <td>0</td>\n",
       "      <td>0</td>\n",
       "      <td>93826.63</td>\n",
       "      <td>0</td>\n",
       "    </tr>\n",
       "    <tr>\n",
       "      <th>4</th>\n",
       "      <td>850</td>\n",
       "      <td>Spain</td>\n",
       "      <td>Female</td>\n",
       "      <td>43</td>\n",
       "      <td>2.0</td>\n",
       "      <td>125510.82</td>\n",
       "      <td>1</td>\n",
       "      <td>1</td>\n",
       "      <td>1</td>\n",
       "      <td>79084.10</td>\n",
       "      <td>0</td>\n",
       "    </tr>\n",
       "  </tbody>\n",
       "</table>\n",
       "</div>"
      ],
      "text/plain": [
       "   CreditScore Geography  Gender  Age  Tenure    Balance  NumOfProducts  \\\n",
       "0          619    France  Female   42     2.0       0.00              1   \n",
       "1          608     Spain  Female   41     1.0   83807.86              1   \n",
       "2          502    France  Female   42     8.0  159660.80              3   \n",
       "3          699    France  Female   39     1.0       0.00              2   \n",
       "4          850     Spain  Female   43     2.0  125510.82              1   \n",
       "\n",
       "   HasCrCard  IsActiveMember  EstimatedSalary  Exited  \n",
       "0          1               1        101348.88       1  \n",
       "1          0               1        112542.58       0  \n",
       "2          1               0        113931.57       1  \n",
       "3          0               0         93826.63       0  \n",
       "4          1               1         79084.10       0  "
      ]
     },
     "execution_count": 10,
     "metadata": {},
     "output_type": "execute_result"
    }
   ],
   "source": [
    "for_drop = ['RowNumber','CustomerId', 'Surname']\n",
    "data_ml = data.drop(for_drop, axis=1)\n",
    "data_ml.head()"
   ]
  },
  {
   "cell_type": "markdown",
   "metadata": {},
   "source": [
    "Данные подготовим методом OHE"
   ]
  },
  {
   "cell_type": "code",
   "execution_count": 11,
   "metadata": {},
   "outputs": [
    {
     "data": {
      "text/html": [
       "<div>\n",
       "<style scoped>\n",
       "    .dataframe tbody tr th:only-of-type {\n",
       "        vertical-align: middle;\n",
       "    }\n",
       "\n",
       "    .dataframe tbody tr th {\n",
       "        vertical-align: top;\n",
       "    }\n",
       "\n",
       "    .dataframe thead th {\n",
       "        text-align: right;\n",
       "    }\n",
       "</style>\n",
       "<table border=\"1\" class=\"dataframe\">\n",
       "  <thead>\n",
       "    <tr style=\"text-align: right;\">\n",
       "      <th></th>\n",
       "      <th>CreditScore</th>\n",
       "      <th>Age</th>\n",
       "      <th>Tenure</th>\n",
       "      <th>Balance</th>\n",
       "      <th>NumOfProducts</th>\n",
       "      <th>HasCrCard</th>\n",
       "      <th>IsActiveMember</th>\n",
       "      <th>EstimatedSalary</th>\n",
       "      <th>Exited</th>\n",
       "      <th>Geography_Germany</th>\n",
       "      <th>Geography_Spain</th>\n",
       "      <th>Gender_Male</th>\n",
       "    </tr>\n",
       "  </thead>\n",
       "  <tbody>\n",
       "    <tr>\n",
       "      <th>0</th>\n",
       "      <td>619</td>\n",
       "      <td>42</td>\n",
       "      <td>2.0</td>\n",
       "      <td>0.00</td>\n",
       "      <td>1</td>\n",
       "      <td>1</td>\n",
       "      <td>1</td>\n",
       "      <td>101348.88</td>\n",
       "      <td>1</td>\n",
       "      <td>0</td>\n",
       "      <td>0</td>\n",
       "      <td>0</td>\n",
       "    </tr>\n",
       "    <tr>\n",
       "      <th>1</th>\n",
       "      <td>608</td>\n",
       "      <td>41</td>\n",
       "      <td>1.0</td>\n",
       "      <td>83807.86</td>\n",
       "      <td>1</td>\n",
       "      <td>0</td>\n",
       "      <td>1</td>\n",
       "      <td>112542.58</td>\n",
       "      <td>0</td>\n",
       "      <td>0</td>\n",
       "      <td>1</td>\n",
       "      <td>0</td>\n",
       "    </tr>\n",
       "    <tr>\n",
       "      <th>2</th>\n",
       "      <td>502</td>\n",
       "      <td>42</td>\n",
       "      <td>8.0</td>\n",
       "      <td>159660.80</td>\n",
       "      <td>3</td>\n",
       "      <td>1</td>\n",
       "      <td>0</td>\n",
       "      <td>113931.57</td>\n",
       "      <td>1</td>\n",
       "      <td>0</td>\n",
       "      <td>0</td>\n",
       "      <td>0</td>\n",
       "    </tr>\n",
       "    <tr>\n",
       "      <th>3</th>\n",
       "      <td>699</td>\n",
       "      <td>39</td>\n",
       "      <td>1.0</td>\n",
       "      <td>0.00</td>\n",
       "      <td>2</td>\n",
       "      <td>0</td>\n",
       "      <td>0</td>\n",
       "      <td>93826.63</td>\n",
       "      <td>0</td>\n",
       "      <td>0</td>\n",
       "      <td>0</td>\n",
       "      <td>0</td>\n",
       "    </tr>\n",
       "    <tr>\n",
       "      <th>4</th>\n",
       "      <td>850</td>\n",
       "      <td>43</td>\n",
       "      <td>2.0</td>\n",
       "      <td>125510.82</td>\n",
       "      <td>1</td>\n",
       "      <td>1</td>\n",
       "      <td>1</td>\n",
       "      <td>79084.10</td>\n",
       "      <td>0</td>\n",
       "      <td>0</td>\n",
       "      <td>1</td>\n",
       "      <td>0</td>\n",
       "    </tr>\n",
       "  </tbody>\n",
       "</table>\n",
       "</div>"
      ],
      "text/plain": [
       "   CreditScore  Age  Tenure    Balance  NumOfProducts  HasCrCard  \\\n",
       "0          619   42     2.0       0.00              1          1   \n",
       "1          608   41     1.0   83807.86              1          0   \n",
       "2          502   42     8.0  159660.80              3          1   \n",
       "3          699   39     1.0       0.00              2          0   \n",
       "4          850   43     2.0  125510.82              1          1   \n",
       "\n",
       "   IsActiveMember  EstimatedSalary  Exited  Geography_Germany  \\\n",
       "0               1        101348.88       1                  0   \n",
       "1               1        112542.58       0                  0   \n",
       "2               0        113931.57       1                  0   \n",
       "3               0         93826.63       0                  0   \n",
       "4               1         79084.10       0                  0   \n",
       "\n",
       "   Geography_Spain  Gender_Male  \n",
       "0                0            0  \n",
       "1                1            0  \n",
       "2                0            0  \n",
       "3                0            0  \n",
       "4                1            0  "
      ]
     },
     "execution_count": 11,
     "metadata": {},
     "output_type": "execute_result"
    }
   ],
   "source": [
    "data_ml = pd.get_dummies(data_ml, drop_first=True)\n",
    "data_ml.head()"
   ]
  },
  {
   "cell_type": "code",
   "execution_count": 12,
   "metadata": {},
   "outputs": [
    {
     "data": {
      "text/plain": [
       "(10000, 12)"
      ]
     },
     "execution_count": 12,
     "metadata": {},
     "output_type": "execute_result"
    }
   ],
   "source": [
    "data_ml.shape"
   ]
  },
  {
   "cell_type": "markdown",
   "metadata": {},
   "source": [
    "В новом датафрейме мы получили 12 столбцов.\n",
    "Столбец Geography содержал 3 класса, Gender_Male 2 класса — в результате мы получили только 2 и 1 столбцов соответственно, что позволяет избежать дами-ловушки."
   ]
  },
  {
   "cell_type": "markdown",
   "metadata": {},
   "source": [
    "В нашем случае нет отдельно выделенной тестовой выборки, поэтому существющие данные мы делим на три выборки:\n",
    "\n",
    "-обучающая 60% для обучения модели\n",
    "-валидационная 20% для выбора лучшего алгоритма и оптимальных параметров\n",
    "-тестовая 20% для финального теста лучшей модели."
   ]
  },
  {
   "cell_type": "code",
   "execution_count": 13,
   "metadata": {},
   "outputs": [],
   "source": [
    "features = data_ml.drop('Exited', axis=1)\n",
    "target = data_ml['Exited']"
   ]
  },
  {
   "cell_type": "code",
   "execution_count": 14,
   "metadata": {},
   "outputs": [
    {
     "data": {
      "text/html": [
       "<div>\n",
       "<style scoped>\n",
       "    .dataframe tbody tr th:only-of-type {\n",
       "        vertical-align: middle;\n",
       "    }\n",
       "\n",
       "    .dataframe tbody tr th {\n",
       "        vertical-align: top;\n",
       "    }\n",
       "\n",
       "    .dataframe thead th {\n",
       "        text-align: right;\n",
       "    }\n",
       "</style>\n",
       "<table border=\"1\" class=\"dataframe\">\n",
       "  <thead>\n",
       "    <tr style=\"text-align: right;\">\n",
       "      <th></th>\n",
       "      <th>CreditScore</th>\n",
       "      <th>Age</th>\n",
       "      <th>Tenure</th>\n",
       "      <th>Balance</th>\n",
       "      <th>NumOfProducts</th>\n",
       "      <th>HasCrCard</th>\n",
       "      <th>IsActiveMember</th>\n",
       "      <th>EstimatedSalary</th>\n",
       "      <th>Geography_Germany</th>\n",
       "      <th>Geography_Spain</th>\n",
       "      <th>Gender_Male</th>\n",
       "    </tr>\n",
       "  </thead>\n",
       "  <tbody>\n",
       "    <tr>\n",
       "      <th>0</th>\n",
       "      <td>619</td>\n",
       "      <td>42</td>\n",
       "      <td>2.0</td>\n",
       "      <td>0.00</td>\n",
       "      <td>1</td>\n",
       "      <td>1</td>\n",
       "      <td>1</td>\n",
       "      <td>101348.88</td>\n",
       "      <td>0</td>\n",
       "      <td>0</td>\n",
       "      <td>0</td>\n",
       "    </tr>\n",
       "    <tr>\n",
       "      <th>1</th>\n",
       "      <td>608</td>\n",
       "      <td>41</td>\n",
       "      <td>1.0</td>\n",
       "      <td>83807.86</td>\n",
       "      <td>1</td>\n",
       "      <td>0</td>\n",
       "      <td>1</td>\n",
       "      <td>112542.58</td>\n",
       "      <td>0</td>\n",
       "      <td>1</td>\n",
       "      <td>0</td>\n",
       "    </tr>\n",
       "    <tr>\n",
       "      <th>2</th>\n",
       "      <td>502</td>\n",
       "      <td>42</td>\n",
       "      <td>8.0</td>\n",
       "      <td>159660.80</td>\n",
       "      <td>3</td>\n",
       "      <td>1</td>\n",
       "      <td>0</td>\n",
       "      <td>113931.57</td>\n",
       "      <td>0</td>\n",
       "      <td>0</td>\n",
       "      <td>0</td>\n",
       "    </tr>\n",
       "    <tr>\n",
       "      <th>3</th>\n",
       "      <td>699</td>\n",
       "      <td>39</td>\n",
       "      <td>1.0</td>\n",
       "      <td>0.00</td>\n",
       "      <td>2</td>\n",
       "      <td>0</td>\n",
       "      <td>0</td>\n",
       "      <td>93826.63</td>\n",
       "      <td>0</td>\n",
       "      <td>0</td>\n",
       "      <td>0</td>\n",
       "    </tr>\n",
       "    <tr>\n",
       "      <th>4</th>\n",
       "      <td>850</td>\n",
       "      <td>43</td>\n",
       "      <td>2.0</td>\n",
       "      <td>125510.82</td>\n",
       "      <td>1</td>\n",
       "      <td>1</td>\n",
       "      <td>1</td>\n",
       "      <td>79084.10</td>\n",
       "      <td>0</td>\n",
       "      <td>1</td>\n",
       "      <td>0</td>\n",
       "    </tr>\n",
       "  </tbody>\n",
       "</table>\n",
       "</div>"
      ],
      "text/plain": [
       "   CreditScore  Age  Tenure    Balance  NumOfProducts  HasCrCard  \\\n",
       "0          619   42     2.0       0.00              1          1   \n",
       "1          608   41     1.0   83807.86              1          0   \n",
       "2          502   42     8.0  159660.80              3          1   \n",
       "3          699   39     1.0       0.00              2          0   \n",
       "4          850   43     2.0  125510.82              1          1   \n",
       "\n",
       "   IsActiveMember  EstimatedSalary  Geography_Germany  Geography_Spain  \\\n",
       "0               1        101348.88                  0                0   \n",
       "1               1        112542.58                  0                1   \n",
       "2               0        113931.57                  0                0   \n",
       "3               0         93826.63                  0                0   \n",
       "4               1         79084.10                  0                1   \n",
       "\n",
       "   Gender_Male  \n",
       "0            0  \n",
       "1            0  \n",
       "2            0  \n",
       "3            0  \n",
       "4            0  "
      ]
     },
     "execution_count": 14,
     "metadata": {},
     "output_type": "execute_result"
    }
   ],
   "source": [
    "features.head()"
   ]
  },
  {
   "cell_type": "code",
   "execution_count": 15,
   "metadata": {},
   "outputs": [
    {
     "data": {
      "text/plain": [
       "0    1\n",
       "1    0\n",
       "2    1\n",
       "3    0\n",
       "4    0\n",
       "Name: Exited, dtype: int64"
      ]
     },
     "execution_count": 15,
     "metadata": {},
     "output_type": "execute_result"
    }
   ],
   "source": [
    "target.head()"
   ]
  },
  {
   "cell_type": "markdown",
   "metadata": {},
   "source": [
    "Разделение выборки произведем в 2 этапа:\n",
    "-Выделим валидационную 60%\n",
    "-Разделим оставшиеся 40% на 2 равные части (валидационная и тестовая)"
   ]
  },
  {
   "cell_type": "code",
   "execution_count": 16,
   "metadata": {},
   "outputs": [],
   "source": [
    "#1. Выделим валидационную 60%\n",
    "features_train, features_validtest, target_train, target_validtest = train_test_split(features,\n",
    "                                                    target,\n",
    "                                                    train_size=0.6,\n",
    "                                                    random_state=12345, \n",
    "                                                    stratify=target)"
   ]
  },
  {
   "cell_type": "code",
   "execution_count": 17,
   "metadata": {},
   "outputs": [
    {
     "name": "stdout",
     "output_type": "stream",
     "text": [
      "Признаки обучающей выборки: (6000, 11) Целевой признак обучающей выборки: (6000,) Валидационная и тестовая вместе (4000, 11) (4000,)\n"
     ]
    }
   ],
   "source": [
    "print('Признаки обучающей выборки:',features_train.shape,  \n",
    "      'Целевой признак обучающей выборки:', target_train.shape, \n",
    "      'Валидационная и тестовая вместе', features_validtest.shape, target_validtest.shape)"
   ]
  },
  {
   "cell_type": "code",
   "execution_count": 18,
   "metadata": {},
   "outputs": [],
   "source": [
    "#2. Разделим оставшиеся 40% на 2 равные части (валидационная и тестовая)\n",
    "features_valid, features_test, target_valid, target_test = train_test_split(features_validtest,\n",
    "                                                    target_validtest,\n",
    "                                                    train_size=0.5,\n",
    "                                                    random_state=12345, \n",
    "                                                    stratify=target_validtest)"
   ]
  },
  {
   "cell_type": "code",
   "execution_count": 19,
   "metadata": {},
   "outputs": [
    {
     "name": "stdout",
     "output_type": "stream",
     "text": [
      "(2000, 11) (2000,) (2000, 11) (2000,)\n"
     ]
    }
   ],
   "source": [
    "print(features_valid.shape, target_valid.shape, features_test.shape, target_test.shape)"
   ]
  },
  {
   "cell_type": "markdown",
   "metadata": {},
   "source": [
    "Полученые выбрки:\n",
    "Обучающая\n",
    "-features_train\n",
    "-target_train\n",
    "\n",
    "Валидационная\n",
    "-features_valid\n",
    "-target_valid\n",
    "\n",
    "Тестовая\n",
    "-features_test\n",
    "-target_test"
   ]
  },
  {
   "cell_type": "code",
   "execution_count": 20,
   "metadata": {},
   "outputs": [],
   "source": [
    "#импортируем библиотеку для стандартноо масштабирования\n",
    "from sklearn.preprocessing import StandardScaler"
   ]
  },
  {
   "cell_type": "code",
   "execution_count": 21,
   "metadata": {},
   "outputs": [
    {
     "data": {
      "text/html": [
       "<div>\n",
       "<style scoped>\n",
       "    .dataframe tbody tr th:only-of-type {\n",
       "        vertical-align: middle;\n",
       "    }\n",
       "\n",
       "    .dataframe tbody tr th {\n",
       "        vertical-align: top;\n",
       "    }\n",
       "\n",
       "    .dataframe thead th {\n",
       "        text-align: right;\n",
       "    }\n",
       "</style>\n",
       "<table border=\"1\" class=\"dataframe\">\n",
       "  <thead>\n",
       "    <tr style=\"text-align: right;\">\n",
       "      <th></th>\n",
       "      <th>CreditScore</th>\n",
       "      <th>Age</th>\n",
       "      <th>Tenure</th>\n",
       "      <th>Balance</th>\n",
       "      <th>NumOfProducts</th>\n",
       "      <th>HasCrCard</th>\n",
       "      <th>IsActiveMember</th>\n",
       "      <th>EstimatedSalary</th>\n",
       "      <th>Geography_Germany</th>\n",
       "      <th>Geography_Spain</th>\n",
       "      <th>Gender_Male</th>\n",
       "    </tr>\n",
       "  </thead>\n",
       "  <tbody>\n",
       "    <tr>\n",
       "      <th>2837</th>\n",
       "      <td>549</td>\n",
       "      <td>49</td>\n",
       "      <td>6.0</td>\n",
       "      <td>124829.16</td>\n",
       "      <td>1</td>\n",
       "      <td>0</td>\n",
       "      <td>1</td>\n",
       "      <td>93551.36</td>\n",
       "      <td>1</td>\n",
       "      <td>0</td>\n",
       "      <td>0</td>\n",
       "    </tr>\n",
       "    <tr>\n",
       "      <th>9925</th>\n",
       "      <td>694</td>\n",
       "      <td>38</td>\n",
       "      <td>-1.0</td>\n",
       "      <td>195926.39</td>\n",
       "      <td>1</td>\n",
       "      <td>1</td>\n",
       "      <td>1</td>\n",
       "      <td>85522.84</td>\n",
       "      <td>0</td>\n",
       "      <td>0</td>\n",
       "      <td>0</td>\n",
       "    </tr>\n",
       "    <tr>\n",
       "      <th>8746</th>\n",
       "      <td>660</td>\n",
       "      <td>34</td>\n",
       "      <td>8.0</td>\n",
       "      <td>106486.66</td>\n",
       "      <td>2</td>\n",
       "      <td>0</td>\n",
       "      <td>1</td>\n",
       "      <td>182262.66</td>\n",
       "      <td>0</td>\n",
       "      <td>0</td>\n",
       "      <td>1</td>\n",
       "    </tr>\n",
       "    <tr>\n",
       "      <th>660</th>\n",
       "      <td>632</td>\n",
       "      <td>41</td>\n",
       "      <td>-1.0</td>\n",
       "      <td>81877.38</td>\n",
       "      <td>1</td>\n",
       "      <td>1</td>\n",
       "      <td>1</td>\n",
       "      <td>33642.21</td>\n",
       "      <td>1</td>\n",
       "      <td>0</td>\n",
       "      <td>0</td>\n",
       "    </tr>\n",
       "    <tr>\n",
       "      <th>3610</th>\n",
       "      <td>580</td>\n",
       "      <td>56</td>\n",
       "      <td>1.0</td>\n",
       "      <td>131368.30</td>\n",
       "      <td>1</td>\n",
       "      <td>1</td>\n",
       "      <td>0</td>\n",
       "      <td>106918.67</td>\n",
       "      <td>0</td>\n",
       "      <td>0</td>\n",
       "      <td>0</td>\n",
       "    </tr>\n",
       "  </tbody>\n",
       "</table>\n",
       "</div>"
      ],
      "text/plain": [
       "      CreditScore  Age  Tenure    Balance  NumOfProducts  HasCrCard  \\\n",
       "2837          549   49     6.0  124829.16              1          0   \n",
       "9925          694   38    -1.0  195926.39              1          1   \n",
       "8746          660   34     8.0  106486.66              2          0   \n",
       "660           632   41    -1.0   81877.38              1          1   \n",
       "3610          580   56     1.0  131368.30              1          1   \n",
       "\n",
       "      IsActiveMember  EstimatedSalary  Geography_Germany  Geography_Spain  \\\n",
       "2837               1         93551.36                  1                0   \n",
       "9925               1         85522.84                  0                0   \n",
       "8746               1        182262.66                  0                0   \n",
       "660                1         33642.21                  1                0   \n",
       "3610               0        106918.67                  0                0   \n",
       "\n",
       "      Gender_Male  \n",
       "2837            0  \n",
       "9925            0  \n",
       "8746            1  \n",
       "660             0  \n",
       "3610            0  "
      ]
     },
     "execution_count": 21,
     "metadata": {},
     "output_type": "execute_result"
    }
   ],
   "source": [
    "features_train.head()"
   ]
  },
  {
   "cell_type": "code",
   "execution_count": 22,
   "metadata": {},
   "outputs": [],
   "source": [
    "numeric = ['CreditScore', 'Age', 'Tenure', 'Balance', 'NumOfProducts', 'EstimatedSalary']"
   ]
  },
  {
   "cell_type": "code",
   "execution_count": 23,
   "metadata": {},
   "outputs": [
    {
     "data": {
      "text/plain": [
       "StandardScaler()"
      ]
     },
     "execution_count": 23,
     "metadata": {},
     "output_type": "execute_result"
    }
   ],
   "source": [
    "#Создадим объект этой структуры и настроим его на обучающих данных:\n",
    "scaler = StandardScaler()\n",
    "scaler.fit(features_train[numeric])"
   ]
  },
  {
   "cell_type": "code",
   "execution_count": 24,
   "metadata": {},
   "outputs": [
    {
     "name": "stderr",
     "output_type": "stream",
     "text": [
      "/tmp/ipykernel_431/3736596033.py:2: SettingWithCopyWarning: \n",
      "A value is trying to be set on a copy of a slice from a DataFrame.\n",
      "Try using .loc[row_indexer,col_indexer] = value instead\n",
      "\n",
      "See the caveats in the documentation: https://pandas.pydata.org/pandas-docs/stable/user_guide/indexing.html#returning-a-view-versus-a-copy\n",
      "  features_train[numeric] = scaler.transform(features_train[numeric])\n",
      "/opt/conda/lib/python3.9/site-packages/pandas/core/indexing.py:1738: SettingWithCopyWarning: \n",
      "A value is trying to be set on a copy of a slice from a DataFrame.\n",
      "Try using .loc[row_indexer,col_indexer] = value instead\n",
      "\n",
      "See the caveats in the documentation: https://pandas.pydata.org/pandas-docs/stable/user_guide/indexing.html#returning-a-view-versus-a-copy\n",
      "  self._setitem_single_column(loc, value[:, i].tolist(), pi)\n"
     ]
    },
    {
     "data": {
      "text/html": [
       "<div>\n",
       "<style scoped>\n",
       "    .dataframe tbody tr th:only-of-type {\n",
       "        vertical-align: middle;\n",
       "    }\n",
       "\n",
       "    .dataframe tbody tr th {\n",
       "        vertical-align: top;\n",
       "    }\n",
       "\n",
       "    .dataframe thead th {\n",
       "        text-align: right;\n",
       "    }\n",
       "</style>\n",
       "<table border=\"1\" class=\"dataframe\">\n",
       "  <thead>\n",
       "    <tr style=\"text-align: right;\">\n",
       "      <th></th>\n",
       "      <th>CreditScore</th>\n",
       "      <th>Age</th>\n",
       "      <th>Tenure</th>\n",
       "      <th>Balance</th>\n",
       "      <th>NumOfProducts</th>\n",
       "      <th>HasCrCard</th>\n",
       "      <th>IsActiveMember</th>\n",
       "      <th>EstimatedSalary</th>\n",
       "      <th>Geography_Germany</th>\n",
       "      <th>Geography_Spain</th>\n",
       "      <th>Gender_Male</th>\n",
       "    </tr>\n",
       "  </thead>\n",
       "  <tbody>\n",
       "    <tr>\n",
       "      <th>2837</th>\n",
       "      <td>-1.040434</td>\n",
       "      <td>0.953312</td>\n",
       "      <td>0.474986</td>\n",
       "      <td>0.774657</td>\n",
       "      <td>-0.914708</td>\n",
       "      <td>0</td>\n",
       "      <td>1</td>\n",
       "      <td>-0.119110</td>\n",
       "      <td>1</td>\n",
       "      <td>0</td>\n",
       "      <td>0</td>\n",
       "    </tr>\n",
       "    <tr>\n",
       "      <th>9925</th>\n",
       "      <td>0.454006</td>\n",
       "      <td>-0.095244</td>\n",
       "      <td>-1.675197</td>\n",
       "      <td>1.910540</td>\n",
       "      <td>-0.914708</td>\n",
       "      <td>1</td>\n",
       "      <td>1</td>\n",
       "      <td>-0.258658</td>\n",
       "      <td>0</td>\n",
       "      <td>0</td>\n",
       "      <td>0</td>\n",
       "    </tr>\n",
       "    <tr>\n",
       "      <th>8746</th>\n",
       "      <td>0.103585</td>\n",
       "      <td>-0.476537</td>\n",
       "      <td>1.089324</td>\n",
       "      <td>0.481608</td>\n",
       "      <td>0.820981</td>\n",
       "      <td>0</td>\n",
       "      <td>1</td>\n",
       "      <td>1.422836</td>\n",
       "      <td>0</td>\n",
       "      <td>0</td>\n",
       "      <td>1</td>\n",
       "    </tr>\n",
       "    <tr>\n",
       "      <th>660</th>\n",
       "      <td>-0.184996</td>\n",
       "      <td>0.190726</td>\n",
       "      <td>-1.675197</td>\n",
       "      <td>0.088439</td>\n",
       "      <td>-0.914708</td>\n",
       "      <td>1</td>\n",
       "      <td>1</td>\n",
       "      <td>-1.160427</td>\n",
       "      <td>1</td>\n",
       "      <td>0</td>\n",
       "      <td>0</td>\n",
       "    </tr>\n",
       "    <tr>\n",
       "      <th>3610</th>\n",
       "      <td>-0.720933</td>\n",
       "      <td>1.620574</td>\n",
       "      <td>-1.060859</td>\n",
       "      <td>0.879129</td>\n",
       "      <td>-0.914708</td>\n",
       "      <td>1</td>\n",
       "      <td>0</td>\n",
       "      <td>0.113236</td>\n",
       "      <td>0</td>\n",
       "      <td>0</td>\n",
       "      <td>0</td>\n",
       "    </tr>\n",
       "  </tbody>\n",
       "</table>\n",
       "</div>"
      ],
      "text/plain": [
       "      CreditScore       Age    Tenure   Balance  NumOfProducts  HasCrCard  \\\n",
       "2837    -1.040434  0.953312  0.474986  0.774657      -0.914708          0   \n",
       "9925     0.454006 -0.095244 -1.675197  1.910540      -0.914708          1   \n",
       "8746     0.103585 -0.476537  1.089324  0.481608       0.820981          0   \n",
       "660     -0.184996  0.190726 -1.675197  0.088439      -0.914708          1   \n",
       "3610    -0.720933  1.620574 -1.060859  0.879129      -0.914708          1   \n",
       "\n",
       "      IsActiveMember  EstimatedSalary  Geography_Germany  Geography_Spain  \\\n",
       "2837               1        -0.119110                  1                0   \n",
       "9925               1        -0.258658                  0                0   \n",
       "8746               1         1.422836                  0                0   \n",
       "660                1        -1.160427                  1                0   \n",
       "3610               0         0.113236                  0                0   \n",
       "\n",
       "      Gender_Male  \n",
       "2837            0  \n",
       "9925            0  \n",
       "8746            1  \n",
       "660             0  \n",
       "3610            0  "
      ]
     },
     "execution_count": 24,
     "metadata": {},
     "output_type": "execute_result"
    }
   ],
   "source": [
    "#Масштабируем численные признаки обучающей выборки \n",
    "features_train[numeric] = scaler.transform(features_train[numeric])\n",
    "features_train.head()"
   ]
  },
  {
   "cell_type": "code",
   "execution_count": 25,
   "metadata": {},
   "outputs": [
    {
     "name": "stderr",
     "output_type": "stream",
     "text": [
      "/tmp/ipykernel_431/3140559217.py:2: SettingWithCopyWarning: \n",
      "A value is trying to be set on a copy of a slice from a DataFrame.\n",
      "Try using .loc[row_indexer,col_indexer] = value instead\n",
      "\n",
      "See the caveats in the documentation: https://pandas.pydata.org/pandas-docs/stable/user_guide/indexing.html#returning-a-view-versus-a-copy\n",
      "  features_valid[numeric] = scaler.transform(features_valid[numeric])\n",
      "/opt/conda/lib/python3.9/site-packages/pandas/core/indexing.py:1738: SettingWithCopyWarning: \n",
      "A value is trying to be set on a copy of a slice from a DataFrame.\n",
      "Try using .loc[row_indexer,col_indexer] = value instead\n",
      "\n",
      "See the caveats in the documentation: https://pandas.pydata.org/pandas-docs/stable/user_guide/indexing.html#returning-a-view-versus-a-copy\n",
      "  self._setitem_single_column(loc, value[:, i].tolist(), pi)\n"
     ]
    },
    {
     "data": {
      "text/html": [
       "<div>\n",
       "<style scoped>\n",
       "    .dataframe tbody tr th:only-of-type {\n",
       "        vertical-align: middle;\n",
       "    }\n",
       "\n",
       "    .dataframe tbody tr th {\n",
       "        vertical-align: top;\n",
       "    }\n",
       "\n",
       "    .dataframe thead th {\n",
       "        text-align: right;\n",
       "    }\n",
       "</style>\n",
       "<table border=\"1\" class=\"dataframe\">\n",
       "  <thead>\n",
       "    <tr style=\"text-align: right;\">\n",
       "      <th></th>\n",
       "      <th>CreditScore</th>\n",
       "      <th>Age</th>\n",
       "      <th>Tenure</th>\n",
       "      <th>Balance</th>\n",
       "      <th>NumOfProducts</th>\n",
       "      <th>HasCrCard</th>\n",
       "      <th>IsActiveMember</th>\n",
       "      <th>EstimatedSalary</th>\n",
       "      <th>Geography_Germany</th>\n",
       "      <th>Geography_Spain</th>\n",
       "      <th>Gender_Male</th>\n",
       "    </tr>\n",
       "  </thead>\n",
       "  <tbody>\n",
       "    <tr>\n",
       "      <th>6612</th>\n",
       "      <td>-1.524838</td>\n",
       "      <td>2.383160</td>\n",
       "      <td>-0.446521</td>\n",
       "      <td>1.011655</td>\n",
       "      <td>-0.914708</td>\n",
       "      <td>0</td>\n",
       "      <td>1</td>\n",
       "      <td>0.010275</td>\n",
       "      <td>0</td>\n",
       "      <td>0</td>\n",
       "      <td>0</td>\n",
       "    </tr>\n",
       "    <tr>\n",
       "      <th>519</th>\n",
       "      <td>0.587990</td>\n",
       "      <td>1.811221</td>\n",
       "      <td>0.474986</td>\n",
       "      <td>0.213192</td>\n",
       "      <td>-0.914708</td>\n",
       "      <td>0</td>\n",
       "      <td>1</td>\n",
       "      <td>0.453089</td>\n",
       "      <td>0</td>\n",
       "      <td>0</td>\n",
       "      <td>1</td>\n",
       "    </tr>\n",
       "    <tr>\n",
       "      <th>1609</th>\n",
       "      <td>-0.318980</td>\n",
       "      <td>-0.381213</td>\n",
       "      <td>1.089324</td>\n",
       "      <td>0.893896</td>\n",
       "      <td>-0.914708</td>\n",
       "      <td>1</td>\n",
       "      <td>0</td>\n",
       "      <td>-0.603508</td>\n",
       "      <td>0</td>\n",
       "      <td>0</td>\n",
       "      <td>0</td>\n",
       "    </tr>\n",
       "    <tr>\n",
       "      <th>3475</th>\n",
       "      <td>1.226991</td>\n",
       "      <td>-0.762506</td>\n",
       "      <td>-0.139352</td>\n",
       "      <td>-0.240363</td>\n",
       "      <td>0.820981</td>\n",
       "      <td>1</td>\n",
       "      <td>1</td>\n",
       "      <td>-1.621460</td>\n",
       "      <td>0</td>\n",
       "      <td>0</td>\n",
       "      <td>1</td>\n",
       "    </tr>\n",
       "    <tr>\n",
       "      <th>2707</th>\n",
       "      <td>-0.133464</td>\n",
       "      <td>-0.095244</td>\n",
       "      <td>-0.446521</td>\n",
       "      <td>0.447305</td>\n",
       "      <td>-0.914708</td>\n",
       "      <td>0</td>\n",
       "      <td>0</td>\n",
       "      <td>0.338574</td>\n",
       "      <td>0</td>\n",
       "      <td>0</td>\n",
       "      <td>0</td>\n",
       "    </tr>\n",
       "  </tbody>\n",
       "</table>\n",
       "</div>"
      ],
      "text/plain": [
       "      CreditScore       Age    Tenure   Balance  NumOfProducts  HasCrCard  \\\n",
       "6612    -1.524838  2.383160 -0.446521  1.011655      -0.914708          0   \n",
       "519      0.587990  1.811221  0.474986  0.213192      -0.914708          0   \n",
       "1609    -0.318980 -0.381213  1.089324  0.893896      -0.914708          1   \n",
       "3475     1.226991 -0.762506 -0.139352 -0.240363       0.820981          1   \n",
       "2707    -0.133464 -0.095244 -0.446521  0.447305      -0.914708          0   \n",
       "\n",
       "      IsActiveMember  EstimatedSalary  Geography_Germany  Geography_Spain  \\\n",
       "6612               1         0.010275                  0                0   \n",
       "519                1         0.453089                  0                0   \n",
       "1609               0        -0.603508                  0                0   \n",
       "3475               1        -1.621460                  0                0   \n",
       "2707               0         0.338574                  0                0   \n",
       "\n",
       "      Gender_Male  \n",
       "6612            0  \n",
       "519             1  \n",
       "1609            0  \n",
       "3475            1  \n",
       "2707            0  "
      ]
     },
     "execution_count": 25,
     "metadata": {},
     "output_type": "execute_result"
    }
   ],
   "source": [
    "#Масштабируем численные признаки валидационной выборки \n",
    "features_valid[numeric] = scaler.transform(features_valid[numeric])\n",
    "features_valid.head()"
   ]
  },
  {
   "cell_type": "code",
   "execution_count": 26,
   "metadata": {},
   "outputs": [
    {
     "name": "stderr",
     "output_type": "stream",
     "text": [
      "/tmp/ipykernel_431/2594626460.py:2: SettingWithCopyWarning: \n",
      "A value is trying to be set on a copy of a slice from a DataFrame.\n",
      "Try using .loc[row_indexer,col_indexer] = value instead\n",
      "\n",
      "See the caveats in the documentation: https://pandas.pydata.org/pandas-docs/stable/user_guide/indexing.html#returning-a-view-versus-a-copy\n",
      "  features_test[numeric] = scaler.transform(features_test[numeric])\n",
      "/opt/conda/lib/python3.9/site-packages/pandas/core/indexing.py:1738: SettingWithCopyWarning: \n",
      "A value is trying to be set on a copy of a slice from a DataFrame.\n",
      "Try using .loc[row_indexer,col_indexer] = value instead\n",
      "\n",
      "See the caveats in the documentation: https://pandas.pydata.org/pandas-docs/stable/user_guide/indexing.html#returning-a-view-versus-a-copy\n",
      "  self._setitem_single_column(loc, value[:, i].tolist(), pi)\n"
     ]
    },
    {
     "data": {
      "text/html": [
       "<div>\n",
       "<style scoped>\n",
       "    .dataframe tbody tr th:only-of-type {\n",
       "        vertical-align: middle;\n",
       "    }\n",
       "\n",
       "    .dataframe tbody tr th {\n",
       "        vertical-align: top;\n",
       "    }\n",
       "\n",
       "    .dataframe thead th {\n",
       "        text-align: right;\n",
       "    }\n",
       "</style>\n",
       "<table border=\"1\" class=\"dataframe\">\n",
       "  <thead>\n",
       "    <tr style=\"text-align: right;\">\n",
       "      <th></th>\n",
       "      <th>CreditScore</th>\n",
       "      <th>Age</th>\n",
       "      <th>Tenure</th>\n",
       "      <th>Balance</th>\n",
       "      <th>NumOfProducts</th>\n",
       "      <th>HasCrCard</th>\n",
       "      <th>IsActiveMember</th>\n",
       "      <th>EstimatedSalary</th>\n",
       "      <th>Geography_Germany</th>\n",
       "      <th>Geography_Spain</th>\n",
       "      <th>Gender_Male</th>\n",
       "    </tr>\n",
       "  </thead>\n",
       "  <tbody>\n",
       "    <tr>\n",
       "      <th>657</th>\n",
       "      <td>-0.504497</td>\n",
       "      <td>1.429928</td>\n",
       "      <td>-1.060859</td>\n",
       "      <td>0.873883</td>\n",
       "      <td>0.820981</td>\n",
       "      <td>1</td>\n",
       "      <td>1</td>\n",
       "      <td>1.725255</td>\n",
       "      <td>1</td>\n",
       "      <td>0</td>\n",
       "      <td>0</td>\n",
       "    </tr>\n",
       "    <tr>\n",
       "      <th>2083</th>\n",
       "      <td>-1.195031</td>\n",
       "      <td>-1.429769</td>\n",
       "      <td>-1.060859</td>\n",
       "      <td>-1.219673</td>\n",
       "      <td>-0.914708</td>\n",
       "      <td>1</td>\n",
       "      <td>1</td>\n",
       "      <td>1.203665</td>\n",
       "      <td>0</td>\n",
       "      <td>0</td>\n",
       "      <td>1</td>\n",
       "    </tr>\n",
       "    <tr>\n",
       "      <th>3234</th>\n",
       "      <td>-1.267176</td>\n",
       "      <td>0.762665</td>\n",
       "      <td>-1.060859</td>\n",
       "      <td>-1.219673</td>\n",
       "      <td>-0.914708</td>\n",
       "      <td>1</td>\n",
       "      <td>0</td>\n",
       "      <td>-1.374743</td>\n",
       "      <td>0</td>\n",
       "      <td>0</td>\n",
       "      <td>1</td>\n",
       "    </tr>\n",
       "    <tr>\n",
       "      <th>1551</th>\n",
       "      <td>0.825039</td>\n",
       "      <td>1.239281</td>\n",
       "      <td>0.782155</td>\n",
       "      <td>-1.219673</td>\n",
       "      <td>0.820981</td>\n",
       "      <td>0</td>\n",
       "      <td>1</td>\n",
       "      <td>0.382306</td>\n",
       "      <td>0</td>\n",
       "      <td>1</td>\n",
       "      <td>0</td>\n",
       "    </tr>\n",
       "    <tr>\n",
       "      <th>2344</th>\n",
       "      <td>0.660135</td>\n",
       "      <td>0.953312</td>\n",
       "      <td>-0.139352</td>\n",
       "      <td>0.267087</td>\n",
       "      <td>-0.914708</td>\n",
       "      <td>1</td>\n",
       "      <td>0</td>\n",
       "      <td>-1.613578</td>\n",
       "      <td>1</td>\n",
       "      <td>0</td>\n",
       "      <td>0</td>\n",
       "    </tr>\n",
       "  </tbody>\n",
       "</table>\n",
       "</div>"
      ],
      "text/plain": [
       "      CreditScore       Age    Tenure   Balance  NumOfProducts  HasCrCard  \\\n",
       "657     -0.504497  1.429928 -1.060859  0.873883       0.820981          1   \n",
       "2083    -1.195031 -1.429769 -1.060859 -1.219673      -0.914708          1   \n",
       "3234    -1.267176  0.762665 -1.060859 -1.219673      -0.914708          1   \n",
       "1551     0.825039  1.239281  0.782155 -1.219673       0.820981          0   \n",
       "2344     0.660135  0.953312 -0.139352  0.267087      -0.914708          1   \n",
       "\n",
       "      IsActiveMember  EstimatedSalary  Geography_Germany  Geography_Spain  \\\n",
       "657                1         1.725255                  1                0   \n",
       "2083               1         1.203665                  0                0   \n",
       "3234               0        -1.374743                  0                0   \n",
       "1551               1         0.382306                  0                1   \n",
       "2344               0        -1.613578                  1                0   \n",
       "\n",
       "      Gender_Male  \n",
       "657             0  \n",
       "2083            1  \n",
       "3234            1  \n",
       "1551            0  \n",
       "2344            0  "
      ]
     },
     "execution_count": 26,
     "metadata": {},
     "output_type": "execute_result"
    }
   ],
   "source": [
    "#Масштабируем численные признаки тестовой выборки \n",
    "features_test[numeric] = scaler.transform(features_test[numeric])\n",
    "features_test.head()"
   ]
  },
  {
   "cell_type": "markdown",
   "metadata": {},
   "source": [
    "В результате мы получили масштабированные признаки для трех выборок. Перейдем к исследованию задачим моделями машинного обучения."
   ]
  },
  {
   "cell_type": "markdown",
   "metadata": {},
   "source": [
    "## Исследование задачи"
   ]
  },
  {
   "cell_type": "markdown",
   "metadata": {},
   "source": [
    "Для исследовательского обучения используем три модели"
   ]
  },
  {
   "cell_type": "markdown",
   "metadata": {},
   "source": [
    "2.1 Обучение модел"
   ]
  },
  {
   "cell_type": "code",
   "execution_count": 27,
   "metadata": {},
   "outputs": [],
   "source": [
    "#импорт библиотек трех моделей\n",
    "#Деревое решений\n",
    "from sklearn.tree import DecisionTreeClassifier\n",
    "\n",
    "#Случайный лес \n",
    "from sklearn.ensemble import RandomForestClassifier\n",
    "\n",
    "#Логистическая регрессия\n",
    "from sklearn.linear_model import LogisticRegression"
   ]
  },
  {
   "cell_type": "code",
   "execution_count": 28,
   "metadata": {},
   "outputs": [],
   "source": [
    "#метика accuracy\n",
    "from sklearn.metrics import accuracy_score\n",
    "\n",
    "#матрица ошибок\n",
    "from sklearn.metrics import confusion_matrix\n",
    "\n",
    "#полнота\n",
    "from sklearn.metrics import recall_score\n",
    "\n",
    "#точность\n",
    "from sklearn.metrics import precision_score\n",
    "\n",
    "#F-1 мера\n",
    "from sklearn.metrics import f1_score\n",
    "\n",
    "#AUC-ROC\n",
    "from sklearn.metrics import roc_auc_score\n",
    "\n",
    "#ROC-кривая\n",
    "from sklearn.metrics import roc_curve"
   ]
  },
  {
   "cell_type": "markdown",
   "metadata": {},
   "source": [
    "2.1. Точность разных моделей"
   ]
  },
  {
   "cell_type": "code",
   "execution_count": 29,
   "metadata": {},
   "outputs": [],
   "source": [
    "def all_models_accuracy(features_train, target_train, features_valid, target_valid):\n",
    "    model_DTC = DecisionTreeClassifier(random_state=123)\n",
    "    DTC_score = model_DTC.fit(features_train, target_train).score(features_valid, target_valid)\n",
    "    \n",
    "    model_RFC = RandomForestClassifier(random_state=12345, n_estimators = 100)\n",
    "    RFC_score = model_RFC.fit(features_train, target_train).score(features_valid, target_valid)\n",
    "    \n",
    "    model_LgR = LogisticRegression(solver = 'liblinear')\n",
    "    LgR_score = model_LgR.fit(features_train, target_train).score(features_valid, target_valid)\n",
    "    print(\"Точность:\" \"дерево решений\", DTC_score, \"случайный лес \", RFC_score, \"логистческая регрессия\", LgR_score)"
   ]
  },
  {
   "cell_type": "code",
   "execution_count": 30,
   "metadata": {},
   "outputs": [
    {
     "name": "stdout",
     "output_type": "stream",
     "text": [
      "Точность:дерево решений 0.7945 случайный лес  0.8645 логистческая регрессия 0.811\n"
     ]
    }
   ],
   "source": [
    "all_models_accuracy(features_train, target_train, features_valid, target_valid)"
   ]
  },
  {
   "cell_type": "markdown",
   "metadata": {},
   "source": [
    "2.2 Проверка баланса классов выборки"
   ]
  },
  {
   "cell_type": "code",
   "execution_count": 31,
   "metadata": {},
   "outputs": [
    {
     "data": {
      "text/plain": [
       "0    0.796333\n",
       "1    0.203667\n",
       "Name: Exited, dtype: float64"
      ]
     },
     "execution_count": 31,
     "metadata": {},
     "output_type": "execute_result"
    }
   ],
   "source": [
    "target_train.value_counts(normalize = 1)"
   ]
  },
  {
   "cell_type": "code",
   "execution_count": 32,
   "metadata": {},
   "outputs": [
    {
     "data": {
      "text/plain": [
       "0    0.796\n",
       "1    0.204\n",
       "Name: Exited, dtype: float64"
      ]
     },
     "execution_count": 32,
     "metadata": {},
     "output_type": "execute_result"
    }
   ],
   "source": [
    "target_valid.value_counts(normalize = 1)"
   ]
  },
  {
   "cell_type": "markdown",
   "metadata": {},
   "source": [
    "У обучающией и валидационной выборок наблюдается заметный дисбаланс класов. Ответы 0 ≈80% , 1 ≈ 20%\n",
    "Можно ожидать, что результаты предсказаний моделей будут сильно склоняться к одному варианту ответов."
   ]
  },
  {
   "cell_type": "markdown",
   "metadata": {},
   "source": [
    "2.3 Проверка адекватности"
   ]
  },
  {
   "cell_type": "markdown",
   "metadata": {},
   "source": [
    "Проверим какое соотношение ответов выдает каждая модель."
   ]
  },
  {
   "cell_type": "code",
   "execution_count": 33,
   "metadata": {},
   "outputs": [],
   "source": [
    "def all_models_share(features_train, target_train, features_valid, target_valid):\n",
    "    model_DTC = DecisionTreeClassifier(random_state=123)\n",
    "    model_DTC.fit(features_train, target_train)\n",
    "    DTC_share = pd.Series(model_DTC.predict(features_valid)).value_counts(normalize = 1)\n",
    "    \n",
    "    \n",
    "    \n",
    "    model_RFC = RandomForestClassifier(random_state=12345, n_estimators = 100)\n",
    "    model_RFC.fit(features_train, target_train)\n",
    "    RFC_share = pd.Series(model_RFC.predict(features_valid)).value_counts(normalize = 1)\n",
    "    \n",
    "    model_LgR = LogisticRegression(solver = 'liblinear')\n",
    "    model_LgR.fit(features_train, target_train)\n",
    "    LgR_share = pd.Series(model_LgR.predict(features_valid)).value_counts(normalize = 1)\n",
    "    \n",
    "\n",
    "    \n",
    "    print(\"Доли ответов:\" \"дерево решений\", DTC_share, \"случайный лес \", RFC_share, \"логистческая регрессия\", LgR_share , end='')"
   ]
  },
  {
   "cell_type": "code",
   "execution_count": 34,
   "metadata": {},
   "outputs": [
    {
     "name": "stdout",
     "output_type": "stream",
     "text": [
      "Доли ответов:дерево решений 0    0.7845\n",
      "1    0.2155\n",
      "dtype: float64 случайный лес  0    0.8675\n",
      "1    0.1325\n",
      "dtype: float64 логистческая регрессия 0    0.931\n",
      "1    0.069\n",
      "dtype: float64"
     ]
    }
   ],
   "source": [
    "all_models_share(features_train, target_train, features_valid, target_valid)"
   ]
  },
  {
   "cell_type": "markdown",
   "metadata": {},
   "source": [
    "Логистичесая регрессия показывала самую высокую точность, но данная модель выдает 100% одинаковый результат = 0\n",
    "Сравним качество предсказаний с константной моделью. За константу примем пример 0, так как это значение встречается 80% случаев"
   ]
  },
  {
   "cell_type": "code",
   "execution_count": 35,
   "metadata": {},
   "outputs": [
    {
     "data": {
      "text/plain": [
       "(2000,)"
      ]
     },
     "execution_count": 35,
     "metadata": {},
     "output_type": "execute_result"
    }
   ],
   "source": [
    "#Создаем константную модель\n",
    "target_predict_constant = pd.Series([0]*len(target_valid))\n",
    "target_predict_constant.shape"
   ]
  },
  {
   "cell_type": "code",
   "execution_count": 36,
   "metadata": {},
   "outputs": [
    {
     "data": {
      "text/plain": [
       "0.796"
      ]
     },
     "execution_count": 36,
     "metadata": {},
     "output_type": "execute_result"
    }
   ],
   "source": [
    "accuracy_score_constant = accuracy_score(target_valid, target_predict_constant)\n",
    "accuracy_score_constant"
   ]
  },
  {
   "cell_type": "markdown",
   "metadata": {},
   "source": [
    "Точность моделей: дерево решений 0.2915 случайный лес 0.5 логистческая регрессия 0.796\n",
    "Точность константной модели: 0.796\n",
    "Ни одна модель не показал результат выше констентной модели, вероятно проблема кроется в дисбалансе классов.\n",
    "\n",
    "Чтобы разобраться подбробнее ознакомися с матрицой ошибок для каждой модели."
   ]
  },
  {
   "cell_type": "code",
   "execution_count": 37,
   "metadata": {},
   "outputs": [
    {
     "data": {
      "text/plain": [
       "array([[1375,  217],\n",
       "       [ 194,  214]])"
      ]
     },
     "execution_count": 37,
     "metadata": {},
     "output_type": "execute_result"
    }
   ],
   "source": [
    "#матрица ошибок для дерево решений\n",
    "model_DTC = DecisionTreeClassifier(random_state=123)\n",
    "model_DTC.fit(features_train, target_train)\n",
    "DTC_prediction = model_DTC.predict(features_valid)\n",
    "confusion_matrix(target_valid, DTC_prediction)"
   ]
  },
  {
   "cell_type": "markdown",
   "metadata": {},
   "source": [
    "Дерево решений склонно выдавать позитивные предсказания, очень высокое количество ложных позитивных предсказания (FP)\n",
    "Изучим полноту, точность и F1-меру"
   ]
  },
  {
   "cell_type": "code",
   "execution_count": 38,
   "metadata": {},
   "outputs": [],
   "source": [
    "def rec_prec_f1(target_valid, prediction):\n",
    "    print(\"Полнота\" , recall_score(target_valid, prediction))\n",
    "    print(\"Точность\", precision_score(target_valid, prediction))\n",
    "    print(\"F1-мера\", f1_score(target_valid, prediction))\n",
    "    print(\"AUC-ROC\", roc_auc_score(target_valid, prediction))"
   ]
  },
  {
   "cell_type": "code",
   "execution_count": 39,
   "metadata": {},
   "outputs": [
    {
     "name": "stdout",
     "output_type": "stream",
     "text": [
      "Полнота 0.5245098039215687\n",
      "Точность 0.4965197215777262\n",
      "F1-мера 0.5101311084624552\n",
      "AUC-ROC 0.694101635629126\n"
     ]
    }
   ],
   "source": [
    "#полнота, точность и F1-мера для дерева решений\n",
    "rec_prec_f1(target_valid, DTC_prediction)"
   ]
  },
  {
   "cell_type": "markdown",
   "metadata": {},
   "source": [
    "Низкое значние F1- меры свидетельствует о низком качестве модели, проблема в точности."
   ]
  },
  {
   "cell_type": "code",
   "execution_count": 40,
   "metadata": {},
   "outputs": [
    {
     "data": {
      "text/plain": [
       "array([[1528,   64],\n",
       "       [ 207,  201]])"
      ]
     },
     "execution_count": 40,
     "metadata": {},
     "output_type": "execute_result"
    }
   ],
   "source": [
    "#матрица ошибок для случайного леса\n",
    "model_RFC = RandomForestClassifier(random_state=12345, n_estimators = 100)\n",
    "model_RFC.fit(features_train, target_train)\n",
    "RFC_prediction = model_RFC.predict(features_valid)\n",
    "confusion_matrix(target_valid, RFC_prediction)"
   ]
  },
  {
   "cell_type": "markdown",
   "metadata": {},
   "source": [
    "Случайный лес примерно равную пропорцию позитивных и негативных предсказаний, выдает заметно больше качественных предсказаний, но также сильно склоняется к ложно позитивным предсказаниям (FP)"
   ]
  },
  {
   "cell_type": "code",
   "execution_count": 41,
   "metadata": {},
   "outputs": [
    {
     "name": "stdout",
     "output_type": "stream",
     "text": [
      "Полнота 0.49264705882352944\n",
      "Точность 0.7584905660377359\n",
      "F1-мера 0.5973254086181279\n",
      "AUC-ROC 0.7262230268992019\n"
     ]
    }
   ],
   "source": [
    "#полнота, точность и F1-мера для случайного леса\n",
    "rec_prec_f1(target_valid, RFC_prediction)"
   ]
  },
  {
   "cell_type": "markdown",
   "metadata": {},
   "source": [
    "Низкое значние F1- меры свидетельствует о низком качестве модели, проблема в точности."
   ]
  },
  {
   "cell_type": "code",
   "execution_count": 42,
   "metadata": {},
   "outputs": [
    {
     "data": {
      "text/plain": [
       "array([[1538,   54],\n",
       "       [ 324,   84]])"
      ]
     },
     "execution_count": 42,
     "metadata": {},
     "output_type": "execute_result"
    }
   ],
   "source": [
    "#матрица ошибок для логистической регрессии\n",
    "model_LgR = LogisticRegression(solver = 'liblinear')\n",
    "model_LgR.fit(features_train, target_train)\n",
    "LgR_prediction = model_LgR.predict(features_valid)\n",
    "confusion_matrix(target_valid, LgR_prediction)"
   ]
  },
  {
   "cell_type": "markdown",
   "metadata": {},
   "source": [
    "Для логистической регрессии расчитаем метрику AUC-ROC"
   ]
  },
  {
   "cell_type": "code",
   "execution_count": 43,
   "metadata": {},
   "outputs": [
    {
     "data": {
      "text/plain": [
       "0.7875914498965415"
      ]
     },
     "execution_count": 43,
     "metadata": {},
     "output_type": "execute_result"
    }
   ],
   "source": [
    "LgR_probabilities_one_valid = model_LgR.predict_proba(features_valid)[:, 1]\n",
    "\n",
    "auc_roc_LgR = roc_auc_score(target_valid, LgR_probabilities_one_valid)\n",
    "\n",
    "auc_roc_LgR"
   ]
  },
  {
   "cell_type": "code",
   "execution_count": 44,
   "metadata": {},
   "outputs": [
    {
     "data": {
      "image/png": "[encoded data removed]",
      "text/plain": [
       "<Figure size 432x288 with 1 Axes>"
      ]
     },
     "metadata": {
      "needs_background": "light"
     },
     "output_type": "display_data"
    }
   ],
   "source": [
    "fpr, tpr, thresholds = roc_curve(target_valid, LgR_probabilities_one_valid) \n",
    "\n",
    "plt.figure()\n",
    "plt.plot(fpr, tpr)\n",
    "plt.plot([0, 1], [0, 1], linestyle='--')\n",
    "plt.xlim([0.0, 1.0])\n",
    "plt.ylim([0.0, 1.0])\n",
    "plt.xlabel('False Positive Rate')\n",
    "plt.ylabel('True Positive Rate')\n",
    "plt.title('ROC-кривая')\n",
    "plt.show()"
   ]
  },
  {
   "cell_type": "code",
   "execution_count": 45,
   "metadata": {},
   "outputs": [
    {
     "data": {
      "text/plain": [
       "0.7875914498965415"
      ]
     },
     "execution_count": 45,
     "metadata": {},
     "output_type": "execute_result"
    }
   ],
   "source": [
    "LgR_probabilities_one_valid = model_LgR.predict_proba(features_valid)[:, 1]\n",
    "\n",
    "auc_roc_LgR = roc_auc_score(target_valid, LgR_probabilities_one_valid)\n",
    "\n",
    "auc_roc_LgR"
   ]
  },
  {
   "cell_type": "code",
   "execution_count": 46,
   "metadata": {},
   "outputs": [
    {
     "data": {
      "image/png": "[encoded data removed]",
      "text/plain": [
       "<Figure size 432x288 with 1 Axes>"
      ]
     },
     "metadata": {
      "needs_background": "light"
     },
     "output_type": "display_data"
    }
   ],
   "source": [
    "fpr, tpr, thresholds = roc_curve(target_valid, LgR_probabilities_one_valid) \n",
    "\n",
    "plt.figure()\n",
    "plt.plot(fpr, tpr)\n",
    "plt.plot([0, 1], [0, 1], linestyle='--')\n",
    "plt.xlim([0.0, 1.0])\n",
    "plt.ylim([0.0, 1.0])\n",
    "plt.xlabel('False Positive Rate')\n",
    "plt.ylabel('True Positive Rate')\n",
    "plt.title('ROC-кривая')\n",
    "plt.show()"
   ]
  },
  {
   "cell_type": "code",
   "execution_count": 47,
   "metadata": {},
   "outputs": [
    {
     "name": "stdout",
     "output_type": "stream",
     "text": [
      "Score 0.733\n",
      "AUC-ROC 0.7938097349492561\n"
     ]
    },
    {
     "data": {
      "image/png": "[encoded data removed]",
      "text/plain": [
       "<Figure size 432x288 with 1 Axes>"
      ]
     },
     "metadata": {
      "needs_background": "light"
     },
     "output_type": "display_data"
    }
   ],
   "source": [
    "#попробуем обучать логистическую регресию сбалансировав классы\n",
    "model_LgR = LogisticRegression(solver = 'liblinear', class_weight='balanced')\n",
    "model_LgR.fit(features_train, target_train)\n",
    "LgR_probabilities_one_valid_class_weight = model_LgR.predict_proba(features_valid)[:, 1]\n",
    "print(\"Score\", model_LgR.score(features_valid, target_valid))\n",
    "print(\"AUC-ROC\", roc_auc_score(target_valid, LgR_probabilities_one_valid_class_weight))\n",
    "\n",
    "fpr, tpr, thresholds = roc_curve(target_valid, LgR_probabilities_one_valid_class_weight) \n",
    "plt.figure()\n",
    "plt.plot(fpr, tpr)\n",
    "plt.plot([0, 1], [0, 1], linestyle='--')\n",
    "plt.xlim([0.0, 1.0])\n",
    "plt.ylim([0.0, 1.0])\n",
    "plt.xlabel('False Positive Rate')\n",
    "plt.ylabel('True Positive Rate')\n",
    "plt.title('ROC-кривая')\n",
    "plt.show()"
   ]
  },
  {
   "cell_type": "markdown",
   "metadata": {},
   "source": [
    "Точность предсказаний не улучшилась.\n",
    "\n",
    "Логистическая регрессия выдает 100% негативных предсказаний — высокая точность модели объясняется высокой долей негативных ответов в валидационной выборке.\n",
    "\n",
    "Перейдем к формированию сбалансированных выборок"
   ]
  },
  {
   "cell_type": "markdown",
   "metadata": {},
   "source": [
    "## Борьба с дисбалансом"
   ]
  },
  {
   "cell_type": "markdown",
   "metadata": {},
   "source": [
    "3.1 Борьба с дисбалансом"
   ]
  },
  {
   "cell_type": "code",
   "execution_count": 48,
   "metadata": {},
   "outputs": [],
   "source": [
    "from sklearn.utils import shuffle"
   ]
  },
  {
   "cell_type": "markdown",
   "metadata": {},
   "source": [
    "Как мы выяснили ранее в нашей выборке отрицательны ответов ≈80% , положитительных ≈ 20%.\n",
    "Нам необходмо увеличить количество положительных ответов в 4 раза для достижения баланса.\n",
    "\n",
    "-Разделим обучающую выборку на отрицательные и положительные объекты;\n",
    "-Скопируем несколько раз положительные объекты;\n",
    "-С учётом полученных данных создадим новую обучающую выборку;\n",
    "-Перемешаем данные: идущие друг за другом одинаковые вопросы не помогут обучению.\n",
    "-Обучим новые модели"
   ]
  },
  {
   "cell_type": "code",
   "execution_count": 49,
   "metadata": {},
   "outputs": [
    {
     "data": {
      "text/plain": [
       "0    0.796333\n",
       "1    0.203667\n",
       "Name: Exited, dtype: float64"
      ]
     },
     "execution_count": 49,
     "metadata": {},
     "output_type": "execute_result"
    }
   ],
   "source": [
    "#Ознакомимся с пероначальным распределением классов\n",
    "target_train.value_counts(normalize = 1)"
   ]
  },
  {
   "cell_type": "code",
   "execution_count": 50,
   "metadata": {},
   "outputs": [
    {
     "data": {
      "text/plain": [
       "(6000,)"
      ]
     },
     "execution_count": 50,
     "metadata": {},
     "output_type": "execute_result"
    }
   ],
   "source": [
    "target_train.shape"
   ]
  },
  {
   "cell_type": "code",
   "execution_count": 51,
   "metadata": {},
   "outputs": [
    {
     "data": {
      "text/plain": [
       "<AxesSubplot:ylabel='Frequency'>"
      ]
     },
     "execution_count": 51,
     "metadata": {},
     "output_type": "execute_result"
    },
    {
     "data": {
      "image/png": "[encoded data removed]",
      "text/plain": [
       "<Figure size 72x72 with 1 Axes>"
      ]
     },
     "metadata": {
      "needs_background": "light"
     },
     "output_type": "display_data"
    }
   ],
   "source": [
    "target_train.plot(kind ='hist', bins=2, figsize=(1,1))"
   ]
  },
  {
   "cell_type": "code",
   "execution_count": 52,
   "metadata": {},
   "outputs": [],
   "source": [
    "#создадим функцию для увеличения представленной класса в выборке \n",
    "def upsample(features, target, repeat, upsampled_сlass):\n",
    "    features_zeros = features[target == 0]\n",
    "    features_ones = features[target == 1]\n",
    "    target_zeros = target[target == 0]\n",
    "    target_ones = target[target == 1]\n",
    "    \n",
    "    if upsampled_сlass == 0:\n",
    "        features_upsampled = pd.concat([features_zeros]* repeat + [features_ones] )\n",
    "        target_upsampled = pd.concat([target_zeros]* repeat + [target_ones] )\n",
    "        features_upsampled, target_upsampled = shuffle(\n",
    "        features_upsampled, target_upsampled, random_state=12345)\n",
    "        \n",
    "    elif upsampled_сlass == 1:\n",
    "        features_upsampled = pd.concat([features_zeros] + [features_ones] * repeat)\n",
    "        target_upsampled = pd.concat([target_zeros] + [target_ones] * repeat)\n",
    "        features_upsampled, target_upsampled = shuffle(\n",
    "        features_upsampled, target_upsampled, random_state=12345)\n",
    "    else:\n",
    "        features_upsampled = 0\n",
    "        target_upsampled = 0  \n",
    "        \n",
    "        \n",
    "       \n",
    "    return features_upsampled, target_upsampled\n",
    "    \"Функция принимаем значение признаков (features[]), целевого признака (target[]), repeat(int / float), \"\n",
    "    \" класс который будет увеличен (upsampled_сlass (0 or 1))\""
   ]
  },
  {
   "cell_type": "code",
   "execution_count": 53,
   "metadata": {},
   "outputs": [
    {
     "name": "stdout",
     "output_type": "stream",
     "text": [
      "0    0.939904\n",
      "1    0.060096\n",
      "Name: Exited, dtype: float64\n",
      "(20334,)\n"
     ]
    }
   ],
   "source": [
    "#Протестируем функцию (верное значение)\n",
    "features_train_upsampled, target_train_upsampled = upsample(features_train, target_train, 4, 0)\n",
    "print(target_train_upsampled.value_counts(normalize = 1))\n",
    "print(target_train_upsampled.shape)"
   ]
  },
  {
   "cell_type": "code",
   "execution_count": 54,
   "metadata": {},
   "outputs": [
    {
     "data": {
      "text/plain": [
       "0"
      ]
     },
     "execution_count": 54,
     "metadata": {},
     "output_type": "execute_result"
    }
   ],
   "source": [
    "#Протестируем функцию (верное значение)\n",
    "features_train_upsampled, target_train_upsampled = upsample(features_train, target_train, 4, 3)\n",
    "features_train_upsampled"
   ]
  },
  {
   "cell_type": "code",
   "execution_count": 55,
   "metadata": {},
   "outputs": [
    {
     "name": "stdout",
     "output_type": "stream",
     "text": [
      "1    0.50569\n",
      "0    0.49431\n",
      "Name: Exited, dtype: float64\n",
      "(9666,)\n"
     ]
    }
   ],
   "source": [
    "#применим функцию upsample \n",
    "#увеличим количество положительных ответов в 4 раза\n",
    "features_train_upsampled, target_train_upsampled = upsample(features_train, target_train, 4, 1)\n",
    "print(target_train_upsampled.value_counts(normalize = 1))\n",
    "print(target_train_upsampled.shape)"
   ]
  },
  {
   "cell_type": "code",
   "execution_count": 56,
   "metadata": {},
   "outputs": [
    {
     "data": {
      "text/plain": [
       "<AxesSubplot:ylabel='Frequency'>"
      ]
     },
     "execution_count": 56,
     "metadata": {},
     "output_type": "execute_result"
    },
    {
     "data": {
      "image/png": "[encoded data removed]",
      "text/plain": [
       "<Figure size 72x72 with 1 Axes>"
      ]
     },
     "metadata": {
      "needs_background": "light"
     },
     "output_type": "display_data"
    }
   ],
   "source": [
    "target_train_upsampled.plot(kind ='hist', bins=2, figsize=(1,1))"
   ]
  },
  {
   "cell_type": "markdown",
   "metadata": {},
   "source": [
    "Мы получили сбалансированное количество классов, перейдем к обучению моеделей на новы данных."
   ]
  },
  {
   "cell_type": "markdown",
   "metadata": {},
   "source": [
    "3.2 Обучение моделей на сбаланированной выборке"
   ]
  },
  {
   "cell_type": "markdown",
   "metadata": {},
   "source": [
    "Точность (score)"
   ]
  },
  {
   "cell_type": "code",
   "execution_count": 57,
   "metadata": {},
   "outputs": [
    {
     "name": "stdout",
     "output_type": "stream",
     "text": [
      "Точность:дерево решений 0.7945 случайный лес  0.8645 логистческая регрессия 0.811\n"
     ]
    }
   ],
   "source": [
    "#точность моделей на выборке с дисбалансом\n",
    "all_models_accuracy(features_train, target_train, features_valid, target_valid)"
   ]
  },
  {
   "cell_type": "code",
   "execution_count": 58,
   "metadata": {},
   "outputs": [
    {
     "name": "stdout",
     "output_type": "stream",
     "text": [
      "Точность:дерево решений 0.8065 случайный лес  0.852 логистческая регрессия 0.7255\n"
     ]
    }
   ],
   "source": [
    "#точность моделей на сбалансированной выборке\n",
    "all_models_accuracy(features_train_upsampled, target_train_upsampled, features_valid, target_valid)"
   ]
  },
  {
   "cell_type": "markdown",
   "metadata": {},
   "source": [
    "Точность моделей изменились незначительно, но проверим изменилось ли качество ответов."
   ]
  },
  {
   "cell_type": "markdown",
   "metadata": {},
   "source": [
    "Качество предсказаний"
   ]
  },
  {
   "cell_type": "code",
   "execution_count": 59,
   "metadata": {},
   "outputs": [
    {
     "name": "stdout",
     "output_type": "stream",
     "text": [
      "Полнота 0.5122549019607843\n",
      "Точность 0.5264483627204031\n",
      "F1-мера 0.5192546583850932\n",
      "AUC-ROC 0.6970822248497388\n"
     ]
    }
   ],
   "source": [
    "#Решающее дерево\n",
    "model_DTC_upsampled = DecisionTreeClassifier(random_state=123)\n",
    "model_DTC_upsampled.fit(features_train_upsampled, target_train_upsampled)\n",
    "DTC_prediction_upsampled = model_DTC_upsampled.predict(features_valid)\n",
    "rec_prec_f1(target_valid, DTC_prediction_upsampled)"
   ]
  },
  {
   "cell_type": "code",
   "execution_count": 60,
   "metadata": {},
   "outputs": [
    {
     "name": "stdout",
     "output_type": "stream",
     "text": [
      "Полнота 0.5759803921568627\n",
      "Точность 0.6564245810055865\n",
      "F1-мера 0.6135770234986945\n",
      "AUC-ROC 0.7493595428120997\n"
     ]
    }
   ],
   "source": [
    "#Случайный лес\n",
    "model_RFC_upsampled = RandomForestClassifier(random_state=12345, n_estimators = 100)\n",
    "model_RFC_upsampled.fit(features_train_upsampled, target_train_upsampled)\n",
    "RFC_prediction_upsampled = model_RFC_upsampled.predict(features_valid)\n",
    "rec_prec_f1(target_valid, RFC_prediction_upsampled)"
   ]
  },
  {
   "cell_type": "code",
   "execution_count": 61,
   "metadata": {},
   "outputs": [
    {
     "name": "stdout",
     "output_type": "stream",
     "text": [
      "Полнота 0.7426470588235294\n",
      "Точность 0.40562248995983935\n",
      "F1-мера 0.5246753246753246\n",
      "AUC-ROC 0.7318762932308602\n"
     ]
    }
   ],
   "source": [
    "#Логистическая регрессия\n",
    "model_LgR_upsampled = LogisticRegression(solver = 'liblinear')\n",
    "model_LgR_upsampled.fit(features_train_upsampled, target_train_upsampled)\n",
    "LgR_prediction_upsampled = model_LgR_upsampled.predict(features_valid)\n",
    "rec_prec_f1(target_valid, LgR_prediction_upsampled)"
   ]
  },
  {
   "cell_type": "markdown",
   "metadata": {},
   "source": [
    "Показаели всех моделей улучшились.\n",
    "Лучшие результаты показывает алгоритм случайный лес (RandomForestClassifier). На валидационной выборке RandomForestClassifier уже показывает резульаты F1 меры = 0.63, что выше целевого целевого значения.\n",
    "Попробуем улучшить модель путем изменения параметров."
   ]
  },
  {
   "cell_type": "markdown",
   "metadata": {},
   "source": [
    "3.3 Улучшение модели"
   ]
  },
  {
   "cell_type": "code",
   "execution_count": 62,
   "metadata": {},
   "outputs": [],
   "source": [
    "from itertools import product\n",
    "import tqdm"
   ]
  },
  {
   "cell_type": "code",
   "execution_count": 63,
   "metadata": {},
   "outputs": [],
   "source": [
    "def RandomForestQuality(features_train, target_train, features_valid, target_valid):\n",
    "    \n",
    "    #Параметры для перебора\n",
    "    bootstrap = [True, False]\n",
    "    class_weight = ['balanced', 'balanced_subsample', None]\n",
    "    max_features = ['auto', 'sqrt', 'log2'] \n",
    "    max_depth = [] #диапазон изменения параметра мксимальной глубины каждого дерева\n",
    "    for i in range(1, 20):\n",
    "        max_depth.append(i)\n",
    "\n",
    "    #Метод itertools.product для перебора нескольких параметров\n",
    "    myproduct = product(bootstrap, class_weight, max_features, max_depth)\n",
    "    \n",
    "    #Строки, котоыре будут наполняться циклом при переборе параметров\n",
    "    bootstrap_table = []\n",
    "    class_weight_table = []\n",
    "    features_table = []\n",
    "    depth_table = []\n",
    "    f1_table = []\n",
    "    recall_table = []\n",
    "    precision_table = []\n",
    "    score_train_table = []\n",
    "    score_valid_table = []\n",
    "    \n",
    "    #Цикл перебора всех параметров: bootstrap, class_weight, max_features, max_depth\n",
    "    for p in tqdm.tqdm(myproduct,):\n",
    "        #Обучение модели\n",
    "        model_forest = RandomForestClassifier(\n",
    "            bootstrap=p[0] , class_weight= p[1], max_features = p[2], max_depth = p[3], \n",
    "            n_estimators = 10, random_state=12345)\n",
    "        model_forest.fit(features_train, target_train)\n",
    "        prediction = model_forest.predict(features_valid) #предсказание целевого признака\n",
    "        \n",
    "        #расчет параметров\n",
    "        f1 = f1_score(target_valid, prediction)\n",
    "        recall = recall_score(target_valid, prediction)\n",
    "        precision = precision_score(target_valid, prediction)\n",
    "        score_train = model_forest.score(features_train, target_train)\n",
    "        score_valid = model_forest.score(features_valid, target_valid)\n",
    "        \n",
    "        #внесение значиний параметров в строки\n",
    "        bootstrap_table.append(p[0])\n",
    "        class_weight_table.append(p[1])\n",
    "        features_table.append(p[2])\n",
    "        depth_table.append(p[3])\n",
    "\n",
    "        #внесение значений метрик в строки\n",
    "        f1_table.append(f1)\n",
    "        recall_table.append(recall)\n",
    "        precision_table.append(precision)\n",
    "        score_train_table.append(score_train)\n",
    "        score_valid_table.append(score_valid)\n",
    "               \n",
    "    \n",
    "    #Обоъединение строк в датафрем\n",
    "    quality_table = pd.DataFrame(data = (\n",
    "        bootstrap_table, class_weight_table, features_table, depth_table, \n",
    "        f1_table, recall_table, precision_table, score_train_table, score_valid_table)).T\n",
    "    quality_table.columns = (\n",
    "        'bootstrap', 'class_weight', 'max_features', 'max_depth', 'f1', 'recall', 'precision', 'score_train', 'score_valid')\n",
    "    return quality_table\n",
    "\n",
    "    \"4 параметра: features_train, target_train — признаки и целевой признак обучающей выборки\"\n",
    "    \"features_valid, target_valid — признаки и целевой признак обучающей выборки\""
   ]
  },
  {
   "cell_type": "code",
   "execution_count": 64,
   "metadata": {},
   "outputs": [
    {
     "name": "stderr",
     "output_type": "stream",
     "text": [
      "342it [00:43,  7.90it/s]"
     ]
    },
    {
     "name": "stdout",
     "output_type": "stream",
     "text": [
      "CPU times: user 42.2 s, sys: 431 ms, total: 42.7 s\n",
      "Wall time: 43.3 s\n"
     ]
    },
    {
     "name": "stderr",
     "output_type": "stream",
     "text": [
      "\n"
     ]
    }
   ],
   "source": [
    "%%time\n",
    "quality_table = RandomForestQuality(features_train_upsampled, target_train_upsampled, features_valid, target_valid)"
   ]
  },
  {
   "cell_type": "code",
   "execution_count": 65,
   "metadata": {},
   "outputs": [
    {
     "data": {
      "text/html": [
       "<div>\n",
       "<style scoped>\n",
       "    .dataframe tbody tr th:only-of-type {\n",
       "        vertical-align: middle;\n",
       "    }\n",
       "\n",
       "    .dataframe tbody tr th {\n",
       "        vertical-align: top;\n",
       "    }\n",
       "\n",
       "    .dataframe thead th {\n",
       "        text-align: right;\n",
       "    }\n",
       "</style>\n",
       "<table border=\"1\" class=\"dataframe\">\n",
       "  <thead>\n",
       "    <tr style=\"text-align: right;\">\n",
       "      <th></th>\n",
       "      <th>bootstrap</th>\n",
       "      <th>class_weight</th>\n",
       "      <th>max_features</th>\n",
       "      <th>max_depth</th>\n",
       "      <th>f1</th>\n",
       "      <th>recall</th>\n",
       "      <th>precision</th>\n",
       "      <th>score_train</th>\n",
       "      <th>score_valid</th>\n",
       "    </tr>\n",
       "  </thead>\n",
       "  <tbody>\n",
       "    <tr>\n",
       "      <th>63</th>\n",
       "      <td>True</td>\n",
       "      <td>balanced_subsample</td>\n",
       "      <td>auto</td>\n",
       "      <td>7</td>\n",
       "      <td>0.630705</td>\n",
       "      <td>0.745098</td>\n",
       "      <td>0.546763</td>\n",
       "      <td>0.818953</td>\n",
       "      <td>0.822</td>\n",
       "    </tr>\n",
       "    <tr>\n",
       "      <th>82</th>\n",
       "      <td>True</td>\n",
       "      <td>balanced_subsample</td>\n",
       "      <td>sqrt</td>\n",
       "      <td>7</td>\n",
       "      <td>0.630705</td>\n",
       "      <td>0.745098</td>\n",
       "      <td>0.546763</td>\n",
       "      <td>0.818953</td>\n",
       "      <td>0.822</td>\n",
       "    </tr>\n",
       "    <tr>\n",
       "      <th>101</th>\n",
       "      <td>True</td>\n",
       "      <td>balanced_subsample</td>\n",
       "      <td>log2</td>\n",
       "      <td>7</td>\n",
       "      <td>0.630705</td>\n",
       "      <td>0.745098</td>\n",
       "      <td>0.546763</td>\n",
       "      <td>0.818953</td>\n",
       "      <td>0.822</td>\n",
       "    </tr>\n",
       "    <tr>\n",
       "      <th>253</th>\n",
       "      <td>False</td>\n",
       "      <td>balanced_subsample</td>\n",
       "      <td>sqrt</td>\n",
       "      <td>7</td>\n",
       "      <td>0.627884</td>\n",
       "      <td>0.767157</td>\n",
       "      <td>0.531409</td>\n",
       "      <td>0.811504</td>\n",
       "      <td>0.8145</td>\n",
       "    </tr>\n",
       "    <tr>\n",
       "      <th>215</th>\n",
       "      <td>False</td>\n",
       "      <td>balanced</td>\n",
       "      <td>log2</td>\n",
       "      <td>7</td>\n",
       "      <td>0.627884</td>\n",
       "      <td>0.767157</td>\n",
       "      <td>0.531409</td>\n",
       "      <td>0.811504</td>\n",
       "      <td>0.8145</td>\n",
       "    </tr>\n",
       "  </tbody>\n",
       "</table>\n",
       "</div>"
      ],
      "text/plain": [
       "    bootstrap        class_weight max_features max_depth        f1    recall  \\\n",
       "63       True  balanced_subsample         auto         7  0.630705  0.745098   \n",
       "82       True  balanced_subsample         sqrt         7  0.630705  0.745098   \n",
       "101      True  balanced_subsample         log2         7  0.630705  0.745098   \n",
       "253     False  balanced_subsample         sqrt         7  0.627884  0.767157   \n",
       "215     False            balanced         log2         7  0.627884  0.767157   \n",
       "\n",
       "    precision score_train score_valid  \n",
       "63   0.546763    0.818953       0.822  \n",
       "82   0.546763    0.818953       0.822  \n",
       "101  0.546763    0.818953       0.822  \n",
       "253  0.531409    0.811504      0.8145  \n",
       "215  0.531409    0.811504      0.8145  "
      ]
     },
     "execution_count": 65,
     "metadata": {},
     "output_type": "execute_result"
    }
   ],
   "source": [
    "quality_table.query('score_valid>=score_train').sort_values('f1', ascending = False).head()"
   ]
  },
  {
   "cell_type": "markdown",
   "metadata": {},
   "source": [
    "Лучшие параметры модели:\n",
    "model = RandomForestClassifier(bootstrap = True, class_weight = 'balanced', max_depth= 7, n_estimators = 10, random_state=12345)\n",
    "\n",
    "Параметр \"max_features\" не влияет на параметры модели, оставляем параметр без изменений (default=”auto”)."
   ]
  },
  {
   "cell_type": "markdown",
   "metadata": {},
   "source": [
    "Обучим финальную модель"
   ]
  },
  {
   "cell_type": "code",
   "execution_count": 66,
   "metadata": {},
   "outputs": [
    {
     "data": {
      "text/plain": [
       "RandomForestClassifier(class_weight='balanced', max_depth=7, random_state=12345)"
      ]
     },
     "execution_count": 66,
     "metadata": {},
     "output_type": "execute_result"
    }
   ],
   "source": [
    "model_RFC_final = RandomForestClassifier(\n",
    "    bootstrap = True, class_weight = 'balanced', max_depth= 7,  n_estimators = 100, random_state=12345)\n",
    "model_RFC_final.fit(features_train_upsampled, target_train_upsampled)"
   ]
  },
  {
   "cell_type": "code",
   "execution_count": 67,
   "metadata": {},
   "outputs": [
    {
     "data": {
      "text/plain": [
       "RandomForestClassifier(class_weight='balanced', max_depth=7, random_state=12345)"
      ]
     },
     "execution_count": 67,
     "metadata": {},
     "output_type": "execute_result"
    }
   ],
   "source": [
    "RandomForestClassifier(bootstrap=True, ccp_alpha=0.0, class_weight='balanced',\n",
    "                       criterion='gini', max_depth=7, max_features='auto',\n",
    "                       max_leaf_nodes=None, max_samples=None,\n",
    "                       min_impurity_decrease=0.0, min_impurity_split=None,\n",
    "                       min_samples_leaf=1, min_samples_split=2,\n",
    "                       min_weight_fraction_leaf=0.0, n_estimators=100,\n",
    "                       n_jobs=None, oob_score=False, random_state=12345,\n",
    "                       verbose=0, warm_start=False)"
   ]
  },
  {
   "cell_type": "code",
   "execution_count": 68,
   "metadata": {},
   "outputs": [
    {
     "name": "stdout",
     "output_type": "stream",
     "text": [
      "Полнота 0.7573529411764706\n",
      "Точность 0.5383275261324042\n",
      "F1-мера 0.629327902240326\n",
      "AUC-ROC 0.7954478273721548\n"
     ]
    }
   ],
   "source": [
    "model_RFC_final_prediction = model_RFC_final.predict(features_valid)\n",
    "rec_prec_f1(target_valid, model_RFC_final_prediction)"
   ]
  },
  {
   "cell_type": "markdown",
   "metadata": {},
   "source": [
    "Проверим финальную модель на адекватность"
   ]
  },
  {
   "cell_type": "code",
   "execution_count": 69,
   "metadata": {},
   "outputs": [
    {
     "data": {
      "text/plain": [
       "0    2000\n",
       "dtype: int64"
      ]
     },
     "execution_count": 69,
     "metadata": {},
     "output_type": "execute_result"
    }
   ],
   "source": [
    "#Создаем константную модель\n",
    "target_predict_constant = pd.Series([0]*len(target_valid))\n",
    "target_predict_constant.value_counts()"
   ]
  },
  {
   "cell_type": "code",
   "execution_count": 70,
   "metadata": {},
   "outputs": [
    {
     "name": "stdout",
     "output_type": "stream",
     "text": [
      "accuracy_score константой модели: 0.796\n",
      "accuracy_score финальной модели: 0.818\n",
      "AUC-ROC константой модели: 0.5\n",
      "AUC-ROC финальной модели: 0.7954478273721548\n"
     ]
    }
   ],
   "source": [
    "#Сравним показатель точности (accuracy_score) константной модели и финальной\n",
    "print('accuracy_score константой модели:', accuracy_score(target_valid, target_predict_constant))\n",
    "print('accuracy_score финальной модели:', accuracy_score(target_valid, model_RFC_final_prediction))\n",
    "#Дополнительно сравним AUC-ROC — единственный параметр подающийся сравнению, потому что константная подель содержит только негативные ответы\n",
    "print('AUC-ROC константой модели:', roc_auc_score(target_valid, target_predict_constant))\n",
    "print('AUC-ROC финальной модели:', roc_auc_score(target_valid, model_RFC_final_prediction))"
   ]
  },
  {
   "cell_type": "markdown",
   "metadata": {},
   "source": [
    "Финальная модель показывает результаты лучше, чем константная модель — модель можно считать адекватной."
   ]
  },
  {
   "cell_type": "markdown",
   "metadata": {},
   "source": [
    "Вывод по результатам исследования\n",
    "\n",
    "\n",
    "-В первоначальные данных наблюдался значительный дисбаланс (80% ответов целевого признака были негативными и только 20% позитивными), из-за чего обученная на этих данных модель не проходила проверку на адекватность. Все модели не первоначальных данных характеризовались высокой степенью ошибок и низким качеством взвешенной величины (F1) — модели показывали низкие результаты точности и полноты.\n",
    "\n",
    "-Мы устранили дисбаланс классов в обучающей выборки методом upsampling — увеличили количество значений позитивного класса в 4 раза. Так мы достигли баланса классо в обучеющей выборки: 1 = 0.50569, 0 = 0.49431.\n",
    "\n",
    "-На новых данных все модели показали результат выше, чем на несбалансированной выборке. Лучшие показатели были у модели случайного леса:\n",
    "Полнота 0.5784313725490197\n",
    "Точность 0.6880466472303207\n",
    "F1-мера 0.6284953395472703\n",
    "AUC-ROC 0.755610158636319\n",
    "\n",
    "-Было принято решение продолжать улучшение модели на основании алгоритма случайный лес (RandomForestClassifier)\n",
    "\n",
    "-Улучшение модели происходило путем цикла выбора параметров, которые показывали наиболее высокое значение F1 меры и не приводили модель к переобучению. Изменяемые параметры: bootstrap, class_weight, max_depth от 1 до 19 Параметр n_estimators был занижен для ускорения выполнения цикла\n",
    "\n",
    "-Финальные параметры выбранной модели RandomForestClassifier(bootstrap = True, class_weight = 'balanced', max_depth= 7, n_estimators = 100, random_state=12345).\n",
    "Результаты модели:\n",
    "Полнота 0.755\n",
    "Точность 0.549\n",
    "F1-мера 0.636\n",
    "AUC-ROC 0.798\n",
    "\n",
    "-Финальная модель прошла проверку на адекватность в сравнении с контантной моделью: accuracy_score константой модели: 0.796\n",
    "accuracy_score финальной модели: 0.8235\n",
    "AUC-ROC константой модели: 0.5\n",
    "AUC-ROC финальной модели: 0.798"
   ]
  },
  {
   "cell_type": "markdown",
   "metadata": {},
   "source": [
    "## Тестирование модели"
   ]
  },
  {
   "cell_type": "code",
   "execution_count": 71,
   "metadata": {},
   "outputs": [
    {
     "name": "stdout",
     "output_type": "stream",
     "text": [
      "Полнота 0.7199017199017199\n",
      "Точность 0.5167548500881834\n",
      "F1-мера 0.6016427104722794\n",
      "AUC-ROC 0.773949604458079\n"
     ]
    }
   ],
   "source": [
    "model_RFC_final\n",
    "model_RFC_final_prediction = model_RFC_final.predict(features_test)\n",
    "rec_prec_f1(target_test, model_RFC_final_prediction)"
   ]
  },
  {
   "cell_type": "code",
   "execution_count": 72,
   "metadata": {},
   "outputs": [
    {
     "data": {
      "image/png": "[encoded data removed]",
      "text/plain": [
       "<Figure size 432x288 with 1 Axes>"
      ]
     },
     "metadata": {
      "needs_background": "light"
     },
     "output_type": "display_data"
    }
   ],
   "source": [
    "final_model_probabilities_one = model_LgR.predict_proba(features_test)[:, 1]\n",
    "\n",
    "fpr, tpr, thresholds = roc_curve(target_test, final_model_probabilities_one) \n",
    "\n",
    "plt.figure()\n",
    "plt.plot(fpr, tpr)\n",
    "plt.plot([0, 1], [0, 1], linestyle='--')\n",
    "plt.xlim([0.0, 1.0])\n",
    "plt.ylim([0.0, 1.0])\n",
    "plt.xlabel('False Positive Rate')\n",
    "plt.ylabel('True Positive Rate')\n",
    "plt.title('ROC-кривая')\n",
    "plt.show()"
   ]
  },
  {
   "cell_type": "markdown",
   "metadata": {},
   "source": [
    "Финальная достигла заданой метрики (F1 > 0.59) и показывает адекватные результаты.\n",
    "Модель характеризуется высоким показателем полноты = 0.715 (min = 0, max = 1), поэтому она с высокой вероятностью предскажит уход клиента из банка.\n",
    "Показатель точности не высокий = 0.517 (min = 0, max = 1) — модель верно предсказывает только половину ухода клиентов.\n",
    "С точки зрения бизнеса полученная модель поможет маркетологам лучше определять килентов, которые могут уйти в ближайшее время. Важно, что модель покрывает большое количество клиентов, в данном случае это важнее чем точность.\n",
    "\n",
    "Для улучшения модели следует использовать данные, отражающие отношения клиента с банком в динамике."
   ]
  }
 ],
 "metadata": {
  "ExecuteTimeLog": [
   {
    "duration": 1382,
    "start_time": "2022-10-18T15:29:09.440Z"
   },
   {
    "duration": 97,
    "start_time": "2022-10-18T15:29:11.798Z"
   },
   {
    "duration": 187,
    "start_time": "2022-10-18T15:29:28.014Z"
   },
   {
    "duration": 1397,
    "start_time": "2022-10-19T17:05:51.430Z"
   },
   {
    "duration": 44,
    "start_time": "2022-10-19T17:05:52.829Z"
   },
   {
    "duration": 13,
    "start_time": "2022-10-19T17:05:52.875Z"
   },
   {
    "duration": 5,
    "start_time": "2022-10-19T17:05:52.889Z"
   },
   {
    "duration": 19,
    "start_time": "2022-10-19T17:05:52.896Z"
   },
   {
    "duration": 14,
    "start_time": "2022-10-19T17:05:52.920Z"
   },
   {
    "duration": 18,
    "start_time": "2022-10-19T17:05:52.936Z"
   },
   {
    "duration": 24,
    "start_time": "2022-10-19T17:05:52.955Z"
   },
   {
    "duration": 25,
    "start_time": "2022-10-19T17:05:52.980Z"
   },
   {
    "duration": 14,
    "start_time": "2022-10-19T17:05:53.007Z"
   },
   {
    "duration": 1306,
    "start_time": "2022-10-19T17:16:32.614Z"
   },
   {
    "duration": 42,
    "start_time": "2022-10-19T17:16:33.922Z"
   },
   {
    "duration": 13,
    "start_time": "2022-10-19T17:16:33.968Z"
   },
   {
    "duration": 11,
    "start_time": "2022-10-19T17:16:33.982Z"
   },
   {
    "duration": 36,
    "start_time": "2022-10-19T17:16:33.995Z"
   },
   {
    "duration": 35,
    "start_time": "2022-10-19T17:16:34.033Z"
   },
   {
    "duration": 24,
    "start_time": "2022-10-19T17:16:34.070Z"
   },
   {
    "duration": 54,
    "start_time": "2022-10-19T17:16:34.095Z"
   },
   {
    "duration": 34,
    "start_time": "2022-10-19T17:16:34.152Z"
   },
   {
    "duration": 18,
    "start_time": "2022-10-19T17:16:34.187Z"
   },
   {
    "duration": 15,
    "start_time": "2022-10-19T17:16:34.206Z"
   },
   {
    "duration": 21,
    "start_time": "2022-10-19T17:16:34.223Z"
   },
   {
    "duration": 34,
    "start_time": "2022-10-19T17:16:34.245Z"
   },
   {
    "duration": 1341,
    "start_time": "2022-10-19T17:21:32.181Z"
   },
   {
    "duration": 44,
    "start_time": "2022-10-19T17:21:33.524Z"
   },
   {
    "duration": 13,
    "start_time": "2022-10-19T17:21:33.570Z"
   },
   {
    "duration": 14,
    "start_time": "2022-10-19T17:21:33.584Z"
   },
   {
    "duration": 23,
    "start_time": "2022-10-19T17:21:33.601Z"
   },
   {
    "duration": 28,
    "start_time": "2022-10-19T17:21:33.626Z"
   },
   {
    "duration": 11,
    "start_time": "2022-10-19T17:21:33.656Z"
   },
   {
    "duration": 25,
    "start_time": "2022-10-19T17:21:33.668Z"
   },
   {
    "duration": 44,
    "start_time": "2022-10-19T17:21:33.695Z"
   },
   {
    "duration": 12,
    "start_time": "2022-10-19T17:21:33.741Z"
   },
   {
    "duration": 14,
    "start_time": "2022-10-19T17:21:33.754Z"
   },
   {
    "duration": 40,
    "start_time": "2022-10-19T17:21:33.770Z"
   },
   {
    "duration": 20,
    "start_time": "2022-10-19T17:21:33.812Z"
   },
   {
    "duration": 39,
    "start_time": "2022-10-19T17:21:33.835Z"
   },
   {
    "duration": 31,
    "start_time": "2022-10-19T17:21:33.876Z"
   },
   {
    "duration": 22,
    "start_time": "2022-10-19T17:21:33.909Z"
   },
   {
    "duration": 22,
    "start_time": "2022-10-19T17:21:33.933Z"
   },
   {
    "duration": 49,
    "start_time": "2022-10-19T17:21:33.957Z"
   },
   {
    "duration": 0,
    "start_time": "2022-10-19T17:21:34.008Z"
   },
   {
    "duration": 0,
    "start_time": "2022-10-19T17:21:34.009Z"
   },
   {
    "duration": 0,
    "start_time": "2022-10-19T17:21:34.010Z"
   },
   {
    "duration": 0,
    "start_time": "2022-10-19T17:21:34.011Z"
   },
   {
    "duration": 0,
    "start_time": "2022-10-19T17:21:34.013Z"
   },
   {
    "duration": 0,
    "start_time": "2022-10-19T17:21:34.014Z"
   },
   {
    "duration": 0,
    "start_time": "2022-10-19T17:21:34.015Z"
   },
   {
    "duration": 1303,
    "start_time": "2022-10-19T17:21:43.714Z"
   },
   {
    "duration": 49,
    "start_time": "2022-10-19T17:21:45.020Z"
   },
   {
    "duration": 22,
    "start_time": "2022-10-19T17:21:45.071Z"
   },
   {
    "duration": 35,
    "start_time": "2022-10-19T17:21:45.096Z"
   },
   {
    "duration": 43,
    "start_time": "2022-10-19T17:21:45.136Z"
   },
   {
    "duration": 53,
    "start_time": "2022-10-19T17:21:45.181Z"
   },
   {
    "duration": 42,
    "start_time": "2022-10-19T17:21:45.235Z"
   },
   {
    "duration": 45,
    "start_time": "2022-10-19T17:21:45.279Z"
   },
   {
    "duration": 74,
    "start_time": "2022-10-19T17:21:45.326Z"
   },
   {
    "duration": 40,
    "start_time": "2022-10-19T17:21:45.403Z"
   },
   {
    "duration": 42,
    "start_time": "2022-10-19T17:21:45.445Z"
   },
   {
    "duration": 62,
    "start_time": "2022-10-19T17:21:45.489Z"
   },
   {
    "duration": 39,
    "start_time": "2022-10-19T17:21:45.553Z"
   },
   {
    "duration": 35,
    "start_time": "2022-10-19T17:21:45.594Z"
   },
   {
    "duration": 38,
    "start_time": "2022-10-19T17:21:45.631Z"
   },
   {
    "duration": 60,
    "start_time": "2022-10-19T17:21:45.671Z"
   },
   {
    "duration": 56,
    "start_time": "2022-10-19T17:21:45.733Z"
   },
   {
    "duration": 33,
    "start_time": "2022-10-19T17:21:45.791Z"
   },
   {
    "duration": 52,
    "start_time": "2022-10-19T17:21:45.826Z"
   },
   {
    "duration": 28,
    "start_time": "2022-10-19T17:21:45.880Z"
   },
   {
    "duration": 23,
    "start_time": "2022-10-19T17:21:45.910Z"
   },
   {
    "duration": 56,
    "start_time": "2022-10-19T17:21:45.934Z"
   },
   {
    "duration": 22,
    "start_time": "2022-10-19T17:21:45.992Z"
   },
   {
    "duration": 27,
    "start_time": "2022-10-19T17:21:46.016Z"
   },
   {
    "duration": 1371,
    "start_time": "2022-10-19T18:19:21.471Z"
   },
   {
    "duration": 48,
    "start_time": "2022-10-19T18:19:22.844Z"
   },
   {
    "duration": 16,
    "start_time": "2022-10-19T18:19:22.894Z"
   },
   {
    "duration": 5,
    "start_time": "2022-10-19T18:19:22.920Z"
   },
   {
    "duration": 9,
    "start_time": "2022-10-19T18:19:22.927Z"
   },
   {
    "duration": 13,
    "start_time": "2022-10-19T18:19:22.938Z"
   },
   {
    "duration": 5,
    "start_time": "2022-10-19T18:19:22.953Z"
   },
   {
    "duration": 62,
    "start_time": "2022-10-19T18:19:22.960Z"
   },
   {
    "duration": 22,
    "start_time": "2022-10-19T18:19:23.023Z"
   },
   {
    "duration": 5,
    "start_time": "2022-10-19T18:19:23.048Z"
   },
   {
    "duration": 10,
    "start_time": "2022-10-19T18:19:23.054Z"
   },
   {
    "duration": 13,
    "start_time": "2022-10-19T18:19:23.066Z"
   },
   {
    "duration": 40,
    "start_time": "2022-10-19T18:19:23.081Z"
   },
   {
    "duration": 14,
    "start_time": "2022-10-19T18:19:23.123Z"
   },
   {
    "duration": 6,
    "start_time": "2022-10-19T18:19:23.139Z"
   },
   {
    "duration": 10,
    "start_time": "2022-10-19T18:19:23.147Z"
   },
   {
    "duration": 21,
    "start_time": "2022-10-19T18:19:23.158Z"
   },
   {
    "duration": 15,
    "start_time": "2022-10-19T18:19:23.181Z"
   },
   {
    "duration": 16,
    "start_time": "2022-10-19T18:19:23.220Z"
   },
   {
    "duration": 8,
    "start_time": "2022-10-19T18:19:23.238Z"
   },
   {
    "duration": 17,
    "start_time": "2022-10-19T18:19:23.248Z"
   },
   {
    "duration": 43,
    "start_time": "2022-10-19T18:19:23.267Z"
   },
   {
    "duration": 22,
    "start_time": "2022-10-19T18:19:23.321Z"
   },
   {
    "duration": 20,
    "start_time": "2022-10-19T18:19:23.344Z"
   },
   {
    "duration": 91,
    "start_time": "2022-10-19T18:19:23.366Z"
   },
   {
    "duration": 4,
    "start_time": "2022-10-19T18:19:23.459Z"
   },
   {
    "duration": 15,
    "start_time": "2022-10-19T18:19:23.465Z"
   },
   {
    "duration": 143,
    "start_time": "2022-10-19T18:19:23.482Z"
   },
   {
    "duration": 428,
    "start_time": "2022-10-19T18:21:33.528Z"
   },
   {
    "duration": 1017,
    "start_time": "2022-10-19T18:21:33.958Z"
   },
   {
    "duration": 45,
    "start_time": "2022-10-19T18:21:34.977Z"
   },
   {
    "duration": 15,
    "start_time": "2022-10-19T18:21:35.024Z"
   },
   {
    "duration": 13,
    "start_time": "2022-10-19T18:21:35.042Z"
   },
   {
    "duration": 14,
    "start_time": "2022-10-19T18:21:35.057Z"
   },
   {
    "duration": 27,
    "start_time": "2022-10-19T18:21:35.074Z"
   },
   {
    "duration": 19,
    "start_time": "2022-10-19T18:21:35.103Z"
   },
   {
    "duration": 26,
    "start_time": "2022-10-19T18:21:35.124Z"
   },
   {
    "duration": 35,
    "start_time": "2022-10-19T18:21:35.152Z"
   },
   {
    "duration": 5,
    "start_time": "2022-10-19T18:21:35.189Z"
   },
   {
    "duration": 29,
    "start_time": "2022-10-19T18:21:35.196Z"
   },
   {
    "duration": 25,
    "start_time": "2022-10-19T18:21:35.227Z"
   },
   {
    "duration": 19,
    "start_time": "2022-10-19T18:21:35.256Z"
   },
   {
    "duration": 20,
    "start_time": "2022-10-19T18:21:35.278Z"
   },
   {
    "duration": 10,
    "start_time": "2022-10-19T18:21:35.300Z"
   },
   {
    "duration": 31,
    "start_time": "2022-10-19T18:21:35.313Z"
   },
   {
    "duration": 13,
    "start_time": "2022-10-19T18:21:35.347Z"
   },
   {
    "duration": 18,
    "start_time": "2022-10-19T18:21:35.362Z"
   },
   {
    "duration": 37,
    "start_time": "2022-10-19T18:21:35.382Z"
   },
   {
    "duration": 17,
    "start_time": "2022-10-19T18:21:35.422Z"
   },
   {
    "duration": 24,
    "start_time": "2022-10-19T18:21:35.441Z"
   },
   {
    "duration": 49,
    "start_time": "2022-10-19T18:21:35.468Z"
   },
   {
    "duration": 24,
    "start_time": "2022-10-19T18:21:35.519Z"
   },
   {
    "duration": 22,
    "start_time": "2022-10-19T18:21:35.545Z"
   },
   {
    "duration": 83,
    "start_time": "2022-10-19T18:21:35.569Z"
   },
   {
    "duration": 4,
    "start_time": "2022-10-19T18:21:35.654Z"
   },
   {
    "duration": 12,
    "start_time": "2022-10-19T18:21:35.660Z"
   },
   {
    "duration": 141,
    "start_time": "2022-10-19T18:21:35.674Z"
   },
   {
    "duration": 445,
    "start_time": "2022-10-19T18:22:44.907Z"
   },
   {
    "duration": 1140,
    "start_time": "2022-10-19T18:22:45.355Z"
   },
   {
    "duration": 53,
    "start_time": "2022-10-19T18:22:46.497Z"
   },
   {
    "duration": 17,
    "start_time": "2022-10-19T18:22:46.553Z"
   },
   {
    "duration": 47,
    "start_time": "2022-10-19T18:22:46.573Z"
   },
   {
    "duration": 27,
    "start_time": "2022-10-19T18:22:46.622Z"
   },
   {
    "duration": 14,
    "start_time": "2022-10-19T18:22:46.651Z"
   },
   {
    "duration": 20,
    "start_time": "2022-10-19T18:22:46.667Z"
   },
   {
    "duration": 6,
    "start_time": "2022-10-19T18:22:46.689Z"
   },
   {
    "duration": 30,
    "start_time": "2022-10-19T18:22:46.697Z"
   },
   {
    "duration": 35,
    "start_time": "2022-10-19T18:22:46.730Z"
   },
   {
    "duration": 5,
    "start_time": "2022-10-19T18:22:46.767Z"
   },
   {
    "duration": 16,
    "start_time": "2022-10-19T18:22:46.774Z"
   },
   {
    "duration": 29,
    "start_time": "2022-10-19T18:22:46.794Z"
   },
   {
    "duration": 13,
    "start_time": "2022-10-19T18:22:46.825Z"
   },
   {
    "duration": 16,
    "start_time": "2022-10-19T18:22:46.840Z"
   },
   {
    "duration": 19,
    "start_time": "2022-10-19T18:22:46.858Z"
   },
   {
    "duration": 17,
    "start_time": "2022-10-19T18:22:46.879Z"
   },
   {
    "duration": 23,
    "start_time": "2022-10-19T18:22:46.898Z"
   },
   {
    "duration": 9,
    "start_time": "2022-10-19T18:22:46.922Z"
   },
   {
    "duration": 21,
    "start_time": "2022-10-19T18:22:46.933Z"
   },
   {
    "duration": 21,
    "start_time": "2022-10-19T18:22:46.956Z"
   },
   {
    "duration": 19,
    "start_time": "2022-10-19T18:22:46.979Z"
   },
   {
    "duration": 36,
    "start_time": "2022-10-19T18:22:47.002Z"
   },
   {
    "duration": 20,
    "start_time": "2022-10-19T18:22:47.040Z"
   },
   {
    "duration": 39,
    "start_time": "2022-10-19T18:22:47.063Z"
   },
   {
    "duration": 107,
    "start_time": "2022-10-19T18:22:47.104Z"
   },
   {
    "duration": 4,
    "start_time": "2022-10-19T18:22:47.213Z"
   },
   {
    "duration": 14,
    "start_time": "2022-10-19T18:22:47.219Z"
   },
   {
    "duration": 990,
    "start_time": "2022-10-19T18:22:47.235Z"
   },
   {
    "duration": 426,
    "start_time": "2022-10-19T18:26:08.657Z"
   },
   {
    "duration": 984,
    "start_time": "2022-10-19T18:26:09.085Z"
   },
   {
    "duration": 43,
    "start_time": "2022-10-19T18:26:10.070Z"
   },
   {
    "duration": 16,
    "start_time": "2022-10-19T18:26:10.115Z"
   },
   {
    "duration": 32,
    "start_time": "2022-10-19T18:26:10.132Z"
   },
   {
    "duration": 40,
    "start_time": "2022-10-19T18:26:10.166Z"
   },
   {
    "duration": 26,
    "start_time": "2022-10-19T18:26:10.208Z"
   },
   {
    "duration": 23,
    "start_time": "2022-10-19T18:26:10.236Z"
   },
   {
    "duration": 8,
    "start_time": "2022-10-19T18:26:10.261Z"
   },
   {
    "duration": 43,
    "start_time": "2022-10-19T18:26:10.272Z"
   },
   {
    "duration": 22,
    "start_time": "2022-10-19T18:26:10.316Z"
   },
   {
    "duration": 7,
    "start_time": "2022-10-19T18:26:10.340Z"
   },
   {
    "duration": 12,
    "start_time": "2022-10-19T18:26:10.348Z"
   },
   {
    "duration": 46,
    "start_time": "2022-10-19T18:26:10.362Z"
   },
   {
    "duration": 29,
    "start_time": "2022-10-19T18:26:10.410Z"
   },
   {
    "duration": 18,
    "start_time": "2022-10-19T18:26:10.441Z"
   },
   {
    "duration": 16,
    "start_time": "2022-10-19T18:26:10.461Z"
   },
   {
    "duration": 18,
    "start_time": "2022-10-19T18:26:10.480Z"
   },
   {
    "duration": 21,
    "start_time": "2022-10-19T18:26:10.500Z"
   },
   {
    "duration": 19,
    "start_time": "2022-10-19T18:26:10.523Z"
   },
   {
    "duration": 28,
    "start_time": "2022-10-19T18:26:10.544Z"
   },
   {
    "duration": 35,
    "start_time": "2022-10-19T18:26:10.574Z"
   },
   {
    "duration": 37,
    "start_time": "2022-10-19T18:26:10.611Z"
   },
   {
    "duration": 33,
    "start_time": "2022-10-19T18:26:10.650Z"
   },
   {
    "duration": 20,
    "start_time": "2022-10-19T18:26:10.685Z"
   },
   {
    "duration": 23,
    "start_time": "2022-10-19T18:26:10.708Z"
   },
   {
    "duration": 47,
    "start_time": "2022-10-19T18:26:10.733Z"
   },
   {
    "duration": 4,
    "start_time": "2022-10-19T18:26:10.783Z"
   },
   {
    "duration": 30,
    "start_time": "2022-10-19T18:26:10.789Z"
   },
   {
    "duration": 806,
    "start_time": "2022-10-19T18:26:10.821Z"
   },
   {
    "duration": 98,
    "start_time": "2022-10-19T18:26:11.629Z"
   },
   {
    "duration": 121,
    "start_time": "2022-10-19T18:26:11.729Z"
   },
   {
    "duration": 42,
    "start_time": "2022-10-19T18:26:11.852Z"
   },
   {
    "duration": 924,
    "start_time": "2022-10-19T18:26:11.896Z"
   },
   {
    "duration": 385,
    "start_time": "2022-10-19T18:29:43.965Z"
   },
   {
    "duration": 1000,
    "start_time": "2022-10-19T18:29:44.352Z"
   },
   {
    "duration": 46,
    "start_time": "2022-10-19T18:29:45.353Z"
   },
   {
    "duration": 13,
    "start_time": "2022-10-19T18:29:45.402Z"
   },
   {
    "duration": 6,
    "start_time": "2022-10-19T18:29:45.417Z"
   },
   {
    "duration": 13,
    "start_time": "2022-10-19T18:29:45.424Z"
   },
   {
    "duration": 9,
    "start_time": "2022-10-19T18:29:45.439Z"
   },
   {
    "duration": 34,
    "start_time": "2022-10-19T18:29:45.450Z"
   },
   {
    "duration": 37,
    "start_time": "2022-10-19T18:29:45.486Z"
   },
   {
    "duration": 28,
    "start_time": "2022-10-19T18:29:45.526Z"
   },
   {
    "duration": 34,
    "start_time": "2022-10-19T18:29:45.555Z"
   },
   {
    "duration": 5,
    "start_time": "2022-10-19T18:29:45.591Z"
   },
   {
    "duration": 22,
    "start_time": "2022-10-19T18:29:45.599Z"
   },
   {
    "duration": 33,
    "start_time": "2022-10-19T18:29:45.623Z"
   },
   {
    "duration": 13,
    "start_time": "2022-10-19T18:29:45.659Z"
   },
   {
    "duration": 29,
    "start_time": "2022-10-19T18:29:45.674Z"
   },
   {
    "duration": 33,
    "start_time": "2022-10-19T18:29:45.705Z"
   },
   {
    "duration": 62,
    "start_time": "2022-10-19T18:29:45.740Z"
   },
   {
    "duration": 25,
    "start_time": "2022-10-19T18:29:45.803Z"
   },
   {
    "duration": 36,
    "start_time": "2022-10-19T18:29:45.831Z"
   },
   {
    "duration": 33,
    "start_time": "2022-10-19T18:29:45.869Z"
   },
   {
    "duration": 21,
    "start_time": "2022-10-19T18:29:45.903Z"
   },
   {
    "duration": 31,
    "start_time": "2022-10-19T18:29:45.926Z"
   },
   {
    "duration": 56,
    "start_time": "2022-10-19T18:29:45.959Z"
   },
   {
    "duration": 36,
    "start_time": "2022-10-19T18:29:46.017Z"
   },
   {
    "duration": 25,
    "start_time": "2022-10-19T18:29:46.054Z"
   },
   {
    "duration": 75,
    "start_time": "2022-10-19T18:29:46.080Z"
   },
   {
    "duration": 4,
    "start_time": "2022-10-19T18:29:46.160Z"
   },
   {
    "duration": 9,
    "start_time": "2022-10-19T18:29:46.166Z"
   },
   {
    "duration": 845,
    "start_time": "2022-10-19T18:29:46.177Z"
   },
   {
    "duration": 96,
    "start_time": "2022-10-19T18:29:47.031Z"
   },
   {
    "duration": 16,
    "start_time": "2022-10-19T18:29:47.128Z"
   },
   {
    "duration": 13,
    "start_time": "2022-10-19T18:29:47.146Z"
   },
   {
    "duration": 866,
    "start_time": "2022-10-19T18:29:47.161Z"
   },
   {
    "duration": 7,
    "start_time": "2022-10-19T18:29:48.029Z"
   },
   {
    "duration": 103,
    "start_time": "2022-10-19T18:29:48.038Z"
   },
   {
    "duration": 388,
    "start_time": "2022-10-19T18:38:32.172Z"
   },
   {
    "duration": 953,
    "start_time": "2022-10-19T18:38:32.562Z"
   },
   {
    "duration": 45,
    "start_time": "2022-10-19T18:38:33.517Z"
   },
   {
    "duration": 14,
    "start_time": "2022-10-19T18:38:33.564Z"
   },
   {
    "duration": 3,
    "start_time": "2022-10-19T18:38:33.581Z"
   },
   {
    "duration": 16,
    "start_time": "2022-10-19T18:38:33.586Z"
   },
   {
    "duration": 17,
    "start_time": "2022-10-19T18:38:33.604Z"
   },
   {
    "duration": 22,
    "start_time": "2022-10-19T18:38:33.623Z"
   },
   {
    "duration": 6,
    "start_time": "2022-10-19T18:38:33.647Z"
   },
   {
    "duration": 27,
    "start_time": "2022-10-19T18:38:33.655Z"
   },
   {
    "duration": 44,
    "start_time": "2022-10-19T18:38:33.684Z"
   },
   {
    "duration": 5,
    "start_time": "2022-10-19T18:38:33.730Z"
   },
   {
    "duration": 11,
    "start_time": "2022-10-19T18:38:33.736Z"
   },
   {
    "duration": 13,
    "start_time": "2022-10-19T18:38:33.751Z"
   },
   {
    "duration": 14,
    "start_time": "2022-10-19T18:38:33.766Z"
   },
   {
    "duration": 15,
    "start_time": "2022-10-19T18:38:33.782Z"
   },
   {
    "duration": 4,
    "start_time": "2022-10-19T18:38:33.799Z"
   },
   {
    "duration": 33,
    "start_time": "2022-10-19T18:38:33.804Z"
   },
   {
    "duration": 14,
    "start_time": "2022-10-19T18:38:33.839Z"
   },
   {
    "duration": 6,
    "start_time": "2022-10-19T18:38:33.854Z"
   },
   {
    "duration": 20,
    "start_time": "2022-10-19T18:38:33.861Z"
   },
   {
    "duration": 7,
    "start_time": "2022-10-19T18:38:33.883Z"
   },
   {
    "duration": 17,
    "start_time": "2022-10-19T18:38:33.892Z"
   },
   {
    "duration": 32,
    "start_time": "2022-10-19T18:38:33.911Z"
   },
   {
    "duration": 20,
    "start_time": "2022-10-19T18:38:33.945Z"
   },
   {
    "duration": 20,
    "start_time": "2022-10-19T18:38:33.967Z"
   },
   {
    "duration": 86,
    "start_time": "2022-10-19T18:38:33.989Z"
   },
   {
    "duration": 4,
    "start_time": "2022-10-19T18:38:34.077Z"
   },
   {
    "duration": 14,
    "start_time": "2022-10-19T18:38:34.084Z"
   },
   {
    "duration": 925,
    "start_time": "2022-10-19T18:38:34.100Z"
   },
   {
    "duration": 94,
    "start_time": "2022-10-19T18:38:35.027Z"
   },
   {
    "duration": 17,
    "start_time": "2022-10-19T18:38:35.123Z"
   },
   {
    "duration": 16,
    "start_time": "2022-10-19T18:38:35.141Z"
   },
   {
    "duration": 862,
    "start_time": "2022-10-19T18:38:35.159Z"
   },
   {
    "duration": 98,
    "start_time": "2022-10-19T18:38:36.023Z"
   },
   {
    "duration": 12,
    "start_time": "2022-10-19T18:38:36.123Z"
   },
   {
    "duration": 38,
    "start_time": "2022-10-19T18:38:36.137Z"
   },
   {
    "duration": 4,
    "start_time": "2022-10-19T18:38:36.177Z"
   },
   {
    "duration": 24,
    "start_time": "2022-10-19T18:38:36.183Z"
   },
   {
    "duration": 772,
    "start_time": "2022-10-19T18:38:36.221Z"
   },
   {
    "duration": 10,
    "start_time": "2022-10-19T18:38:36.997Z"
   },
   {
    "duration": 115,
    "start_time": "2022-10-19T18:38:37.009Z"
   },
   {
    "duration": 100,
    "start_time": "2022-10-19T18:38:37.127Z"
   },
   {
    "duration": 259,
    "start_time": "2022-10-19T18:38:37.229Z"
   },
   {
    "duration": 34,
    "start_time": "2022-10-19T18:38:37.490Z"
   },
   {
    "duration": 233,
    "start_time": "2022-10-19T18:38:37.526Z"
   },
   {
    "duration": 289,
    "start_time": "2022-10-19T18:38:37.760Z"
   },
   {
    "duration": 2,
    "start_time": "2022-10-19T18:38:38.051Z"
   },
   {
    "duration": 46,
    "start_time": "2022-10-19T18:38:38.055Z"
   },
   {
    "duration": 0,
    "start_time": "2022-10-19T18:38:38.103Z"
   },
   {
    "duration": 0,
    "start_time": "2022-10-19T18:38:38.104Z"
   },
   {
    "duration": 0,
    "start_time": "2022-10-19T18:38:38.106Z"
   },
   {
    "duration": 0,
    "start_time": "2022-10-19T18:38:38.107Z"
   },
   {
    "duration": 422,
    "start_time": "2022-10-19T18:39:18.239Z"
   },
   {
    "duration": 993,
    "start_time": "2022-10-19T18:39:18.664Z"
   },
   {
    "duration": 46,
    "start_time": "2022-10-19T18:39:19.659Z"
   },
   {
    "duration": 16,
    "start_time": "2022-10-19T18:39:19.707Z"
   },
   {
    "duration": 4,
    "start_time": "2022-10-19T18:39:19.725Z"
   },
   {
    "duration": 11,
    "start_time": "2022-10-19T18:39:19.731Z"
   },
   {
    "duration": 20,
    "start_time": "2022-10-19T18:39:19.744Z"
   },
   {
    "duration": 20,
    "start_time": "2022-10-19T18:39:19.766Z"
   },
   {
    "duration": 6,
    "start_time": "2022-10-19T18:39:19.788Z"
   },
   {
    "duration": 41,
    "start_time": "2022-10-19T18:39:19.796Z"
   },
   {
    "duration": 33,
    "start_time": "2022-10-19T18:39:19.839Z"
   },
   {
    "duration": 5,
    "start_time": "2022-10-19T18:39:19.874Z"
   },
   {
    "duration": 16,
    "start_time": "2022-10-19T18:39:19.880Z"
   },
   {
    "duration": 22,
    "start_time": "2022-10-19T18:39:19.899Z"
   },
   {
    "duration": 11,
    "start_time": "2022-10-19T18:39:19.923Z"
   },
   {
    "duration": 16,
    "start_time": "2022-10-19T18:39:19.936Z"
   },
   {
    "duration": 5,
    "start_time": "2022-10-19T18:39:19.954Z"
   },
   {
    "duration": 17,
    "start_time": "2022-10-19T18:39:19.961Z"
   },
   {
    "duration": 5,
    "start_time": "2022-10-19T18:39:19.980Z"
   },
   {
    "duration": 10,
    "start_time": "2022-10-19T18:39:19.986Z"
   },
   {
    "duration": 34,
    "start_time": "2022-10-19T18:39:19.997Z"
   },
   {
    "duration": 33,
    "start_time": "2022-10-19T18:39:20.032Z"
   },
   {
    "duration": 19,
    "start_time": "2022-10-19T18:39:20.068Z"
   },
   {
    "duration": 35,
    "start_time": "2022-10-19T18:39:20.089Z"
   },
   {
    "duration": 26,
    "start_time": "2022-10-19T18:39:20.127Z"
   },
   {
    "duration": 28,
    "start_time": "2022-10-19T18:39:20.155Z"
   },
   {
    "duration": 80,
    "start_time": "2022-10-19T18:39:20.186Z"
   },
   {
    "duration": 4,
    "start_time": "2022-10-19T18:39:20.268Z"
   },
   {
    "duration": 6,
    "start_time": "2022-10-19T18:39:20.274Z"
   },
   {
    "duration": 840,
    "start_time": "2022-10-19T18:39:20.282Z"
   },
   {
    "duration": 8,
    "start_time": "2022-10-19T18:39:21.124Z"
   },
   {
    "duration": 93,
    "start_time": "2022-10-19T18:39:21.134Z"
   },
   {
    "duration": 101,
    "start_time": "2022-10-19T18:39:21.229Z"
   },
   {
    "duration": 898,
    "start_time": "2022-10-19T18:39:21.332Z"
   },
   {
    "duration": 88,
    "start_time": "2022-10-19T18:39:22.234Z"
   },
   {
    "duration": 13,
    "start_time": "2022-10-19T18:39:22.324Z"
   },
   {
    "duration": 88,
    "start_time": "2022-10-19T18:39:22.339Z"
   },
   {
    "duration": 4,
    "start_time": "2022-10-19T18:39:22.428Z"
   },
   {
    "duration": 16,
    "start_time": "2022-10-19T18:39:22.434Z"
   },
   {
    "duration": 828,
    "start_time": "2022-10-19T18:39:22.451Z"
   },
   {
    "duration": 9,
    "start_time": "2022-10-19T18:39:23.283Z"
   },
   {
    "duration": 130,
    "start_time": "2022-10-19T18:39:23.294Z"
   },
   {
    "duration": 105,
    "start_time": "2022-10-19T18:39:23.427Z"
   },
   {
    "duration": 250,
    "start_time": "2022-10-19T18:39:23.627Z"
   },
   {
    "duration": 42,
    "start_time": "2022-10-19T18:39:23.880Z"
   },
   {
    "duration": 227,
    "start_time": "2022-10-19T18:39:23.924Z"
   },
   {
    "duration": 405,
    "start_time": "2022-10-19T18:39:24.152Z"
   },
   {
    "duration": 3,
    "start_time": "2022-10-19T18:39:24.559Z"
   },
   {
    "duration": 45,
    "start_time": "2022-10-19T18:39:24.564Z"
   },
   {
    "duration": 25,
    "start_time": "2022-10-19T18:39:24.611Z"
   },
   {
    "duration": 112,
    "start_time": "2022-10-19T18:39:24.637Z"
   },
   {
    "duration": 5,
    "start_time": "2022-10-19T18:39:24.751Z"
   },
   {
    "duration": 462,
    "start_time": "2022-10-19T18:55:21.839Z"
   },
   {
    "duration": 1025,
    "start_time": "2022-10-19T18:55:22.303Z"
   },
   {
    "duration": 54,
    "start_time": "2022-10-19T18:55:23.330Z"
   },
   {
    "duration": 14,
    "start_time": "2022-10-19T18:55:23.386Z"
   },
   {
    "duration": 21,
    "start_time": "2022-10-19T18:55:23.403Z"
   },
   {
    "duration": 15,
    "start_time": "2022-10-19T18:55:23.426Z"
   },
   {
    "duration": 10,
    "start_time": "2022-10-19T18:55:23.443Z"
   },
   {
    "duration": 24,
    "start_time": "2022-10-19T18:55:23.455Z"
   },
   {
    "duration": 7,
    "start_time": "2022-10-19T18:55:23.481Z"
   },
   {
    "duration": 37,
    "start_time": "2022-10-19T18:55:23.490Z"
   },
   {
    "duration": 32,
    "start_time": "2022-10-19T18:55:23.529Z"
   },
   {
    "duration": 5,
    "start_time": "2022-10-19T18:55:23.563Z"
   },
   {
    "duration": 34,
    "start_time": "2022-10-19T18:55:23.570Z"
   },
   {
    "duration": 29,
    "start_time": "2022-10-19T18:55:23.609Z"
   },
   {
    "duration": 31,
    "start_time": "2022-10-19T18:55:23.640Z"
   },
   {
    "duration": 26,
    "start_time": "2022-10-19T18:55:23.674Z"
   },
   {
    "duration": 9,
    "start_time": "2022-10-19T18:55:23.703Z"
   },
   {
    "duration": 16,
    "start_time": "2022-10-19T18:55:23.714Z"
   },
   {
    "duration": 40,
    "start_time": "2022-10-19T18:55:23.733Z"
   },
   {
    "duration": 24,
    "start_time": "2022-10-19T18:55:23.775Z"
   },
   {
    "duration": 19,
    "start_time": "2022-10-19T18:55:23.800Z"
   },
   {
    "duration": 19,
    "start_time": "2022-10-19T18:55:23.822Z"
   },
   {
    "duration": 19,
    "start_time": "2022-10-19T18:55:23.843Z"
   },
   {
    "duration": 66,
    "start_time": "2022-10-19T18:55:23.865Z"
   },
   {
    "duration": 25,
    "start_time": "2022-10-19T18:55:23.934Z"
   },
   {
    "duration": 20,
    "start_time": "2022-10-19T18:55:23.961Z"
   },
   {
    "duration": 76,
    "start_time": "2022-10-19T18:55:23.983Z"
   },
   {
    "duration": 5,
    "start_time": "2022-10-19T18:55:24.061Z"
   },
   {
    "duration": 17,
    "start_time": "2022-10-19T18:55:24.068Z"
   },
   {
    "duration": 843,
    "start_time": "2022-10-19T18:55:24.087Z"
   },
   {
    "duration": 95,
    "start_time": "2022-10-19T18:55:24.932Z"
   },
   {
    "duration": 123,
    "start_time": "2022-10-19T18:55:25.032Z"
   },
   {
    "duration": 29,
    "start_time": "2022-10-19T18:55:25.157Z"
   },
   {
    "duration": 875,
    "start_time": "2022-10-19T18:55:25.188Z"
   },
   {
    "duration": 66,
    "start_time": "2022-10-19T18:55:26.065Z"
   },
   {
    "duration": 104,
    "start_time": "2022-10-19T18:55:26.133Z"
   },
   {
    "duration": 56,
    "start_time": "2022-10-19T18:55:26.239Z"
   },
   {
    "duration": 3,
    "start_time": "2022-10-19T18:55:26.297Z"
   },
   {
    "duration": 22,
    "start_time": "2022-10-19T18:55:26.302Z"
   },
   {
    "duration": 777,
    "start_time": "2022-10-19T18:55:26.329Z"
   },
   {
    "duration": 19,
    "start_time": "2022-10-19T18:55:27.112Z"
   },
   {
    "duration": 99,
    "start_time": "2022-10-19T18:55:27.133Z"
   },
   {
    "duration": 96,
    "start_time": "2022-10-19T18:55:27.235Z"
   },
   {
    "duration": 312,
    "start_time": "2022-10-19T18:55:27.334Z"
   },
   {
    "duration": 13,
    "start_time": "2022-10-19T18:55:27.648Z"
   },
   {
    "duration": 292,
    "start_time": "2022-10-19T18:55:27.664Z"
   },
   {
    "duration": 323,
    "start_time": "2022-10-19T18:55:27.959Z"
   },
   {
    "duration": 4,
    "start_time": "2022-10-19T18:55:28.284Z"
   },
   {
    "duration": 37,
    "start_time": "2022-10-19T18:55:28.290Z"
   },
   {
    "duration": 40,
    "start_time": "2022-10-19T18:55:28.329Z"
   },
   {
    "duration": 143,
    "start_time": "2022-10-19T18:55:28.371Z"
   },
   {
    "duration": 7,
    "start_time": "2022-10-19T18:55:28.519Z"
   },
   {
    "duration": 54,
    "start_time": "2022-10-19T18:55:28.528Z"
   },
   {
    "duration": 18,
    "start_time": "2022-10-19T18:55:28.584Z"
   },
   {
    "duration": 124,
    "start_time": "2022-10-19T18:55:28.604Z"
   },
   {
    "duration": 106,
    "start_time": "2022-10-19T18:55:28.730Z"
   },
   {
    "duration": 162,
    "start_time": "2022-10-19T18:55:28.839Z"
   },
   {
    "duration": 0,
    "start_time": "2022-10-19T18:55:29.003Z"
   },
   {
    "duration": 0,
    "start_time": "2022-10-19T18:55:29.003Z"
   },
   {
    "duration": 0,
    "start_time": "2022-10-19T18:55:29.004Z"
   },
   {
    "duration": 0,
    "start_time": "2022-10-19T18:55:29.005Z"
   },
   {
    "duration": 0,
    "start_time": "2022-10-19T18:55:29.007Z"
   },
   {
    "duration": 0,
    "start_time": "2022-10-19T18:55:29.009Z"
   },
   {
    "duration": 0,
    "start_time": "2022-10-19T18:55:29.010Z"
   },
   {
    "duration": 0,
    "start_time": "2022-10-19T18:55:29.020Z"
   },
   {
    "duration": 0,
    "start_time": "2022-10-19T18:55:29.022Z"
   },
   {
    "duration": 0,
    "start_time": "2022-10-19T18:55:29.023Z"
   },
   {
    "duration": 0,
    "start_time": "2022-10-19T18:55:29.024Z"
   },
   {
    "duration": 0,
    "start_time": "2022-10-19T18:55:29.025Z"
   },
   {
    "duration": 0,
    "start_time": "2022-10-19T18:55:29.027Z"
   },
   {
    "duration": 1,
    "start_time": "2022-10-19T18:55:29.028Z"
   },
   {
    "duration": 0,
    "start_time": "2022-10-19T18:55:29.030Z"
   },
   {
    "duration": 0,
    "start_time": "2022-10-19T18:55:29.031Z"
   },
   {
    "duration": 431,
    "start_time": "2022-10-19T18:56:13.554Z"
   },
   {
    "duration": 927,
    "start_time": "2022-10-19T18:56:13.987Z"
   },
   {
    "duration": 43,
    "start_time": "2022-10-19T18:56:14.916Z"
   },
   {
    "duration": 18,
    "start_time": "2022-10-19T18:56:14.960Z"
   },
   {
    "duration": 9,
    "start_time": "2022-10-19T18:56:14.981Z"
   },
   {
    "duration": 48,
    "start_time": "2022-10-19T18:56:14.991Z"
   },
   {
    "duration": 25,
    "start_time": "2022-10-19T18:56:15.041Z"
   },
   {
    "duration": 18,
    "start_time": "2022-10-19T18:56:15.068Z"
   },
   {
    "duration": 11,
    "start_time": "2022-10-19T18:56:15.088Z"
   },
   {
    "duration": 29,
    "start_time": "2022-10-19T18:56:15.101Z"
   },
   {
    "duration": 45,
    "start_time": "2022-10-19T18:56:15.131Z"
   },
   {
    "duration": 8,
    "start_time": "2022-10-19T18:56:15.178Z"
   },
   {
    "duration": 22,
    "start_time": "2022-10-19T18:56:15.188Z"
   },
   {
    "duration": 29,
    "start_time": "2022-10-19T18:56:15.214Z"
   },
   {
    "duration": 20,
    "start_time": "2022-10-19T18:56:15.245Z"
   },
   {
    "duration": 29,
    "start_time": "2022-10-19T18:56:15.267Z"
   },
   {
    "duration": 21,
    "start_time": "2022-10-19T18:56:15.298Z"
   },
   {
    "duration": 49,
    "start_time": "2022-10-19T18:56:15.321Z"
   },
   {
    "duration": 19,
    "start_time": "2022-10-19T18:56:15.371Z"
   },
   {
    "duration": 23,
    "start_time": "2022-10-19T18:56:15.391Z"
   },
   {
    "duration": 38,
    "start_time": "2022-10-19T18:56:15.415Z"
   },
   {
    "duration": 12,
    "start_time": "2022-10-19T18:56:15.455Z"
   },
   {
    "duration": 35,
    "start_time": "2022-10-19T18:56:15.469Z"
   },
   {
    "duration": 35,
    "start_time": "2022-10-19T18:56:15.506Z"
   },
   {
    "duration": 34,
    "start_time": "2022-10-19T18:56:15.543Z"
   },
   {
    "duration": 23,
    "start_time": "2022-10-19T18:56:15.579Z"
   },
   {
    "duration": 74,
    "start_time": "2022-10-19T18:56:15.604Z"
   },
   {
    "duration": 4,
    "start_time": "2022-10-19T18:56:15.680Z"
   },
   {
    "duration": 39,
    "start_time": "2022-10-19T18:56:15.687Z"
   },
   {
    "duration": 821,
    "start_time": "2022-10-19T18:56:15.729Z"
   },
   {
    "duration": 76,
    "start_time": "2022-10-19T18:56:16.551Z"
   },
   {
    "duration": 127,
    "start_time": "2022-10-19T18:56:16.630Z"
   },
   {
    "duration": 21,
    "start_time": "2022-10-19T18:56:16.759Z"
   },
   {
    "duration": 779,
    "start_time": "2022-10-19T18:56:16.782Z"
   },
   {
    "duration": 6,
    "start_time": "2022-10-19T18:56:17.621Z"
   },
   {
    "duration": 101,
    "start_time": "2022-10-19T18:56:17.629Z"
   },
   {
    "duration": 36,
    "start_time": "2022-10-19T18:56:17.732Z"
   },
   {
    "duration": 4,
    "start_time": "2022-10-19T18:56:17.770Z"
   },
   {
    "duration": 18,
    "start_time": "2022-10-19T18:56:17.776Z"
   },
   {
    "duration": 759,
    "start_time": "2022-10-19T18:56:17.796Z"
   },
   {
    "duration": 11,
    "start_time": "2022-10-19T18:56:18.561Z"
   },
   {
    "duration": 48,
    "start_time": "2022-10-19T18:56:18.574Z"
   },
   {
    "duration": 98,
    "start_time": "2022-10-19T18:56:18.624Z"
   },
   {
    "duration": 266,
    "start_time": "2022-10-19T18:56:18.724Z"
   },
   {
    "duration": 30,
    "start_time": "2022-10-19T18:56:18.992Z"
   },
   {
    "duration": 298,
    "start_time": "2022-10-19T18:56:19.024Z"
   },
   {
    "duration": 306,
    "start_time": "2022-10-19T18:56:19.325Z"
   },
   {
    "duration": 2,
    "start_time": "2022-10-19T18:56:19.633Z"
   },
   {
    "duration": 10,
    "start_time": "2022-10-19T18:56:19.637Z"
   },
   {
    "duration": 7,
    "start_time": "2022-10-19T18:56:19.649Z"
   },
   {
    "duration": 104,
    "start_time": "2022-10-19T18:56:19.658Z"
   },
   {
    "duration": 7,
    "start_time": "2022-10-19T18:56:19.764Z"
   },
   {
    "duration": 22,
    "start_time": "2022-10-19T18:56:19.774Z"
   },
   {
    "duration": 29,
    "start_time": "2022-10-19T18:56:19.798Z"
   },
   {
    "duration": 115,
    "start_time": "2022-10-19T18:56:19.828Z"
   },
   {
    "duration": 90,
    "start_time": "2022-10-19T18:56:19.945Z"
   },
   {
    "duration": 794,
    "start_time": "2022-10-19T18:56:20.037Z"
   },
   {
    "duration": 1290,
    "start_time": "2022-10-19T18:56:20.832Z"
   },
   {
    "duration": 132,
    "start_time": "2022-10-19T18:56:22.124Z"
   },
   {
    "duration": 1044,
    "start_time": "2022-10-19T18:56:22.258Z"
   },
   {
    "duration": 116,
    "start_time": "2022-10-19T18:56:23.304Z"
   },
   {
    "duration": 95,
    "start_time": "2022-10-19T18:56:23.425Z"
   },
   {
    "duration": 8,
    "start_time": "2022-10-19T18:56:23.523Z"
   },
   {
    "duration": 43330,
    "start_time": "2022-10-19T18:56:23.533Z"
   },
   {
    "duration": 17,
    "start_time": "2022-10-19T18:57:06.864Z"
   },
   {
    "duration": 688,
    "start_time": "2022-10-19T18:57:06.883Z"
   },
   {
    "duration": 7,
    "start_time": "2022-10-19T18:57:07.573Z"
   },
   {
    "duration": 95,
    "start_time": "2022-10-19T18:57:07.582Z"
   },
   {
    "duration": 6,
    "start_time": "2022-10-19T18:57:07.679Z"
   },
   {
    "duration": 51,
    "start_time": "2022-10-19T18:57:07.687Z"
   },
   {
    "duration": 91,
    "start_time": "2022-10-19T18:57:07.740Z"
   },
   {
    "duration": 299,
    "start_time": "2022-10-19T18:57:07.833Z"
   }
  ],
  "kernelspec": {
   "display_name": "Python 3 (ipykernel)",
   "language": "python",
   "name": "python3"
  },
  "language_info": {
   "codemirror_mode": {
    "name": "ipython",
    "version": 3
   },
   "file_extension": ".py",
   "mimetype": "text/x-python",
   "name": "python",
   "nbconvert_exporter": "python",
   "pygments_lexer": "ipython3",
   "version": "3.9.5"
  },
  "toc": {
   "base_numbering": 1,
   "nav_menu": {},
   "number_sections": true,
   "sideBar": true,
   "skip_h1_title": true,
   "title_cell": "Содержание",
   "title_sidebar": "Contents",
   "toc_cell": true,
   "toc_position": {
    "height": "calc(100% - 180px)",
    "left": "10px",
    "top": "150px",
    "width": "165px"
   },
   "toc_section_display": true,
   "toc_window_display": true
  }
 },
 "nbformat": 4,
 "nbformat_minor": 2
}
