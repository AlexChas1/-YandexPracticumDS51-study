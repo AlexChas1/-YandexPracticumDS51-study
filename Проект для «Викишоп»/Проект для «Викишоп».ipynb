{
 "cells": [
  {
   "cell_type": "markdown",
   "metadata": {
    "toc": true
   },
   "source": [
    "<h1>Содержание<span class=\"tocSkip\"></span></h1>\n",
    "<div class=\"toc\"><ul class=\"toc-item\"><li><span><a href=\"#Подготовка\" data-toc-modified-id=\"Подготовка-1\"><span class=\"toc-item-num\">1&nbsp;&nbsp;</span>Подготовка</a></span></li><li><span><a href=\"#Обучение\" data-toc-modified-id=\"Обучение-2\"><span class=\"toc-item-num\">2&nbsp;&nbsp;</span>Обучение</a></span></li><li><span><a href=\"#Выводы\" data-toc-modified-id=\"Выводы-3\"><span class=\"toc-item-num\">3&nbsp;&nbsp;</span>Выводы</a></span></li><li><span><a href=\"#Чек-лист-проверки\" data-toc-modified-id=\"Чек-лист-проверки-4\"><span class=\"toc-item-num\">4&nbsp;&nbsp;</span>Чек-лист проверки</a></span></li></ul></div>"
   ]
  },
  {
   "cell_type": "markdown",
   "metadata": {},
   "source": [
    "# Проект для «Викишоп»"
   ]
  },
  {
   "cell_type": "markdown",
   "metadata": {},
   "source": [
    "Интернет-магазин «Викишоп» запускает новый сервис. Теперь пользователи могут редактировать и дополнять описания товаров, как в вики-сообществах. То есть клиенты предлагают свои правки и комментируют изменения других. Магазину нужен инструмент, который будет искать токсичные комментарии и отправлять их на модерацию. \n",
    "\n",
    "Обучите модель классифицировать комментарии на позитивные и негативные. В вашем распоряжении набор данных с разметкой о токсичности правок.\n",
    "\n",
    "Постройте модель со значением метрики качества *F1* не меньше 0.75. \n",
    "\n",
    "**Инструкция по выполнению проекта**\n",
    "\n",
    "1. Загрузите и подготовьте данные.\n",
    "2. Обучите разные модели. \n",
    "3. Сделайте выводы.\n",
    "\n",
    "Для выполнения проекта применять *BERT* необязательно, но вы можете попробовать.\n",
    "\n",
    "**Описание данных**\n",
    "\n",
    "Данные находятся в файле `toxic_comments.csv`. Столбец *text* в нём содержит текст комментария, а *toxic* — целевой признак."
   ]
  },
  {
   "cell_type": "markdown",
   "metadata": {},
   "source": [
    "## Подготовка"
   ]
  },
  {
   "cell_type": "code",
   "execution_count": 1,
   "metadata": {},
   "outputs": [],
   "source": [
    "import numpy as np\n",
    "import pandas as pd\n",
    "import re\n",
    "import nltk\n",
    "#from sklearn.preprocessing import RobustScaler, StandardScaler\n",
    "#from sklearn.pipeline import Pipeline\n",
    "from nltk.stem import WordNetLemmatizer\n",
    "from nltk.corpus import stopwords as nltk_stopwords\n",
    "from sklearn.feature_extraction.text import TfidfVectorizer\n",
    "from sklearn.model_selection import train_test_split, cross_val_score, GridSearchCV\n",
    "from sklearn.linear_model import LogisticRegression\n",
    "#from sklearn.tree import DecisionTreeClassifier\n",
    "from catboost import CatBoostClassifier\n",
    "from sklearn.metrics import f1_score, precision_score, recall_score, accuracy_score, roc_auc_score, roc_curve\n",
    "from sklearn.utils import shuffle\n",
    "#import matplotlib.pyplot as plt\n",
    "import warnings\n",
    "#from tqdm import tqdm\n",
    "warnings.filterwarnings('ignore')\n",
    "#from lightgbm import LGBMClassifier\n",
    "#import lightgbm as lgb"
   ]
  },
  {
   "cell_type": "code",
   "execution_count": 2,
   "metadata": {},
   "outputs": [
    {
     "name": "stdout",
     "output_type": "stream",
     "text": [
      "<class 'pandas.core.frame.DataFrame'>\n",
      "RangeIndex: 159292 entries, 0 to 159291\n",
      "Data columns (total 3 columns):\n",
      " #   Column      Non-Null Count   Dtype \n",
      "---  ------      --------------   ----- \n",
      " 0   Unnamed: 0  159292 non-null  int64 \n",
      " 1   text        159292 non-null  object\n",
      " 2   toxic       159292 non-null  int64 \n",
      "dtypes: int64(2), object(1)\n",
      "memory usage: 3.6+ MB\n"
     ]
    }
   ],
   "source": [
    "toxic_comments = pd.read_csv('/datasets/toxic_comments.csv')\n",
    "toxic_comments.info()"
   ]
  },
  {
   "cell_type": "code",
   "execution_count": 3,
   "metadata": {},
   "outputs": [
    {
     "data": {
      "text/html": [
       "<div>\n",
       "<style scoped>\n",
       "    .dataframe tbody tr th:only-of-type {\n",
       "        vertical-align: middle;\n",
       "    }\n",
       "\n",
       "    .dataframe tbody tr th {\n",
       "        vertical-align: top;\n",
       "    }\n",
       "\n",
       "    .dataframe thead th {\n",
       "        text-align: right;\n",
       "    }\n",
       "</style>\n",
       "<table border=\"1\" class=\"dataframe\">\n",
       "  <thead>\n",
       "    <tr style=\"text-align: right;\">\n",
       "      <th></th>\n",
       "      <th>Unnamed: 0</th>\n",
       "      <th>text</th>\n",
       "      <th>toxic</th>\n",
       "    </tr>\n",
       "  </thead>\n",
       "  <tbody>\n",
       "    <tr>\n",
       "      <th>0</th>\n",
       "      <td>0</td>\n",
       "      <td>Explanation\\nWhy the edits made under my usern...</td>\n",
       "      <td>0</td>\n",
       "    </tr>\n",
       "    <tr>\n",
       "      <th>1</th>\n",
       "      <td>1</td>\n",
       "      <td>D'aww! He matches this background colour I'm s...</td>\n",
       "      <td>0</td>\n",
       "    </tr>\n",
       "    <tr>\n",
       "      <th>2</th>\n",
       "      <td>2</td>\n",
       "      <td>Hey man, I'm really not trying to edit war. It...</td>\n",
       "      <td>0</td>\n",
       "    </tr>\n",
       "    <tr>\n",
       "      <th>3</th>\n",
       "      <td>3</td>\n",
       "      <td>\"\\nMore\\nI can't make any real suggestions on ...</td>\n",
       "      <td>0</td>\n",
       "    </tr>\n",
       "    <tr>\n",
       "      <th>4</th>\n",
       "      <td>4</td>\n",
       "      <td>You, sir, are my hero. Any chance you remember...</td>\n",
       "      <td>0</td>\n",
       "    </tr>\n",
       "  </tbody>\n",
       "</table>\n",
       "</div>"
      ],
      "text/plain": [
       "   Unnamed: 0                                               text  toxic\n",
       "0           0  Explanation\\nWhy the edits made under my usern...      0\n",
       "1           1  D'aww! He matches this background colour I'm s...      0\n",
       "2           2  Hey man, I'm really not trying to edit war. It...      0\n",
       "3           3  \"\\nMore\\nI can't make any real suggestions on ...      0\n",
       "4           4  You, sir, are my hero. Any chance you remember...      0"
      ]
     },
     "execution_count": 3,
     "metadata": {},
     "output_type": "execute_result"
    }
   ],
   "source": [
    "toxic_comments.head()"
   ]
  },
  {
   "cell_type": "code",
   "execution_count": 4,
   "metadata": {},
   "outputs": [],
   "source": [
    "corpus = list(toxic_comments['text'])"
   ]
  },
  {
   "cell_type": "code",
   "execution_count": 5,
   "metadata": {},
   "outputs": [
    {
     "data": {
      "text/plain": [
       "0    143106\n",
       "1     16186\n",
       "Name: toxic, dtype: int64"
      ]
     },
     "metadata": {},
     "output_type": "display_data"
    },
    {
     "data": {
      "text/plain": [
       "8.841344371679229"
      ]
     },
     "execution_count": 5,
     "metadata": {},
     "output_type": "execute_result"
    }
   ],
   "source": [
    "#Посмотрим сколько у нас токсичных/нектоксичных текстов\n",
    "display(toxic_comments['toxic'].value_counts())\n",
    "#Выведем соотношение\n",
    "class_ratio = toxic_comments['toxic'].value_counts()[0] / toxic_comments['toxic'].value_counts()[1]\n",
    "class_ratio"
   ]
  },
  {
   "cell_type": "markdown",
   "metadata": {},
   "source": [
    "Вывод"
   ]
  },
  {
   "cell_type": "markdown",
   "metadata": {},
   "source": [
    "Видим что классы несбалансированы, применем несколько способов балансировки и сравним их"
   ]
  },
  {
   "cell_type": "code",
   "execution_count": 6,
   "metadata": {},
   "outputs": [],
   "source": [
    "lemmatizer = WordNetLemmatizer()\n",
    "\n",
    "def lemmatize_text(text):\n",
    "    text = text.lower()\n",
    "    lemm_text = \" \".join(lemmatizer.lemmatize(word) for word in text.split())\n",
    "    cleared_text = re.sub(r'[^a-zA-Z]', ' ', lemm_text) \n",
    "    return \" \".join(cleared_text.split())\n",
    "\n",
    "toxic_comments['lemm_text'] = toxic_comments['text'].apply(lemmatize_text)\n",
    "\n",
    "toxic_comments = toxic_comments.drop(['text'], axis=1)\n"
   ]
  },
  {
   "cell_type": "code",
   "execution_count": 7,
   "metadata": {},
   "outputs": [
    {
     "data": {
      "text/plain": [
       "'more i can t make any real suggestion on improvement i wondered if the section statistic should be later on or a subsection of types of accidents i think the reference may need tidying so that they are all in the exact same format ie date format etc i can do that later on if no one else doe first if you have any preference for formatting style on reference or want to do it yourself please let me know there appears to be a backlog on article for review so i guess there may be a delay until a reviewer turn up it s listed in the relevant form eg wikipedia good article nominations transport'"
      ]
     },
     "execution_count": 7,
     "metadata": {},
     "output_type": "execute_result"
    }
   ],
   "source": [
    "toxic_comments['lemm_text'][3]"
   ]
  },
  {
   "cell_type": "code",
   "execution_count": 8,
   "metadata": {},
   "outputs": [],
   "source": [
    "dataset = pd.DataFrame({'lemma': corpus, 'toxic': toxic_comments['toxic']})"
   ]
  },
  {
   "cell_type": "code",
   "execution_count": 9,
   "metadata": {},
   "outputs": [
    {
     "name": "stderr",
     "output_type": "stream",
     "text": [
      "[nltk_data] Downloading package stopwords to /home/jovyan/nltk_data...\n",
      "[nltk_data]   Package stopwords is already up-to-date!\n"
     ]
    },
    {
     "name": "stdout",
     "output_type": "stream",
     "text": [
      "(79646, 110921)\n",
      "(39823, 110921)\n",
      "(39823, 110921)\n"
     ]
    }
   ],
   "source": [
    "# Разобьем выборку по отношению 50/20/20. Уменьшим количество кроссвалидаций до 3 из-за размера выборки.\n",
    "target = toxic_comments['toxic']\n",
    "features = toxic_comments.drop(['toxic'], axis=1)\n",
    "\n",
    "features_train, features_valid, target_train, target_valid = train_test_split(features, \n",
    "                                                                              target, \n",
    "                                                                              test_size=0.5, \n",
    "                                                                              random_state=1515)\n",
    "features_valid, features_test, target_valid, target_test = train_test_split(features_valid, \n",
    "                                                                            target_valid, \n",
    "                                                                            test_size=0.5,\n",
    "                                                                            random_state=1515)\n",
    "\n",
    "\n",
    "\n",
    "nltk.download('stopwords')\n",
    "stopwords = set(nltk_stopwords.words('english'))\n",
    "\n",
    "count_tf_idf = TfidfVectorizer(stop_words=stopwords)\n",
    "\n",
    "features_train = count_tf_idf.fit_transform(features_train['lemm_text'].values)\n",
    "features_valid = count_tf_idf.transform(features_valid['lemm_text'].values)\n",
    "features_test = count_tf_idf.transform(features_test['lemm_text'].values)\n",
    "print(features_train.shape)\n",
    "print(features_valid.shape)\n",
    "print(features_test.shape)\n",
    "cv_counts = 2"
   ]
  },
  {
   "cell_type": "code",
   "execution_count": 10,
   "metadata": {},
   "outputs": [
    {
     "name": "stdout",
     "output_type": "stream",
     "text": [
      "F1 на CV 0.637618679285346\n"
     ]
    }
   ],
   "source": [
    "classificator = LogisticRegression()\n",
    "train_f1 = cross_val_score(classificator, \n",
    "                      features_train, \n",
    "                      target_train, \n",
    "                      cv=cv_counts, \n",
    "                      scoring='f1').mean()\n",
    "print('F1 на CV', train_f1)"
   ]
  },
  {
   "cell_type": "markdown",
   "metadata": {},
   "source": [
    "Балансировка данных"
   ]
  },
  {
   "cell_type": "markdown",
   "metadata": {},
   "source": [
    "Уменьшение размера весов классов"
   ]
  },
  {
   "cell_type": "code",
   "execution_count": 11,
   "metadata": {},
   "outputs": [
    {
     "name": "stdout",
     "output_type": "stream",
     "text": [
      "F1 на CV с балансированными классами 0.7456315886644493\n"
     ]
    }
   ],
   "source": [
    "dict_classes={0:1, 1:class_ratio}\n",
    "classificator = LogisticRegression(class_weight=dict_classes)\n",
    "train_f1_ballanced = cross_val_score(classificator, \n",
    "                                    features_train, \n",
    "                                    target_train, \n",
    "                                    cv=cv_counts, \n",
    "                                    scoring='f1').mean()\n",
    "print('F1 на CV с балансированными классами', train_f1_ballanced)"
   ]
  },
  {
   "cell_type": "code",
   "execution_count": 12,
   "metadata": {},
   "outputs": [
    {
     "name": "stdout",
     "output_type": "stream",
     "text": [
      "F1 на CV с балансированными классами 0.7456315886644493\n"
     ]
    }
   ],
   "source": [
    "classificator = LogisticRegression(class_weight='balanced')\n",
    "train_f1_balanced = cross_val_score(classificator, \n",
    "                                    features_train, \n",
    "                                    target_train, \n",
    "                                    cv=cv_counts, \n",
    "                                    scoring='f1').mean()\n",
    "print('F1 на CV с балансированными классами', train_f1_ballanced)"
   ]
  },
  {
   "cell_type": "markdown",
   "metadata": {},
   "source": [
    "Ресемплинг с уменшением класса 0"
   ]
  },
  {
   "cell_type": "code",
   "execution_count": 13,
   "metadata": {},
   "outputs": [],
   "source": [
    "toxic_comments_train = toxic_comments.iloc[target_train.index]\n",
    "\n",
    "target_train_class_zero = toxic_comments_train[toxic_comments_train['toxic'] == 0]['toxic']\n",
    "target_train_class_one = toxic_comments_train[toxic_comments_train['toxic'] == 1]['toxic']"
   ]
  },
  {
   "cell_type": "code",
   "execution_count": 14,
   "metadata": {},
   "outputs": [],
   "source": [
    "target_train_class_zero_downsample = target_train_class_zero.sample(target_train_class_one.shape[0],\n",
    "                                                                    random_state=12082020)\n",
    "target_train_downsample = pd.concat([target_train_class_zero_downsample, target_train_class_one])\n",
    "\n",
    "features_train_downsample = toxic_comments.iloc[target_train_downsample.index]\n",
    "features_train_downsample, target_train_downsample = shuffle(features_train_downsample,\n",
    "                                                             target_train_downsample,\n",
    "                                                             random_state=12082020)\n",
    "features_train_downsample = count_tf_idf.transform(features_train_downsample['lemm_text']\n",
    "                                                   .values.astype('U'))"
   ]
  },
  {
   "cell_type": "code",
   "execution_count": 15,
   "metadata": {
    "scrolled": true
   },
   "outputs": [
    {
     "name": "stdout",
     "output_type": "stream",
     "text": [
      "F1 на CV с уменьшением классов 0.874815273093978\n"
     ]
    }
   ],
   "source": [
    "classificator = LogisticRegression()\n",
    "train_f1_downsampled = cross_val_score(classificator,\n",
    "                      features_train_downsample, \n",
    "                      target_train_downsample, \n",
    "                      cv=cv_counts, \n",
    "                      scoring='f1').mean()\n",
    "print('F1 на CV с уменьшением классов', train_f1_downsampled)"
   ]
  },
  {
   "cell_type": "markdown",
   "metadata": {},
   "source": [
    "Видим значительный прирост f1 меры"
   ]
  },
  {
   "cell_type": "markdown",
   "metadata": {},
   "source": [
    "Вывод"
   ]
  },
  {
   "cell_type": "markdown",
   "metadata": {},
   "source": [
    "В ходе исследования обнаружил большой разболанс. Выборка была разбита на тестовую, валидационную и тестовую. Самого текста была проведена лемматизация"
   ]
  },
  {
   "cell_type": "markdown",
   "metadata": {},
   "source": [
    "## Обучение"
   ]
  },
  {
   "cell_type": "markdown",
   "metadata": {},
   "source": [
    "Начнём с логистической регрессии"
   ]
  },
  {
   "cell_type": "code",
   "execution_count": 16,
   "metadata": {},
   "outputs": [
    {
     "data": {
      "text/plain": [
       "{'C': 10, 'class_weight': {0: 1, 1: 8.841344371679229}, 'solver': 'liblinear'}"
      ]
     },
     "metadata": {},
     "output_type": "display_data"
    },
    {
     "name": "stdout",
     "output_type": "stream",
     "text": [
      "CPU times: user 1min 28s, sys: 3min 5s, total: 4min 34s\n",
      "Wall time: 4min 34s\n"
     ]
    }
   ],
   "source": [
    "%%time\n",
    "\n",
    "# чтобы не перебирать вручную гиперпараметры, используем метод GridSearchCV для автоматического подбора\n",
    "model = LogisticRegression()\n",
    "giperparametr = [{'solver':['newton-cg', 'lbfgs', 'liblinear'], 'C':[0.1, 1, 10], 'class_weight':[dict_classes]}]\n",
    "clf = GridSearchCV(model, giperparametr, scoring='f1',cv=cv_counts)\n",
    "clf.fit(features_train, target_train)\n",
    "display(clf.best_params_)"
   ]
  },
  {
   "cell_type": "markdown",
   "metadata": {},
   "source": [
    "расчитаем f1"
   ]
  },
  {
   "cell_type": "code",
   "execution_count": 17,
   "metadata": {},
   "outputs": [
    {
     "name": "stdout",
     "output_type": "stream",
     "text": [
      "CPU times: user 7.73 s, sys: 13.7 s, total: 21.4 s\n",
      "Wall time: 21.4 s\n"
     ]
    },
    {
     "data": {
      "text/plain": [
       "LogisticRegression(C=10, class_weight={0: 1, 1: 8.841344371679229},\n",
       "                   solver='liblinear')"
      ]
     },
     "execution_count": 17,
     "metadata": {},
     "output_type": "execute_result"
    }
   ],
   "source": [
    "%%time\n",
    "\n",
    "LR_best_params = clf.best_params_\n",
    "means = clf.cv_results_['mean_test_score']\n",
    "stds = clf.cv_results_['std_test_score']\n",
    "cv_f1_LR = max(means)\n",
    "model = LogisticRegression()\n",
    "model.set_params(**LR_best_params)\n",
    "model.fit(features_train, target_train)"
   ]
  },
  {
   "cell_type": "code",
   "execution_count": 18,
   "metadata": {},
   "outputs": [
    {
     "name": "stdout",
     "output_type": "stream",
     "text": [
      "CPU times: user 3.53 ms, sys: 3.35 ms, total: 6.88 ms\n",
      "Wall time: 6.69 ms\n"
     ]
    }
   ],
   "source": [
    "%%time\n",
    "target_predict = model.predict(features_valid)"
   ]
  },
  {
   "cell_type": "code",
   "execution_count": 19,
   "metadata": {},
   "outputs": [
    {
     "name": "stdout",
     "output_type": "stream",
     "text": [
      "F1 на cv 0.7502782510030439\n",
      "F1 на валидации 0.7544441810855652\n",
      "CPU times: user 15.2 ms, sys: 83 µs, total: 15.3 ms\n",
      "Wall time: 53.1 ms\n"
     ]
    }
   ],
   "source": [
    "%%time\n",
    "\n",
    "valid_f1_LR = f1_score(target_valid, target_predict)\n",
    "print('F1 на cv', cv_f1_LR)\n",
    "print('F1 на валидации', valid_f1_LR)"
   ]
  },
  {
   "cell_type": "markdown",
   "metadata": {},
   "source": [
    "Результат очень неплохой!"
   ]
  },
  {
   "cell_type": "markdown",
   "metadata": {},
   "source": [
    "Далее попробуем CatBoostClassifier"
   ]
  },
  {
   "cell_type": "code",
   "execution_count": 20,
   "metadata": {},
   "outputs": [
    {
     "name": "stdout",
     "output_type": "stream",
     "text": [
      "CPU times: user 6min 51s, sys: 12 s, total: 7min 3s\n",
      "Wall time: 7min 5s\n"
     ]
    }
   ],
   "source": [
    "%%time\n",
    "\n",
    "model = CatBoostClassifier(verbose=False, iterations=250)\n",
    "model.fit(features_train, target_train)\n",
    "target_predict = model.predict(features_valid)"
   ]
  },
  {
   "cell_type": "code",
   "execution_count": 21,
   "metadata": {},
   "outputs": [
    {
     "name": "stdout",
     "output_type": "stream",
     "text": [
      "CPU times: user 388 ms, sys: 8.06 ms, total: 396 ms\n",
      "Wall time: 412 ms\n"
     ]
    }
   ],
   "source": [
    "%%time\n",
    "target_predict = model.predict(features_valid)"
   ]
  },
  {
   "cell_type": "code",
   "execution_count": 22,
   "metadata": {},
   "outputs": [
    {
     "name": "stdout",
     "output_type": "stream",
     "text": [
      "F1 на cv 0.7121617499476107\n",
      "F1 на валидации 0.728860427885315\n",
      "CPU times: user 7min 50s, sys: 7.41 s, total: 7min 57s\n",
      "Wall time: 7min 59s\n"
     ]
    }
   ],
   "source": [
    "%%time\n",
    "\n",
    "cv_f1_CBC = cross_val_score(model,\n",
    "                                         features_train, \n",
    "                                         target_train, \n",
    "                                         cv=cv_counts, \n",
    "                                         scoring='f1').mean()\n",
    "valid_f1_CBC = f1_score(target_valid, target_predict)\n",
    "print('F1 на cv', cv_f1_CBC)\n",
    "print('F1 на валидации', valid_f1_CBC)"
   ]
  },
  {
   "cell_type": "markdown",
   "metadata": {},
   "source": [
    "Вывод: лучше всего себя показала логистическая регрессия, её и будем использовать. Но если бустинг обучать дольше, то она может показать ещё лучшие результаты."
   ]
  },
  {
   "cell_type": "markdown",
   "metadata": {},
   "source": [
    "## Выводы"
   ]
  },
  {
   "cell_type": "code",
   "execution_count": 23,
   "metadata": {},
   "outputs": [
    {
     "name": "stdout",
     "output_type": "stream",
     "text": [
      "Метрики LogisticRegression\n",
      "F1: 0.762859529776823\n",
      "Precision: 0.7370848708487084\n",
      "Recall: 0.7905021023992085\n",
      "Accuracy: 0.9501042111342691\n",
      "\n"
     ]
    }
   ],
   "source": [
    "# хочу посмотреть на результат в разных метриках\n",
    "classificator = LogisticRegression()\n",
    "classificator.set_params(**LR_best_params)\n",
    "classificator.fit(features_train, target_train)\n",
    "predict_test = classificator.predict(features_test)\n",
    "print('Метрики LogisticRegression')\n",
    "print('F1:', f1_score(target_test, predict_test))\n",
    "print('Precision:', precision_score(target_test, predict_test))\n",
    "print('Recall:', recall_score(target_test, predict_test))\n",
    "print('Accuracy:', accuracy_score(target_test, predict_test))\n",
    "print()"
   ]
  },
  {
   "cell_type": "markdown",
   "metadata": {},
   "source": [
    "Результаты, конечно, отличаются очень сильно. Как понять какую метрику выбрать для проверки? У них есть какие-то строгие распределния?"
   ]
  },
  {
   "cell_type": "markdown",
   "metadata": {},
   "source": [
    "Вывод"
   ]
  },
  {
   "cell_type": "markdown",
   "metadata": {},
   "source": [
    "Нашей целью было найти и обучить модель для магазина \"ВИКИШОП\", которая способна классифицировать комментарии на позитивные и негативные для того, чтобы в дальнейшем токсичные отзывы отправлялись на модерацию. При этом достигуть результата предсказания наилучшей модели по мерке f1 не меньше 0.75. В итоге она получилась даже чуточку лучше- 0,76"
   ]
  }
 ],
 "metadata": {
  "ExecuteTimeLog": [
   {
    "duration": 2017,
    "start_time": "2022-12-29T08:03:51.270Z"
   },
   {
    "duration": 3706,
    "start_time": "2022-12-29T08:03:53.289Z"
   },
   {
    "duration": 22,
    "start_time": "2022-12-29T08:03:56.996Z"
   },
   {
    "duration": 26,
    "start_time": "2022-12-29T08:03:57.020Z"
   },
   {
    "duration": 7406,
    "start_time": "2022-12-29T08:03:57.047Z"
   },
   {
    "duration": 11470,
    "start_time": "2022-12-29T08:04:04.455Z"
   },
   {
    "duration": 53494,
    "start_time": "2022-12-29T08:04:15.926Z"
   },
   {
    "duration": 42092,
    "start_time": "2022-12-29T08:05:09.423Z"
   },
   {
    "duration": 36791,
    "start_time": "2022-12-29T08:05:51.520Z"
   },
   {
    "duration": 43,
    "start_time": "2022-12-29T08:06:28.314Z"
   },
   {
    "duration": 1169,
    "start_time": "2022-12-29T08:06:28.359Z"
   },
   {
    "duration": 27280,
    "start_time": "2022-12-29T08:06:29.530Z"
   },
   {
    "duration": 88715,
    "start_time": "2022-12-29T08:06:56.816Z"
   },
   {
    "duration": 10,
    "start_time": "2022-12-29T08:08:25.533Z"
   },
   {
    "duration": 316206,
    "start_time": "2022-12-29T08:08:25.544Z"
   },
   {
    "duration": 29590,
    "start_time": "2022-12-29T08:13:41.752Z"
   },
   {
    "duration": 766997,
    "start_time": "2022-12-29T08:14:11.344Z"
   },
   {
    "duration": 30985,
    "start_time": "2022-12-29T08:26:58.343Z"
   },
   {
    "duration": 882349,
    "start_time": "2022-12-29T08:27:29.329Z"
   },
   {
    "duration": 10,
    "start_time": "2022-12-29T08:42:11.679Z"
   },
   {
    "duration": 32309,
    "start_time": "2022-12-29T08:42:11.690Z"
   },
   {
    "duration": 75,
    "start_time": "2022-12-29T08:42:44.005Z"
   },
   {
    "duration": 2743,
    "start_time": "2022-12-29T13:41:24.429Z"
   },
   {
    "duration": 3407,
    "start_time": "2022-12-29T13:41:27.179Z"
   },
   {
    "duration": 16,
    "start_time": "2022-12-29T13:41:30.589Z"
   },
   {
    "duration": 38,
    "start_time": "2022-12-29T13:41:30.607Z"
   },
   {
    "duration": 7964,
    "start_time": "2022-12-29T13:42:21.402Z"
   },
   {
    "duration": 20,
    "start_time": "2022-12-29T13:43:20.385Z"
   },
   {
    "duration": 1922,
    "start_time": "2023-01-09T09:30:59.667Z"
   },
   {
    "duration": 3195,
    "start_time": "2023-01-09T09:31:08.670Z"
   },
   {
    "duration": 11,
    "start_time": "2023-01-09T09:31:15.625Z"
   },
   {
    "duration": 13,
    "start_time": "2023-01-09T09:31:18.453Z"
   },
   {
    "duration": 121,
    "start_time": "2023-01-09T09:31:22.574Z"
   },
   {
    "duration": 6596,
    "start_time": "2023-01-09T09:32:49.984Z"
   },
   {
    "duration": 1152,
    "start_time": "2023-01-09T09:33:12.746Z"
   },
   {
    "duration": 1149,
    "start_time": "2023-01-09T09:34:04.644Z"
   },
   {
    "duration": 1547,
    "start_time": "2023-01-09T09:34:33.315Z"
   },
   {
    "duration": 806,
    "start_time": "2023-01-09T09:34:34.864Z"
   },
   {
    "duration": 10,
    "start_time": "2023-01-09T09:34:35.672Z"
   },
   {
    "duration": 15,
    "start_time": "2023-01-09T09:34:35.684Z"
   },
   {
    "duration": 6526,
    "start_time": "2023-01-09T09:34:35.712Z"
   },
   {
    "duration": 3750,
    "start_time": "2023-01-09T09:34:42.240Z"
   },
   {
    "duration": 0,
    "start_time": "2023-01-09T09:34:45.991Z"
   },
   {
    "duration": 0,
    "start_time": "2023-01-09T09:34:45.993Z"
   },
   {
    "duration": 0,
    "start_time": "2023-01-09T09:34:45.994Z"
   },
   {
    "duration": 0,
    "start_time": "2023-01-09T09:34:45.995Z"
   },
   {
    "duration": 0,
    "start_time": "2023-01-09T09:34:45.995Z"
   },
   {
    "duration": 0,
    "start_time": "2023-01-09T09:34:45.997Z"
   },
   {
    "duration": 0,
    "start_time": "2023-01-09T09:34:45.998Z"
   },
   {
    "duration": 0,
    "start_time": "2023-01-09T09:34:46.013Z"
   },
   {
    "duration": 0,
    "start_time": "2023-01-09T09:34:46.014Z"
   },
   {
    "duration": 0,
    "start_time": "2023-01-09T09:34:46.015Z"
   },
   {
    "duration": 0,
    "start_time": "2023-01-09T09:34:46.016Z"
   },
   {
    "duration": 0,
    "start_time": "2023-01-09T09:34:46.017Z"
   },
   {
    "duration": 0,
    "start_time": "2023-01-09T09:34:46.018Z"
   },
   {
    "duration": 0,
    "start_time": "2023-01-09T09:34:46.019Z"
   },
   {
    "duration": 0,
    "start_time": "2023-01-09T09:34:46.020Z"
   },
   {
    "duration": 10306,
    "start_time": "2023-01-09T09:35:07.022Z"
   },
   {
    "duration": 1231,
    "start_time": "2023-01-09T09:37:58.974Z"
   },
   {
    "duration": 1521,
    "start_time": "2023-01-09T09:38:37.118Z"
   },
   {
    "duration": 833,
    "start_time": "2023-01-09T09:38:38.643Z"
   },
   {
    "duration": 11,
    "start_time": "2023-01-09T09:38:39.477Z"
   },
   {
    "duration": 27,
    "start_time": "2023-01-09T09:38:39.490Z"
   },
   {
    "duration": 6635,
    "start_time": "2023-01-09T09:38:39.519Z"
   },
   {
    "duration": 1239,
    "start_time": "2023-01-09T09:38:46.156Z"
   },
   {
    "duration": 0,
    "start_time": "2023-01-09T09:38:47.397Z"
   },
   {
    "duration": 0,
    "start_time": "2023-01-09T09:38:47.398Z"
   },
   {
    "duration": 0,
    "start_time": "2023-01-09T09:38:47.400Z"
   },
   {
    "duration": 0,
    "start_time": "2023-01-09T09:38:47.402Z"
   },
   {
    "duration": 0,
    "start_time": "2023-01-09T09:38:47.404Z"
   },
   {
    "duration": 0,
    "start_time": "2023-01-09T09:38:47.405Z"
   },
   {
    "duration": 0,
    "start_time": "2023-01-09T09:38:47.407Z"
   },
   {
    "duration": 0,
    "start_time": "2023-01-09T09:38:47.408Z"
   },
   {
    "duration": 0,
    "start_time": "2023-01-09T09:38:47.410Z"
   },
   {
    "duration": 0,
    "start_time": "2023-01-09T09:38:47.411Z"
   },
   {
    "duration": 0,
    "start_time": "2023-01-09T09:38:47.412Z"
   },
   {
    "duration": 0,
    "start_time": "2023-01-09T09:38:47.413Z"
   },
   {
    "duration": 0,
    "start_time": "2023-01-09T09:38:47.414Z"
   },
   {
    "duration": 0,
    "start_time": "2023-01-09T09:38:47.415Z"
   },
   {
    "duration": 0,
    "start_time": "2023-01-09T09:38:47.416Z"
   },
   {
    "duration": 0,
    "start_time": "2023-01-09T09:38:47.418Z"
   },
   {
    "duration": 1174,
    "start_time": "2023-01-09T09:39:39.610Z"
   },
   {
    "duration": 6,
    "start_time": "2023-01-09T09:40:17.511Z"
   },
   {
    "duration": 4,
    "start_time": "2023-01-09T09:48:11.285Z"
   },
   {
    "duration": 3,
    "start_time": "2023-01-09T09:48:43.840Z"
   },
   {
    "duration": 80,
    "start_time": "2023-01-09T09:49:14.007Z"
   },
   {
    "duration": 9,
    "start_time": "2023-01-09T09:49:37.159Z"
   },
   {
    "duration": 1633,
    "start_time": "2023-01-09T09:49:42.519Z"
   },
   {
    "duration": 757,
    "start_time": "2023-01-09T09:49:44.154Z"
   },
   {
    "duration": 14,
    "start_time": "2023-01-09T09:49:44.912Z"
   },
   {
    "duration": 12,
    "start_time": "2023-01-09T09:49:44.929Z"
   },
   {
    "duration": 2,
    "start_time": "2023-01-09T09:49:44.943Z"
   },
   {
    "duration": 8,
    "start_time": "2023-01-09T09:49:44.947Z"
   },
   {
    "duration": 187,
    "start_time": "2023-01-09T09:49:44.957Z"
   },
   {
    "duration": 1236,
    "start_time": "2023-01-09T09:49:45.145Z"
   },
   {
    "duration": 0,
    "start_time": "2023-01-09T09:49:46.383Z"
   },
   {
    "duration": 0,
    "start_time": "2023-01-09T09:49:46.384Z"
   },
   {
    "duration": 0,
    "start_time": "2023-01-09T09:49:46.385Z"
   },
   {
    "duration": 0,
    "start_time": "2023-01-09T09:49:46.386Z"
   },
   {
    "duration": 0,
    "start_time": "2023-01-09T09:49:46.388Z"
   },
   {
    "duration": 0,
    "start_time": "2023-01-09T09:49:46.389Z"
   },
   {
    "duration": 0,
    "start_time": "2023-01-09T09:49:46.390Z"
   },
   {
    "duration": 0,
    "start_time": "2023-01-09T09:49:46.392Z"
   },
   {
    "duration": 0,
    "start_time": "2023-01-09T09:49:46.393Z"
   },
   {
    "duration": 0,
    "start_time": "2023-01-09T09:49:46.394Z"
   },
   {
    "duration": 0,
    "start_time": "2023-01-09T09:49:46.396Z"
   },
   {
    "duration": 0,
    "start_time": "2023-01-09T09:49:46.398Z"
   },
   {
    "duration": 0,
    "start_time": "2023-01-09T09:49:46.399Z"
   },
   {
    "duration": 0,
    "start_time": "2023-01-09T09:49:46.400Z"
   },
   {
    "duration": 0,
    "start_time": "2023-01-09T09:49:46.401Z"
   },
   {
    "duration": 0,
    "start_time": "2023-01-09T09:49:46.403Z"
   },
   {
    "duration": 1672,
    "start_time": "2023-01-09T09:50:56.802Z"
   },
   {
    "duration": 811,
    "start_time": "2023-01-09T09:50:58.475Z"
   },
   {
    "duration": 11,
    "start_time": "2023-01-09T09:50:59.288Z"
   },
   {
    "duration": 150,
    "start_time": "2023-01-09T09:50:59.300Z"
   },
   {
    "duration": 0,
    "start_time": "2023-01-09T09:50:59.453Z"
   },
   {
    "duration": 0,
    "start_time": "2023-01-09T09:50:59.454Z"
   },
   {
    "duration": 0,
    "start_time": "2023-01-09T09:50:59.455Z"
   },
   {
    "duration": 0,
    "start_time": "2023-01-09T09:50:59.456Z"
   },
   {
    "duration": 0,
    "start_time": "2023-01-09T09:50:59.458Z"
   },
   {
    "duration": 0,
    "start_time": "2023-01-09T09:50:59.459Z"
   },
   {
    "duration": 0,
    "start_time": "2023-01-09T09:50:59.460Z"
   },
   {
    "duration": 0,
    "start_time": "2023-01-09T09:50:59.461Z"
   },
   {
    "duration": 0,
    "start_time": "2023-01-09T09:50:59.462Z"
   },
   {
    "duration": 0,
    "start_time": "2023-01-09T09:50:59.463Z"
   },
   {
    "duration": 0,
    "start_time": "2023-01-09T09:50:59.465Z"
   },
   {
    "duration": 0,
    "start_time": "2023-01-09T09:50:59.465Z"
   },
   {
    "duration": 0,
    "start_time": "2023-01-09T09:50:59.466Z"
   },
   {
    "duration": 0,
    "start_time": "2023-01-09T09:50:59.467Z"
   },
   {
    "duration": 0,
    "start_time": "2023-01-09T09:50:59.469Z"
   },
   {
    "duration": 0,
    "start_time": "2023-01-09T09:50:59.470Z"
   },
   {
    "duration": 0,
    "start_time": "2023-01-09T09:50:59.470Z"
   },
   {
    "duration": 0,
    "start_time": "2023-01-09T09:50:59.472Z"
   },
   {
    "duration": 0,
    "start_time": "2023-01-09T09:50:59.473Z"
   },
   {
    "duration": 0,
    "start_time": "2023-01-09T09:50:59.474Z"
   },
   {
    "duration": 0,
    "start_time": "2023-01-09T09:50:59.475Z"
   },
   {
    "duration": 1636,
    "start_time": "2023-01-09T09:51:16.806Z"
   },
   {
    "duration": 777,
    "start_time": "2023-01-09T09:51:18.444Z"
   },
   {
    "duration": 11,
    "start_time": "2023-01-09T09:51:19.223Z"
   },
   {
    "duration": 37,
    "start_time": "2023-01-09T09:51:19.236Z"
   },
   {
    "duration": 26,
    "start_time": "2023-01-09T09:51:19.275Z"
   },
   {
    "duration": 10,
    "start_time": "2023-01-09T09:51:19.303Z"
   },
   {
    "duration": 20,
    "start_time": "2023-01-09T09:51:19.314Z"
   },
   {
    "duration": 211,
    "start_time": "2023-01-09T09:51:19.336Z"
   },
   {
    "duration": 1197,
    "start_time": "2023-01-09T09:51:19.548Z"
   },
   {
    "duration": 0,
    "start_time": "2023-01-09T09:51:20.748Z"
   },
   {
    "duration": 0,
    "start_time": "2023-01-09T09:51:20.750Z"
   },
   {
    "duration": 0,
    "start_time": "2023-01-09T09:51:20.751Z"
   },
   {
    "duration": 0,
    "start_time": "2023-01-09T09:51:20.752Z"
   },
   {
    "duration": 0,
    "start_time": "2023-01-09T09:51:20.753Z"
   },
   {
    "duration": 0,
    "start_time": "2023-01-09T09:51:20.754Z"
   },
   {
    "duration": 0,
    "start_time": "2023-01-09T09:51:20.756Z"
   },
   {
    "duration": 0,
    "start_time": "2023-01-09T09:51:20.757Z"
   },
   {
    "duration": 0,
    "start_time": "2023-01-09T09:51:20.758Z"
   },
   {
    "duration": 0,
    "start_time": "2023-01-09T09:51:20.759Z"
   },
   {
    "duration": 0,
    "start_time": "2023-01-09T09:51:20.760Z"
   },
   {
    "duration": 0,
    "start_time": "2023-01-09T09:51:20.761Z"
   },
   {
    "duration": 0,
    "start_time": "2023-01-09T09:51:20.762Z"
   },
   {
    "duration": 0,
    "start_time": "2023-01-09T09:51:20.762Z"
   },
   {
    "duration": 0,
    "start_time": "2023-01-09T09:51:20.764Z"
   },
   {
    "duration": 0,
    "start_time": "2023-01-09T09:51:20.764Z"
   },
   {
    "duration": 3,
    "start_time": "2023-01-09T09:51:58.363Z"
   },
   {
    "duration": 204,
    "start_time": "2023-01-09T09:52:00.721Z"
   },
   {
    "duration": 35113,
    "start_time": "2023-01-09T09:53:41.243Z"
   },
   {
    "duration": 4,
    "start_time": "2023-01-09T10:29:28.213Z"
   },
   {
    "duration": 6916,
    "start_time": "2023-01-09T11:53:39.573Z"
   },
   {
    "duration": 1671,
    "start_time": "2023-01-09T11:53:55.855Z"
   },
   {
    "duration": 804,
    "start_time": "2023-01-09T11:53:57.528Z"
   },
   {
    "duration": 12,
    "start_time": "2023-01-09T11:53:58.333Z"
   },
   {
    "duration": 29,
    "start_time": "2023-01-09T11:53:58.347Z"
   },
   {
    "duration": 18,
    "start_time": "2023-01-09T11:53:58.378Z"
   },
   {
    "duration": 35524,
    "start_time": "2023-01-09T11:53:58.397Z"
   },
   {
    "duration": 4,
    "start_time": "2023-01-09T11:54:33.923Z"
   },
   {
    "duration": 6720,
    "start_time": "2023-01-09T11:54:33.929Z"
   },
   {
    "duration": 50287,
    "start_time": "2023-01-09T11:54:40.651Z"
   },
   {
    "duration": 29173,
    "start_time": "2023-01-09T11:55:30.941Z"
   },
   {
    "duration": 41299,
    "start_time": "2023-01-09T11:56:00.116Z"
   },
   {
    "duration": 24,
    "start_time": "2023-01-09T11:56:41.417Z"
   },
   {
    "duration": 992,
    "start_time": "2023-01-09T11:56:41.443Z"
   },
   {
    "duration": 18191,
    "start_time": "2023-01-09T11:56:42.437Z"
   },
   {
    "duration": 81900,
    "start_time": "2023-01-09T11:57:00.631Z"
   },
   {
    "duration": 11,
    "start_time": "2023-01-09T11:58:22.533Z"
   },
   {
    "duration": 244774,
    "start_time": "2023-01-09T11:58:22.545Z"
   },
   {
    "duration": 21808,
    "start_time": "2023-01-09T12:02:27.321Z"
   },
   {
    "duration": 780892,
    "start_time": "2023-01-09T12:02:49.131Z"
   },
   {
    "duration": 37805,
    "start_time": "2023-01-09T12:15:50.024Z"
   },
   {
    "duration": 899345,
    "start_time": "2023-01-09T12:16:27.831Z"
   },
   {
    "duration": 10,
    "start_time": "2023-01-09T12:31:27.178Z"
   },
   {
    "duration": 20538,
    "start_time": "2023-01-09T12:31:27.189Z"
   },
   {
    "duration": 65,
    "start_time": "2023-01-11T14:13:44.039Z"
   },
   {
    "duration": 6,
    "start_time": "2023-01-11T14:14:19.588Z"
   },
   {
    "duration": 1900,
    "start_time": "2023-01-11T14:16:59.075Z"
   },
   {
    "duration": 4468,
    "start_time": "2023-01-11T14:17:00.977Z"
   },
   {
    "duration": 15,
    "start_time": "2023-01-11T14:17:05.447Z"
   },
   {
    "duration": 42,
    "start_time": "2023-01-11T14:17:05.465Z"
   },
   {
    "duration": 52,
    "start_time": "2023-01-11T14:17:05.509Z"
   },
   {
    "duration": 39995,
    "start_time": "2023-01-11T14:17:05.563Z"
   },
   {
    "duration": 5,
    "start_time": "2023-01-11T14:17:45.559Z"
   },
   {
    "duration": 7669,
    "start_time": "2023-01-11T14:17:45.566Z"
   },
   {
    "duration": 59345,
    "start_time": "2023-01-11T14:17:53.236Z"
   },
   {
    "duration": 34694,
    "start_time": "2023-01-11T14:18:52.585Z"
   },
   {
    "duration": 49525,
    "start_time": "2023-01-11T14:19:27.281Z"
   },
   {
    "duration": 29,
    "start_time": "2023-01-11T14:20:16.808Z"
   },
   {
    "duration": 1155,
    "start_time": "2023-01-11T14:20:16.839Z"
   },
   {
    "duration": 21490,
    "start_time": "2023-01-11T14:20:17.997Z"
   },
   {
    "duration": 4,
    "start_time": "2023-01-11T14:20:39.489Z"
   },
   {
    "duration": 143,
    "start_time": "2023-01-11T14:20:39.494Z"
   },
   {
    "duration": 0,
    "start_time": "2023-01-11T14:20:39.639Z"
   },
   {
    "duration": 0,
    "start_time": "2023-01-11T14:20:39.640Z"
   },
   {
    "duration": 0,
    "start_time": "2023-01-11T14:20:39.642Z"
   },
   {
    "duration": 1,
    "start_time": "2023-01-11T14:20:39.643Z"
   },
   {
    "duration": 0,
    "start_time": "2023-01-11T14:20:39.645Z"
   },
   {
    "duration": 0,
    "start_time": "2023-01-11T14:20:39.646Z"
   },
   {
    "duration": 0,
    "start_time": "2023-01-11T14:20:39.648Z"
   },
   {
    "duration": 15,
    "start_time": "2023-01-11T14:26:10.428Z"
   },
   {
    "duration": 1810,
    "start_time": "2023-01-11T14:28:29.668Z"
   },
   {
    "duration": 895,
    "start_time": "2023-01-11T14:28:31.484Z"
   },
   {
    "duration": 20,
    "start_time": "2023-01-11T14:28:32.382Z"
   },
   {
    "duration": 41,
    "start_time": "2023-01-11T14:28:32.406Z"
   },
   {
    "duration": 40,
    "start_time": "2023-01-11T14:28:32.449Z"
   },
   {
    "duration": 39682,
    "start_time": "2023-01-11T14:28:32.492Z"
   },
   {
    "duration": 9,
    "start_time": "2023-01-11T14:29:12.175Z"
   },
   {
    "duration": 7584,
    "start_time": "2023-01-11T14:29:12.186Z"
   },
   {
    "duration": 59030,
    "start_time": "2023-01-11T14:29:19.772Z"
   },
   {
    "duration": 33403,
    "start_time": "2023-01-11T14:30:18.805Z"
   },
   {
    "duration": 49890,
    "start_time": "2023-01-11T14:30:52.211Z"
   },
   {
    "duration": 24,
    "start_time": "2023-01-11T14:31:42.103Z"
   },
   {
    "duration": 1145,
    "start_time": "2023-01-11T14:31:42.129Z"
   },
   {
    "duration": 23811,
    "start_time": "2023-01-11T14:31:43.275Z"
   },
   {
    "duration": 225,
    "start_time": "2023-01-11T14:32:07.093Z"
   },
   {
    "duration": 0,
    "start_time": "2023-01-11T14:32:07.319Z"
   },
   {
    "duration": 0,
    "start_time": "2023-01-11T14:32:07.321Z"
   },
   {
    "duration": 0,
    "start_time": "2023-01-11T14:32:07.321Z"
   },
   {
    "duration": 0,
    "start_time": "2023-01-11T14:32:07.323Z"
   },
   {
    "duration": 0,
    "start_time": "2023-01-11T14:32:07.324Z"
   },
   {
    "duration": 0,
    "start_time": "2023-01-11T14:32:07.325Z"
   },
   {
    "duration": 0,
    "start_time": "2023-01-11T14:32:07.326Z"
   },
   {
    "duration": 0,
    "start_time": "2023-01-11T14:32:07.328Z"
   },
   {
    "duration": 0,
    "start_time": "2023-01-11T14:32:07.329Z"
   },
   {
    "duration": 19,
    "start_time": "2023-01-11T14:39:05.991Z"
   },
   {
    "duration": 1885,
    "start_time": "2023-01-16T13:45:38.738Z"
   },
   {
    "duration": 2406,
    "start_time": "2023-01-16T13:45:40.626Z"
   },
   {
    "duration": 11,
    "start_time": "2023-01-16T13:45:43.034Z"
   },
   {
    "duration": 44,
    "start_time": "2023-01-16T13:45:43.047Z"
   },
   {
    "duration": 21,
    "start_time": "2023-01-16T13:45:43.093Z"
   },
   {
    "duration": 37341,
    "start_time": "2023-01-16T13:45:43.116Z"
   },
   {
    "duration": 4,
    "start_time": "2023-01-16T13:46:20.459Z"
   },
   {
    "duration": 7190,
    "start_time": "2023-01-16T13:46:20.465Z"
   },
   {
    "duration": 59899,
    "start_time": "2023-01-16T13:46:27.657Z"
   },
   {
    "duration": 32785,
    "start_time": "2023-01-16T13:47:27.559Z"
   },
   {
    "duration": 46690,
    "start_time": "2023-01-16T13:48:00.346Z"
   },
   {
    "duration": 25,
    "start_time": "2023-01-16T13:48:47.038Z"
   },
   {
    "duration": 1093,
    "start_time": "2023-01-16T13:48:47.064Z"
   },
   {
    "duration": 21978,
    "start_time": "2023-01-16T13:48:48.159Z"
   },
   {
    "duration": 141,
    "start_time": "2023-01-16T13:49:10.138Z"
   },
   {
    "duration": 0,
    "start_time": "2023-01-16T13:49:10.281Z"
   },
   {
    "duration": 0,
    "start_time": "2023-01-16T13:49:10.282Z"
   },
   {
    "duration": 34,
    "start_time": "2023-01-16T13:54:20.826Z"
   },
   {
    "duration": 11,
    "start_time": "2023-01-16T13:55:21.177Z"
   },
   {
    "duration": 48,
    "start_time": "2023-01-16T13:56:20.789Z"
   },
   {
    "duration": 892,
    "start_time": "2023-01-16T13:56:25.275Z"
   },
   {
    "duration": 3656,
    "start_time": "2023-01-16T13:57:37.169Z"
   },
   {
    "duration": 3694,
    "start_time": "2023-01-16T13:58:20.295Z"
   },
   {
    "duration": 7154,
    "start_time": "2023-01-16T13:59:28.287Z"
   },
   {
    "duration": 2001,
    "start_time": "2023-01-31T09:21:53.330Z"
   },
   {
    "duration": 2421,
    "start_time": "2023-01-31T09:21:55.333Z"
   },
   {
    "duration": 11,
    "start_time": "2023-01-31T09:21:57.756Z"
   },
   {
    "duration": 31,
    "start_time": "2023-01-31T09:21:57.769Z"
   },
   {
    "duration": 37,
    "start_time": "2023-01-31T09:21:57.802Z"
   },
   {
    "duration": 38307,
    "start_time": "2023-01-31T09:21:57.840Z"
   },
   {
    "duration": 7,
    "start_time": "2023-01-31T09:22:36.149Z"
   },
   {
    "duration": 67,
    "start_time": "2023-01-31T09:22:36.157Z"
   },
   {
    "duration": 7436,
    "start_time": "2023-01-31T09:22:36.226Z"
   },
   {
    "duration": 60181,
    "start_time": "2023-01-31T09:22:43.665Z"
   },
   {
    "duration": 33990,
    "start_time": "2023-01-31T09:23:43.848Z"
   },
   {
    "duration": 51303,
    "start_time": "2023-01-31T09:24:17.840Z"
   },
   {
    "duration": 27,
    "start_time": "2023-01-31T09:25:09.145Z"
   },
   {
    "duration": 1107,
    "start_time": "2023-01-31T09:25:09.174Z"
   },
   {
    "duration": 26071,
    "start_time": "2023-01-31T09:25:10.283Z"
   },
   {
    "duration": 336,
    "start_time": "2023-01-31T09:25:36.355Z"
   },
   {
    "duration": 193,
    "start_time": "2023-01-31T09:25:36.693Z"
   },
   {
    "duration": 61,
    "start_time": "2023-01-31T10:39:55.827Z"
   },
   {
    "duration": 66,
    "start_time": "2023-01-31T10:41:38.762Z"
   },
   {
    "duration": 7,
    "start_time": "2023-01-31T10:42:29.402Z"
   },
   {
    "duration": 63,
    "start_time": "2023-01-31T10:42:36.594Z"
   },
   {
    "duration": 1875,
    "start_time": "2023-01-31T10:42:47.772Z"
   },
   {
    "duration": 822,
    "start_time": "2023-01-31T10:42:49.650Z"
   },
   {
    "duration": 11,
    "start_time": "2023-01-31T10:42:50.474Z"
   },
   {
    "duration": 58,
    "start_time": "2023-01-31T10:42:50.487Z"
   },
   {
    "duration": 34,
    "start_time": "2023-01-31T10:42:50.547Z"
   },
   {
    "duration": 39448,
    "start_time": "2023-01-31T10:42:50.583Z"
   },
   {
    "duration": 5,
    "start_time": "2023-01-31T10:43:30.036Z"
   },
   {
    "duration": 74,
    "start_time": "2023-01-31T10:43:30.043Z"
   },
   {
    "duration": 7583,
    "start_time": "2023-01-31T10:43:30.119Z"
   },
   {
    "duration": 66432,
    "start_time": "2023-01-31T10:43:37.705Z"
   },
   {
    "duration": 38919,
    "start_time": "2023-01-31T10:44:44.139Z"
   },
   {
    "duration": 49482,
    "start_time": "2023-01-31T10:45:23.060Z"
   },
   {
    "duration": 26,
    "start_time": "2023-01-31T10:46:12.544Z"
   },
   {
    "duration": 1190,
    "start_time": "2023-01-31T10:46:12.572Z"
   },
   {
    "duration": 24581,
    "start_time": "2023-01-31T10:46:13.764Z"
   },
   {
    "duration": 208,
    "start_time": "2023-01-31T10:46:38.347Z"
   },
   {
    "duration": 206,
    "start_time": "2023-01-31T10:46:38.557Z"
   },
   {
    "duration": 1938,
    "start_time": "2023-02-03T09:06:25.393Z"
   },
   {
    "duration": 3685,
    "start_time": "2023-02-03T09:06:27.333Z"
   },
   {
    "duration": 11,
    "start_time": "2023-02-03T09:06:31.020Z"
   },
   {
    "duration": 41,
    "start_time": "2023-02-03T09:06:31.033Z"
   },
   {
    "duration": 35,
    "start_time": "2023-02-03T09:06:31.076Z"
   },
   {
    "duration": 38412,
    "start_time": "2023-02-03T09:06:31.113Z"
   },
   {
    "duration": 13,
    "start_time": "2023-02-03T09:07:09.527Z"
   },
   {
    "duration": 47,
    "start_time": "2023-02-03T09:07:09.542Z"
   },
   {
    "duration": 7404,
    "start_time": "2023-02-03T09:07:09.591Z"
   },
   {
    "duration": 61047,
    "start_time": "2023-02-03T09:07:16.997Z"
   },
   {
    "duration": 34108,
    "start_time": "2023-02-03T09:08:18.046Z"
   },
   {
    "duration": 49685,
    "start_time": "2023-02-03T09:08:52.155Z"
   },
   {
    "duration": 25,
    "start_time": "2023-02-03T09:09:41.842Z"
   },
   {
    "duration": 1139,
    "start_time": "2023-02-03T09:09:41.869Z"
   },
   {
    "duration": 22431,
    "start_time": "2023-02-03T09:09:43.010Z"
   },
   {
    "duration": 210,
    "start_time": "2023-02-03T09:10:05.442Z"
   },
   {
    "duration": 162,
    "start_time": "2023-02-03T09:10:05.653Z"
   },
   {
    "duration": 288661,
    "start_time": "2023-02-03T09:10:52.295Z"
   },
   {
    "duration": 282284,
    "start_time": "2023-02-03T10:30:36.064Z"
   },
   {
    "duration": 4,
    "start_time": "2023-02-03T10:39:24.998Z"
   },
   {
    "duration": 5,
    "start_time": "2023-02-03T10:39:26.737Z"
   },
   {
    "duration": 3,
    "start_time": "2023-02-03T10:40:03.708Z"
   },
   {
    "duration": 4,
    "start_time": "2023-02-03T10:40:06.729Z"
   },
   {
    "duration": 5,
    "start_time": "2023-02-03T10:41:45.428Z"
   },
   {
    "duration": 4,
    "start_time": "2023-02-03T10:42:01.790Z"
   },
   {
    "duration": 12,
    "start_time": "2023-02-03T10:52:19.394Z"
   },
   {
    "duration": 25867,
    "start_time": "2023-02-03T10:53:12.297Z"
   },
   {
    "duration": 1854,
    "start_time": "2023-02-03T11:13:03.667Z"
   },
   {
    "duration": 910,
    "start_time": "2023-02-03T11:13:05.524Z"
   },
   {
    "duration": 18,
    "start_time": "2023-02-03T11:13:06.440Z"
   },
   {
    "duration": 37,
    "start_time": "2023-02-03T11:13:06.461Z"
   },
   {
    "duration": 25,
    "start_time": "2023-02-03T11:13:06.500Z"
   },
   {
    "duration": 43523,
    "start_time": "2023-02-03T11:13:06.539Z"
   },
   {
    "duration": 5,
    "start_time": "2023-02-03T11:13:50.064Z"
   },
   {
    "duration": 45,
    "start_time": "2023-02-03T11:13:50.070Z"
   },
   {
    "duration": 8000,
    "start_time": "2023-02-03T11:13:50.117Z"
   },
   {
    "duration": 61345,
    "start_time": "2023-02-03T11:13:58.120Z"
   },
   {
    "duration": 36700,
    "start_time": "2023-02-03T11:14:59.466Z"
   },
   {
    "duration": 48433,
    "start_time": "2023-02-03T11:15:36.244Z"
   },
   {
    "duration": 91,
    "start_time": "2023-02-03T11:16:24.679Z"
   },
   {
    "duration": 1439,
    "start_time": "2023-02-03T11:16:24.772Z"
   },
   {
    "duration": 24542,
    "start_time": "2023-02-03T11:16:26.212Z"
   },
   {
    "duration": 279183,
    "start_time": "2023-02-03T11:16:50.757Z"
   },
   {
    "duration": 23126,
    "start_time": "2023-02-03T11:21:29.944Z"
   },
   {
    "duration": 966909,
    "start_time": "2023-02-03T11:21:53.072Z"
   },
   {
    "duration": 26392,
    "start_time": "2023-02-03T11:37:59.983Z"
   },
   {
    "duration": 1799,
    "start_time": "2023-02-03T11:49:54.766Z"
   },
   {
    "duration": 880,
    "start_time": "2023-02-03T11:49:56.568Z"
   },
   {
    "duration": 13,
    "start_time": "2023-02-03T11:49:57.450Z"
   },
   {
    "duration": 34,
    "start_time": "2023-02-03T11:49:57.465Z"
   },
   {
    "duration": 46,
    "start_time": "2023-02-03T11:49:57.501Z"
   },
   {
    "duration": 38572,
    "start_time": "2023-02-03T11:49:57.549Z"
   },
   {
    "duration": 5,
    "start_time": "2023-02-03T11:50:36.123Z"
   },
   {
    "duration": 57,
    "start_time": "2023-02-03T11:50:36.130Z"
   },
   {
    "duration": 7408,
    "start_time": "2023-02-03T11:50:36.189Z"
   },
   {
    "duration": 65150,
    "start_time": "2023-02-03T11:50:43.601Z"
   },
   {
    "duration": 34211,
    "start_time": "2023-02-03T11:51:48.754Z"
   },
   {
    "duration": 49490,
    "start_time": "2023-02-03T11:52:22.967Z"
   },
   {
    "duration": 26,
    "start_time": "2023-02-03T11:53:12.459Z"
   },
   {
    "duration": 1310,
    "start_time": "2023-02-03T11:53:12.487Z"
   },
   {
    "duration": 26152,
    "start_time": "2023-02-03T11:53:13.799Z"
   },
   {
    "duration": 286092,
    "start_time": "2023-02-03T11:53:39.953Z"
   },
   {
    "duration": 26596,
    "start_time": "2023-02-03T11:58:26.047Z"
   },
   {
    "duration": 8,
    "start_time": "2023-02-03T11:58:52.645Z"
   },
   {
    "duration": 20,
    "start_time": "2023-02-03T11:58:52.654Z"
   },
   {
    "duration": 434313,
    "start_time": "2023-02-03T11:58:52.678Z"
   },
   {
    "duration": 432,
    "start_time": "2023-02-03T12:06:06.994Z"
   },
   {
    "duration": 521058,
    "start_time": "2023-02-03T12:06:07.427Z"
   },
   {
    "duration": 154,
    "start_time": "2023-02-03T12:14:48.487Z"
   },
   {
    "duration": 25236,
    "start_time": "2023-02-03T12:24:16.605Z"
   },
   {
    "duration": 25753,
    "start_time": "2023-02-03T12:26:40.659Z"
   },
   {
    "duration": 23730,
    "start_time": "2023-02-03T12:27:39.593Z"
   },
   {
    "duration": 26514,
    "start_time": "2023-02-03T12:28:49.459Z"
   },
   {
    "duration": 24218,
    "start_time": "2023-02-03T12:29:50.835Z"
   },
   {
    "duration": 25712,
    "start_time": "2023-02-03T12:31:04.381Z"
   },
   {
    "duration": 1720,
    "start_time": "2023-02-03T13:12:09.249Z"
   },
   {
    "duration": 885,
    "start_time": "2023-02-03T13:12:10.971Z"
   },
   {
    "duration": 11,
    "start_time": "2023-02-03T13:12:11.858Z"
   },
   {
    "duration": 33,
    "start_time": "2023-02-03T13:12:11.871Z"
   },
   {
    "duration": 44,
    "start_time": "2023-02-03T13:12:11.905Z"
   },
   {
    "duration": 38546,
    "start_time": "2023-02-03T13:12:11.951Z"
   },
   {
    "duration": 5,
    "start_time": "2023-02-03T13:12:50.499Z"
   },
   {
    "duration": 62,
    "start_time": "2023-02-03T13:12:50.506Z"
   },
   {
    "duration": 7308,
    "start_time": "2023-02-03T13:12:50.570Z"
   },
   {
    "duration": 61764,
    "start_time": "2023-02-03T13:12:57.881Z"
   },
   {
    "duration": 35705,
    "start_time": "2023-02-03T13:13:59.646Z"
   },
   {
    "duration": 51097,
    "start_time": "2023-02-03T13:14:35.353Z"
   },
   {
    "duration": 25,
    "start_time": "2023-02-03T13:15:26.452Z"
   },
   {
    "duration": 1194,
    "start_time": "2023-02-03T13:15:26.479Z"
   },
   {
    "duration": 23776,
    "start_time": "2023-02-03T13:15:27.675Z"
   },
   {
    "duration": 284502,
    "start_time": "2023-02-03T13:15:51.453Z"
   },
   {
    "duration": 27493,
    "start_time": "2023-02-03T13:20:35.957Z"
   },
   {
    "duration": 8,
    "start_time": "2023-02-03T13:21:03.452Z"
   },
   {
    "duration": 17,
    "start_time": "2023-02-03T13:21:03.462Z"
   },
   {
    "duration": 1741,
    "start_time": "2023-02-04T09:46:43.920Z"
   },
   {
    "duration": 2247,
    "start_time": "2023-02-04T09:46:45.662Z"
   },
   {
    "duration": 13,
    "start_time": "2023-02-04T09:46:47.913Z"
   },
   {
    "duration": 40,
    "start_time": "2023-02-04T09:46:47.928Z"
   },
   {
    "duration": 24,
    "start_time": "2023-02-04T09:46:47.971Z"
   },
   {
    "duration": 32955,
    "start_time": "2023-02-04T09:46:47.998Z"
   },
   {
    "duration": 4,
    "start_time": "2023-02-04T09:47:20.954Z"
   },
   {
    "duration": 45,
    "start_time": "2023-02-04T09:47:20.960Z"
   },
   {
    "duration": 6565,
    "start_time": "2023-02-04T09:47:21.007Z"
   },
   {
    "duration": 70767,
    "start_time": "2023-02-04T09:47:27.574Z"
   },
   {
    "duration": 37086,
    "start_time": "2023-02-04T09:48:38.344Z"
   },
   {
    "duration": 52902,
    "start_time": "2023-02-04T09:49:15.433Z"
   },
   {
    "duration": 101,
    "start_time": "2023-02-04T09:50:08.340Z"
   },
   {
    "duration": 1017,
    "start_time": "2023-02-04T09:50:08.444Z"
   },
   {
    "duration": 20877,
    "start_time": "2023-02-04T09:50:09.463Z"
   },
   {
    "duration": 249488,
    "start_time": "2023-02-04T09:50:30.343Z"
   },
   {
    "duration": 22115,
    "start_time": "2023-02-04T09:54:39.832Z"
   },
   {
    "duration": 8,
    "start_time": "2023-02-04T09:55:01.948Z"
   },
   {
    "duration": 23,
    "start_time": "2023-02-04T09:55:01.957Z"
   },
   {
    "duration": 385598,
    "start_time": "2023-02-04T09:55:01.982Z"
   },
   {
    "duration": 344,
    "start_time": "2023-02-04T10:01:27.582Z"
   },
   {
    "duration": 437288,
    "start_time": "2023-02-04T10:01:27.928Z"
   },
   {
    "duration": 19145,
    "start_time": "2023-02-04T10:08:45.218Z"
   },
   {
    "duration": 54,
    "start_time": "2023-02-04T19:39:24.302Z"
   },
   {
    "duration": 43,
    "start_time": "2023-02-04T19:41:06.941Z"
   },
   {
    "duration": 50,
    "start_time": "2023-02-04T19:42:46.169Z"
   },
   {
    "duration": 58,
    "start_time": "2023-02-04T19:42:55.854Z"
   },
   {
    "duration": 57,
    "start_time": "2023-02-04T19:43:13.484Z"
   },
   {
    "duration": 40,
    "start_time": "2023-02-04T19:43:34.954Z"
   },
   {
    "duration": 2008,
    "start_time": "2023-02-04T19:46:32.534Z"
   },
   {
    "duration": 2478,
    "start_time": "2023-02-04T19:46:34.544Z"
   },
   {
    "duration": 12,
    "start_time": "2023-02-04T19:46:37.024Z"
   },
   {
    "duration": 33,
    "start_time": "2023-02-04T19:46:37.039Z"
   },
   {
    "duration": 16,
    "start_time": "2023-02-04T19:46:37.075Z"
   },
   {
    "duration": 35224,
    "start_time": "2023-02-04T19:46:37.094Z"
   },
   {
    "duration": 10,
    "start_time": "2023-02-04T19:47:12.320Z"
   },
   {
    "duration": 62,
    "start_time": "2023-02-04T19:47:12.331Z"
   },
   {
    "duration": 6495,
    "start_time": "2023-02-04T19:47:12.396Z"
   },
   {
    "duration": 61666,
    "start_time": "2023-02-04T19:47:18.894Z"
   },
   {
    "duration": 37467,
    "start_time": "2023-02-04T19:48:20.563Z"
   },
   {
    "duration": 46702,
    "start_time": "2023-02-04T19:48:58.037Z"
   },
   {
    "duration": 23,
    "start_time": "2023-02-04T19:49:44.744Z"
   },
   {
    "duration": 1010,
    "start_time": "2023-02-04T19:49:44.770Z"
   },
   {
    "duration": 26349,
    "start_time": "2023-02-04T19:49:45.781Z"
   },
   {
    "duration": 274511,
    "start_time": "2023-02-04T19:50:12.135Z"
   },
   {
    "duration": 21402,
    "start_time": "2023-02-04T19:54:46.648Z"
   },
   {
    "duration": 14,
    "start_time": "2023-02-04T19:55:08.070Z"
   },
   {
    "duration": 63,
    "start_time": "2023-02-04T19:55:08.086Z"
   },
   {
    "duration": 425312,
    "start_time": "2023-02-04T19:55:08.155Z"
   },
   {
    "duration": 422,
    "start_time": "2023-02-04T20:02:13.469Z"
   },
   {
    "duration": 479507,
    "start_time": "2023-02-04T20:02:13.899Z"
   },
   {
    "duration": 19551,
    "start_time": "2023-02-04T20:10:13.408Z"
   }
  ],
  "kernelspec": {
   "display_name": "Python 3 (ipykernel)",
   "language": "python",
   "name": "python3"
  },
  "language_info": {
   "codemirror_mode": {
    "name": "ipython",
    "version": 3
   },
   "file_extension": ".py",
   "mimetype": "text/x-python",
   "name": "python",
   "nbconvert_exporter": "python",
   "pygments_lexer": "ipython3",
   "version": "3.9.5"
  },
  "toc": {
   "base_numbering": 1,
   "nav_menu": {},
   "number_sections": true,
   "sideBar": true,
   "skip_h1_title": true,
   "title_cell": "Содержание",
   "title_sidebar": "Contents",
   "toc_cell": true,
   "toc_position": {
    "height": "calc(100% - 180px)",
    "left": "10px",
    "top": "150px",
    "width": "302.391px"
   },
   "toc_section_display": true,
   "toc_window_display": false
  }
 },
 "nbformat": 4,
 "nbformat_minor": 2
}
