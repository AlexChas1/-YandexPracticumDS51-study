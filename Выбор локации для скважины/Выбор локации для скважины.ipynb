{
 "cells": [
  {
   "cell_type": "markdown",
   "metadata": {},
   "source": [
    "# Выбор локации для скважины"
   ]
  },
  {
   "cell_type": "markdown",
   "metadata": {},
   "source": [
    "Допустим, вы работаете в добывающей компании «ГлавРосГосНефть». Нужно решить, где бурить новую скважину.\n",
    "\n",
    "Вам предоставлены пробы нефти в трёх регионах: в каждом 10 000 месторождений, где измерили качество нефти и объём её запасов. Постройте модель машинного обучения, которая поможет определить регион, где добыча принесёт наибольшую прибыль. Проанализируйте возможную прибыль и риски техникой *Bootstrap.*\n",
    "\n",
    "Шаги для выбора локации:\n",
    "\n",
    "- В избранном регионе ищут месторождения, для каждого определяют значения признаков;\n",
    "- Строят модель и оценивают объём запасов;\n",
    "- Выбирают месторождения с самым высокими оценками значений. Количество месторождений зависит от бюджета компании и стоимости разработки одной скважины;\n",
    "- Прибыль равна суммарной прибыли отобранных месторождений."
   ]
  },
  {
   "cell_type": "markdown",
   "metadata": {},
   "source": [
    "## Загрузка и подготовка данных"
   ]
  },
  {
   "cell_type": "code",
   "execution_count": 1,
   "metadata": {},
   "outputs": [],
   "source": [
    "import math\n",
    "import numpy as np\n",
    "import pandas as pd\n",
    "import seaborn as sns\n",
    "import matplotlib.pyplot as plt\n",
    "from numpy.random import RandomState\n",
    "from sklearn.model_selection import train_test_split\n",
    "from sklearn.preprocessing import StandardScaler\n",
    "from sklearn.linear_model import LinearRegression\n",
    "from sklearn.metrics import mean_squared_error, r2_score, mean_absolute_error\n",
    "from sklearn.model_selection import GridSearchCV\n",
    "import warnings\n",
    "warnings.filterwarnings(\"ignore\")"
   ]
  },
  {
   "cell_type": "code",
   "execution_count": 2,
   "metadata": {},
   "outputs": [],
   "source": [
    "df0 = pd.read_csv('/datasets/geo_data_0.csv')\n",
    "df1 = pd.read_csv('/datasets/geo_data_1.csv')\n",
    "df2 = pd.read_csv('/datasets/geo_data_2.csv')"
   ]
  },
  {
   "cell_type": "code",
   "execution_count": 3,
   "metadata": {},
   "outputs": [
    {
     "name": "stdout",
     "output_type": "stream",
     "text": [
      "Размер датасета 0: (100000, 5)\n",
      "Размер датасета 1: (100000, 5)\n",
      "Размер датасета 2: (100000, 5)\n"
     ]
    }
   ],
   "source": [
    "print('Размер датасета 0:', df0.shape)\n",
    "print('Размер датасета 1:', df1.shape)\n",
    "print('Размер датасета 2:', df2.shape)"
   ]
  },
  {
   "cell_type": "markdown",
   "metadata": {},
   "source": [
    "Изучим датасеты"
   ]
  },
  {
   "cell_type": "code",
   "execution_count": 4,
   "metadata": {},
   "outputs": [
    {
     "name": "stdout",
     "output_type": "stream",
     "text": [
      "<class 'pandas.core.frame.DataFrame'>\n",
      "RangeIndex: 100000 entries, 0 to 99999\n",
      "Data columns (total 5 columns):\n",
      " #   Column   Non-Null Count   Dtype  \n",
      "---  ------   --------------   -----  \n",
      " 0   id       100000 non-null  object \n",
      " 1   f0       100000 non-null  float64\n",
      " 2   f1       100000 non-null  float64\n",
      " 3   f2       100000 non-null  float64\n",
      " 4   product  100000 non-null  float64\n",
      "dtypes: float64(4), object(1)\n",
      "memory usage: 3.8+ MB\n"
     ]
    }
   ],
   "source": [
    "df0.info()"
   ]
  },
  {
   "cell_type": "code",
   "execution_count": 5,
   "metadata": {},
   "outputs": [
    {
     "name": "stdout",
     "output_type": "stream",
     "text": [
      "<class 'pandas.core.frame.DataFrame'>\n",
      "RangeIndex: 100000 entries, 0 to 99999\n",
      "Data columns (total 5 columns):\n",
      " #   Column   Non-Null Count   Dtype  \n",
      "---  ------   --------------   -----  \n",
      " 0   id       100000 non-null  object \n",
      " 1   f0       100000 non-null  float64\n",
      " 2   f1       100000 non-null  float64\n",
      " 3   f2       100000 non-null  float64\n",
      " 4   product  100000 non-null  float64\n",
      "dtypes: float64(4), object(1)\n",
      "memory usage: 3.8+ MB\n"
     ]
    }
   ],
   "source": [
    "df1.info()"
   ]
  },
  {
   "cell_type": "code",
   "execution_count": 6,
   "metadata": {},
   "outputs": [
    {
     "name": "stdout",
     "output_type": "stream",
     "text": [
      "<class 'pandas.core.frame.DataFrame'>\n",
      "RangeIndex: 100000 entries, 0 to 99999\n",
      "Data columns (total 5 columns):\n",
      " #   Column   Non-Null Count   Dtype  \n",
      "---  ------   --------------   -----  \n",
      " 0   id       100000 non-null  object \n",
      " 1   f0       100000 non-null  float64\n",
      " 2   f1       100000 non-null  float64\n",
      " 3   f2       100000 non-null  float64\n",
      " 4   product  100000 non-null  float64\n",
      "dtypes: float64(4), object(1)\n",
      "memory usage: 3.8+ MB\n"
     ]
    }
   ],
   "source": [
    "df2.info()"
   ]
  },
  {
   "cell_type": "markdown",
   "metadata": {},
   "source": [
    "Пропусков в данных нет."
   ]
  },
  {
   "cell_type": "code",
   "execution_count": 7,
   "metadata": {},
   "outputs": [
    {
     "data": {
      "text/html": [
       "<div>\n",
       "<style scoped>\n",
       "    .dataframe tbody tr th:only-of-type {\n",
       "        vertical-align: middle;\n",
       "    }\n",
       "\n",
       "    .dataframe tbody tr th {\n",
       "        vertical-align: top;\n",
       "    }\n",
       "\n",
       "    .dataframe thead th {\n",
       "        text-align: right;\n",
       "    }\n",
       "</style>\n",
       "<table border=\"1\" class=\"dataframe\">\n",
       "  <thead>\n",
       "    <tr style=\"text-align: right;\">\n",
       "      <th></th>\n",
       "      <th>f0</th>\n",
       "      <th>f1</th>\n",
       "      <th>f2</th>\n",
       "      <th>product</th>\n",
       "    </tr>\n",
       "  </thead>\n",
       "  <tbody>\n",
       "    <tr>\n",
       "      <th>count</th>\n",
       "      <td>100000.000000</td>\n",
       "      <td>100000.000000</td>\n",
       "      <td>100000.000000</td>\n",
       "      <td>100000.000000</td>\n",
       "    </tr>\n",
       "    <tr>\n",
       "      <th>mean</th>\n",
       "      <td>0.500419</td>\n",
       "      <td>0.250143</td>\n",
       "      <td>2.502647</td>\n",
       "      <td>92.500000</td>\n",
       "    </tr>\n",
       "    <tr>\n",
       "      <th>std</th>\n",
       "      <td>0.871832</td>\n",
       "      <td>0.504433</td>\n",
       "      <td>3.248248</td>\n",
       "      <td>44.288691</td>\n",
       "    </tr>\n",
       "    <tr>\n",
       "      <th>min</th>\n",
       "      <td>-1.408605</td>\n",
       "      <td>-0.848218</td>\n",
       "      <td>-12.088328</td>\n",
       "      <td>0.000000</td>\n",
       "    </tr>\n",
       "    <tr>\n",
       "      <th>25%</th>\n",
       "      <td>-0.072580</td>\n",
       "      <td>-0.200881</td>\n",
       "      <td>0.287748</td>\n",
       "      <td>56.497507</td>\n",
       "    </tr>\n",
       "    <tr>\n",
       "      <th>50%</th>\n",
       "      <td>0.502360</td>\n",
       "      <td>0.250252</td>\n",
       "      <td>2.515969</td>\n",
       "      <td>91.849972</td>\n",
       "    </tr>\n",
       "    <tr>\n",
       "      <th>75%</th>\n",
       "      <td>1.073581</td>\n",
       "      <td>0.700646</td>\n",
       "      <td>4.715088</td>\n",
       "      <td>128.564089</td>\n",
       "    </tr>\n",
       "    <tr>\n",
       "      <th>max</th>\n",
       "      <td>2.362331</td>\n",
       "      <td>1.343769</td>\n",
       "      <td>16.003790</td>\n",
       "      <td>185.364347</td>\n",
       "    </tr>\n",
       "  </tbody>\n",
       "</table>\n",
       "</div>"
      ],
      "text/plain": [
       "                  f0             f1             f2        product\n",
       "count  100000.000000  100000.000000  100000.000000  100000.000000\n",
       "mean        0.500419       0.250143       2.502647      92.500000\n",
       "std         0.871832       0.504433       3.248248      44.288691\n",
       "min        -1.408605      -0.848218     -12.088328       0.000000\n",
       "25%        -0.072580      -0.200881       0.287748      56.497507\n",
       "50%         0.502360       0.250252       2.515969      91.849972\n",
       "75%         1.073581       0.700646       4.715088     128.564089\n",
       "max         2.362331       1.343769      16.003790     185.364347"
      ]
     },
     "execution_count": 7,
     "metadata": {},
     "output_type": "execute_result"
    }
   ],
   "source": [
    "df0.describe()"
   ]
  },
  {
   "cell_type": "markdown",
   "metadata": {},
   "source": [
    "Во всех колонках медиана почти равна среднему, что может говорить о нормальном распределении данных, посмотрим далее по графикам."
   ]
  },
  {
   "cell_type": "code",
   "execution_count": 8,
   "metadata": {},
   "outputs": [
    {
     "data": {
      "text/html": [
       "<div>\n",
       "<style scoped>\n",
       "    .dataframe tbody tr th:only-of-type {\n",
       "        vertical-align: middle;\n",
       "    }\n",
       "\n",
       "    .dataframe tbody tr th {\n",
       "        vertical-align: top;\n",
       "    }\n",
       "\n",
       "    .dataframe thead th {\n",
       "        text-align: right;\n",
       "    }\n",
       "</style>\n",
       "<table border=\"1\" class=\"dataframe\">\n",
       "  <thead>\n",
       "    <tr style=\"text-align: right;\">\n",
       "      <th></th>\n",
       "      <th>f0</th>\n",
       "      <th>f1</th>\n",
       "      <th>f2</th>\n",
       "      <th>product</th>\n",
       "    </tr>\n",
       "  </thead>\n",
       "  <tbody>\n",
       "    <tr>\n",
       "      <th>count</th>\n",
       "      <td>100000.000000</td>\n",
       "      <td>100000.000000</td>\n",
       "      <td>100000.000000</td>\n",
       "      <td>100000.000000</td>\n",
       "    </tr>\n",
       "    <tr>\n",
       "      <th>mean</th>\n",
       "      <td>1.141296</td>\n",
       "      <td>-4.796579</td>\n",
       "      <td>2.494541</td>\n",
       "      <td>68.825000</td>\n",
       "    </tr>\n",
       "    <tr>\n",
       "      <th>std</th>\n",
       "      <td>8.965932</td>\n",
       "      <td>5.119872</td>\n",
       "      <td>1.703572</td>\n",
       "      <td>45.944423</td>\n",
       "    </tr>\n",
       "    <tr>\n",
       "      <th>min</th>\n",
       "      <td>-31.609576</td>\n",
       "      <td>-26.358598</td>\n",
       "      <td>-0.018144</td>\n",
       "      <td>0.000000</td>\n",
       "    </tr>\n",
       "    <tr>\n",
       "      <th>25%</th>\n",
       "      <td>-6.298551</td>\n",
       "      <td>-8.267985</td>\n",
       "      <td>1.000021</td>\n",
       "      <td>26.953261</td>\n",
       "    </tr>\n",
       "    <tr>\n",
       "      <th>50%</th>\n",
       "      <td>1.153055</td>\n",
       "      <td>-4.813172</td>\n",
       "      <td>2.011479</td>\n",
       "      <td>57.085625</td>\n",
       "    </tr>\n",
       "    <tr>\n",
       "      <th>75%</th>\n",
       "      <td>8.621015</td>\n",
       "      <td>-1.332816</td>\n",
       "      <td>3.999904</td>\n",
       "      <td>107.813044</td>\n",
       "    </tr>\n",
       "    <tr>\n",
       "      <th>max</th>\n",
       "      <td>29.421755</td>\n",
       "      <td>18.734063</td>\n",
       "      <td>5.019721</td>\n",
       "      <td>137.945408</td>\n",
       "    </tr>\n",
       "  </tbody>\n",
       "</table>\n",
       "</div>"
      ],
      "text/plain": [
       "                  f0             f1             f2        product\n",
       "count  100000.000000  100000.000000  100000.000000  100000.000000\n",
       "mean        1.141296      -4.796579       2.494541      68.825000\n",
       "std         8.965932       5.119872       1.703572      45.944423\n",
       "min       -31.609576     -26.358598      -0.018144       0.000000\n",
       "25%        -6.298551      -8.267985       1.000021      26.953261\n",
       "50%         1.153055      -4.813172       2.011479      57.085625\n",
       "75%         8.621015      -1.332816       3.999904     107.813044\n",
       "max        29.421755      18.734063       5.019721     137.945408"
      ]
     },
     "execution_count": 8,
     "metadata": {},
     "output_type": "execute_result"
    }
   ],
   "source": [
    "df1.describe()"
   ]
  },
  {
   "cell_type": "markdown",
   "metadata": {},
   "source": [
    "В колонках 'f0' и 'f1' медиана почти равна среднему, в 'f2' и 'product' среднее больше медианы что может говорить о скошенности данных вправо."
   ]
  },
  {
   "cell_type": "code",
   "execution_count": 9,
   "metadata": {},
   "outputs": [
    {
     "data": {
      "text/html": [
       "<div>\n",
       "<style scoped>\n",
       "    .dataframe tbody tr th:only-of-type {\n",
       "        vertical-align: middle;\n",
       "    }\n",
       "\n",
       "    .dataframe tbody tr th {\n",
       "        vertical-align: top;\n",
       "    }\n",
       "\n",
       "    .dataframe thead th {\n",
       "        text-align: right;\n",
       "    }\n",
       "</style>\n",
       "<table border=\"1\" class=\"dataframe\">\n",
       "  <thead>\n",
       "    <tr style=\"text-align: right;\">\n",
       "      <th></th>\n",
       "      <th>f0</th>\n",
       "      <th>f1</th>\n",
       "      <th>f2</th>\n",
       "      <th>product</th>\n",
       "    </tr>\n",
       "  </thead>\n",
       "  <tbody>\n",
       "    <tr>\n",
       "      <th>count</th>\n",
       "      <td>100000.000000</td>\n",
       "      <td>100000.000000</td>\n",
       "      <td>100000.000000</td>\n",
       "      <td>100000.000000</td>\n",
       "    </tr>\n",
       "    <tr>\n",
       "      <th>mean</th>\n",
       "      <td>0.002023</td>\n",
       "      <td>-0.002081</td>\n",
       "      <td>2.495128</td>\n",
       "      <td>95.000000</td>\n",
       "    </tr>\n",
       "    <tr>\n",
       "      <th>std</th>\n",
       "      <td>1.732045</td>\n",
       "      <td>1.730417</td>\n",
       "      <td>3.473445</td>\n",
       "      <td>44.749921</td>\n",
       "    </tr>\n",
       "    <tr>\n",
       "      <th>min</th>\n",
       "      <td>-8.760004</td>\n",
       "      <td>-7.084020</td>\n",
       "      <td>-11.970335</td>\n",
       "      <td>0.000000</td>\n",
       "    </tr>\n",
       "    <tr>\n",
       "      <th>25%</th>\n",
       "      <td>-1.162288</td>\n",
       "      <td>-1.174820</td>\n",
       "      <td>0.130359</td>\n",
       "      <td>59.450441</td>\n",
       "    </tr>\n",
       "    <tr>\n",
       "      <th>50%</th>\n",
       "      <td>0.009424</td>\n",
       "      <td>-0.009482</td>\n",
       "      <td>2.484236</td>\n",
       "      <td>94.925613</td>\n",
       "    </tr>\n",
       "    <tr>\n",
       "      <th>75%</th>\n",
       "      <td>1.158535</td>\n",
       "      <td>1.163678</td>\n",
       "      <td>4.858794</td>\n",
       "      <td>130.595027</td>\n",
       "    </tr>\n",
       "    <tr>\n",
       "      <th>max</th>\n",
       "      <td>7.238262</td>\n",
       "      <td>7.844801</td>\n",
       "      <td>16.739402</td>\n",
       "      <td>190.029838</td>\n",
       "    </tr>\n",
       "  </tbody>\n",
       "</table>\n",
       "</div>"
      ],
      "text/plain": [
       "                  f0             f1             f2        product\n",
       "count  100000.000000  100000.000000  100000.000000  100000.000000\n",
       "mean        0.002023      -0.002081       2.495128      95.000000\n",
       "std         1.732045       1.730417       3.473445      44.749921\n",
       "min        -8.760004      -7.084020     -11.970335       0.000000\n",
       "25%        -1.162288      -1.174820       0.130359      59.450441\n",
       "50%         0.009424      -0.009482       2.484236      94.925613\n",
       "75%         1.158535       1.163678       4.858794     130.595027\n",
       "max         7.238262       7.844801      16.739402     190.029838"
      ]
     },
     "execution_count": 9,
     "metadata": {},
     "output_type": "execute_result"
    }
   ],
   "source": [
    "df2.describe()"
   ]
  },
  {
   "cell_type": "markdown",
   "metadata": {},
   "source": [
    "Данные в 'f0' и 'f1' похожи между собой. Медиана и средняя близки к нулю, почти такие же только с обратным знаком.\n",
    "В 'f2' и 'product' медиана почти равна среднему, что может говорить о нормальном распределении данных."
   ]
  },
  {
   "cell_type": "markdown",
   "metadata": {},
   "source": [
    "Признаки значимы, но неизвестно что они обозначают, поэтому сложно понять нормален ли разброс значений в колонках"
   ]
  },
  {
   "cell_type": "code",
   "execution_count": 10,
   "metadata": {},
   "outputs": [
    {
     "data": {
      "text/html": [
       "<div>\n",
       "<style scoped>\n",
       "    .dataframe tbody tr th:only-of-type {\n",
       "        vertical-align: middle;\n",
       "    }\n",
       "\n",
       "    .dataframe tbody tr th {\n",
       "        vertical-align: top;\n",
       "    }\n",
       "\n",
       "    .dataframe thead th {\n",
       "        text-align: right;\n",
       "    }\n",
       "</style>\n",
       "<table border=\"1\" class=\"dataframe\">\n",
       "  <thead>\n",
       "    <tr style=\"text-align: right;\">\n",
       "      <th></th>\n",
       "      <th>id</th>\n",
       "      <th>f0</th>\n",
       "      <th>f1</th>\n",
       "      <th>f2</th>\n",
       "      <th>product</th>\n",
       "    </tr>\n",
       "  </thead>\n",
       "  <tbody>\n",
       "    <tr>\n",
       "      <th>0</th>\n",
       "      <td>txEyH</td>\n",
       "      <td>0.705745</td>\n",
       "      <td>-0.497823</td>\n",
       "      <td>1.221170</td>\n",
       "      <td>105.280062</td>\n",
       "    </tr>\n",
       "    <tr>\n",
       "      <th>1</th>\n",
       "      <td>2acmU</td>\n",
       "      <td>1.334711</td>\n",
       "      <td>-0.340164</td>\n",
       "      <td>4.365080</td>\n",
       "      <td>73.037750</td>\n",
       "    </tr>\n",
       "    <tr>\n",
       "      <th>2</th>\n",
       "      <td>409Wp</td>\n",
       "      <td>1.022732</td>\n",
       "      <td>0.151990</td>\n",
       "      <td>1.419926</td>\n",
       "      <td>85.265647</td>\n",
       "    </tr>\n",
       "    <tr>\n",
       "      <th>3</th>\n",
       "      <td>iJLyR</td>\n",
       "      <td>-0.032172</td>\n",
       "      <td>0.139033</td>\n",
       "      <td>2.978566</td>\n",
       "      <td>168.620776</td>\n",
       "    </tr>\n",
       "    <tr>\n",
       "      <th>4</th>\n",
       "      <td>Xdl7t</td>\n",
       "      <td>1.988431</td>\n",
       "      <td>0.155413</td>\n",
       "      <td>4.751769</td>\n",
       "      <td>154.036647</td>\n",
       "    </tr>\n",
       "  </tbody>\n",
       "</table>\n",
       "</div>"
      ],
      "text/plain": [
       "      id        f0        f1        f2     product\n",
       "0  txEyH  0.705745 -0.497823  1.221170  105.280062\n",
       "1  2acmU  1.334711 -0.340164  4.365080   73.037750\n",
       "2  409Wp  1.022732  0.151990  1.419926   85.265647\n",
       "3  iJLyR -0.032172  0.139033  2.978566  168.620776\n",
       "4  Xdl7t  1.988431  0.155413  4.751769  154.036647"
      ]
     },
     "execution_count": 10,
     "metadata": {},
     "output_type": "execute_result"
    }
   ],
   "source": [
    "df0.head()"
   ]
  },
  {
   "cell_type": "code",
   "execution_count": 11,
   "metadata": {},
   "outputs": [
    {
     "data": {
      "text/html": [
       "<div>\n",
       "<style scoped>\n",
       "    .dataframe tbody tr th:only-of-type {\n",
       "        vertical-align: middle;\n",
       "    }\n",
       "\n",
       "    .dataframe tbody tr th {\n",
       "        vertical-align: top;\n",
       "    }\n",
       "\n",
       "    .dataframe thead th {\n",
       "        text-align: right;\n",
       "    }\n",
       "</style>\n",
       "<table border=\"1\" class=\"dataframe\">\n",
       "  <thead>\n",
       "    <tr style=\"text-align: right;\">\n",
       "      <th></th>\n",
       "      <th>id</th>\n",
       "      <th>f0</th>\n",
       "      <th>f1</th>\n",
       "      <th>f2</th>\n",
       "      <th>product</th>\n",
       "    </tr>\n",
       "  </thead>\n",
       "  <tbody>\n",
       "    <tr>\n",
       "      <th>0</th>\n",
       "      <td>kBEdx</td>\n",
       "      <td>-15.001348</td>\n",
       "      <td>-8.276000</td>\n",
       "      <td>-0.005876</td>\n",
       "      <td>3.179103</td>\n",
       "    </tr>\n",
       "    <tr>\n",
       "      <th>1</th>\n",
       "      <td>62mP7</td>\n",
       "      <td>14.272088</td>\n",
       "      <td>-3.475083</td>\n",
       "      <td>0.999183</td>\n",
       "      <td>26.953261</td>\n",
       "    </tr>\n",
       "    <tr>\n",
       "      <th>2</th>\n",
       "      <td>vyE1P</td>\n",
       "      <td>6.263187</td>\n",
       "      <td>-5.948386</td>\n",
       "      <td>5.001160</td>\n",
       "      <td>134.766305</td>\n",
       "    </tr>\n",
       "    <tr>\n",
       "      <th>3</th>\n",
       "      <td>KcrkZ</td>\n",
       "      <td>-13.081196</td>\n",
       "      <td>-11.506057</td>\n",
       "      <td>4.999415</td>\n",
       "      <td>137.945408</td>\n",
       "    </tr>\n",
       "    <tr>\n",
       "      <th>4</th>\n",
       "      <td>AHL4O</td>\n",
       "      <td>12.702195</td>\n",
       "      <td>-8.147433</td>\n",
       "      <td>5.004363</td>\n",
       "      <td>134.766305</td>\n",
       "    </tr>\n",
       "  </tbody>\n",
       "</table>\n",
       "</div>"
      ],
      "text/plain": [
       "      id         f0         f1        f2     product\n",
       "0  kBEdx -15.001348  -8.276000 -0.005876    3.179103\n",
       "1  62mP7  14.272088  -3.475083  0.999183   26.953261\n",
       "2  vyE1P   6.263187  -5.948386  5.001160  134.766305\n",
       "3  KcrkZ -13.081196 -11.506057  4.999415  137.945408\n",
       "4  AHL4O  12.702195  -8.147433  5.004363  134.766305"
      ]
     },
     "execution_count": 11,
     "metadata": {},
     "output_type": "execute_result"
    }
   ],
   "source": [
    "df1.head()"
   ]
  },
  {
   "cell_type": "code",
   "execution_count": 12,
   "metadata": {},
   "outputs": [
    {
     "data": {
      "text/html": [
       "<div>\n",
       "<style scoped>\n",
       "    .dataframe tbody tr th:only-of-type {\n",
       "        vertical-align: middle;\n",
       "    }\n",
       "\n",
       "    .dataframe tbody tr th {\n",
       "        vertical-align: top;\n",
       "    }\n",
       "\n",
       "    .dataframe thead th {\n",
       "        text-align: right;\n",
       "    }\n",
       "</style>\n",
       "<table border=\"1\" class=\"dataframe\">\n",
       "  <thead>\n",
       "    <tr style=\"text-align: right;\">\n",
       "      <th></th>\n",
       "      <th>id</th>\n",
       "      <th>f0</th>\n",
       "      <th>f1</th>\n",
       "      <th>f2</th>\n",
       "      <th>product</th>\n",
       "    </tr>\n",
       "  </thead>\n",
       "  <tbody>\n",
       "    <tr>\n",
       "      <th>0</th>\n",
       "      <td>fwXo0</td>\n",
       "      <td>-1.146987</td>\n",
       "      <td>0.963328</td>\n",
       "      <td>-0.828965</td>\n",
       "      <td>27.758673</td>\n",
       "    </tr>\n",
       "    <tr>\n",
       "      <th>1</th>\n",
       "      <td>WJtFt</td>\n",
       "      <td>0.262778</td>\n",
       "      <td>0.269839</td>\n",
       "      <td>-2.530187</td>\n",
       "      <td>56.069697</td>\n",
       "    </tr>\n",
       "    <tr>\n",
       "      <th>2</th>\n",
       "      <td>ovLUW</td>\n",
       "      <td>0.194587</td>\n",
       "      <td>0.289035</td>\n",
       "      <td>-5.586433</td>\n",
       "      <td>62.871910</td>\n",
       "    </tr>\n",
       "    <tr>\n",
       "      <th>3</th>\n",
       "      <td>q6cA6</td>\n",
       "      <td>2.236060</td>\n",
       "      <td>-0.553760</td>\n",
       "      <td>0.930038</td>\n",
       "      <td>114.572842</td>\n",
       "    </tr>\n",
       "    <tr>\n",
       "      <th>4</th>\n",
       "      <td>WPMUX</td>\n",
       "      <td>-0.515993</td>\n",
       "      <td>1.716266</td>\n",
       "      <td>5.899011</td>\n",
       "      <td>149.600746</td>\n",
       "    </tr>\n",
       "  </tbody>\n",
       "</table>\n",
       "</div>"
      ],
      "text/plain": [
       "      id        f0        f1        f2     product\n",
       "0  fwXo0 -1.146987  0.963328 -0.828965   27.758673\n",
       "1  WJtFt  0.262778  0.269839 -2.530187   56.069697\n",
       "2  ovLUW  0.194587  0.289035 -5.586433   62.871910\n",
       "3  q6cA6  2.236060 -0.553760  0.930038  114.572842\n",
       "4  WPMUX -0.515993  1.716266  5.899011  149.600746"
      ]
     },
     "execution_count": 12,
     "metadata": {},
     "output_type": "execute_result"
    }
   ],
   "source": [
    "df2.head()"
   ]
  },
  {
   "cell_type": "code",
   "execution_count": 13,
   "metadata": {},
   "outputs": [
    {
     "data": {
      "text/plain": [
       "0"
      ]
     },
     "execution_count": 13,
     "metadata": {},
     "output_type": "execute_result"
    }
   ],
   "source": [
    "#проверим данные на наличие дубликатов.\n",
    "df0.duplicated().sum()"
   ]
  },
  {
   "cell_type": "code",
   "execution_count": 14,
   "metadata": {},
   "outputs": [
    {
     "data": {
      "text/plain": [
       "0"
      ]
     },
     "execution_count": 14,
     "metadata": {},
     "output_type": "execute_result"
    }
   ],
   "source": [
    "df1.duplicated().sum()"
   ]
  },
  {
   "cell_type": "code",
   "execution_count": 15,
   "metadata": {},
   "outputs": [
    {
     "data": {
      "text/plain": [
       "0"
      ]
     },
     "execution_count": 15,
     "metadata": {},
     "output_type": "execute_result"
    }
   ],
   "source": [
    "df2.duplicated().sum()"
   ]
  },
  {
   "cell_type": "code",
   "execution_count": 16,
   "metadata": {},
   "outputs": [
    {
     "data": {
      "text/plain": [
       "id          99990\n",
       "f0         100000\n",
       "f1         100000\n",
       "f2         100000\n",
       "product    100000\n",
       "dtype: int64"
      ]
     },
     "execution_count": 16,
     "metadata": {},
     "output_type": "execute_result"
    }
   ],
   "source": [
    "#проверим данные на наличие уникальность.\n",
    "df0.nunique()"
   ]
  },
  {
   "cell_type": "code",
   "execution_count": 17,
   "metadata": {},
   "outputs": [
    {
     "data": {
      "text/plain": [
       "id          99996\n",
       "f0         100000\n",
       "f1         100000\n",
       "f2         100000\n",
       "product        12\n",
       "dtype: int64"
      ]
     },
     "execution_count": 17,
     "metadata": {},
     "output_type": "execute_result"
    }
   ],
   "source": [
    "df1.nunique()"
   ]
  },
  {
   "cell_type": "code",
   "execution_count": 18,
   "metadata": {},
   "outputs": [
    {
     "data": {
      "text/plain": [
       "53.906522     8472\n",
       "26.953261     8468\n",
       "84.038886     8431\n",
       "57.085625     8390\n",
       "3.179103      8337\n",
       "80.859783     8320\n",
       "30.132364     8306\n",
       "134.766305    8304\n",
       "110.992147    8303\n",
       "0.000000      8235\n",
       "137.945408    8233\n",
       "107.813044    8201\n",
       "Name: product, dtype: int64"
      ]
     },
     "execution_count": 18,
     "metadata": {},
     "output_type": "execute_result"
    }
   ],
   "source": [
    "df1['product'].value_counts()"
   ]
  },
  {
   "cell_type": "markdown",
   "metadata": {},
   "source": [
    "Странная ситуация, только 12 уникальных значений. Как будто это 12 скважин, но id почти все разные. Раз данные синтетические, видимо получены с помощью какого-то алгоритма. Посмотрим как эти данные покажут себя при дальнейшем анализе."
   ]
  },
  {
   "cell_type": "code",
   "execution_count": 19,
   "metadata": {},
   "outputs": [
    {
     "data": {
      "text/plain": [
       "id          99996\n",
       "f0         100000\n",
       "f1         100000\n",
       "f2         100000\n",
       "product    100000\n",
       "dtype: int64"
      ]
     },
     "execution_count": 19,
     "metadata": {},
     "output_type": "execute_result"
    }
   ],
   "source": [
    "df2.nunique()"
   ]
  },
  {
   "cell_type": "markdown",
   "metadata": {},
   "source": [
    "Есть несколько неуникальных id, но признаки у них разные, возможно проводились какие-то измерения у одних и тех же скважин.\n",
    "\n",
    "Дубликатов в данных нет."
   ]
  },
  {
   "cell_type": "code",
   "execution_count": 20,
   "metadata": {},
   "outputs": [],
   "source": [
    "#Построим графики чтобы посмотреть на распределение\n",
    "def dist_and_box(df,col):\n",
    "    global title\n",
    "    fig, axs = plt.subplots(ncols=2,figsize=(20,5))\n",
    "    sns.set(font_scale=1.10)\n",
    "    distplot = sns.distplot(df[col],ax=axs[0]).set_title(f'DataFrame №{title}',fontsize=20);\n",
    "    sns.boxplot(df[col], ax=axs[1]).set_title(f'DataFrame №{title}',fontsize=20);  "
   ]
  },
  {
   "cell_type": "markdown",
   "metadata": {},
   "source": [
    "Исследуем данные на графиках"
   ]
  },
  {
   "cell_type": "markdown",
   "metadata": {},
   "source": [
    "Датасет №0"
   ]
  },
  {
   "cell_type": "code",
   "execution_count": 21,
   "metadata": {},
   "outputs": [],
   "source": [
    "df = df0\n",
    "title = '0'"
   ]
  },
  {
   "cell_type": "code",
   "execution_count": 22,
   "metadata": {},
   "outputs": [
    {
     "data": {
      "text/html": [
       "<div>\n",
       "<style scoped>\n",
       "    .dataframe tbody tr th:only-of-type {\n",
       "        vertical-align: middle;\n",
       "    }\n",
       "\n",
       "    .dataframe tbody tr th {\n",
       "        vertical-align: top;\n",
       "    }\n",
       "\n",
       "    .dataframe thead th {\n",
       "        text-align: right;\n",
       "    }\n",
       "</style>\n",
       "<table border=\"1\" class=\"dataframe\">\n",
       "  <thead>\n",
       "    <tr style=\"text-align: right;\">\n",
       "      <th></th>\n",
       "      <th>f0</th>\n",
       "      <th>f1</th>\n",
       "      <th>f2</th>\n",
       "      <th>product</th>\n",
       "    </tr>\n",
       "  </thead>\n",
       "  <tbody>\n",
       "    <tr>\n",
       "      <th>count</th>\n",
       "      <td>100000.000000</td>\n",
       "      <td>100000.000000</td>\n",
       "      <td>100000.000000</td>\n",
       "      <td>100000.000000</td>\n",
       "    </tr>\n",
       "    <tr>\n",
       "      <th>mean</th>\n",
       "      <td>0.500419</td>\n",
       "      <td>0.250143</td>\n",
       "      <td>2.502647</td>\n",
       "      <td>92.500000</td>\n",
       "    </tr>\n",
       "    <tr>\n",
       "      <th>std</th>\n",
       "      <td>0.871832</td>\n",
       "      <td>0.504433</td>\n",
       "      <td>3.248248</td>\n",
       "      <td>44.288691</td>\n",
       "    </tr>\n",
       "    <tr>\n",
       "      <th>min</th>\n",
       "      <td>-1.408605</td>\n",
       "      <td>-0.848218</td>\n",
       "      <td>-12.088328</td>\n",
       "      <td>0.000000</td>\n",
       "    </tr>\n",
       "    <tr>\n",
       "      <th>25%</th>\n",
       "      <td>-0.072580</td>\n",
       "      <td>-0.200881</td>\n",
       "      <td>0.287748</td>\n",
       "      <td>56.497507</td>\n",
       "    </tr>\n",
       "    <tr>\n",
       "      <th>50%</th>\n",
       "      <td>0.502360</td>\n",
       "      <td>0.250252</td>\n",
       "      <td>2.515969</td>\n",
       "      <td>91.849972</td>\n",
       "    </tr>\n",
       "    <tr>\n",
       "      <th>75%</th>\n",
       "      <td>1.073581</td>\n",
       "      <td>0.700646</td>\n",
       "      <td>4.715088</td>\n",
       "      <td>128.564089</td>\n",
       "    </tr>\n",
       "    <tr>\n",
       "      <th>max</th>\n",
       "      <td>2.362331</td>\n",
       "      <td>1.343769</td>\n",
       "      <td>16.003790</td>\n",
       "      <td>185.364347</td>\n",
       "    </tr>\n",
       "  </tbody>\n",
       "</table>\n",
       "</div>"
      ],
      "text/plain": [
       "                  f0             f1             f2        product\n",
       "count  100000.000000  100000.000000  100000.000000  100000.000000\n",
       "mean        0.500419       0.250143       2.502647      92.500000\n",
       "std         0.871832       0.504433       3.248248      44.288691\n",
       "min        -1.408605      -0.848218     -12.088328       0.000000\n",
       "25%        -0.072580      -0.200881       0.287748      56.497507\n",
       "50%         0.502360       0.250252       2.515969      91.849972\n",
       "75%         1.073581       0.700646       4.715088     128.564089\n",
       "max         2.362331       1.343769      16.003790     185.364347"
      ]
     },
     "execution_count": 22,
     "metadata": {},
     "output_type": "execute_result"
    }
   ],
   "source": [
    "# приведем таблицу для наглядности еще раз\n",
    "df.describe()"
   ]
  },
  {
   "cell_type": "code",
   "execution_count": 23,
   "metadata": {},
   "outputs": [
    {
     "data": {
      "image/png": "[encoded data removed]",
      "text/plain": [
       "<Figure size 1440x360 with 2 Axes>"
      ]
     },
     "metadata": {
      "needs_background": "light"
     },
     "output_type": "display_data"
    }
   ],
   "source": [
    "dist_and_box(df,'f0')"
   ]
  },
  {
   "cell_type": "markdown",
   "metadata": {},
   "source": [
    "Первый признак \"f0\" имеет 4 пика. Пики в районе -1, 0, 1 и 2. Медиана 0.5"
   ]
  },
  {
   "cell_type": "code",
   "execution_count": 24,
   "metadata": {},
   "outputs": [
    {
     "data": {
      "image/png": "[encoded data removed]",
      "text/plain": [
       "<Figure size 1440x360 with 2 Axes>"
      ]
     },
     "metadata": {},
     "output_type": "display_data"
    }
   ],
   "source": [
    "dist_and_box(df,'f1')"
   ]
  },
  {
   "cell_type": "markdown",
   "metadata": {},
   "source": [
    "Второй признак \"f1\" имеет 3 пика. Пики в районе -0.5, 0.25, и 1. Медиана 0.25"
   ]
  },
  {
   "cell_type": "code",
   "execution_count": 25,
   "metadata": {},
   "outputs": [
    {
     "data": {
      "image/png": "[encoded data removed]",
      "text/plain": [
       "<Figure size 1440x360 with 2 Axes>"
      ]
     },
     "metadata": {},
     "output_type": "display_data"
    }
   ],
   "source": [
    "dist_and_box(df,'f2')"
   ]
  },
  {
   "cell_type": "markdown",
   "metadata": {},
   "source": [
    "Столбец \"f2\" имеет нормальное распределение с медианой 2.5. И так же наблюдаются выбросы."
   ]
  },
  {
   "cell_type": "code",
   "execution_count": 26,
   "metadata": {},
   "outputs": [
    {
     "data": {
      "image/png": "[encoded data removed]",
      "text/plain": [
       "<Figure size 1440x360 with 2 Axes>"
      ]
     },
     "metadata": {},
     "output_type": "display_data"
    }
   ],
   "source": [
    "dist_and_box(df,'product')"
   ]
  },
  {
   "cell_type": "markdown",
   "metadata": {},
   "source": [
    "Столбец \"product\" имеет 4 пика и два поменьше. По предварительному визуальному осмотру данных, можно предположить, что в районе сбора данные есть несколько тысяч перспективных скважин."
   ]
  },
  {
   "cell_type": "markdown",
   "metadata": {},
   "source": [
    "Посмотрим на корреляцию"
   ]
  },
  {
   "cell_type": "code",
   "execution_count": 27,
   "metadata": {},
   "outputs": [
    {
     "data": {
      "text/html": [
       "<div>\n",
       "<style scoped>\n",
       "    .dataframe tbody tr th:only-of-type {\n",
       "        vertical-align: middle;\n",
       "    }\n",
       "\n",
       "    .dataframe tbody tr th {\n",
       "        vertical-align: top;\n",
       "    }\n",
       "\n",
       "    .dataframe thead th {\n",
       "        text-align: right;\n",
       "    }\n",
       "</style>\n",
       "<table border=\"1\" class=\"dataframe\">\n",
       "  <thead>\n",
       "    <tr style=\"text-align: right;\">\n",
       "      <th></th>\n",
       "      <th>f0</th>\n",
       "      <th>f1</th>\n",
       "      <th>f2</th>\n",
       "      <th>product</th>\n",
       "    </tr>\n",
       "  </thead>\n",
       "  <tbody>\n",
       "    <tr>\n",
       "      <th>f0</th>\n",
       "      <td>1.000000</td>\n",
       "      <td>-0.440723</td>\n",
       "      <td>-0.003153</td>\n",
       "      <td>0.143536</td>\n",
       "    </tr>\n",
       "    <tr>\n",
       "      <th>f1</th>\n",
       "      <td>-0.440723</td>\n",
       "      <td>1.000000</td>\n",
       "      <td>0.001724</td>\n",
       "      <td>-0.192356</td>\n",
       "    </tr>\n",
       "    <tr>\n",
       "      <th>f2</th>\n",
       "      <td>-0.003153</td>\n",
       "      <td>0.001724</td>\n",
       "      <td>1.000000</td>\n",
       "      <td>0.483663</td>\n",
       "    </tr>\n",
       "    <tr>\n",
       "      <th>product</th>\n",
       "      <td>0.143536</td>\n",
       "      <td>-0.192356</td>\n",
       "      <td>0.483663</td>\n",
       "      <td>1.000000</td>\n",
       "    </tr>\n",
       "  </tbody>\n",
       "</table>\n",
       "</div>"
      ],
      "text/plain": [
       "               f0        f1        f2   product\n",
       "f0       1.000000 -0.440723 -0.003153  0.143536\n",
       "f1      -0.440723  1.000000  0.001724 -0.192356\n",
       "f2      -0.003153  0.001724  1.000000  0.483663\n",
       "product  0.143536 -0.192356  0.483663  1.000000"
      ]
     },
     "execution_count": 27,
     "metadata": {},
     "output_type": "execute_result"
    }
   ],
   "source": [
    "df.corr()"
   ]
  },
  {
   "cell_type": "markdown",
   "metadata": {},
   "source": [
    "\"f2\" и \"product\" имеют среднюю 0.483663 (если округлить) корреляцию\n",
    "\"f0\" и \"f1\" имеют слабую -0.440723, но ближе к средней корреляцию"
   ]
  },
  {
   "cell_type": "code",
   "execution_count": 28,
   "metadata": {},
   "outputs": [],
   "source": [
    "#можно визуализировать, но выполняется ооочень долго\n",
    "#sns.pairplot(data=df0, hue = 'product');"
   ]
  },
  {
   "cell_type": "markdown",
   "metadata": {},
   "source": [
    "\"f2\" и \"product\" имеют среднюю 0.483663 (если округлить) корреляцию\n",
    "\"f0\" и \"f1\" имеют слабую -0.440723, но ближе к средней корреляцию"
   ]
  },
  {
   "cell_type": "markdown",
   "metadata": {},
   "source": [
    "Датасет №1"
   ]
  },
  {
   "cell_type": "code",
   "execution_count": 29,
   "metadata": {},
   "outputs": [],
   "source": [
    "df = df1\n",
    "title = '1'"
   ]
  },
  {
   "cell_type": "code",
   "execution_count": 30,
   "metadata": {},
   "outputs": [
    {
     "data": {
      "text/html": [
       "<div>\n",
       "<style scoped>\n",
       "    .dataframe tbody tr th:only-of-type {\n",
       "        vertical-align: middle;\n",
       "    }\n",
       "\n",
       "    .dataframe tbody tr th {\n",
       "        vertical-align: top;\n",
       "    }\n",
       "\n",
       "    .dataframe thead th {\n",
       "        text-align: right;\n",
       "    }\n",
       "</style>\n",
       "<table border=\"1\" class=\"dataframe\">\n",
       "  <thead>\n",
       "    <tr style=\"text-align: right;\">\n",
       "      <th></th>\n",
       "      <th>f0</th>\n",
       "      <th>f1</th>\n",
       "      <th>f2</th>\n",
       "      <th>product</th>\n",
       "    </tr>\n",
       "  </thead>\n",
       "  <tbody>\n",
       "    <tr>\n",
       "      <th>count</th>\n",
       "      <td>100000.000000</td>\n",
       "      <td>100000.000000</td>\n",
       "      <td>100000.000000</td>\n",
       "      <td>100000.000000</td>\n",
       "    </tr>\n",
       "    <tr>\n",
       "      <th>mean</th>\n",
       "      <td>1.141296</td>\n",
       "      <td>-4.796579</td>\n",
       "      <td>2.494541</td>\n",
       "      <td>68.825000</td>\n",
       "    </tr>\n",
       "    <tr>\n",
       "      <th>std</th>\n",
       "      <td>8.965932</td>\n",
       "      <td>5.119872</td>\n",
       "      <td>1.703572</td>\n",
       "      <td>45.944423</td>\n",
       "    </tr>\n",
       "    <tr>\n",
       "      <th>min</th>\n",
       "      <td>-31.609576</td>\n",
       "      <td>-26.358598</td>\n",
       "      <td>-0.018144</td>\n",
       "      <td>0.000000</td>\n",
       "    </tr>\n",
       "    <tr>\n",
       "      <th>25%</th>\n",
       "      <td>-6.298551</td>\n",
       "      <td>-8.267985</td>\n",
       "      <td>1.000021</td>\n",
       "      <td>26.953261</td>\n",
       "    </tr>\n",
       "    <tr>\n",
       "      <th>50%</th>\n",
       "      <td>1.153055</td>\n",
       "      <td>-4.813172</td>\n",
       "      <td>2.011479</td>\n",
       "      <td>57.085625</td>\n",
       "    </tr>\n",
       "    <tr>\n",
       "      <th>75%</th>\n",
       "      <td>8.621015</td>\n",
       "      <td>-1.332816</td>\n",
       "      <td>3.999904</td>\n",
       "      <td>107.813044</td>\n",
       "    </tr>\n",
       "    <tr>\n",
       "      <th>max</th>\n",
       "      <td>29.421755</td>\n",
       "      <td>18.734063</td>\n",
       "      <td>5.019721</td>\n",
       "      <td>137.945408</td>\n",
       "    </tr>\n",
       "  </tbody>\n",
       "</table>\n",
       "</div>"
      ],
      "text/plain": [
       "                  f0             f1             f2        product\n",
       "count  100000.000000  100000.000000  100000.000000  100000.000000\n",
       "mean        1.141296      -4.796579       2.494541      68.825000\n",
       "std         8.965932       5.119872       1.703572      45.944423\n",
       "min       -31.609576     -26.358598      -0.018144       0.000000\n",
       "25%        -6.298551      -8.267985       1.000021      26.953261\n",
       "50%         1.153055      -4.813172       2.011479      57.085625\n",
       "75%         8.621015      -1.332816       3.999904     107.813044\n",
       "max        29.421755      18.734063       5.019721     137.945408"
      ]
     },
     "execution_count": 30,
     "metadata": {},
     "output_type": "execute_result"
    }
   ],
   "source": [
    "# приведем таблицу для наглядности еще раз\n",
    "df.describe()"
   ]
  },
  {
   "cell_type": "code",
   "execution_count": 31,
   "metadata": {},
   "outputs": [
    {
     "data": {
      "image/png": "[encoded data removed]",
      "text/plain": [
       "<Figure size 1440x360 with 2 Axes>"
      ]
     },
     "metadata": {},
     "output_type": "display_data"
    }
   ],
   "source": [
    "dist_and_box(df,'f0')"
   ]
  },
  {
   "cell_type": "markdown",
   "metadata": {},
   "source": [
    "Первый признак \"f0\" имеет 2 пика. Пики в районе -10, и 10. Медиана 1. И отрицательные выбросы."
   ]
  },
  {
   "cell_type": "code",
   "execution_count": 32,
   "metadata": {},
   "outputs": [
    {
     "data": {
      "image/png": "[encoded data removed]",
      "text/plain": [
       "<Figure size 1440x360 with 2 Axes>"
      ]
     },
     "metadata": {},
     "output_type": "display_data"
    }
   ],
   "source": [
    "dist_and_box(df,'f1')"
   ]
  },
  {
   "cell_type": "markdown",
   "metadata": {},
   "source": [
    "Столбец \"f1\" имеет нормальное распределение с медианой -4.8. И так же наблюдаются выбросы."
   ]
  },
  {
   "cell_type": "code",
   "execution_count": 33,
   "metadata": {},
   "outputs": [
    {
     "data": {
      "image/png": "[encoded data removed]",
      "text/plain": [
       "<Figure size 1440x360 with 2 Axes>"
      ]
     },
     "metadata": {},
     "output_type": "display_data"
    }
   ],
   "source": [
    "dist_and_box(df,'f2')"
   ]
  },
  {
   "cell_type": "markdown",
   "metadata": {},
   "source": [
    "Столбец \"f2\" в датафрейме судя по ящику с усами имеет скос вправо, медиана равна 2. А график имеет довольно странный вид, но это не удивительно так как в датасете всего 12 уникальных значений."
   ]
  },
  {
   "cell_type": "code",
   "execution_count": 34,
   "metadata": {},
   "outputs": [
    {
     "data": {
      "image/png": "[encoded data removed]",
      "text/plain": [
       "<Figure size 1440x360 with 2 Axes>"
      ]
     },
     "metadata": {},
     "output_type": "display_data"
    }
   ],
   "source": [
    "dist_and_box(df,'product')"
   ]
  },
  {
   "cell_type": "markdown",
   "metadata": {},
   "source": [
    "По предварительному визуальному осмотру, можно предположить, что в районе сбора данные есть несколько тысяч перспективных скважин с мощностью около 130 тыс. баррелей."
   ]
  },
  {
   "cell_type": "markdown",
   "metadata": {},
   "source": [
    "Посмотрим на корреляцию"
   ]
  },
  {
   "cell_type": "code",
   "execution_count": 35,
   "metadata": {},
   "outputs": [
    {
     "data": {
      "text/html": [
       "<div>\n",
       "<style scoped>\n",
       "    .dataframe tbody tr th:only-of-type {\n",
       "        vertical-align: middle;\n",
       "    }\n",
       "\n",
       "    .dataframe tbody tr th {\n",
       "        vertical-align: top;\n",
       "    }\n",
       "\n",
       "    .dataframe thead th {\n",
       "        text-align: right;\n",
       "    }\n",
       "</style>\n",
       "<table border=\"1\" class=\"dataframe\">\n",
       "  <thead>\n",
       "    <tr style=\"text-align: right;\">\n",
       "      <th></th>\n",
       "      <th>f0</th>\n",
       "      <th>f1</th>\n",
       "      <th>f2</th>\n",
       "      <th>product</th>\n",
       "    </tr>\n",
       "  </thead>\n",
       "  <tbody>\n",
       "    <tr>\n",
       "      <th>f0</th>\n",
       "      <td>1.000000</td>\n",
       "      <td>0.182287</td>\n",
       "      <td>-0.001777</td>\n",
       "      <td>-0.030491</td>\n",
       "    </tr>\n",
       "    <tr>\n",
       "      <th>f1</th>\n",
       "      <td>0.182287</td>\n",
       "      <td>1.000000</td>\n",
       "      <td>-0.002595</td>\n",
       "      <td>-0.010155</td>\n",
       "    </tr>\n",
       "    <tr>\n",
       "      <th>f2</th>\n",
       "      <td>-0.001777</td>\n",
       "      <td>-0.002595</td>\n",
       "      <td>1.000000</td>\n",
       "      <td>0.999397</td>\n",
       "    </tr>\n",
       "    <tr>\n",
       "      <th>product</th>\n",
       "      <td>-0.030491</td>\n",
       "      <td>-0.010155</td>\n",
       "      <td>0.999397</td>\n",
       "      <td>1.000000</td>\n",
       "    </tr>\n",
       "  </tbody>\n",
       "</table>\n",
       "</div>"
      ],
      "text/plain": [
       "               f0        f1        f2   product\n",
       "f0       1.000000  0.182287 -0.001777 -0.030491\n",
       "f1       0.182287  1.000000 -0.002595 -0.010155\n",
       "f2      -0.001777 -0.002595  1.000000  0.999397\n",
       "product -0.030491 -0.010155  0.999397  1.000000"
      ]
     },
     "execution_count": 35,
     "metadata": {},
     "output_type": "execute_result"
    }
   ],
   "source": [
    "df.corr()"
   ]
  },
  {
   "cell_type": "code",
   "execution_count": 36,
   "metadata": {},
   "outputs": [],
   "source": [
    "#можно визуализировать, но выполняется ооочень долго\n",
    "#sns.pairplot(data=df1, hue = 'product');"
   ]
  },
  {
   "cell_type": "markdown",
   "metadata": {},
   "source": [
    "\"f0\" и \"f1\" имеют очень слабую 0.182287 корреляцию (но в предыдущем прокте мы обращали внимание и на корреляцию 0,11)\n",
    "\"f2\" и \"product\" имеют очень высокую 0.999397 корреляцию, так как уникальных значений 12 и \"f2\" имеет маленький разброс значений от 0 до 5."
   ]
  },
  {
   "cell_type": "markdown",
   "metadata": {},
   "source": [
    "Датасет №2"
   ]
  },
  {
   "cell_type": "code",
   "execution_count": 37,
   "metadata": {},
   "outputs": [],
   "source": [
    "df = df2\n",
    "title = '2'"
   ]
  },
  {
   "cell_type": "code",
   "execution_count": 38,
   "metadata": {},
   "outputs": [
    {
     "data": {
      "text/html": [
       "<div>\n",
       "<style scoped>\n",
       "    .dataframe tbody tr th:only-of-type {\n",
       "        vertical-align: middle;\n",
       "    }\n",
       "\n",
       "    .dataframe tbody tr th {\n",
       "        vertical-align: top;\n",
       "    }\n",
       "\n",
       "    .dataframe thead th {\n",
       "        text-align: right;\n",
       "    }\n",
       "</style>\n",
       "<table border=\"1\" class=\"dataframe\">\n",
       "  <thead>\n",
       "    <tr style=\"text-align: right;\">\n",
       "      <th></th>\n",
       "      <th>f0</th>\n",
       "      <th>f1</th>\n",
       "      <th>f2</th>\n",
       "      <th>product</th>\n",
       "    </tr>\n",
       "  </thead>\n",
       "  <tbody>\n",
       "    <tr>\n",
       "      <th>count</th>\n",
       "      <td>100000.000000</td>\n",
       "      <td>100000.000000</td>\n",
       "      <td>100000.000000</td>\n",
       "      <td>100000.000000</td>\n",
       "    </tr>\n",
       "    <tr>\n",
       "      <th>mean</th>\n",
       "      <td>0.002023</td>\n",
       "      <td>-0.002081</td>\n",
       "      <td>2.495128</td>\n",
       "      <td>95.000000</td>\n",
       "    </tr>\n",
       "    <tr>\n",
       "      <th>std</th>\n",
       "      <td>1.732045</td>\n",
       "      <td>1.730417</td>\n",
       "      <td>3.473445</td>\n",
       "      <td>44.749921</td>\n",
       "    </tr>\n",
       "    <tr>\n",
       "      <th>min</th>\n",
       "      <td>-8.760004</td>\n",
       "      <td>-7.084020</td>\n",
       "      <td>-11.970335</td>\n",
       "      <td>0.000000</td>\n",
       "    </tr>\n",
       "    <tr>\n",
       "      <th>25%</th>\n",
       "      <td>-1.162288</td>\n",
       "      <td>-1.174820</td>\n",
       "      <td>0.130359</td>\n",
       "      <td>59.450441</td>\n",
       "    </tr>\n",
       "    <tr>\n",
       "      <th>50%</th>\n",
       "      <td>0.009424</td>\n",
       "      <td>-0.009482</td>\n",
       "      <td>2.484236</td>\n",
       "      <td>94.925613</td>\n",
       "    </tr>\n",
       "    <tr>\n",
       "      <th>75%</th>\n",
       "      <td>1.158535</td>\n",
       "      <td>1.163678</td>\n",
       "      <td>4.858794</td>\n",
       "      <td>130.595027</td>\n",
       "    </tr>\n",
       "    <tr>\n",
       "      <th>max</th>\n",
       "      <td>7.238262</td>\n",
       "      <td>7.844801</td>\n",
       "      <td>16.739402</td>\n",
       "      <td>190.029838</td>\n",
       "    </tr>\n",
       "  </tbody>\n",
       "</table>\n",
       "</div>"
      ],
      "text/plain": [
       "                  f0             f1             f2        product\n",
       "count  100000.000000  100000.000000  100000.000000  100000.000000\n",
       "mean        0.002023      -0.002081       2.495128      95.000000\n",
       "std         1.732045       1.730417       3.473445      44.749921\n",
       "min        -8.760004      -7.084020     -11.970335       0.000000\n",
       "25%        -1.162288      -1.174820       0.130359      59.450441\n",
       "50%         0.009424      -0.009482       2.484236      94.925613\n",
       "75%         1.158535       1.163678       4.858794     130.595027\n",
       "max         7.238262       7.844801      16.739402     190.029838"
      ]
     },
     "execution_count": 38,
     "metadata": {},
     "output_type": "execute_result"
    }
   ],
   "source": [
    "# приведем таблицу для наглядности еще раз\n",
    "df.describe()"
   ]
  },
  {
   "cell_type": "code",
   "execution_count": 39,
   "metadata": {},
   "outputs": [
    {
     "data": {
      "image/png": "[encoded data removed]",
      "text/plain": [
       "<Figure size 1440x360 with 2 Axes>"
      ]
     },
     "metadata": {},
     "output_type": "display_data"
    }
   ],
   "source": [
    "dist_and_box(df,'f0')"
   ]
  },
  {
   "cell_type": "markdown",
   "metadata": {},
   "source": [
    "Столбец \"f0\" имеет нормальное распределение с медианой в районе нуля. И так же наблюдаются выбросы."
   ]
  },
  {
   "cell_type": "code",
   "execution_count": 40,
   "metadata": {},
   "outputs": [
    {
     "data": {
      "image/png": "[encoded data removed]",
      "text/plain": [
       "<Figure size 1440x360 with 2 Axes>"
      ]
     },
     "metadata": {},
     "output_type": "display_data"
    }
   ],
   "source": [
    "dist_and_box(df,'f1')"
   ]
  },
  {
   "cell_type": "markdown",
   "metadata": {},
   "source": [
    "Столбец \"f1\" имеет нормальное распределение с медианой в районе нуля с отрицательной стороны. И так же наблюдаются выбросы. Графики \"f0\" и \"f1\" похожи визуально."
   ]
  },
  {
   "cell_type": "code",
   "execution_count": 41,
   "metadata": {},
   "outputs": [
    {
     "data": {
      "image/png": "[encoded data removed]",
      "text/plain": [
       "<Figure size 1440x360 with 2 Axes>"
      ]
     },
     "metadata": {},
     "output_type": "display_data"
    }
   ],
   "source": [
    "dist_and_box(df,'f2')"
   ]
  },
  {
   "cell_type": "markdown",
   "metadata": {},
   "source": [
    "Столбец \"f2\" имеет нормальное распределение с медианой в окресностях 2.5"
   ]
  },
  {
   "cell_type": "code",
   "execution_count": 42,
   "metadata": {},
   "outputs": [
    {
     "data": {
      "image/png": "[encoded data removed]",
      "text/plain": [
       "<Figure size 1440x360 with 2 Axes>"
      ]
     },
     "metadata": {},
     "output_type": "display_data"
    }
   ],
   "source": [
    "dist_and_box(df,'product')"
   ]
  },
  {
   "cell_type": "markdown",
   "metadata": {},
   "source": [
    "По предварительному визуальному осмотру, можно предположить, что в районе сбора данные есть несколько тысяч перспективных скважин с мощностью около 175 тыс. баррелей и более. График похож на датасет №0."
   ]
  },
  {
   "cell_type": "markdown",
   "metadata": {},
   "source": [
    "Посмотрим на корреляцию"
   ]
  },
  {
   "cell_type": "code",
   "execution_count": 43,
   "metadata": {},
   "outputs": [
    {
     "data": {
      "text/html": [
       "<div>\n",
       "<style scoped>\n",
       "    .dataframe tbody tr th:only-of-type {\n",
       "        vertical-align: middle;\n",
       "    }\n",
       "\n",
       "    .dataframe tbody tr th {\n",
       "        vertical-align: top;\n",
       "    }\n",
       "\n",
       "    .dataframe thead th {\n",
       "        text-align: right;\n",
       "    }\n",
       "</style>\n",
       "<table border=\"1\" class=\"dataframe\">\n",
       "  <thead>\n",
       "    <tr style=\"text-align: right;\">\n",
       "      <th></th>\n",
       "      <th>f0</th>\n",
       "      <th>f1</th>\n",
       "      <th>f2</th>\n",
       "      <th>product</th>\n",
       "    </tr>\n",
       "  </thead>\n",
       "  <tbody>\n",
       "    <tr>\n",
       "      <th>f0</th>\n",
       "      <td>1.000000</td>\n",
       "      <td>0.000528</td>\n",
       "      <td>-0.000448</td>\n",
       "      <td>-0.001987</td>\n",
       "    </tr>\n",
       "    <tr>\n",
       "      <th>f1</th>\n",
       "      <td>0.000528</td>\n",
       "      <td>1.000000</td>\n",
       "      <td>0.000779</td>\n",
       "      <td>-0.001012</td>\n",
       "    </tr>\n",
       "    <tr>\n",
       "      <th>f2</th>\n",
       "      <td>-0.000448</td>\n",
       "      <td>0.000779</td>\n",
       "      <td>1.000000</td>\n",
       "      <td>0.445871</td>\n",
       "    </tr>\n",
       "    <tr>\n",
       "      <th>product</th>\n",
       "      <td>-0.001987</td>\n",
       "      <td>-0.001012</td>\n",
       "      <td>0.445871</td>\n",
       "      <td>1.000000</td>\n",
       "    </tr>\n",
       "  </tbody>\n",
       "</table>\n",
       "</div>"
      ],
      "text/plain": [
       "               f0        f1        f2   product\n",
       "f0       1.000000  0.000528 -0.000448 -0.001987\n",
       "f1       0.000528  1.000000  0.000779 -0.001012\n",
       "f2      -0.000448  0.000779  1.000000  0.445871\n",
       "product -0.001987 -0.001012  0.445871  1.000000"
      ]
     },
     "execution_count": 43,
     "metadata": {},
     "output_type": "execute_result"
    }
   ],
   "source": [
    "df.corr()"
   ]
  },
  {
   "cell_type": "code",
   "execution_count": 44,
   "metadata": {},
   "outputs": [],
   "source": [
    "#можно визуализировать, но выполняется ооочень долго\n",
    "#sns.pairplot(data=df2, hue = 'product');"
   ]
  },
  {
   "cell_type": "markdown",
   "metadata": {},
   "source": [
    "\"f2\" и \"product\" имеют слабую 0.445871 корреляцию (но ближе к средней).\n",
    "У остальных корреляция близка к нулю."
   ]
  },
  {
   "cell_type": "markdown",
   "metadata": {},
   "source": [
    "## Обучение и проверка модели"
   ]
  },
  {
   "cell_type": "markdown",
   "metadata": {},
   "source": [
    "Разобьём данные на обучающую и валидационную выборки в соотношении 75:25\n",
    "Обучим модель и сделаем предсказания на валидационной выборке\n",
    "Сохраним предсказания и правильные ответы на валидационной выборке\n",
    "Покажем средний запас предсказанного сырья и RMSE модели"
   ]
  },
  {
   "cell_type": "code",
   "execution_count": 45,
   "metadata": {},
   "outputs": [],
   "source": [
    "def get_linear_regression_prediction_grid(df, target_column, get_size_df_split = False):\n",
    "    \n",
    "    # выделим признаки\n",
    "    target = df[target_column]\n",
    "    features = df.drop([target_column,'id'], axis=1) #если не удалить еще и id то будет ошибка, что текстовое поле\n",
    "    \n",
    "    # разобьём данные на тестовую и валидационную выборки в соотношении 75:25\n",
    "    features_train, features_valid, target_train, target_valid = train_test_split(\n",
    "    features, target, test_size=0.25, random_state=12345)\n",
    "    \n",
    "    if get_size_df_split:\n",
    "        print(f'Размеры тренировочной и валидационной выборок {features_train.shape} {features_valid.shape}')\n",
    "        print(f'Размеры признаков теста и валидации {target_train.shape} {target_valid.shape}')\n",
    "    \n",
    "    # обучим модель\n",
    "    parameters = {'fit_intercept':[True,False], 'copy_X':[True, False], 'normalize':[True,False]}\n",
    "    model = GridSearchCV(estimator=LinearRegression(), param_grid=parameters, cv=5)\n",
    "    model.fit(features_train, target_train)\n",
    "    predicted_valid = model.predict(features_valid)\n",
    "        \n",
    "    # посчитаем метрики\n",
    "    metrics = {}\n",
    "    metrics['mean_fact_target'] = round(target.mean(),4) # средняя всего фактического сырья\n",
    "    metrics['mean_predict_valid'] =  round(predicted_valid.mean(),4) # средняя предсказанного сырья\n",
    "    metrics['mse'] =  round(mean_squared_error(target_valid, predicted_valid),4)\n",
    "    metrics['rmse'] =  round(metrics['mse'] ** 0.5,4)\n",
    "    metrics['r2'] =  round(r2_score(target_valid, predicted_valid),4)\n",
    "    metrics['mae'] =  round(mean_absolute_error(target_valid, predicted_valid),4)\n",
    "    predicted_valid_for_median = pd.Series(target_train.median(), index=target_valid.index)\n",
    "    metrics['mae_median'] =  round(mean_absolute_error(target_valid, predicted_valid_for_median),4)\n",
    "    metrics[\"best_model_params\"] = model.best_params_\n",
    "    metrics[\"predicted_valid\"] = predicted_valid\n",
    "    metrics[\"target_valid\"] = target_valid\n",
    "    \n",
    "    return metrics"
   ]
  },
  {
   "cell_type": "code",
   "execution_count": 46,
   "metadata": {},
   "outputs": [],
   "source": [
    "target_column = 'product'\n",
    "\n",
    "#DataFrame №0\n",
    "metrics_df0 = get_linear_regression_prediction_grid(df0, target_column)\n",
    "\n",
    "#DataFrame №1\n",
    "metrics_df1 = get_linear_regression_prediction_grid(df1, target_column)\n",
    "\n",
    "#DataFrame №2\n",
    "metrics_df2 = get_linear_regression_prediction_grid(df2, target_column)"
   ]
  },
  {
   "cell_type": "code",
   "execution_count": 47,
   "metadata": {},
   "outputs": [
    {
     "name": "stdout",
     "output_type": "stream",
     "text": [
      "Средняя предсказанного сырья DataFrame_0: 92.5926\n",
      "RMSE DataFrame_0: 37.5794\n",
      "\n",
      "Средняя предсказанного сырья DataFrame_1: 68.7285\n",
      "RMSE DataFrame_1: 0.8931\n",
      "\n",
      "Средняя предсказанного сырья DataFrame_2: 94.965\n",
      "RMSE DataFrame_2: 40.0297\n",
      "\n"
     ]
    }
   ],
   "source": [
    "print(f'Средняя предсказанного сырья DataFrame_0: { metrics_df0[\"mean_predict_valid\"] }')\n",
    "print(f'RMSE DataFrame_0: { metrics_df0[\"rmse\"] }')\n",
    "print()\n",
    "print(f'Средняя предсказанного сырья DataFrame_1: { metrics_df1[\"mean_predict_valid\"] }')\n",
    "print(f'RMSE DataFrame_1: { metrics_df1[\"rmse\"] }')\n",
    "print()\n",
    "print(f'Средняя предсказанного сырья DataFrame_2: { metrics_df2[\"mean_predict_valid\"] }')\n",
    "print(f'RMSE DataFrame_2: { metrics_df2[\"rmse\"] }')\n",
    "print()"
   ]
  },
  {
   "cell_type": "markdown",
   "metadata": {},
   "source": [
    "Получились такие данные:\n",
    "\n",
    "DataFrame_0:\n",
    "Средняя предсказанного сырья: 92.5926\n",
    "RMSE: 37.5794\n",
    "\n",
    "DataFrame_1:\n",
    "Средняя предсказанного сырья: 68.7285\n",
    "RMSE: 0.8931\n",
    "\n",
    "DataFrame_2:\n",
    "Средняя предсказанного сырья: 94.965\n",
    "RMSE: 40.0297"
   ]
  },
  {
   "cell_type": "code",
   "execution_count": 48,
   "metadata": {},
   "outputs": [
    {
     "name": "stdout",
     "output_type": "stream",
     "text": [
      "Параметры лучше модели DataFrame_0: {'copy_X': True, 'fit_intercept': True, 'normalize': True}\n",
      "\n",
      "Параметры лучше модели DataFrame_1: {'copy_X': True, 'fit_intercept': True, 'normalize': True}\n",
      "\n",
      "Параметры лучше модели DataFrame_2: {'copy_X': True, 'fit_intercept': True, 'normalize': True}\n"
     ]
    }
   ],
   "source": [
    "print(f'Параметры лучше модели DataFrame_0: { metrics_df0[\"best_model_params\"] }')\n",
    "print()\n",
    "print(f'Параметры лучше модели DataFrame_1: { metrics_df1[\"best_model_params\"] }')\n",
    "print()\n",
    "print(f'Параметры лучше модели DataFrame_2: { metrics_df2[\"best_model_params\"] }')"
   ]
  },
  {
   "cell_type": "markdown",
   "metadata": {},
   "source": [
    "Анализ полученных результатов"
   ]
  },
  {
   "cell_type": "markdown",
   "metadata": {},
   "source": [
    "Чем ближе корень из средней квадратичной ошибки (RMSE) к нулю тем лучше.\n",
    "\n",
    "Наши значения RMSE:\n",
    "\n",
    "DataFrame_0 RMSE: 37.5794\n",
    "DataFrame_1 RMSE: 0.8931\n",
    "DataFrame_2 RMSE: 40.0297\n",
    "\n",
    "Чтобы понимать много это или мало, обычно MSE предсказаний сравнивают со средним MSE по выборке. Чтобы это постоянно не делать, есть метрика коэффициент детерминации R2. Который равен 1 - MSE/MSEсреднее. Чем R2 ближе к единице тем лучше.\n",
    "\n",
    "Наши значения R2:\n",
    "\n",
    "DataFrame_0 R2: 0.2799\n",
    "DataFrame_1 R2: 0.9996\n",
    "DataFrame_2 R2: 0.2052\n",
    "\n",
    "В нулевом и втором дата фрейме R2 довольно низкие. А в DataFrame_1 R2 = 0.9996 как и предсказывалось во время анализа на первом шаге, такой высокий коэффициент скорей всего из-за очень сильной связи целевого показателя с признаком 'f2'.\n",
    "\n",
    "Метрика MAE среднее абсолютное отклонение так же как и RMSE чем ближе к нулю тем лучше. И при сравнении с медианным MAE наша полученная по предсказаниям модели лучше, особенно в DataFrame_1.\n",
    "\n",
    "Наши значения MAE:\n",
    "\n",
    "DataFrame_0 MAE: 30.9196\n",
    "DataFrame_1 MAE: 0.7188\n",
    "DataFrame_2 MAE: 32.7927\n",
    "\n",
    "Модель хорошо предсказывает мощность скважины в тыс.баррелей, отклонения по регионам от 0,04 до 0,14%."
   ]
  },
  {
   "cell_type": "markdown",
   "metadata": {},
   "source": [
    "## Подготовка к расчёту прибыли"
   ]
  },
  {
   "cell_type": "markdown",
   "metadata": {},
   "source": [
    "Все ключевые значения для расчётов сохраним в отдельных переменных"
   ]
  },
  {
   "cell_type": "markdown",
   "metadata": {},
   "source": [
    "Вводные для расчета прибыли:\n",
    "\n",
    "При разведке региона исследуют 500 точек, из которых с помощью машинного обучения выбирают 200 лучших для разработки."
   ]
  },
  {
   "cell_type": "code",
   "execution_count": 49,
   "metadata": {},
   "outputs": [],
   "source": [
    "count_of_wells = 200"
   ]
  },
  {
   "cell_type": "markdown",
   "metadata": {},
   "source": [
    "Бюджет на разработку скважин в регионе — 10 млрд рублей."
   ]
  },
  {
   "cell_type": "code",
   "execution_count": 50,
   "metadata": {},
   "outputs": [],
   "source": [
    "budget = 10_000_000_000"
   ]
  },
  {
   "cell_type": "markdown",
   "metadata": {},
   "source": [
    "Цена одной скважины — 50 млн рублей."
   ]
  },
  {
   "cell_type": "markdown",
   "metadata": {},
   "source": [
    "При нынешних ценах один баррель сырья приносит 450 рублей дохода. Доход с каждой единицы продукта составляет 450 тыс. рублей, поскольку объём указан в тысячах баррелей."
   ]
  },
  {
   "cell_type": "code",
   "execution_count": 52,
   "metadata": {},
   "outputs": [],
   "source": [
    "price_one_thousand_barrels = 450_000"
   ]
  },
  {
   "cell_type": "code",
   "execution_count": 53,
   "metadata": {},
   "outputs": [
    {
     "name": "stdout",
     "output_type": "stream",
     "text": [
      "(25000, 4)\n"
     ]
    }
   ],
   "source": [
    "region_df0 = pd.DataFrame(metrics_df0[\"target_valid\"])\n",
    "region_df0['predicted'] = metrics_df0[\"predicted_valid\"]\n",
    "region_df0['profit'] = metrics_df0[\"target_valid\"] * price_one_thousand_barrels\n",
    "region_df0['region'] = 0\n",
    "print(region_df0.shape)\n",
    "region_df1 = pd.DataFrame(metrics_df1[\"target_valid\"])\n",
    "region_df1['predicted'] = metrics_df1[\"predicted_valid\"]\n",
    "region_df1['profit'] = metrics_df1[\"target_valid\"] * price_one_thousand_barrels\n",
    "region_df1['region'] = 1\n",
    "\n",
    "region_df2 = pd.DataFrame(metrics_df2[\"target_valid\"])\n",
    "region_df2['predicted'] = metrics_df2[\"predicted_valid\"]\n",
    "region_df2['profit'] = metrics_df2[\"target_valid\"] * price_one_thousand_barrels\n",
    "region_df2['region'] = 2"
   ]
  },
  {
   "cell_type": "markdown",
   "metadata": {},
   "source": [
    "Рассчитаем достаточный объём сырья для безубыточной разработки новой скважины. Сравним полученный объём сырья со средним запасом в каждом регионе"
   ]
  },
  {
   "cell_type": "code",
   "execution_count": 54,
   "metadata": {},
   "outputs": [
    {
     "data": {
      "text/plain": [
       "112"
      ]
     },
     "execution_count": 54,
     "metadata": {},
     "output_type": "execute_result"
    }
   ],
   "source": [
    "sufficient_volume = math.ceil(price_one_well / price_one_thousand_barrels)\n",
    "sufficient_volume"
   ]
  },
  {
   "cell_type": "code",
   "execution_count": 55,
   "metadata": {},
   "outputs": [
    {
     "data": {
      "text/html": [
       "<div>\n",
       "<style scoped>\n",
       "    .dataframe tbody tr th:only-of-type {\n",
       "        vertical-align: middle;\n",
       "    }\n",
       "\n",
       "    .dataframe tbody tr th {\n",
       "        vertical-align: top;\n",
       "    }\n",
       "\n",
       "    .dataframe thead th {\n",
       "        text-align: right;\n",
       "    }\n",
       "</style>\n",
       "<table border=\"1\" class=\"dataframe\">\n",
       "  <thead>\n",
       "    <tr style=\"text-align: right;\">\n",
       "      <th></th>\n",
       "      <th>predicted</th>\n",
       "      <th>product</th>\n",
       "      <th>profit</th>\n",
       "    </tr>\n",
       "    <tr>\n",
       "      <th>region</th>\n",
       "      <th></th>\n",
       "      <th></th>\n",
       "      <th></th>\n",
       "    </tr>\n",
       "  </thead>\n",
       "  <tbody>\n",
       "    <tr>\n",
       "      <th>0</th>\n",
       "      <td>92.592568</td>\n",
       "      <td>92.078597</td>\n",
       "      <td>4.143537e+07</td>\n",
       "    </tr>\n",
       "    <tr>\n",
       "      <th>1</th>\n",
       "      <td>68.728547</td>\n",
       "      <td>68.723136</td>\n",
       "      <td>3.092541e+07</td>\n",
       "    </tr>\n",
       "    <tr>\n",
       "      <th>2</th>\n",
       "      <td>94.965046</td>\n",
       "      <td>94.884233</td>\n",
       "      <td>4.269790e+07</td>\n",
       "    </tr>\n",
       "  </tbody>\n",
       "</table>\n",
       "</div>"
      ],
      "text/plain": [
       "        predicted    product        profit\n",
       "region                                    \n",
       "0       92.592568  92.078597  4.143537e+07\n",
       "1       68.728547  68.723136  3.092541e+07\n",
       "2       94.965046  94.884233  4.269790e+07"
      ]
     },
     "execution_count": 55,
     "metadata": {},
     "output_type": "execute_result"
    }
   ],
   "source": [
    "oil_reserve = pd.concat([region_df0, region_df1, region_df2])\n",
    "oil_reserve.pivot_table(index='region')"
   ]
  },
  {
   "cell_type": "markdown",
   "metadata": {},
   "source": [
    "Всего в одном регионе бюджет в 10 млрд.руб. выделяют для разработки 200 наиболее перспективных скважин с затратами 50 милн.руб. на одну скважину. При существующем уровне цен в 450 тыс.руб. за тыс.баррелей, безубыточная добыча начинается со скважин с запасом в 112 тыс.баррелей. По предсказаниям в среднем такого объема нет ни в одном регионе."
   ]
  },
  {
   "cell_type": "markdown",
   "metadata": {},
   "source": [
    "## Расчёт прибыли и рисков "
   ]
  },
  {
   "cell_type": "markdown",
   "metadata": {},
   "source": [
    "Выберем скважины с максимальными значениями предсказаний"
   ]
  },
  {
   "cell_type": "code",
   "execution_count": 56,
   "metadata": {},
   "outputs": [
    {
     "data": {
      "text/html": [
       "<div>\n",
       "<style scoped>\n",
       "    .dataframe tbody tr th:only-of-type {\n",
       "        vertical-align: middle;\n",
       "    }\n",
       "\n",
       "    .dataframe tbody tr th {\n",
       "        vertical-align: top;\n",
       "    }\n",
       "\n",
       "    .dataframe thead th {\n",
       "        text-align: right;\n",
       "    }\n",
       "</style>\n",
       "<table border=\"1\" class=\"dataframe\">\n",
       "  <thead>\n",
       "    <tr style=\"text-align: right;\">\n",
       "      <th></th>\n",
       "      <th>product</th>\n",
       "      <th>predicted</th>\n",
       "      <th>profit</th>\n",
       "      <th>region</th>\n",
       "    </tr>\n",
       "  </thead>\n",
       "  <tbody>\n",
       "    <tr>\n",
       "      <th>93073</th>\n",
       "      <td>162.810993</td>\n",
       "      <td>180.180713</td>\n",
       "      <td>7.326495e+07</td>\n",
       "      <td>0</td>\n",
       "    </tr>\n",
       "    <tr>\n",
       "      <th>46784</th>\n",
       "      <td>153.639837</td>\n",
       "      <td>176.252213</td>\n",
       "      <td>6.913793e+07</td>\n",
       "      <td>0</td>\n",
       "    </tr>\n",
       "    <tr>\n",
       "      <th>78948</th>\n",
       "      <td>162.153488</td>\n",
       "      <td>175.850623</td>\n",
       "      <td>7.296907e+07</td>\n",
       "      <td>0</td>\n",
       "    </tr>\n",
       "    <tr>\n",
       "      <th>43388</th>\n",
       "      <td>96.893581</td>\n",
       "      <td>175.658429</td>\n",
       "      <td>4.360211e+07</td>\n",
       "      <td>0</td>\n",
       "    </tr>\n",
       "    <tr>\n",
       "      <th>6496</th>\n",
       "      <td>178.879516</td>\n",
       "      <td>173.299686</td>\n",
       "      <td>8.049578e+07</td>\n",
       "      <td>0</td>\n",
       "    </tr>\n",
       "    <tr>\n",
       "      <th>...</th>\n",
       "      <td>...</td>\n",
       "      <td>...</td>\n",
       "      <td>...</td>\n",
       "      <td>...</td>\n",
       "    </tr>\n",
       "    <tr>\n",
       "      <th>30488</th>\n",
       "      <td>179.683422</td>\n",
       "      <td>148.507064</td>\n",
       "      <td>8.085754e+07</td>\n",
       "      <td>0</td>\n",
       "    </tr>\n",
       "    <tr>\n",
       "      <th>98799</th>\n",
       "      <td>95.396917</td>\n",
       "      <td>148.481767</td>\n",
       "      <td>4.292861e+07</td>\n",
       "      <td>0</td>\n",
       "    </tr>\n",
       "    <tr>\n",
       "      <th>53840</th>\n",
       "      <td>160.361464</td>\n",
       "      <td>148.476498</td>\n",
       "      <td>7.216266e+07</td>\n",
       "      <td>0</td>\n",
       "    </tr>\n",
       "    <tr>\n",
       "      <th>4638</th>\n",
       "      <td>102.186603</td>\n",
       "      <td>148.436761</td>\n",
       "      <td>4.598397e+07</td>\n",
       "      <td>0</td>\n",
       "    </tr>\n",
       "    <tr>\n",
       "      <th>75908</th>\n",
       "      <td>119.890261</td>\n",
       "      <td>148.365941</td>\n",
       "      <td>5.395062e+07</td>\n",
       "      <td>0</td>\n",
       "    </tr>\n",
       "  </tbody>\n",
       "</table>\n",
       "<p>200 rows × 4 columns</p>\n",
       "</div>"
      ],
      "text/plain": [
       "          product   predicted        profit  region\n",
       "93073  162.810993  180.180713  7.326495e+07       0\n",
       "46784  153.639837  176.252213  6.913793e+07       0\n",
       "78948  162.153488  175.850623  7.296907e+07       0\n",
       "43388   96.893581  175.658429  4.360211e+07       0\n",
       "6496   178.879516  173.299686  8.049578e+07       0\n",
       "...           ...         ...           ...     ...\n",
       "30488  179.683422  148.507064  8.085754e+07       0\n",
       "98799   95.396917  148.481767  4.292861e+07       0\n",
       "53840  160.361464  148.476498  7.216266e+07       0\n",
       "4638   102.186603  148.436761  4.598397e+07       0\n",
       "75908  119.890261  148.365941  5.395062e+07       0\n",
       "\n",
       "[200 rows x 4 columns]"
      ]
     },
     "execution_count": 56,
     "metadata": {},
     "output_type": "execute_result"
    }
   ],
   "source": [
    "max_pred_df0 = region_df0.sort_values(by='predicted', ascending=False)[:200]\n",
    "max_pred_df0"
   ]
  },
  {
   "cell_type": "code",
   "execution_count": 57,
   "metadata": {},
   "outputs": [
    {
     "data": {
      "text/html": [
       "<div>\n",
       "<style scoped>\n",
       "    .dataframe tbody tr th:only-of-type {\n",
       "        vertical-align: middle;\n",
       "    }\n",
       "\n",
       "    .dataframe tbody tr th {\n",
       "        vertical-align: top;\n",
       "    }\n",
       "\n",
       "    .dataframe thead th {\n",
       "        text-align: right;\n",
       "    }\n",
       "</style>\n",
       "<table border=\"1\" class=\"dataframe\">\n",
       "  <thead>\n",
       "    <tr style=\"text-align: right;\">\n",
       "      <th></th>\n",
       "      <th>product</th>\n",
       "      <th>predicted</th>\n",
       "      <th>profit</th>\n",
       "      <th>region</th>\n",
       "    </tr>\n",
       "  </thead>\n",
       "  <tbody>\n",
       "    <tr>\n",
       "      <th>38665</th>\n",
       "      <td>137.945408</td>\n",
       "      <td>139.818970</td>\n",
       "      <td>6.207543e+07</td>\n",
       "      <td>1</td>\n",
       "    </tr>\n",
       "    <tr>\n",
       "      <th>20191</th>\n",
       "      <td>137.945408</td>\n",
       "      <td>139.773423</td>\n",
       "      <td>6.207543e+07</td>\n",
       "      <td>1</td>\n",
       "    </tr>\n",
       "    <tr>\n",
       "      <th>14041</th>\n",
       "      <td>137.945408</td>\n",
       "      <td>139.703330</td>\n",
       "      <td>6.207543e+07</td>\n",
       "      <td>1</td>\n",
       "    </tr>\n",
       "    <tr>\n",
       "      <th>24274</th>\n",
       "      <td>137.945408</td>\n",
       "      <td>139.560938</td>\n",
       "      <td>6.207543e+07</td>\n",
       "      <td>1</td>\n",
       "    </tr>\n",
       "    <tr>\n",
       "      <th>92782</th>\n",
       "      <td>137.945408</td>\n",
       "      <td>139.516754</td>\n",
       "      <td>6.207543e+07</td>\n",
       "      <td>1</td>\n",
       "    </tr>\n",
       "    <tr>\n",
       "      <th>...</th>\n",
       "      <td>...</td>\n",
       "      <td>...</td>\n",
       "      <td>...</td>\n",
       "      <td>...</td>\n",
       "    </tr>\n",
       "    <tr>\n",
       "      <th>13370</th>\n",
       "      <td>137.945408</td>\n",
       "      <td>138.421423</td>\n",
       "      <td>6.207543e+07</td>\n",
       "      <td>1</td>\n",
       "    </tr>\n",
       "    <tr>\n",
       "      <th>45823</th>\n",
       "      <td>137.945408</td>\n",
       "      <td>138.416960</td>\n",
       "      <td>6.207543e+07</td>\n",
       "      <td>1</td>\n",
       "    </tr>\n",
       "    <tr>\n",
       "      <th>86987</th>\n",
       "      <td>137.945408</td>\n",
       "      <td>138.413881</td>\n",
       "      <td>6.207543e+07</td>\n",
       "      <td>1</td>\n",
       "    </tr>\n",
       "    <tr>\n",
       "      <th>72313</th>\n",
       "      <td>137.945408</td>\n",
       "      <td>138.412834</td>\n",
       "      <td>6.207543e+07</td>\n",
       "      <td>1</td>\n",
       "    </tr>\n",
       "    <tr>\n",
       "      <th>59892</th>\n",
       "      <td>137.945408</td>\n",
       "      <td>138.410697</td>\n",
       "      <td>6.207543e+07</td>\n",
       "      <td>1</td>\n",
       "    </tr>\n",
       "  </tbody>\n",
       "</table>\n",
       "<p>200 rows × 4 columns</p>\n",
       "</div>"
      ],
      "text/plain": [
       "          product   predicted        profit  region\n",
       "38665  137.945408  139.818970  6.207543e+07       1\n",
       "20191  137.945408  139.773423  6.207543e+07       1\n",
       "14041  137.945408  139.703330  6.207543e+07       1\n",
       "24274  137.945408  139.560938  6.207543e+07       1\n",
       "92782  137.945408  139.516754  6.207543e+07       1\n",
       "...           ...         ...           ...     ...\n",
       "13370  137.945408  138.421423  6.207543e+07       1\n",
       "45823  137.945408  138.416960  6.207543e+07       1\n",
       "86987  137.945408  138.413881  6.207543e+07       1\n",
       "72313  137.945408  138.412834  6.207543e+07       1\n",
       "59892  137.945408  138.410697  6.207543e+07       1\n",
       "\n",
       "[200 rows x 4 columns]"
      ]
     },
     "execution_count": 57,
     "metadata": {},
     "output_type": "execute_result"
    }
   ],
   "source": [
    "max_pred_df1 = region_df1.sort_values(by='predicted', ascending=False)[:200]\n",
    "max_pred_df1"
   ]
  },
  {
   "cell_type": "code",
   "execution_count": 58,
   "metadata": {},
   "outputs": [
    {
     "data": {
      "text/html": [
       "<div>\n",
       "<style scoped>\n",
       "    .dataframe tbody tr th:only-of-type {\n",
       "        vertical-align: middle;\n",
       "    }\n",
       "\n",
       "    .dataframe tbody tr th {\n",
       "        vertical-align: top;\n",
       "    }\n",
       "\n",
       "    .dataframe thead th {\n",
       "        text-align: right;\n",
       "    }\n",
       "</style>\n",
       "<table border=\"1\" class=\"dataframe\">\n",
       "  <thead>\n",
       "    <tr style=\"text-align: right;\">\n",
       "      <th></th>\n",
       "      <th>product</th>\n",
       "      <th>predicted</th>\n",
       "      <th>profit</th>\n",
       "      <th>region</th>\n",
       "    </tr>\n",
       "  </thead>\n",
       "  <tbody>\n",
       "    <tr>\n",
       "      <th>98619</th>\n",
       "      <td>175.103291</td>\n",
       "      <td>165.856833</td>\n",
       "      <td>7.879648e+07</td>\n",
       "      <td>2</td>\n",
       "    </tr>\n",
       "    <tr>\n",
       "      <th>46649</th>\n",
       "      <td>131.627481</td>\n",
       "      <td>165.679685</td>\n",
       "      <td>5.923237e+07</td>\n",
       "      <td>2</td>\n",
       "    </tr>\n",
       "    <tr>\n",
       "      <th>82661</th>\n",
       "      <td>141.160070</td>\n",
       "      <td>163.439962</td>\n",
       "      <td>6.352203e+07</td>\n",
       "      <td>2</td>\n",
       "    </tr>\n",
       "    <tr>\n",
       "      <th>53151</th>\n",
       "      <td>159.676082</td>\n",
       "      <td>162.062589</td>\n",
       "      <td>7.185424e+07</td>\n",
       "      <td>2</td>\n",
       "    </tr>\n",
       "    <tr>\n",
       "      <th>18747</th>\n",
       "      <td>142.135203</td>\n",
       "      <td>161.797476</td>\n",
       "      <td>6.396084e+07</td>\n",
       "      <td>2</td>\n",
       "    </tr>\n",
       "    <tr>\n",
       "      <th>...</th>\n",
       "      <td>...</td>\n",
       "      <td>...</td>\n",
       "      <td>...</td>\n",
       "      <td>...</td>\n",
       "    </tr>\n",
       "    <tr>\n",
       "      <th>66244</th>\n",
       "      <td>104.949568</td>\n",
       "      <td>142.490763</td>\n",
       "      <td>4.722731e+07</td>\n",
       "      <td>2</td>\n",
       "    </tr>\n",
       "    <tr>\n",
       "      <th>34285</th>\n",
       "      <td>89.492500</td>\n",
       "      <td>142.485922</td>\n",
       "      <td>4.027162e+07</td>\n",
       "      <td>2</td>\n",
       "    </tr>\n",
       "    <tr>\n",
       "      <th>36778</th>\n",
       "      <td>184.895101</td>\n",
       "      <td>142.465777</td>\n",
       "      <td>8.320280e+07</td>\n",
       "      <td>2</td>\n",
       "    </tr>\n",
       "    <tr>\n",
       "      <th>7806</th>\n",
       "      <td>137.480469</td>\n",
       "      <td>142.454763</td>\n",
       "      <td>6.186621e+07</td>\n",
       "      <td>2</td>\n",
       "    </tr>\n",
       "    <tr>\n",
       "      <th>62558</th>\n",
       "      <td>134.507140</td>\n",
       "      <td>142.408851</td>\n",
       "      <td>6.052821e+07</td>\n",
       "      <td>2</td>\n",
       "    </tr>\n",
       "  </tbody>\n",
       "</table>\n",
       "<p>200 rows × 4 columns</p>\n",
       "</div>"
      ],
      "text/plain": [
       "          product   predicted        profit  region\n",
       "98619  175.103291  165.856833  7.879648e+07       2\n",
       "46649  131.627481  165.679685  5.923237e+07       2\n",
       "82661  141.160070  163.439962  6.352203e+07       2\n",
       "53151  159.676082  162.062589  7.185424e+07       2\n",
       "18747  142.135203  161.797476  6.396084e+07       2\n",
       "...           ...         ...           ...     ...\n",
       "66244  104.949568  142.490763  4.722731e+07       2\n",
       "34285   89.492500  142.485922  4.027162e+07       2\n",
       "36778  184.895101  142.465777  8.320280e+07       2\n",
       "7806   137.480469  142.454763  6.186621e+07       2\n",
       "62558  134.507140  142.408851  6.052821e+07       2\n",
       "\n",
       "[200 rows x 4 columns]"
      ]
     },
     "execution_count": 58,
     "metadata": {},
     "output_type": "execute_result"
    }
   ],
   "source": [
    "max_pred_df2 = region_df2.sort_values(by='predicted', ascending=False)[:200]\n",
    "max_pred_df2"
   ]
  },
  {
   "cell_type": "markdown",
   "metadata": {},
   "source": [
    "Просуммируем целевое значение объёма сырья, соответствующее этим предсказаниям"
   ]
  },
  {
   "cell_type": "code",
   "execution_count": 59,
   "metadata": {},
   "outputs": [
    {
     "name": "stdout",
     "output_type": "stream",
     "text": [
      "Целевое значение объёма сырья DataFrame_0: 29601 тыс.баррелей\n",
      "Целевое значение объёма сырья DataFrame_1: 27589 тыс.баррелей\n",
      "Целевое значение объёма сырья DataFrame_2: 28245 тыс.баррелей\n"
     ]
    }
   ],
   "source": [
    "sum_oil_df0 = math.floor(max_pred_df0['product'].sum())\n",
    "print(f'Целевое значение объёма сырья DataFrame_0: { sum_oil_df0 } тыс.баррелей')\n",
    "sum_oil_df1 = math.floor(max_pred_df1['product'].sum())\n",
    "print(f'Целевое значение объёма сырья DataFrame_1: { sum_oil_df1 } тыс.баррелей')\n",
    "sum_oil_df2 = math.floor(max_pred_df2['product'].sum())\n",
    "print(f'Целевое значение объёма сырья DataFrame_2: { sum_oil_df2 } тыс.баррелей')"
   ]
  },
  {
   "cell_type": "markdown",
   "metadata": {},
   "source": [
    "Рассчитаем прибыль для полученного объёма сырья в млрд. руб."
   ]
  },
  {
   "cell_type": "code",
   "execution_count": 60,
   "metadata": {},
   "outputs": [
    {
     "name": "stdout",
     "output_type": "stream",
     "text": [
      "Прибыль для полученного объёма сырья DataFrame_0: 3.3205 млрд.руб.\n",
      "Прибыль для полученного объёма сырья DataFrame_1: 2.4150 млрд.руб.\n",
      "Прибыль для полученного объёма сырья DataFrame_2: 2.7102 млрд.руб.\n"
     ]
    }
   ],
   "source": [
    "profit_df0 = round(((sum_oil_df0 * price_one_thousand_barrels) - budget)/1_000_000_000,4)\n",
    "print('Прибыль для полученного объёма сырья DataFrame_0: {:.4f} млрд.руб.'.format(profit_df0))\n",
    "profit_df1 = round(((sum_oil_df1 * price_one_thousand_barrels) - budget)/1_000_000_000,4)\n",
    "print('Прибыль для полученного объёма сырья DataFrame_1: {:.4f} млрд.руб.'.format(profit_df1))\n",
    "profit_df2 = round(((sum_oil_df2 * price_one_thousand_barrels) - budget)/1_000_000_000,4)\n",
    "print('Прибыль для полученного объёма сырья DataFrame_2: {:.4f} млрд.руб.'.format(profit_df2))"
   ]
  },
  {
   "cell_type": "markdown",
   "metadata": {},
   "source": [
    "Выводы\n",
    "Отобрали по 200 скважин в каждом регионе с наибольшей мощностью которую предсказала модель. Просуммировали реальные данные по этим скажинам. Посчитали прибыль путём вычитания из всех денег которые принесут все скважины, бюджета на разработку в данном регионе. По предварительным данным в каждой регионе прибыль от разработки от 2,4 до 3,32 миллиарда рублей."
   ]
  },
  {
   "cell_type": "markdown",
   "metadata": {},
   "source": [
    "Применим технику Bootstrap с 1000 выборок, чтобы найти распределение прибыли"
   ]
  },
  {
   "cell_type": "code",
   "execution_count": 61,
   "metadata": {},
   "outputs": [],
   "source": [
    "def get_values(df):\n",
    "    global budget\n",
    "    state = np.random.RandomState(12345)\n",
    "    values = []\n",
    "    for i in range(1000): \n",
    "        data = df.sample(n=500, random_state=state, replace=True)\n",
    "        max_pred = data.sort_values(by='predicted', ascending=False)[:200]\n",
    "        income = (max_pred['profit'].sum() - budget)/1_000_000_000\n",
    "        values.append(income)\n",
    "    values = pd.Series(values)\n",
    "    lower = values.quantile(0.025)\n",
    "    hight = values.quantile(0.975)\n",
    "    loss = values[values<0]\n",
    "    mean = values.mean()\n",
    "    print(\"Средняя прибыль: {:.6f} млрд.руб.\".format(mean))\n",
    "    print(\"2,5%-квантиль: {:.6f} млрд.руб.\".format(lower))\n",
    "    print(\"97,5%-квантиль: {:.6f} млрд.руб.\".format(hight))\n",
    "    print(\"Количество убыточных экспериментов:\", loss.count())\n",
    "    print(\"Вероятность убытков: {:.2%}\".format(loss.count()/len(values)))\n",
    "    print(\"Максимальный убыток:\", loss.min())\n",
    "    print(\"Максимальная прибыль:\", values.max())\n",
    "    print(\"Количество экспериментов:\", len(values))"
   ]
  },
  {
   "cell_type": "code",
   "execution_count": 62,
   "metadata": {},
   "outputs": [
    {
     "name": "stdout",
     "output_type": "stream",
     "text": [
      "Регион DataFrame_0:\n",
      "Средняя прибыль: 0.396165 млрд.руб.\n",
      "2,5%-квантиль: -0.111216 млрд.руб.\n",
      "97,5%-квантиль: 0.909767 млрд.руб.\n",
      "Количество убыточных экспериментов: 69\n",
      "Вероятность убытков: 6.90%\n",
      "Максимальный убыток: -0.3695671193500767\n",
      "Максимальная прибыль: 1.3492668656302222\n",
      "Количество экспериментов: 1000\n"
     ]
    }
   ],
   "source": [
    "print('Регион DataFrame_0:')\n",
    "get_values(region_df0)"
   ]
  },
  {
   "cell_type": "code",
   "execution_count": 63,
   "metadata": {},
   "outputs": [
    {
     "name": "stdout",
     "output_type": "stream",
     "text": [
      "Регион DataFrame_1:\n",
      "Средняя прибыль: 0.456045 млрд.руб.\n",
      "2,5%-квантиль: 0.033821 млрд.руб.\n",
      "97,5%-квантиль: 0.852289 млрд.руб.\n",
      "Количество убыточных экспериментов: 15\n",
      "Вероятность убытков: 1.50%\n",
      "Максимальный убыток: -0.1922681091210556\n",
      "Максимальная прибыль: 1.1540472794043521\n",
      "Количество экспериментов: 1000\n"
     ]
    }
   ],
   "source": [
    "print('Регион DataFrame_1:')\n",
    "get_values(region_df1)"
   ]
  },
  {
   "cell_type": "code",
   "execution_count": 64,
   "metadata": {},
   "outputs": [
    {
     "name": "stdout",
     "output_type": "stream",
     "text": [
      "Регион DataFrame_2:\n",
      "Средняя прибыль: 0.404404 млрд.руб.\n",
      "2,5%-квантиль: -0.163350 млрд.руб.\n",
      "97,5%-квантиль: 0.950360 млрд.руб.\n",
      "Количество убыточных экспериментов: 76\n",
      "Вероятность убытков: 7.60%\n",
      "Максимальный убыток: -0.4178569542016144\n",
      "Максимальная прибыль: 1.3305932187701168\n",
      "Количество экспериментов: 1000\n"
     ]
    }
   ],
   "source": [
    "print('Регион DataFrame_2:')\n",
    "get_values(region_df2)"
   ]
  },
  {
   "cell_type": "markdown",
   "metadata": {},
   "source": [
    "Вывод"
   ]
  },
  {
   "cell_type": "markdown",
   "metadata": {},
   "source": [
    "Судя по данным если брать 500 скважин произвольным образом, и из них 200 то в любом регионе прибыль будет, но не такая высокая как если брать по предсказанным моделью:\n",
    "\n",
    "Прибыль DataFrame_0: 3.3205 млрд.руб.\n",
    "Прибыль DataFrame_1: 2.4150 млрд.руб.\n",
    "Прибыль DataFrame_2: 2.7102 млрд.руб.\n",
    "\n",
    "По предсказанию модели лидер по прибыли DataFrame_0: 3.3205 млрд.руб.\n",
    "\n",
    "У региона с DataFrame_1 вероятность убытков всего 1.5% и в пределах доверительного интервала 95% добыча все равно остаётся без убыточной, тем более средняя прибыль выше чем в других регионах:\n",
    "\n",
    "Средняя прибыль DataFrame_0: 0.396165 млрд.руб.\n",
    "Средняя прибыль DataFrame_1: 0.456045 млрд.руб. Средняя прибыль DataFrame_2: 0.404404 млрд.руб."
   ]
  },
  {
   "cell_type": "markdown",
   "metadata": {},
   "source": [
    "Общие выводы работы\n",
    "На первом шаге, провели разведочный анализ, посмотрели на данные, построили графики. Проверка на корреляцию показала в DataFrame_1 очень сильную связь между целевым признаком и признаком-столбцом \"f2\".\n",
    "\n",
    "Далее была разработана и обучены три модели Линейной регрессии, параметры подобраны с помощью GridSearchCV для каждого датасета.\n"
   ]
  }
 ],
 "metadata": {
  "ExecuteTimeLog": [
   {
    "duration": 1501,
    "start_time": "2022-10-31T10:28:09.249Z"
   },
   {
    "duration": 2512,
    "start_time": "2022-10-31T10:28:10.752Z"
   },
   {
    "duration": 5,
    "start_time": "2022-10-31T10:28:13.266Z"
   },
   {
    "duration": 18,
    "start_time": "2022-10-31T10:28:13.274Z"
   },
   {
    "duration": 15,
    "start_time": "2022-10-31T10:28:13.294Z"
   },
   {
    "duration": 15,
    "start_time": "2022-10-31T10:28:13.311Z"
   },
   {
    "duration": 1356,
    "start_time": "2022-10-31T10:42:34.198Z"
   },
   {
    "duration": 353,
    "start_time": "2022-10-31T10:42:35.556Z"
   },
   {
    "duration": 5,
    "start_time": "2022-10-31T10:42:35.910Z"
   },
   {
    "duration": 16,
    "start_time": "2022-10-31T10:42:35.917Z"
   },
   {
    "duration": 13,
    "start_time": "2022-10-31T10:42:35.934Z"
   },
   {
    "duration": 13,
    "start_time": "2022-10-31T10:42:35.949Z"
   },
   {
    "duration": 43,
    "start_time": "2022-10-31T10:42:35.991Z"
   },
   {
    "duration": 36,
    "start_time": "2022-10-31T10:42:36.036Z"
   },
   {
    "duration": 51,
    "start_time": "2022-10-31T10:42:36.073Z"
   },
   {
    "duration": 9,
    "start_time": "2022-10-31T10:42:36.127Z"
   },
   {
    "duration": 11,
    "start_time": "2022-10-31T10:42:36.138Z"
   },
   {
    "duration": 13,
    "start_time": "2022-10-31T10:42:36.151Z"
   },
   {
    "duration": 48,
    "start_time": "2022-10-31T10:42:36.191Z"
   },
   {
    "duration": 63,
    "start_time": "2022-10-31T10:42:36.241Z"
   },
   {
    "duration": 53,
    "start_time": "2022-10-31T10:42:36.306Z"
   },
   {
    "duration": 60,
    "start_time": "2022-10-31T10:42:36.362Z"
   },
   {
    "duration": 40,
    "start_time": "2022-10-31T10:42:36.423Z"
   },
   {
    "duration": 27,
    "start_time": "2022-10-31T10:42:36.465Z"
   },
   {
    "duration": 54,
    "start_time": "2022-10-31T10:42:36.495Z"
   },
   {
    "duration": 5,
    "start_time": "2022-10-31T10:42:36.551Z"
   },
   {
    "duration": 1443,
    "start_time": "2022-10-31T10:47:42.555Z"
   },
   {
    "duration": 380,
    "start_time": "2022-10-31T10:47:44.000Z"
   },
   {
    "duration": 11,
    "start_time": "2022-10-31T10:47:44.382Z"
   },
   {
    "duration": 18,
    "start_time": "2022-10-31T10:47:44.395Z"
   },
   {
    "duration": 18,
    "start_time": "2022-10-31T10:47:44.416Z"
   },
   {
    "duration": 17,
    "start_time": "2022-10-31T10:47:44.436Z"
   },
   {
    "duration": 76,
    "start_time": "2022-10-31T10:47:44.455Z"
   },
   {
    "duration": 36,
    "start_time": "2022-10-31T10:47:44.533Z"
   },
   {
    "duration": 51,
    "start_time": "2022-10-31T10:47:44.571Z"
   },
   {
    "duration": 9,
    "start_time": "2022-10-31T10:47:44.625Z"
   },
   {
    "duration": 11,
    "start_time": "2022-10-31T10:47:44.636Z"
   },
   {
    "duration": 15,
    "start_time": "2022-10-31T10:47:44.648Z"
   },
   {
    "duration": 68,
    "start_time": "2022-10-31T10:47:44.665Z"
   },
   {
    "duration": 58,
    "start_time": "2022-10-31T10:47:44.734Z"
   },
   {
    "duration": 51,
    "start_time": "2022-10-31T10:47:44.794Z"
   },
   {
    "duration": 57,
    "start_time": "2022-10-31T10:47:44.847Z"
   },
   {
    "duration": 41,
    "start_time": "2022-10-31T10:47:44.906Z"
   },
   {
    "duration": 7,
    "start_time": "2022-10-31T10:47:44.948Z"
   },
   {
    "duration": 68,
    "start_time": "2022-10-31T10:47:44.956Z"
   },
   {
    "duration": 4,
    "start_time": "2022-10-31T10:47:45.026Z"
   },
   {
    "duration": 17,
    "start_time": "2022-10-31T10:47:45.032Z"
   },
   {
    "duration": 38,
    "start_time": "2022-10-31T10:47:45.051Z"
   },
   {
    "duration": 746,
    "start_time": "2022-10-31T10:47:45.091Z"
   },
   {
    "duration": 795,
    "start_time": "2022-10-31T10:47:45.838Z"
   },
   {
    "duration": 984,
    "start_time": "2022-10-31T10:47:46.634Z"
   },
   {
    "duration": 793,
    "start_time": "2022-10-31T10:47:47.620Z"
   },
   {
    "duration": 16,
    "start_time": "2022-10-31T10:47:48.415Z"
   },
   {
    "duration": 2,
    "start_time": "2022-10-31T10:47:48.434Z"
   },
   {
    "duration": 1383,
    "start_time": "2022-10-31T11:00:30.903Z"
   },
   {
    "duration": 384,
    "start_time": "2022-10-31T11:00:32.288Z"
   },
   {
    "duration": 4,
    "start_time": "2022-10-31T11:00:32.674Z"
   },
   {
    "duration": 32,
    "start_time": "2022-10-31T11:00:32.690Z"
   },
   {
    "duration": 16,
    "start_time": "2022-10-31T11:00:32.724Z"
   },
   {
    "duration": 15,
    "start_time": "2022-10-31T11:00:32.742Z"
   },
   {
    "duration": 54,
    "start_time": "2022-10-31T11:00:32.759Z"
   },
   {
    "duration": 38,
    "start_time": "2022-10-31T11:00:32.815Z"
   },
   {
    "duration": 53,
    "start_time": "2022-10-31T11:00:32.855Z"
   },
   {
    "duration": 11,
    "start_time": "2022-10-31T11:00:32.911Z"
   },
   {
    "duration": 28,
    "start_time": "2022-10-31T11:00:32.924Z"
   },
   {
    "duration": 15,
    "start_time": "2022-10-31T11:00:32.953Z"
   },
   {
    "duration": 59,
    "start_time": "2022-10-31T11:00:32.969Z"
   },
   {
    "duration": 42,
    "start_time": "2022-10-31T11:00:33.030Z"
   },
   {
    "duration": 58,
    "start_time": "2022-10-31T11:00:33.074Z"
   },
   {
    "duration": 58,
    "start_time": "2022-10-31T11:00:33.134Z"
   },
   {
    "duration": 39,
    "start_time": "2022-10-31T11:00:33.194Z"
   },
   {
    "duration": 7,
    "start_time": "2022-10-31T11:00:33.235Z"
   },
   {
    "duration": 65,
    "start_time": "2022-10-31T11:00:33.244Z"
   },
   {
    "duration": 4,
    "start_time": "2022-10-31T11:00:33.311Z"
   },
   {
    "duration": 6,
    "start_time": "2022-10-31T11:00:33.316Z"
   },
   {
    "duration": 39,
    "start_time": "2022-10-31T11:00:33.324Z"
   },
   {
    "duration": 828,
    "start_time": "2022-10-31T11:00:33.365Z"
   },
   {
    "duration": 836,
    "start_time": "2022-10-31T11:00:34.195Z"
   },
   {
    "duration": 942,
    "start_time": "2022-10-31T11:00:35.033Z"
   },
   {
    "duration": 923,
    "start_time": "2022-10-31T11:00:35.977Z"
   },
   {
    "duration": 16,
    "start_time": "2022-10-31T11:00:36.902Z"
   },
   {
    "duration": 3,
    "start_time": "2022-10-31T11:00:36.922Z"
   },
   {
    "duration": 91,
    "start_time": "2022-10-31T11:00:36.926Z"
   },
   {
    "duration": 0,
    "start_time": "2022-10-31T11:00:37.019Z"
   },
   {
    "duration": 0,
    "start_time": "2022-10-31T11:00:37.021Z"
   },
   {
    "duration": 0,
    "start_time": "2022-10-31T11:00:37.023Z"
   },
   {
    "duration": 0,
    "start_time": "2022-10-31T11:00:37.024Z"
   },
   {
    "duration": 0,
    "start_time": "2022-10-31T11:00:37.025Z"
   },
   {
    "duration": 0,
    "start_time": "2022-10-31T11:00:37.026Z"
   },
   {
    "duration": 0,
    "start_time": "2022-10-31T11:00:37.028Z"
   },
   {
    "duration": 0,
    "start_time": "2022-10-31T11:00:37.029Z"
   },
   {
    "duration": 0,
    "start_time": "2022-10-31T11:00:37.030Z"
   },
   {
    "duration": 0,
    "start_time": "2022-10-31T11:00:37.031Z"
   },
   {
    "duration": 0,
    "start_time": "2022-10-31T11:00:37.033Z"
   },
   {
    "duration": 0,
    "start_time": "2022-10-31T11:00:37.034Z"
   },
   {
    "duration": 0,
    "start_time": "2022-10-31T11:00:37.035Z"
   },
   {
    "duration": 0,
    "start_time": "2022-10-31T11:00:37.037Z"
   },
   {
    "duration": 0,
    "start_time": "2022-10-31T11:00:37.039Z"
   },
   {
    "duration": 0,
    "start_time": "2022-10-31T11:00:37.040Z"
   },
   {
    "duration": 0,
    "start_time": "2022-10-31T11:00:37.041Z"
   },
   {
    "duration": 0,
    "start_time": "2022-10-31T11:00:37.043Z"
   },
   {
    "duration": 0,
    "start_time": "2022-10-31T11:00:37.045Z"
   },
   {
    "duration": 0,
    "start_time": "2022-10-31T11:00:37.046Z"
   },
   {
    "duration": 1360,
    "start_time": "2022-10-31T11:00:52.526Z"
   },
   {
    "duration": 370,
    "start_time": "2022-10-31T11:00:53.888Z"
   },
   {
    "duration": 4,
    "start_time": "2022-10-31T11:00:54.260Z"
   },
   {
    "duration": 25,
    "start_time": "2022-10-31T11:00:54.266Z"
   },
   {
    "duration": 14,
    "start_time": "2022-10-31T11:00:54.293Z"
   },
   {
    "duration": 13,
    "start_time": "2022-10-31T11:00:54.309Z"
   },
   {
    "duration": 68,
    "start_time": "2022-10-31T11:00:54.324Z"
   },
   {
    "duration": 41,
    "start_time": "2022-10-31T11:00:54.395Z"
   },
   {
    "duration": 57,
    "start_time": "2022-10-31T11:00:54.438Z"
   },
   {
    "duration": 11,
    "start_time": "2022-10-31T11:00:54.499Z"
   },
   {
    "duration": 17,
    "start_time": "2022-10-31T11:00:54.512Z"
   },
   {
    "duration": 15,
    "start_time": "2022-10-31T11:00:54.530Z"
   },
   {
    "duration": 64,
    "start_time": "2022-10-31T11:00:54.546Z"
   },
   {
    "duration": 45,
    "start_time": "2022-10-31T11:00:54.612Z"
   },
   {
    "duration": 67,
    "start_time": "2022-10-31T11:00:54.659Z"
   },
   {
    "duration": 43,
    "start_time": "2022-10-31T11:00:54.728Z"
   },
   {
    "duration": 55,
    "start_time": "2022-10-31T11:00:54.773Z"
   },
   {
    "duration": 6,
    "start_time": "2022-10-31T11:00:54.830Z"
   },
   {
    "duration": 55,
    "start_time": "2022-10-31T11:00:54.838Z"
   },
   {
    "duration": 3,
    "start_time": "2022-10-31T11:00:54.895Z"
   },
   {
    "duration": 5,
    "start_time": "2022-10-31T11:00:54.900Z"
   },
   {
    "duration": 37,
    "start_time": "2022-10-31T11:00:54.907Z"
   },
   {
    "duration": 720,
    "start_time": "2022-10-31T11:00:54.945Z"
   },
   {
    "duration": 732,
    "start_time": "2022-10-31T11:00:55.667Z"
   },
   {
    "duration": 965,
    "start_time": "2022-10-31T11:00:56.401Z"
   },
   {
    "duration": 754,
    "start_time": "2022-10-31T11:00:57.367Z"
   },
   {
    "duration": 16,
    "start_time": "2022-10-31T11:00:58.122Z"
   },
   {
    "duration": 5,
    "start_time": "2022-10-31T11:00:58.142Z"
   },
   {
    "duration": 4,
    "start_time": "2022-10-31T11:00:58.149Z"
   },
   {
    "duration": 54,
    "start_time": "2022-10-31T11:00:58.155Z"
   },
   {
    "duration": 875,
    "start_time": "2022-10-31T11:00:58.211Z"
   },
   {
    "duration": 869,
    "start_time": "2022-10-31T11:00:59.091Z"
   },
   {
    "duration": 715,
    "start_time": "2022-10-31T11:00:59.962Z"
   },
   {
    "duration": 710,
    "start_time": "2022-10-31T11:01:00.679Z"
   },
   {
    "duration": 16,
    "start_time": "2022-10-31T11:01:01.390Z"
   },
   {
    "duration": 2,
    "start_time": "2022-10-31T11:01:01.408Z"
   },
   {
    "duration": 21,
    "start_time": "2022-10-31T11:01:01.411Z"
   },
   {
    "duration": 44,
    "start_time": "2022-10-31T11:01:01.434Z"
   },
   {
    "duration": 911,
    "start_time": "2022-10-31T11:01:01.480Z"
   },
   {
    "duration": 911,
    "start_time": "2022-10-31T11:01:02.393Z"
   },
   {
    "duration": 868,
    "start_time": "2022-10-31T11:01:03.306Z"
   },
   {
    "duration": 850,
    "start_time": "2022-10-31T11:01:04.176Z"
   },
   {
    "duration": 17,
    "start_time": "2022-10-31T11:01:05.028Z"
   },
   {
    "duration": 2,
    "start_time": "2022-10-31T11:01:05.047Z"
   },
   {
    "duration": 78,
    "start_time": "2022-10-31T11:01:05.051Z"
   },
   {
    "duration": 0,
    "start_time": "2022-10-31T11:01:05.130Z"
   },
   {
    "duration": 1,
    "start_time": "2022-10-31T11:01:05.131Z"
   },
   {
    "duration": 0,
    "start_time": "2022-10-31T11:01:05.133Z"
   },
   {
    "duration": 1362,
    "start_time": "2022-10-31T11:01:16.517Z"
   },
   {
    "duration": 374,
    "start_time": "2022-10-31T11:01:17.880Z"
   },
   {
    "duration": 5,
    "start_time": "2022-10-31T11:01:18.255Z"
   },
   {
    "duration": 19,
    "start_time": "2022-10-31T11:01:18.261Z"
   },
   {
    "duration": 22,
    "start_time": "2022-10-31T11:01:18.282Z"
   },
   {
    "duration": 13,
    "start_time": "2022-10-31T11:01:18.306Z"
   },
   {
    "duration": 40,
    "start_time": "2022-10-31T11:01:18.321Z"
   },
   {
    "duration": 62,
    "start_time": "2022-10-31T11:01:18.362Z"
   },
   {
    "duration": 40,
    "start_time": "2022-10-31T11:01:18.426Z"
   },
   {
    "duration": 25,
    "start_time": "2022-10-31T11:01:18.469Z"
   },
   {
    "duration": 11,
    "start_time": "2022-10-31T11:01:18.496Z"
   },
   {
    "duration": 12,
    "start_time": "2022-10-31T11:01:18.508Z"
   },
   {
    "duration": 44,
    "start_time": "2022-10-31T11:01:18.521Z"
   },
   {
    "duration": 62,
    "start_time": "2022-10-31T11:01:18.567Z"
   },
   {
    "duration": 61,
    "start_time": "2022-10-31T11:01:18.631Z"
   },
   {
    "duration": 40,
    "start_time": "2022-10-31T11:01:18.693Z"
   },
   {
    "duration": 40,
    "start_time": "2022-10-31T11:01:18.735Z"
   },
   {
    "duration": 7,
    "start_time": "2022-10-31T11:01:18.791Z"
   },
   {
    "duration": 38,
    "start_time": "2022-10-31T11:01:18.800Z"
   },
   {
    "duration": 4,
    "start_time": "2022-10-31T11:01:18.840Z"
   },
   {
    "duration": 6,
    "start_time": "2022-10-31T11:01:18.846Z"
   },
   {
    "duration": 57,
    "start_time": "2022-10-31T11:01:18.854Z"
   },
   {
    "duration": 739,
    "start_time": "2022-10-31T11:01:18.913Z"
   },
   {
    "duration": 740,
    "start_time": "2022-10-31T11:01:19.654Z"
   },
   {
    "duration": 957,
    "start_time": "2022-10-31T11:01:20.396Z"
   },
   {
    "duration": 772,
    "start_time": "2022-10-31T11:01:21.354Z"
   },
   {
    "duration": 15,
    "start_time": "2022-10-31T11:01:22.128Z"
   },
   {
    "duration": 2,
    "start_time": "2022-10-31T11:01:22.147Z"
   },
   {
    "duration": 5,
    "start_time": "2022-10-31T11:01:22.150Z"
   },
   {
    "duration": 55,
    "start_time": "2022-10-31T11:01:22.157Z"
   },
   {
    "duration": 851,
    "start_time": "2022-10-31T11:01:22.214Z"
   },
   {
    "duration": 815,
    "start_time": "2022-10-31T11:01:23.067Z"
   },
   {
    "duration": 815,
    "start_time": "2022-10-31T11:01:23.890Z"
   },
   {
    "duration": 777,
    "start_time": "2022-10-31T11:01:24.707Z"
   },
   {
    "duration": 18,
    "start_time": "2022-10-31T11:01:25.486Z"
   },
   {
    "duration": 2,
    "start_time": "2022-10-31T11:01:25.506Z"
   },
   {
    "duration": 5,
    "start_time": "2022-10-31T11:01:25.510Z"
   },
   {
    "duration": 39,
    "start_time": "2022-10-31T11:01:25.516Z"
   },
   {
    "duration": 1072,
    "start_time": "2022-10-31T11:01:25.556Z"
   },
   {
    "duration": 831,
    "start_time": "2022-10-31T11:01:26.630Z"
   },
   {
    "duration": 808,
    "start_time": "2022-10-31T11:01:27.463Z"
   },
   {
    "duration": 841,
    "start_time": "2022-10-31T11:01:28.273Z"
   },
   {
    "duration": 16,
    "start_time": "2022-10-31T11:01:29.116Z"
   },
   {
    "duration": 2,
    "start_time": "2022-10-31T11:01:29.134Z"
   },
   {
    "duration": 8,
    "start_time": "2022-10-31T11:01:29.137Z"
   },
   {
    "duration": 12052,
    "start_time": "2022-10-31T11:01:29.146Z"
   },
   {
    "duration": 97,
    "start_time": "2022-10-31T11:01:41.200Z"
   },
   {
    "duration": 1374,
    "start_time": "2022-10-31T11:08:59.812Z"
   },
   {
    "duration": 383,
    "start_time": "2022-10-31T11:09:01.188Z"
   },
   {
    "duration": 4,
    "start_time": "2022-10-31T11:09:01.573Z"
   },
   {
    "duration": 24,
    "start_time": "2022-10-31T11:09:01.579Z"
   },
   {
    "duration": 14,
    "start_time": "2022-10-31T11:09:01.605Z"
   },
   {
    "duration": 14,
    "start_time": "2022-10-31T11:09:01.620Z"
   },
   {
    "duration": 65,
    "start_time": "2022-10-31T11:09:01.636Z"
   },
   {
    "duration": 40,
    "start_time": "2022-10-31T11:09:01.702Z"
   },
   {
    "duration": 57,
    "start_time": "2022-10-31T11:09:01.743Z"
   },
   {
    "duration": 8,
    "start_time": "2022-10-31T11:09:01.803Z"
   },
   {
    "duration": 18,
    "start_time": "2022-10-31T11:09:01.813Z"
   },
   {
    "duration": 15,
    "start_time": "2022-10-31T11:09:01.833Z"
   },
   {
    "duration": 77,
    "start_time": "2022-10-31T11:09:01.849Z"
   },
   {
    "duration": 42,
    "start_time": "2022-10-31T11:09:01.928Z"
   },
   {
    "duration": 63,
    "start_time": "2022-10-31T11:09:01.972Z"
   },
   {
    "duration": 57,
    "start_time": "2022-10-31T11:09:02.037Z"
   },
   {
    "duration": 38,
    "start_time": "2022-10-31T11:09:02.096Z"
   },
   {
    "duration": 6,
    "start_time": "2022-10-31T11:09:02.135Z"
   },
   {
    "duration": 61,
    "start_time": "2022-10-31T11:09:02.143Z"
   },
   {
    "duration": 5,
    "start_time": "2022-10-31T11:09:02.206Z"
   },
   {
    "duration": 16,
    "start_time": "2022-10-31T11:09:02.213Z"
   },
   {
    "duration": 44,
    "start_time": "2022-10-31T11:09:02.231Z"
   },
   {
    "duration": 816,
    "start_time": "2022-10-31T11:09:02.277Z"
   },
   {
    "duration": 821,
    "start_time": "2022-10-31T11:09:03.095Z"
   },
   {
    "duration": 971,
    "start_time": "2022-10-31T11:09:03.918Z"
   },
   {
    "duration": 830,
    "start_time": "2022-10-31T11:09:04.891Z"
   },
   {
    "duration": 17,
    "start_time": "2022-10-31T11:09:05.723Z"
   },
   {
    "duration": 2,
    "start_time": "2022-10-31T11:09:05.744Z"
   },
   {
    "duration": 12,
    "start_time": "2022-10-31T11:09:05.748Z"
   },
   {
    "duration": 57,
    "start_time": "2022-10-31T11:09:05.762Z"
   },
   {
    "duration": 899,
    "start_time": "2022-10-31T11:09:05.821Z"
   },
   {
    "duration": 955,
    "start_time": "2022-10-31T11:09:06.722Z"
   },
   {
    "duration": 787,
    "start_time": "2022-10-31T11:09:07.679Z"
   },
   {
    "duration": 720,
    "start_time": "2022-10-31T11:09:08.467Z"
   },
   {
    "duration": 16,
    "start_time": "2022-10-31T11:09:09.191Z"
   },
   {
    "duration": 2,
    "start_time": "2022-10-31T11:09:09.208Z"
   },
   {
    "duration": 11,
    "start_time": "2022-10-31T11:09:09.212Z"
   },
   {
    "duration": 44,
    "start_time": "2022-10-31T11:09:09.225Z"
   },
   {
    "duration": 1031,
    "start_time": "2022-10-31T11:09:09.270Z"
   },
   {
    "duration": 873,
    "start_time": "2022-10-31T11:09:10.303Z"
   },
   {
    "duration": 911,
    "start_time": "2022-10-31T11:09:11.177Z"
   },
   {
    "duration": 840,
    "start_time": "2022-10-31T11:09:12.090Z"
   },
   {
    "duration": 16,
    "start_time": "2022-10-31T11:09:12.932Z"
   },
   {
    "duration": 2,
    "start_time": "2022-10-31T11:09:12.950Z"
   },
   {
    "duration": 8,
    "start_time": "2022-10-31T11:09:12.955Z"
   },
   {
    "duration": 12527,
    "start_time": "2022-10-31T11:09:12.964Z"
   },
   {
    "duration": 6,
    "start_time": "2022-10-31T11:09:25.493Z"
   },
   {
    "duration": 97,
    "start_time": "2022-10-31T11:09:25.500Z"
   },
   {
    "duration": 4,
    "start_time": "2022-10-31T11:09:25.599Z"
   },
   {
    "duration": 4,
    "start_time": "2022-10-31T11:09:25.604Z"
   },
   {
    "duration": 4,
    "start_time": "2022-10-31T11:09:25.609Z"
   },
   {
    "duration": 4,
    "start_time": "2022-10-31T11:09:25.615Z"
   },
   {
    "duration": 13,
    "start_time": "2022-10-31T11:09:25.620Z"
   },
   {
    "duration": 4,
    "start_time": "2022-10-31T11:09:25.634Z"
   },
   {
    "duration": 54,
    "start_time": "2022-10-31T11:09:25.640Z"
   },
   {
    "duration": 15,
    "start_time": "2022-10-31T11:09:25.696Z"
   },
   {
    "duration": 14,
    "start_time": "2022-10-31T11:09:25.712Z"
   },
   {
    "duration": 15,
    "start_time": "2022-10-31T11:09:25.728Z"
   },
   {
    "duration": 6,
    "start_time": "2022-10-31T11:09:25.745Z"
   },
   {
    "duration": 1414,
    "start_time": "2022-10-31T11:12:13.235Z"
   },
   {
    "duration": 348,
    "start_time": "2022-10-31T11:12:14.651Z"
   },
   {
    "duration": 5,
    "start_time": "2022-10-31T11:12:15.001Z"
   },
   {
    "duration": 24,
    "start_time": "2022-10-31T11:12:15.009Z"
   },
   {
    "duration": 15,
    "start_time": "2022-10-31T11:12:15.036Z"
   },
   {
    "duration": 22,
    "start_time": "2022-10-31T11:12:15.052Z"
   },
   {
    "duration": 41,
    "start_time": "2022-10-31T11:12:15.091Z"
   },
   {
    "duration": 35,
    "start_time": "2022-10-31T11:12:15.133Z"
   },
   {
    "duration": 55,
    "start_time": "2022-10-31T11:12:15.170Z"
   },
   {
    "duration": 9,
    "start_time": "2022-10-31T11:12:15.228Z"
   },
   {
    "duration": 25,
    "start_time": "2022-10-31T11:12:15.239Z"
   },
   {
    "duration": 18,
    "start_time": "2022-10-31T11:12:15.266Z"
   },
   {
    "duration": 70,
    "start_time": "2022-10-31T11:12:15.286Z"
   },
   {
    "duration": 39,
    "start_time": "2022-10-31T11:12:15.357Z"
   },
   {
    "duration": 40,
    "start_time": "2022-10-31T11:12:15.398Z"
   },
   {
    "duration": 59,
    "start_time": "2022-10-31T11:12:15.440Z"
   },
   {
    "duration": 38,
    "start_time": "2022-10-31T11:12:15.501Z"
   },
   {
    "duration": 6,
    "start_time": "2022-10-31T11:12:15.541Z"
   },
   {
    "duration": 63,
    "start_time": "2022-10-31T11:12:15.549Z"
   },
   {
    "duration": 4,
    "start_time": "2022-10-31T11:12:15.614Z"
   },
   {
    "duration": 5,
    "start_time": "2022-10-31T11:12:15.620Z"
   },
   {
    "duration": 57,
    "start_time": "2022-10-31T11:12:15.626Z"
   },
   {
    "duration": 776,
    "start_time": "2022-10-31T11:12:15.685Z"
   },
   {
    "duration": 860,
    "start_time": "2022-10-31T11:12:16.463Z"
   },
   {
    "duration": 962,
    "start_time": "2022-10-31T11:12:17.324Z"
   },
   {
    "duration": 880,
    "start_time": "2022-10-31T11:12:18.291Z"
   },
   {
    "duration": 29,
    "start_time": "2022-10-31T11:12:19.174Z"
   },
   {
    "duration": 3,
    "start_time": "2022-10-31T11:12:19.209Z"
   },
   {
    "duration": 4,
    "start_time": "2022-10-31T11:12:19.214Z"
   },
   {
    "duration": 43,
    "start_time": "2022-10-31T11:12:19.220Z"
   },
   {
    "duration": 905,
    "start_time": "2022-10-31T11:12:19.265Z"
   },
   {
    "duration": 817,
    "start_time": "2022-10-31T11:12:20.171Z"
   },
   {
    "duration": 772,
    "start_time": "2022-10-31T11:12:20.990Z"
   },
   {
    "duration": 719,
    "start_time": "2022-10-31T11:12:21.763Z"
   },
   {
    "duration": 18,
    "start_time": "2022-10-31T11:12:22.490Z"
   },
   {
    "duration": 3,
    "start_time": "2022-10-31T11:12:22.510Z"
   },
   {
    "duration": 17,
    "start_time": "2022-10-31T11:12:22.514Z"
   },
   {
    "duration": 40,
    "start_time": "2022-10-31T11:12:22.534Z"
   },
   {
    "duration": 1055,
    "start_time": "2022-10-31T11:12:22.576Z"
   },
   {
    "duration": 976,
    "start_time": "2022-10-31T11:12:23.632Z"
   },
   {
    "duration": 836,
    "start_time": "2022-10-31T11:12:24.611Z"
   },
   {
    "duration": 772,
    "start_time": "2022-10-31T11:12:25.449Z"
   },
   {
    "duration": 17,
    "start_time": "2022-10-31T11:12:26.223Z"
   },
   {
    "duration": 3,
    "start_time": "2022-10-31T11:12:26.241Z"
   },
   {
    "duration": 7,
    "start_time": "2022-10-31T11:12:26.246Z"
   },
   {
    "duration": 10837,
    "start_time": "2022-10-31T11:12:26.254Z"
   },
   {
    "duration": 5,
    "start_time": "2022-10-31T11:12:37.093Z"
   },
   {
    "duration": 99,
    "start_time": "2022-10-31T11:12:37.100Z"
   },
   {
    "duration": 4,
    "start_time": "2022-10-31T11:12:37.201Z"
   },
   {
    "duration": 6,
    "start_time": "2022-10-31T11:12:37.207Z"
   },
   {
    "duration": 6,
    "start_time": "2022-10-31T11:12:37.214Z"
   },
   {
    "duration": 5,
    "start_time": "2022-10-31T11:12:37.222Z"
   },
   {
    "duration": 17,
    "start_time": "2022-10-31T11:12:37.228Z"
   },
   {
    "duration": 4,
    "start_time": "2022-10-31T11:12:37.247Z"
   },
   {
    "duration": 46,
    "start_time": "2022-10-31T11:12:37.253Z"
   },
   {
    "duration": 15,
    "start_time": "2022-10-31T11:12:37.301Z"
   },
   {
    "duration": 15,
    "start_time": "2022-10-31T11:12:37.317Z"
   },
   {
    "duration": 14,
    "start_time": "2022-10-31T11:12:37.334Z"
   },
   {
    "duration": 5,
    "start_time": "2022-10-31T11:12:37.350Z"
   },
   {
    "duration": 35,
    "start_time": "2022-10-31T11:12:37.357Z"
   },
   {
    "duration": 5,
    "start_time": "2022-10-31T11:12:37.394Z"
   },
   {
    "duration": 863,
    "start_time": "2022-10-31T11:12:37.401Z"
   },
   {
    "duration": 69,
    "start_time": "2022-10-31T11:16:07.093Z"
   },
   {
    "duration": 1434,
    "start_time": "2022-10-31T11:16:29.796Z"
   },
   {
    "duration": 364,
    "start_time": "2022-10-31T11:16:31.232Z"
   },
   {
    "duration": 5,
    "start_time": "2022-10-31T11:16:31.598Z"
   },
   {
    "duration": 21,
    "start_time": "2022-10-31T11:16:31.605Z"
   },
   {
    "duration": 15,
    "start_time": "2022-10-31T11:16:31.629Z"
   },
   {
    "duration": 19,
    "start_time": "2022-10-31T11:16:31.646Z"
   },
   {
    "duration": 56,
    "start_time": "2022-10-31T11:16:31.691Z"
   },
   {
    "duration": 46,
    "start_time": "2022-10-31T11:16:31.749Z"
   },
   {
    "duration": 39,
    "start_time": "2022-10-31T11:16:31.797Z"
   },
   {
    "duration": 10,
    "start_time": "2022-10-31T11:16:31.839Z"
   },
   {
    "duration": 17,
    "start_time": "2022-10-31T11:16:31.851Z"
   },
   {
    "duration": 13,
    "start_time": "2022-10-31T11:16:31.892Z"
   },
   {
    "duration": 48,
    "start_time": "2022-10-31T11:16:31.906Z"
   },
   {
    "duration": 66,
    "start_time": "2022-10-31T11:16:31.956Z"
   },
   {
    "duration": 48,
    "start_time": "2022-10-31T11:16:32.024Z"
   },
   {
    "duration": 58,
    "start_time": "2022-10-31T11:16:32.073Z"
   },
   {
    "duration": 40,
    "start_time": "2022-10-31T11:16:32.132Z"
   },
   {
    "duration": 23,
    "start_time": "2022-10-31T11:16:32.173Z"
   },
   {
    "duration": 49,
    "start_time": "2022-10-31T11:16:32.198Z"
   },
   {
    "duration": 6,
    "start_time": "2022-10-31T11:16:32.249Z"
   },
   {
    "duration": 11,
    "start_time": "2022-10-31T11:16:32.257Z"
   },
   {
    "duration": 63,
    "start_time": "2022-10-31T11:16:32.270Z"
   },
   {
    "duration": 830,
    "start_time": "2022-10-31T11:16:32.335Z"
   },
   {
    "duration": 774,
    "start_time": "2022-10-31T11:16:33.166Z"
   },
   {
    "duration": 1010,
    "start_time": "2022-10-31T11:16:33.942Z"
   },
   {
    "duration": 787,
    "start_time": "2022-10-31T11:16:34.955Z"
   },
   {
    "duration": 16,
    "start_time": "2022-10-31T11:16:35.745Z"
   },
   {
    "duration": 3,
    "start_time": "2022-10-31T11:16:35.766Z"
   },
   {
    "duration": 21,
    "start_time": "2022-10-31T11:16:35.770Z"
   },
   {
    "duration": 38,
    "start_time": "2022-10-31T11:16:35.793Z"
   },
   {
    "duration": 1026,
    "start_time": "2022-10-31T11:16:35.834Z"
   },
   {
    "duration": 939,
    "start_time": "2022-10-31T11:16:36.862Z"
   },
   {
    "duration": 795,
    "start_time": "2022-10-31T11:16:37.803Z"
   },
   {
    "duration": 806,
    "start_time": "2022-10-31T11:16:38.600Z"
   },
   {
    "duration": 16,
    "start_time": "2022-10-31T11:16:39.408Z"
   },
   {
    "duration": 2,
    "start_time": "2022-10-31T11:16:39.426Z"
   },
   {
    "duration": 6,
    "start_time": "2022-10-31T11:16:39.430Z"
   },
   {
    "duration": 56,
    "start_time": "2022-10-31T11:16:39.438Z"
   },
   {
    "duration": 1125,
    "start_time": "2022-10-31T11:16:39.496Z"
   },
   {
    "duration": 913,
    "start_time": "2022-10-31T11:16:40.623Z"
   },
   {
    "duration": 972,
    "start_time": "2022-10-31T11:16:41.538Z"
   },
   {
    "duration": 919,
    "start_time": "2022-10-31T11:16:42.512Z"
   },
   {
    "duration": 16,
    "start_time": "2022-10-31T11:16:43.433Z"
   },
   {
    "duration": 2,
    "start_time": "2022-10-31T11:16:43.451Z"
   },
   {
    "duration": 7,
    "start_time": "2022-10-31T11:16:43.455Z"
   },
   {
    "duration": 10737,
    "start_time": "2022-10-31T11:16:43.463Z"
   },
   {
    "duration": 94,
    "start_time": "2022-10-31T11:16:54.202Z"
   },
   {
    "duration": 6,
    "start_time": "2022-10-31T11:16:54.298Z"
   },
   {
    "duration": 88,
    "start_time": "2022-10-31T11:16:54.305Z"
   },
   {
    "duration": 5,
    "start_time": "2022-10-31T11:16:54.395Z"
   },
   {
    "duration": 4,
    "start_time": "2022-10-31T11:16:54.401Z"
   },
   {
    "duration": 5,
    "start_time": "2022-10-31T11:16:54.407Z"
   },
   {
    "duration": 17,
    "start_time": "2022-10-31T11:16:54.414Z"
   },
   {
    "duration": 5,
    "start_time": "2022-10-31T11:16:54.435Z"
   },
   {
    "duration": 64,
    "start_time": "2022-10-31T11:16:54.442Z"
   },
   {
    "duration": 16,
    "start_time": "2022-10-31T11:16:54.508Z"
   },
   {
    "duration": 15,
    "start_time": "2022-10-31T11:16:54.527Z"
   },
   {
    "duration": 16,
    "start_time": "2022-10-31T11:16:54.544Z"
   },
   {
    "duration": 33,
    "start_time": "2022-10-31T11:16:54.562Z"
   },
   {
    "duration": 5,
    "start_time": "2022-10-31T11:16:54.597Z"
   },
   {
    "duration": 5,
    "start_time": "2022-10-31T11:16:54.604Z"
   },
   {
    "duration": 867,
    "start_time": "2022-10-31T11:16:54.611Z"
   },
   {
    "duration": 869,
    "start_time": "2022-10-31T11:16:55.480Z"
   },
   {
    "duration": 1013,
    "start_time": "2022-10-31T11:16:56.351Z"
   }
  ],
  "kernelspec": {
   "display_name": "Python 3 (ipykernel)",
   "language": "python",
   "name": "python3"
  },
  "language_info": {
   "codemirror_mode": {
    "name": "ipython",
    "version": 3
   },
   "file_extension": ".py",
   "mimetype": "text/x-python",
   "name": "python",
   "nbconvert_exporter": "python",
   "pygments_lexer": "ipython3",
   "version": "3.9.5"
  },
  "toc": {
   "base_numbering": 1,
   "nav_menu": {},
   "number_sections": true,
   "sideBar": true,
   "skip_h1_title": true,
   "title_cell": "Table of Contents",
   "title_sidebar": "Contents",
   "toc_cell": false,
   "toc_position": {},
   "toc_section_display": true,
   "toc_window_display": false
  }
 },
 "nbformat": 4,
 "nbformat_minor": 2
}
