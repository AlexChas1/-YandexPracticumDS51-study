{
 "cells": [
  {
   "cell_type": "markdown",
   "metadata": {},
   "source": [
    "# Защита персональных данных клиентов"
   ]
  },
  {
   "cell_type": "markdown",
   "metadata": {},
   "source": [
    "Вам нужно защитить данные клиентов страховой компании «Хоть потоп». Разработайте такой метод преобразования данных, чтобы по ним было сложно восстановить персональную информацию. Обоснуйте корректность его работы.\n",
    "\n",
    "Нужно защитить данные, чтобы при преобразовании качество моделей машинного обучения не ухудшилось. Подбирать наилучшую модель не требуется."
   ]
  },
  {
   "cell_type": "markdown",
   "metadata": {},
   "source": [
    "## Загрузка данных"
   ]
  },
  {
   "cell_type": "markdown",
   "metadata": {},
   "source": [
    "Загрузка данных"
   ]
  },
  {
   "cell_type": "code",
   "execution_count": 1,
   "metadata": {},
   "outputs": [],
   "source": [
    "import pandas as pd\n",
    "import numpy as np\n",
    "from sklearn.metrics import mean_squared_error\n",
    "from sklearn.model_selection import train_test_split\n",
    "from sklearn.linear_model import LinearRegression\n",
    "from sklearn.metrics import accuracy_score\n",
    "import warnings\n",
    "warnings.filterwarnings('ignore')\n",
    "from sklearn.metrics import r2_score\n",
    "from tqdm.notebook import tqdm\n",
    "import matplotlib.pyplot as plt\n",
    "import seaborn as sns"
   ]
  },
  {
   "cell_type": "code",
   "execution_count": 2,
   "metadata": {},
   "outputs": [
    {
     "data": {
      "text/html": [
       "<div>\n",
       "<style scoped>\n",
       "    .dataframe tbody tr th:only-of-type {\n",
       "        vertical-align: middle;\n",
       "    }\n",
       "\n",
       "    .dataframe tbody tr th {\n",
       "        vertical-align: top;\n",
       "    }\n",
       "\n",
       "    .dataframe thead th {\n",
       "        text-align: right;\n",
       "    }\n",
       "</style>\n",
       "<table border=\"1\" class=\"dataframe\">\n",
       "  <thead>\n",
       "    <tr style=\"text-align: right;\">\n",
       "      <th></th>\n",
       "      <th>Пол</th>\n",
       "      <th>Возраст</th>\n",
       "      <th>Зарплата</th>\n",
       "      <th>Члены семьи</th>\n",
       "      <th>Страховые выплаты</th>\n",
       "    </tr>\n",
       "  </thead>\n",
       "  <tbody>\n",
       "    <tr>\n",
       "      <th>0</th>\n",
       "      <td>1</td>\n",
       "      <td>41.0</td>\n",
       "      <td>49600.0</td>\n",
       "      <td>1</td>\n",
       "      <td>0</td>\n",
       "    </tr>\n",
       "    <tr>\n",
       "      <th>1</th>\n",
       "      <td>0</td>\n",
       "      <td>46.0</td>\n",
       "      <td>38000.0</td>\n",
       "      <td>1</td>\n",
       "      <td>1</td>\n",
       "    </tr>\n",
       "    <tr>\n",
       "      <th>2</th>\n",
       "      <td>0</td>\n",
       "      <td>29.0</td>\n",
       "      <td>21000.0</td>\n",
       "      <td>0</td>\n",
       "      <td>0</td>\n",
       "    </tr>\n",
       "    <tr>\n",
       "      <th>3</th>\n",
       "      <td>0</td>\n",
       "      <td>21.0</td>\n",
       "      <td>41700.0</td>\n",
       "      <td>2</td>\n",
       "      <td>0</td>\n",
       "    </tr>\n",
       "    <tr>\n",
       "      <th>4</th>\n",
       "      <td>1</td>\n",
       "      <td>28.0</td>\n",
       "      <td>26100.0</td>\n",
       "      <td>0</td>\n",
       "      <td>0</td>\n",
       "    </tr>\n",
       "  </tbody>\n",
       "</table>\n",
       "</div>"
      ],
      "text/plain": [
       "   Пол  Возраст  Зарплата  Члены семьи  Страховые выплаты\n",
       "0    1     41.0   49600.0            1                  0\n",
       "1    0     46.0   38000.0            1                  1\n",
       "2    0     29.0   21000.0            0                  0\n",
       "3    0     21.0   41700.0            2                  0\n",
       "4    1     28.0   26100.0            0                  0"
      ]
     },
     "execution_count": 2,
     "metadata": {},
     "output_type": "execute_result"
    }
   ],
   "source": [
    "data = pd.read_csv('/datasets/insurance.csv')\n",
    "data.head()"
   ]
  },
  {
   "cell_type": "code",
   "execution_count": 3,
   "metadata": {},
   "outputs": [
    {
     "name": "stdout",
     "output_type": "stream",
     "text": [
      "<class 'pandas.core.frame.DataFrame'>\n",
      "RangeIndex: 5000 entries, 0 to 4999\n",
      "Data columns (total 5 columns):\n",
      " #   Column             Non-Null Count  Dtype  \n",
      "---  ------             --------------  -----  \n",
      " 0   Пол                5000 non-null   int64  \n",
      " 1   Возраст            5000 non-null   float64\n",
      " 2   Зарплата           5000 non-null   float64\n",
      " 3   Члены семьи        5000 non-null   int64  \n",
      " 4   Страховые выплаты  5000 non-null   int64  \n",
      "dtypes: float64(2), int64(3)\n",
      "memory usage: 195.4 KB\n"
     ]
    }
   ],
   "source": [
    "data.info()"
   ]
  },
  {
   "cell_type": "code",
   "execution_count": 4,
   "metadata": {},
   "outputs": [
    {
     "data": {
      "text/html": [
       "<div>\n",
       "<style scoped>\n",
       "    .dataframe tbody tr th:only-of-type {\n",
       "        vertical-align: middle;\n",
       "    }\n",
       "\n",
       "    .dataframe tbody tr th {\n",
       "        vertical-align: top;\n",
       "    }\n",
       "\n",
       "    .dataframe thead th {\n",
       "        text-align: right;\n",
       "    }\n",
       "</style>\n",
       "<table border=\"1\" class=\"dataframe\">\n",
       "  <thead>\n",
       "    <tr style=\"text-align: right;\">\n",
       "      <th></th>\n",
       "      <th>Пол</th>\n",
       "      <th>Возраст</th>\n",
       "      <th>Зарплата</th>\n",
       "      <th>Члены семьи</th>\n",
       "      <th>Страховые выплаты</th>\n",
       "    </tr>\n",
       "  </thead>\n",
       "  <tbody>\n",
       "    <tr>\n",
       "      <th>count</th>\n",
       "      <td>5000.000000</td>\n",
       "      <td>5000.000000</td>\n",
       "      <td>5000.000000</td>\n",
       "      <td>5000.000000</td>\n",
       "      <td>5000.000000</td>\n",
       "    </tr>\n",
       "    <tr>\n",
       "      <th>mean</th>\n",
       "      <td>0.499000</td>\n",
       "      <td>30.952800</td>\n",
       "      <td>39916.360000</td>\n",
       "      <td>1.194200</td>\n",
       "      <td>0.148000</td>\n",
       "    </tr>\n",
       "    <tr>\n",
       "      <th>std</th>\n",
       "      <td>0.500049</td>\n",
       "      <td>8.440807</td>\n",
       "      <td>9900.083569</td>\n",
       "      <td>1.091387</td>\n",
       "      <td>0.463183</td>\n",
       "    </tr>\n",
       "    <tr>\n",
       "      <th>min</th>\n",
       "      <td>0.000000</td>\n",
       "      <td>18.000000</td>\n",
       "      <td>5300.000000</td>\n",
       "      <td>0.000000</td>\n",
       "      <td>0.000000</td>\n",
       "    </tr>\n",
       "    <tr>\n",
       "      <th>25%</th>\n",
       "      <td>0.000000</td>\n",
       "      <td>24.000000</td>\n",
       "      <td>33300.000000</td>\n",
       "      <td>0.000000</td>\n",
       "      <td>0.000000</td>\n",
       "    </tr>\n",
       "    <tr>\n",
       "      <th>50%</th>\n",
       "      <td>0.000000</td>\n",
       "      <td>30.000000</td>\n",
       "      <td>40200.000000</td>\n",
       "      <td>1.000000</td>\n",
       "      <td>0.000000</td>\n",
       "    </tr>\n",
       "    <tr>\n",
       "      <th>75%</th>\n",
       "      <td>1.000000</td>\n",
       "      <td>37.000000</td>\n",
       "      <td>46600.000000</td>\n",
       "      <td>2.000000</td>\n",
       "      <td>0.000000</td>\n",
       "    </tr>\n",
       "    <tr>\n",
       "      <th>max</th>\n",
       "      <td>1.000000</td>\n",
       "      <td>65.000000</td>\n",
       "      <td>79000.000000</td>\n",
       "      <td>6.000000</td>\n",
       "      <td>5.000000</td>\n",
       "    </tr>\n",
       "  </tbody>\n",
       "</table>\n",
       "</div>"
      ],
      "text/plain": [
       "               Пол      Возраст      Зарплата  Члены семьи  Страховые выплаты\n",
       "count  5000.000000  5000.000000   5000.000000  5000.000000        5000.000000\n",
       "mean      0.499000    30.952800  39916.360000     1.194200           0.148000\n",
       "std       0.500049     8.440807   9900.083569     1.091387           0.463183\n",
       "min       0.000000    18.000000   5300.000000     0.000000           0.000000\n",
       "25%       0.000000    24.000000  33300.000000     0.000000           0.000000\n",
       "50%       0.000000    30.000000  40200.000000     1.000000           0.000000\n",
       "75%       1.000000    37.000000  46600.000000     2.000000           0.000000\n",
       "max       1.000000    65.000000  79000.000000     6.000000           5.000000"
      ]
     },
     "execution_count": 4,
     "metadata": {},
     "output_type": "execute_result"
    }
   ],
   "source": [
    "data.describe()"
   ]
  },
  {
   "cell_type": "markdown",
   "metadata": {},
   "source": [
    "Просмотим зависимотсть целевого значения от других признаков в наших данных на гарфике"
   ]
  },
  {
   "cell_type": "code",
   "execution_count": 5,
   "metadata": {},
   "outputs": [
    {
     "data": {
      "image/png": "[encoded data removed]",
      "text/plain": [
       "<Figure size 834.5x720 with 20 Axes>"
      ]
     },
     "metadata": {},
     "output_type": "display_data"
    }
   ],
   "source": [
    "sns.set_style('darkgrid')\n",
    "sns.pairplot(data, hue='Страховые выплаты', height=2.5, diag_kind='hist')\n",
    "plt.suptitle(\"Графики зависимости целевой метки от параметров в данных\", y=1.02, fontsize=13)\n",
    "plt.show()"
   ]
  },
  {
   "cell_type": "markdown",
   "metadata": {},
   "source": [
    "Разделим данные на тренировочную выборку и целевой признак"
   ]
  },
  {
   "cell_type": "code",
   "execution_count": 6,
   "metadata": {},
   "outputs": [],
   "source": [
    "features=data.drop(['Страховые выплаты'],axis=1)\n",
    "target=data['Страховые выплаты']"
   ]
  },
  {
   "cell_type": "markdown",
   "metadata": {},
   "source": [
    "Определим тестовую и тренировочну выбрку"
   ]
  },
  {
   "cell_type": "code",
   "execution_count": 7,
   "metadata": {},
   "outputs": [],
   "source": [
    "train_features, test_features, train_target, test_target = train_test_split(features,target, test_size=0.25, random_state=254)"
   ]
  },
  {
   "cell_type": "markdown",
   "metadata": {},
   "source": [
    "Проверим результа"
   ]
  },
  {
   "cell_type": "code",
   "execution_count": 8,
   "metadata": {},
   "outputs": [
    {
     "name": "stdout",
     "output_type": "stream",
     "text": [
      "Размер тренировочной выборки- 75%\n",
      "Размер тестовой выборки - 25%\n"
     ]
    }
   ],
   "source": [
    "tv=train_features.shape[0]/features.shape[0]\n",
    "tt=test_target.shape[0]/target.shape[0]\n",
    "\n",
    "print('Размер тренировочной выборки- {:.0%}'.format(tv))\n",
    "print('Размер тестовой выборки - {:.0%}'.format(tt))"
   ]
  },
  {
   "cell_type": "markdown",
   "metadata": {},
   "source": [
    "Вывод"
   ]
  },
  {
   "cell_type": "markdown",
   "metadata": {},
   "source": [
    "Отлично! Все данные на месте и не требуют предобработки. Из графиков видно что, по объёму не выплат страховок больше всего, а если и производятся то чаще всего это люди старше 40 лет с семьями от 2х человек"
   ]
  },
  {
   "cell_type": "markdown",
   "metadata": {},
   "source": [
    "## Умножение матриц"
   ]
  },
  {
   "cell_type": "markdown",
   "metadata": {},
   "source": [
    "В этом задании вы можете записывать формулы в *Jupyter Notebook.*\n",
    "\n",
    "Чтобы записать формулу внутри текста, окружите её символами доллара \\\\$; если снаружи —  двойными символами \\\\$\\\\$. Эти формулы записываются на языке вёрстки *LaTeX.* \n",
    "\n",
    "Для примера мы записали формулы линейной регрессии. Можете их скопировать и отредактировать, чтобы решить задачу.\n",
    "\n",
    "Работать в *LaTeX* необязательно."
   ]
  },
  {
   "cell_type": "markdown",
   "metadata": {},
   "source": [
    "Обозначения:\n",
    "\n",
    "- $X$ — матрица признаков (нулевой столбец состоит из единиц)\n",
    "\n",
    "- $y$ — вектор целевого признака\n",
    "\n",
    "- $P$ — матрица, на которую умножаются признаки\n",
    "\n",
    "- $w$ — вектор весов линейной регрессии (нулевой элемент равен сдвигу)"
   ]
  },
  {
   "cell_type": "markdown",
   "metadata": {},
   "source": [
    "Предсказания:\n",
    "\n",
    "$$\n",
    "a = Xw\n",
    "$$\n",
    "\n",
    "Задача обучения:\n",
    "\n",
    "$$\n",
    "w = \\arg\\min_w MSE(Xw, y)\n",
    "$$\n",
    "\n",
    "Формула обучения:\n",
    "\n",
    "$$\n",
    "w = (X^T X)^{-1} X^T y\n",
    "$$"
   ]
  },
  {
   "cell_type": "markdown",
   "metadata": {},
   "source": [
    "Алгоритм"
   ]
  },
  {
   "cell_type": "markdown",
   "metadata": {},
   "source": [
    "Умножение матрицы на матрицу возможно, если ширина первой матрицы А (m x n) равна высоте второй матрицы P(n x r). Тогда размер произведения этих матриц будет m x r. Размерность n «cхлопывается».\n",
    "\n",
    "При умножении признаков выборки A размерностью (3750, 4) на обратимую произвольную матрицу P размерностью (4, 4), результатом получаем новый (изменённый) набор данных скалярных произведений  размернотью \n",
    "Формула выглядит следующим образом:"
   ]
  },
  {
   "cell_type": "markdown",
   "metadata": {},
   "source": [
    "$$\n",
    "Mij = (Ai, Bj)\n",
    "$$"
   ]
  },
  {
   "cell_type": "markdown",
   "metadata": {},
   "source": [
    "Создадим модель по исходным формулам для предсказания значений по неизменённым признакам"
   ]
  },
  {
   "cell_type": "markdown",
   "metadata": {},
   "source": [
    "В каждую новую ячейку записывается результат сложения произведений строки i на столбец j. Так например в первой ячейке новой таблицы будет записан результат по этой формуле:"
   ]
  },
  {
   "cell_type": "markdown",
   "metadata": {},
   "source": [
    "$$\n",
    "m11 = A11 x P11 + A12 x P21 + A13 x P31 + A14 x P41\n",
    "$$"
   ]
  },
  {
   "cell_type": "markdown",
   "metadata": {},
   "source": [
    "Далее вычисляется важный параметр - вектор w по формуле:"
   ]
  },
  {
   "cell_type": "markdown",
   "metadata": {},
   "source": [
    "$$\n",
    "w = (X^T X)^{-1} X^T y\n",
    "$$"
   ]
  },
  {
   "cell_type": "markdown",
   "metadata": {},
   "source": [
    "В которой X - таблица признков, где нулевой столбец заполнен 1 (единицами), а y - вектор целевого признака"
   ]
  },
  {
   "cell_type": "markdown",
   "metadata": {},
   "source": [
    "$$\n",
    "Xi = (1Mi2 Mi3 Mi4 Mi5)\n",
    "$$"
   ]
  },
  {
   "cell_type": "markdown",
   "metadata": {},
   "source": [
    "В Линейной регрессии предсказания вычисляются по формуле:"
   ]
  },
  {
   "cell_type": "markdown",
   "metadata": {},
   "source": [
    "$$\n",
    "a = Xw + w0\n",
    "$$"
   ]
  },
  {
   "cell_type": "markdown",
   "metadata": {},
   "source": [
    ", где $W0$ - значение нулевого аргумента вектора $W$, которое предствляет собой величину сдвига модели, при подборе которого можно достигать более низкого значения среднеквадратичного отклонения $MSE$"
   ]
  },
  {
   "cell_type": "markdown",
   "metadata": {},
   "source": [
    "Рассмотрим упрощённую запись формулы предсказания Линейной регрессии $a = Xiw$, где $Xi$ - новые строки признаков\n",
    "Подставим вместо параметра w, формулу её вычисления:"
   ]
  },
  {
   "cell_type": "markdown",
   "metadata": {},
   "source": [
    "$$\n",
    "a = Xw = X(X^T X)^{-1} X^T y\n",
    "$$"
   ]
  },
  {
   "cell_type": "markdown",
   "metadata": {},
   "source": [
    "Упроситим формулу используя принцип ассоциативности (A(BC) = (AB)C) и то, что транспонированное произведение матриц равно произведению транспонированных матриц взятых в обратном порядке $((AB)^T = B^{T}A^{T})$:"
   ]
  },
  {
   "cell_type": "markdown",
   "metadata": {},
   "source": [
    "$$\n",
    "a = X(X^T X)^{-1} X^T y = XX(X^{T})^{-1}X^{T}y = XX^{-1}y\n",
    "$$"
   ]
  },
  {
   "cell_type": "markdown",
   "metadata": {},
   "source": [
    "Домножим наши признаки на случайную матрицу $P$, в которой число строк равно чилу столбцов $X$ и $P$ - обратима, то есть из матрицы P можно получить матрицу $P^{-1}$, при этом $PP^{-1} = E$, где $E$ - единичная матрица"
   ]
  },
  {
   "cell_type": "markdown",
   "metadata": {},
   "source": [
    "Если обучить нашу модель на новых (изменённых) признаках, то модель найдёт новые коэффициенты $w'$"
   ]
  },
  {
   "cell_type": "markdown",
   "metadata": {},
   "source": [
    "$$\n",
    "w' = ((XP)^{T}(XP))^{-1}(XP)^{T}y\n",
    "$$"
   ]
  },
  {
   "cell_type": "markdown",
   "metadata": {},
   "source": [
    "Подставим их в формулу предсказания и упростим выражение"
   ]
  },
  {
   "cell_type": "code",
   "execution_count": null,
   "metadata": {},
   "outputs": [],
   "source": [
    "#$$\n",
    "#a' = XPw' = XP((XP)^{T}(XP))^{-1}(XP)^{T}y = XP(XP)^{-1}((XP)^{T})^{-1}(XP)^{T}y = XX^{-1}y\n",
    "#$$"
   ]
  },
  {
   "cell_type": "markdown",
   "metadata": {},
   "source": [
    "$$\n",
    "a' = ((XP)^{T}(XP))^{-1}(XP)^{T}y = (P^{T}(X^{T}X)P)^{-1}(XP)^{T}y = (P^{T}(X^{T}X)P)^{-1}P^{T}X^{T}y = P^{-1}(X^{T}X)^{-1}(P^{T})^{-1}P^{T}X^{T}y = P^{-1}(X^{T}X)^{-1}EX^{T}y\n",
    "$$"
   ]
  },
  {
   "cell_type": "markdown",
   "metadata": {},
   "source": [
    "Таким образом мы пришли к заключению, о том что результат предсказания не изменится не смотря на измениения признаков, т.к. исходя из результатов наших преобразований очевидно, что $a = a'$ "
   ]
  },
  {
   "cell_type": "markdown",
   "metadata": {},
   "source": [
    "Начал с края"
   ]
  },
  {
   "cell_type": "code",
   "execution_count": 9,
   "metadata": {},
   "outputs": [],
   "source": [
    "class LinearRegress:\n",
    "    def fit(self, train_features, train_target):\n",
    "        X = np.concatenate((np.ones((train_features.shape[0], 1)), train_features), axis=1)\n",
    "        y = train_target\n",
    "        w = (np.linalg.inv(X.T.dot(X)).dot(X.T)).dot(y)\n",
    "        self.w = w[1:]\n",
    "        self.w0 = w[0]\n",
    "\n",
    "    def predict(self, test_features):\n",
    "        return test_features.dot(self.w) + self.w0"
   ]
  },
  {
   "cell_type": "code",
   "execution_count": 10,
   "metadata": {},
   "outputs": [
    {
     "name": "stdout",
     "output_type": "stream",
     "text": [
      "R2_score: 0.42\n",
      "MSE: 0.11\n"
     ]
    }
   ],
   "source": [
    "model = LinearRegress()\n",
    "model.fit(train_features, train_target)\n",
    "predict = model.predict(test_features)\n",
    "\n",
    "R2_score = r2_score(test_target, predict)\n",
    "MSE = mean_squared_error(predict,test_target)\n",
    "\n",
    "print(\"R2_score:\", R2_score.round(2))\n",
    "print(\"MSE:\", MSE.round(2))"
   ]
  },
  {
   "cell_type": "markdown",
   "metadata": {},
   "source": [
    "Вычислим значения R2 и MSE для предсказанных значений по исходным (неизменённым данным)"
   ]
  },
  {
   "cell_type": "code",
   "execution_count": 11,
   "metadata": {},
   "outputs": [
    {
     "name": "stdout",
     "output_type": "stream",
     "text": [
      "R2_score Линейной регрессии неизменённой матрицы: 0.42\n",
      "MSE Линейной регрессии неизменённой матрицы: 0.11\n"
     ]
    }
   ],
   "source": [
    "model_l = LinearRegression()\n",
    "model_l.fit(train_features,train_target)\n",
    "predictions= model_l.predict(test_features)\n",
    "\n",
    "R2_score_l = r2_score(test_target, predictions)\n",
    "MSE_l = mean_squared_error(predictions,test_target)\n",
    "\n",
    "print(\"R2_score Линейной регрессии неизменённой матрицы:\", R2_score_l.round(2))\n",
    "print(\"MSE Линейной регрессии неизменённой матрицы:\", MSE_l.round(2))"
   ]
  },
  {
   "cell_type": "markdown",
   "metadata": {},
   "source": [
    "График зависимости значений истинные/предсказанные модели линейной регрессии из Scikit-learn"
   ]
  },
  {
   "cell_type": "code",
   "execution_count": 12,
   "metadata": {},
   "outputs": [
    {
     "data": {
      "image/png": "[encoded data removed]",
      "text/plain": [
       "<Figure size 648x648 with 1 Axes>"
      ]
     },
     "metadata": {},
     "output_type": "display_data"
    }
   ],
   "source": [
    "plt.figure(figsize=(9,9))\n",
    "plt.plot(test_target,predictions,'o',alpha=1)\n",
    "plt.legend(['Предсказание модели Scikit-learn'])\n",
    "#plt.plot([-0.1,3.2],[-0.5,1.2],linestyle='--',color='g',alpha=0.3)\n",
    "plt.xlim(-0.1,3.2)\n",
    "plt.ylim(-0.4,1.2)\n",
    "plt.title('График значений истиные/предсказанные', y=1.01, fontsize=13)\n",
    "plt.grid(True)\n",
    "plt.xlabel('Истинные значения целевого признака')\n",
    "plt.ylabel('Предсказанные значения')\n",
    "plt.show()"
   ]
  },
  {
   "cell_type": "markdown",
   "metadata": {},
   "source": [
    "Произведём изменение признаков исходной матрицы данных методом умножения их на произвольную обратимую матрицу"
   ]
  },
  {
   "cell_type": "markdown",
   "metadata": {},
   "source": [
    "Создадим произвольную матрицу по длине совпадающую с шириной нашей выборки"
   ]
  },
  {
   "cell_type": "code",
   "execution_count": 13,
   "metadata": {},
   "outputs": [
    {
     "data": {
      "text/plain": [
       "array([[4.60832026, 3.32055111, 1.00551538, 1.74946325],\n",
       "       [3.57272983, 3.37699985, 2.86005506, 1.41367557],\n",
       "       [2.84009631, 4.89945591, 3.75058593, 2.52779259],\n",
       "       [1.81239262, 2.15958794, 4.68684503, 2.55833933]])"
      ]
     },
     "execution_count": 13,
     "metadata": {},
     "output_type": "execute_result"
    }
   ],
   "source": [
    "matrix=np.random.normal(3, size=(4,4))\n",
    "matrix"
   ]
  },
  {
   "cell_type": "markdown",
   "metadata": {},
   "source": [
    "Проверим обратимость нашей матрицы"
   ]
  },
  {
   "cell_type": "code",
   "execution_count": 14,
   "metadata": {},
   "outputs": [
    {
     "data": {
      "text/plain": [
       "array([[ 0.17918448,  0.2993514 , -0.35581359,  0.0636196 ],\n",
       "       [-0.17095602,  0.04414325,  0.44069464, -0.34292073],\n",
       "       [-0.32350302,  0.49552257, -0.17557928,  0.12088956],\n",
       "       [ 0.61002481, -1.15712211,  0.20171992,  0.41381264]])"
      ]
     },
     "execution_count": 14,
     "metadata": {},
     "output_type": "execute_result"
    }
   ],
   "source": [
    "np.linalg.inv(matrix)"
   ]
  },
  {
   "cell_type": "markdown",
   "metadata": {},
   "source": [
    "Произведём умножение признаков на произвольную матрицу"
   ]
  },
  {
   "cell_type": "markdown",
   "metadata": {},
   "source": [
    "Тренировочная выборка"
   ]
  },
  {
   "cell_type": "code",
   "execution_count": 15,
   "metadata": {},
   "outputs": [
    {
     "data": {
      "text/html": [
       "<div>\n",
       "<style scoped>\n",
       "    .dataframe tbody tr th:only-of-type {\n",
       "        vertical-align: middle;\n",
       "    }\n",
       "\n",
       "    .dataframe tbody tr th {\n",
       "        vertical-align: top;\n",
       "    }\n",
       "\n",
       "    .dataframe thead th {\n",
       "        text-align: right;\n",
       "    }\n",
       "</style>\n",
       "<table border=\"1\" class=\"dataframe\">\n",
       "  <thead>\n",
       "    <tr style=\"text-align: right;\">\n",
       "      <th></th>\n",
       "      <th>Пол</th>\n",
       "      <th>Возраст</th>\n",
       "      <th>Зарплата</th>\n",
       "      <th>Члены семьи</th>\n",
       "    </tr>\n",
       "  </thead>\n",
       "  <tbody>\n",
       "    <tr>\n",
       "      <th>883</th>\n",
       "      <td>111976.634525</td>\n",
       "      <td>193111.639450</td>\n",
       "      <td>147837.833739</td>\n",
       "      <td>99627.273576</td>\n",
       "    </tr>\n",
       "    <tr>\n",
       "      <th>4736</th>\n",
       "      <td>141618.280955</td>\n",
       "      <td>244163.857464</td>\n",
       "      <td>186925.014493</td>\n",
       "      <td>125957.648892</td>\n",
       "    </tr>\n",
       "    <tr>\n",
       "      <th>4455</th>\n",
       "      <td>117692.554453</td>\n",
       "      <td>202944.321269</td>\n",
       "      <td>155367.606154</td>\n",
       "      <td>104696.995512</td>\n",
       "    </tr>\n",
       "    <tr>\n",
       "      <th>3993</th>\n",
       "      <td>141244.953078</td>\n",
       "      <td>243589.486876</td>\n",
       "      <td>186478.454523</td>\n",
       "      <td>125669.527744</td>\n",
       "    </tr>\n",
       "    <tr>\n",
       "      <th>651</th>\n",
       "      <td>115717.069670</td>\n",
       "      <td>199527.934895</td>\n",
       "      <td>152761.976647</td>\n",
       "      <td>102938.043068</td>\n",
       "    </tr>\n",
       "  </tbody>\n",
       "</table>\n",
       "</div>"
      ],
      "text/plain": [
       "                Пол        Возраст       Зарплата    Члены семьи\n",
       "883   111976.634525  193111.639450  147837.833739   99627.273576\n",
       "4736  141618.280955  244163.857464  186925.014493  125957.648892\n",
       "4455  117692.554453  202944.321269  155367.606154  104696.995512\n",
       "3993  141244.953078  243589.486876  186478.454523  125669.527744\n",
       "651   115717.069670  199527.934895  152761.976647  102938.043068"
      ]
     },
     "execution_count": 15,
     "metadata": {},
     "output_type": "execute_result"
    }
   ],
   "source": [
    "train_matrix=train_features.dot(matrix)\n",
    "train_matrix.columns = train_features.columns\n",
    "train_matrix.head()"
   ]
  },
  {
   "cell_type": "markdown",
   "metadata": {},
   "source": [
    "Применим те же изменения для тестовой выборки и умножим на ту же матрицу"
   ]
  },
  {
   "cell_type": "code",
   "execution_count": 16,
   "metadata": {},
   "outputs": [
    {
     "data": {
      "text/html": [
       "<div>\n",
       "<style scoped>\n",
       "    .dataframe tbody tr th:only-of-type {\n",
       "        vertical-align: middle;\n",
       "    }\n",
       "\n",
       "    .dataframe tbody tr th {\n",
       "        vertical-align: top;\n",
       "    }\n",
       "\n",
       "    .dataframe thead th {\n",
       "        text-align: right;\n",
       "    }\n",
       "</style>\n",
       "<table border=\"1\" class=\"dataframe\">\n",
       "  <thead>\n",
       "    <tr style=\"text-align: right;\">\n",
       "      <th></th>\n",
       "      <th>Пол</th>\n",
       "      <th>Возраст</th>\n",
       "      <th>Зарплата</th>\n",
       "      <th>Члены семьи</th>\n",
       "    </tr>\n",
       "  </thead>\n",
       "  <tbody>\n",
       "    <tr>\n",
       "      <th>4948</th>\n",
       "      <td>108062.271682</td>\n",
       "      <td>186309.753724</td>\n",
       "      <td>142633.779830</td>\n",
       "      <td>96112.732222</td>\n",
       "    </tr>\n",
       "    <tr>\n",
       "      <th>4959</th>\n",
       "      <td>98144.199816</td>\n",
       "      <td>169185.078250</td>\n",
       "      <td>129536.944416</td>\n",
       "      <td>87279.865765</td>\n",
       "    </tr>\n",
       "    <tr>\n",
       "      <th>1728</th>\n",
       "      <td>107462.822597</td>\n",
       "      <td>185300.743404</td>\n",
       "      <td>141857.949897</td>\n",
       "      <td>95592.970173</td>\n",
       "    </tr>\n",
       "    <tr>\n",
       "      <th>4169</th>\n",
       "      <td>124778.504321</td>\n",
       "      <td>215179.453045</td>\n",
       "      <td>164732.630765</td>\n",
       "      <td>111010.822285</td>\n",
       "    </tr>\n",
       "    <tr>\n",
       "      <th>1984</th>\n",
       "      <td>126813.069284</td>\n",
       "      <td>218653.915356</td>\n",
       "      <td>167401.735268</td>\n",
       "      <td>112802.357883</td>\n",
       "    </tr>\n",
       "  </tbody>\n",
       "</table>\n",
       "</div>"
      ],
      "text/plain": [
       "                Пол        Возраст       Зарплата    Члены семьи\n",
       "4948  108062.271682  186309.753724  142633.779830   96112.732222\n",
       "4959   98144.199816  169185.078250  129536.944416   87279.865765\n",
       "1728  107462.822597  185300.743404  141857.949897   95592.970173\n",
       "4169  124778.504321  215179.453045  164732.630765  111010.822285\n",
       "1984  126813.069284  218653.915356  167401.735268  112802.357883"
      ]
     },
     "execution_count": 16,
     "metadata": {},
     "output_type": "execute_result"
    }
   ],
   "source": [
    "test_matrix = test_features.dot(matrix)\n",
    "test_matrix.columns = test_features.columns\n",
    "test_matrix.head()"
   ]
  },
  {
   "cell_type": "markdown",
   "metadata": {},
   "source": [
    "Проверим результат"
   ]
  },
  {
   "cell_type": "code",
   "execution_count": 17,
   "metadata": {},
   "outputs": [
    {
     "name": "stdout",
     "output_type": "stream",
     "text": [
      "R2_score Линейной регрессии изменённой матрицы: 0.42\n",
      "MSE Линейной регрессии изменённой матрицы: 0.11\n"
     ]
    }
   ],
   "source": [
    "model_t = LinearRegression()\n",
    "model_t.fit(train_matrix,train_target)\n",
    "predictions_t= model_t.predict(test_matrix)\n",
    "print(\"R2_score Линейной регрессии изменённой матрицы:\", r2_score(test_target,predictions_t).round(2))\n",
    "print(\"MSE Линейной регрессии изменённой матрицы:\", mean_squared_error(predictions_t,test_target).round(2))"
   ]
  },
  {
   "cell_type": "markdown",
   "metadata": {},
   "source": [
    "Нанесём на график зависимости значений истинные/предсказанные модели линейной регрессии предсказанные значения модели на изменённых данных"
   ]
  },
  {
   "cell_type": "code",
   "execution_count": 18,
   "metadata": {},
   "outputs": [
    {
     "data": {
      "image/png": "[encoded data removed]",
      "text/plain": [
       "<Figure size 648x648 with 1 Axes>"
      ]
     },
     "metadata": {},
     "output_type": "display_data"
    }
   ],
   "source": [
    "plt.figure(figsize=(9,9))\n",
    "plt.plot(test_target,predictions_t,'yo',alpha=0.4)\n",
    "plt.plot(test_target,predictions,'o',alpha=0.4)\n",
    "plt.plot(predictions_t,predictions,'r--',alpha=0.5)\n",
    "plt.legend(['Предсказание модели c изменёнными признаками', 'Предсказание модели c базовыми признаками', 'Зависимость предсказанных значений'])\n",
    "\n",
    "plt.xlim(-0.1,3.2)\n",
    "plt.ylim(-0.5,1.2)\n",
    "plt.title('График значений истиные/предсказанные', y=1.01, fontsize=13)\n",
    "plt.grid(True)\n",
    "plt.xlabel('Истинные значения целевого признака')\n",
    "plt.ylabel('Предсказанные значения')\n",
    "plt.show()"
   ]
  },
  {
   "cell_type": "markdown",
   "metadata": {},
   "source": [
    "Ответ:\n",
    "Если признаки исходных данных умножить на обратимую матрицу, то качество линейной регрессии не изменится."
   ]
  },
  {
   "cell_type": "markdown",
   "metadata": {},
   "source": [
    "Пояснение:\n",
    "Изменение качества предсказания линейной регрессии не происходит при умножении признаков исходных данных, на обратимую матрицу, т.к. параметры линейной регрессии в исходной задаче и в преобразованной связаны между собой алгоритмом преобразования признаков, по результату работы которого предсказание вычисляется методом умножения признаков исходных данных на вектор по длине равный ширине таблицы признаков, который в свою очередь умножается на целевые признаки. По результату скалярного умножения создаётся число, на которое умножается тестовая выборка, и если эта выборка была преобразована умножением на ту же матрицу, то качество предсказания не изменится.\n",
    "\n",
    "Таким образом, если изменить исходные данные методом умножения признаков на обратимую матрицу, не изменяя значений целевого признака, качество предсказания модели не изменится."
   ]
  },
  {
   "cell_type": "markdown",
   "metadata": {},
   "source": [
    "## Алгоритм преобразования"
   ]
  },
  {
   "cell_type": "markdown",
   "metadata": {},
   "source": [
    "Алгоритм преобразования (план действий):"
   ]
  },
  {
   "cell_type": "markdown",
   "metadata": {},
   "source": [
    "1. Создаём рандомную матрицу $P$\n",
    "2. Проверяем её на обратимость\n",
    "3. Создаём новую матрицу данных $M$\n",
    "4. Ищем метрики качества $R2score$ и $MSE$ на исходных данных и на преобразованных\n",
    "5. Опишем вывод полученных результатов"
   ]
  },
  {
   "cell_type": "markdown",
   "metadata": {},
   "source": [
    "Обоснование"
   ]
  },
  {
   "cell_type": "markdown",
   "metadata": {},
   "source": [
    "Это значит, что если мы произведём умножение признаков тренировочной и тестовой выборок на одну и ту же обратимую матрицу, то результатом предсказания будет произведение нашей изменённой таблицы с признаками на вектор, который был получен из той же таблицы с изменёнными данными увеличенную на ту же величину, что и признаки тренировочных данных. Проверим работу данного алгоритма в следующей главе."
   ]
  },
  {
   "cell_type": "markdown",
   "metadata": {},
   "source": [
    "## Проверка алгоритма"
   ]
  },
  {
   "cell_type": "markdown",
   "metadata": {},
   "source": [
    "Создадим матрицу P"
   ]
  },
  {
   "cell_type": "code",
   "execution_count": 19,
   "metadata": {},
   "outputs": [
    {
     "data": {
      "text/plain": [
       "array([[2.95739234, 0.780021  , 3.51685339, 3.07096601],\n",
       "       [4.10078175, 3.91288335, 2.8674896 , 2.59895701],\n",
       "       [2.81444593, 2.89755344, 4.49799758, 2.30538872],\n",
       "       [1.89240223, 2.59847827, 4.56817148, 1.49631667]])"
      ]
     },
     "execution_count": 19,
     "metadata": {},
     "output_type": "execute_result"
    }
   ],
   "source": [
    "P = np.random.normal(3, size=(4,4))\n",
    "P"
   ]
  },
  {
   "cell_type": "markdown",
   "metadata": {},
   "source": [
    "Проверим обратимость нашей матрицы"
   ]
  },
  {
   "cell_type": "code",
   "execution_count": 20,
   "metadata": {},
   "outputs": [],
   "source": [
    "#np.linalg.inv(P)"
   ]
  },
  {
   "cell_type": "code",
   "execution_count": 21,
   "metadata": {},
   "outputs": [],
   "source": [
    "def get_rand_matrix():\n",
    "    det = 0\n",
    "    while det == 0:\n",
    "        matrix = np.random.normal(size=(data.shape[1], data.shape[1]))\n",
    "        det = np.linalg.det(matrix)\n",
    "    return matrix\n"
   ]
  },
  {
   "cell_type": "markdown",
   "metadata": {},
   "source": [
    "Отлично, матрица создана и она обратима.\n",
    "Выполним умножение признаков на нашу новую матрицу и обозначим её M"
   ]
  },
  {
   "cell_type": "code",
   "execution_count": 22,
   "metadata": {},
   "outputs": [
    {
     "data": {
      "text/html": [
       "<div>\n",
       "<style scoped>\n",
       "    .dataframe tbody tr th:only-of-type {\n",
       "        vertical-align: middle;\n",
       "    }\n",
       "\n",
       "    .dataframe tbody tr th {\n",
       "        vertical-align: top;\n",
       "    }\n",
       "\n",
       "    .dataframe thead th {\n",
       "        text-align: right;\n",
       "    }\n",
       "</style>\n",
       "<table border=\"1\" class=\"dataframe\">\n",
       "  <thead>\n",
       "    <tr style=\"text-align: right;\">\n",
       "      <th></th>\n",
       "      <th>Пол</th>\n",
       "      <th>Возраст</th>\n",
       "      <th>Зарплата</th>\n",
       "      <th>Члены семьи</th>\n",
       "    </tr>\n",
       "  </thead>\n",
       "  <tbody>\n",
       "    <tr>\n",
       "      <th>883</th>\n",
       "      <td>110977.178311</td>\n",
       "      <td>114248.374495</td>\n",
       "      <td>177285.890194</td>\n",
       "      <td>90888.389848</td>\n",
       "    </tr>\n",
       "    <tr>\n",
       "      <th>4736</th>\n",
       "      <td>140365.195225</td>\n",
       "      <td>144493.271008</td>\n",
       "      <td>224148.871612</td>\n",
       "      <td>114940.274263</td>\n",
       "    </tr>\n",
       "    <tr>\n",
       "      <th>4455</th>\n",
       "      <td>116647.077981</td>\n",
       "      <td>120082.610205</td>\n",
       "      <td>186310.560255</td>\n",
       "      <td>95525.156851</td>\n",
       "    </tr>\n",
       "    <tr>\n",
       "      <th>3993</th>\n",
       "      <td>139981.231089</td>\n",
       "      <td>144105.693580</td>\n",
       "      <td>223627.384614</td>\n",
       "      <td>114644.761466</td>\n",
       "    </tr>\n",
       "    <tr>\n",
       "      <th>651</th>\n",
       "      <td>114690.844603</td>\n",
       "      <td>118069.944000</td>\n",
       "      <td>183181.401441</td>\n",
       "      <td>93921.071614</td>\n",
       "    </tr>\n",
       "  </tbody>\n",
       "</table>\n",
       "</div>"
      ],
      "text/plain": [
       "                Пол        Возраст       Зарплата    Члены семьи\n",
       "883   110977.178311  114248.374495  177285.890194   90888.389848\n",
       "4736  140365.195225  144493.271008  224148.871612  114940.274263\n",
       "4455  116647.077981  120082.610205  186310.560255   95525.156851\n",
       "3993  139981.231089  144105.693580  223627.384614  114644.761466\n",
       "651   114690.844603  118069.944000  183181.401441   93921.071614"
      ]
     },
     "execution_count": 22,
     "metadata": {},
     "output_type": "execute_result"
    }
   ],
   "source": [
    "M =train_features.dot(P)\n",
    "M.columns = train_features.columns\n",
    "M.head()"
   ]
  },
  {
   "cell_type": "markdown",
   "metadata": {},
   "source": [
    "Применим те же изменения для тестовой выборки и умножим на ту же матрицу M"
   ]
  },
  {
   "cell_type": "code",
   "execution_count": 23,
   "metadata": {},
   "outputs": [
    {
     "data": {
      "text/html": [
       "<div>\n",
       "<style scoped>\n",
       "    .dataframe tbody tr th:only-of-type {\n",
       "        vertical-align: middle;\n",
       "    }\n",
       "\n",
       "    .dataframe tbody tr th {\n",
       "        vertical-align: top;\n",
       "    }\n",
       "\n",
       "    .dataframe thead th {\n",
       "        text-align: right;\n",
       "    }\n",
       "</style>\n",
       "<table border=\"1\" class=\"dataframe\">\n",
       "  <thead>\n",
       "    <tr style=\"text-align: right;\">\n",
       "      <th></th>\n",
       "      <th>Пол</th>\n",
       "      <th>Возраст</th>\n",
       "      <th>Зарплата</th>\n",
       "      <th>Члены семьи</th>\n",
       "    </tr>\n",
       "  </thead>\n",
       "  <tbody>\n",
       "    <tr>\n",
       "      <th>4948</th>\n",
       "      <td>107105.523915</td>\n",
       "      <td>110255.185836</td>\n",
       "      <td>171038.090266</td>\n",
       "      <td>87705.499923</td>\n",
       "    </tr>\n",
       "    <tr>\n",
       "      <th>4959</th>\n",
       "      <td>97282.287678</td>\n",
       "      <td>100144.241516</td>\n",
       "      <td>155322.491327</td>\n",
       "      <td>79653.651141</td>\n",
       "    </tr>\n",
       "    <tr>\n",
       "      <th>1728</th>\n",
       "      <td>106509.079463</td>\n",
       "      <td>109644.906466</td>\n",
       "      <td>170110.333298</td>\n",
       "      <td>87221.662198</td>\n",
       "    </tr>\n",
       "    <tr>\n",
       "      <th>4169</th>\n",
       "      <td>123666.789670</td>\n",
       "      <td>127310.842267</td>\n",
       "      <td>197544.084252</td>\n",
       "      <td>101278.232815</td>\n",
       "    </tr>\n",
       "    <tr>\n",
       "      <th>1984</th>\n",
       "      <td>125689.896004</td>\n",
       "      <td>129391.281231</td>\n",
       "      <td>200736.228778</td>\n",
       "      <td>102926.185034</td>\n",
       "    </tr>\n",
       "  </tbody>\n",
       "</table>\n",
       "</div>"
      ],
      "text/plain": [
       "                Пол        Возраст       Зарплата    Члены семьи\n",
       "4948  107105.523915  110255.185836  171038.090266   87705.499923\n",
       "4959   97282.287678  100144.241516  155322.491327   79653.651141\n",
       "1728  106509.079463  109644.906466  170110.333298   87221.662198\n",
       "4169  123666.789670  127310.842267  197544.084252  101278.232815\n",
       "1984  125689.896004  129391.281231  200736.228778  102926.185034"
      ]
     },
     "execution_count": 23,
     "metadata": {},
     "output_type": "execute_result"
    }
   ],
   "source": [
    "test_M = test_features.dot(P)\n",
    "test_M.columns = test_features.columns\n",
    "test_M.head()"
   ]
  },
  {
   "cell_type": "markdown",
   "metadata": {},
   "source": [
    "Целевые признаки оставляем без изменений."
   ]
  },
  {
   "cell_type": "markdown",
   "metadata": {},
   "source": [
    "Далее в нулевой столбец нашей изменённой таблицы вносим значение 1"
   ]
  },
  {
   "cell_type": "code",
   "execution_count": 24,
   "metadata": {},
   "outputs": [],
   "source": [
    "X = np.concatenate((np.ones((M.shape[0], 1)), M), axis=1)"
   ]
  },
  {
   "cell_type": "code",
   "execution_count": 25,
   "metadata": {},
   "outputs": [
    {
     "data": {
      "text/html": [
       "<div>\n",
       "<style scoped>\n",
       "    .dataframe tbody tr th:only-of-type {\n",
       "        vertical-align: middle;\n",
       "    }\n",
       "\n",
       "    .dataframe tbody tr th {\n",
       "        vertical-align: top;\n",
       "    }\n",
       "\n",
       "    .dataframe thead th {\n",
       "        text-align: right;\n",
       "    }\n",
       "</style>\n",
       "<table border=\"1\" class=\"dataframe\">\n",
       "  <thead>\n",
       "    <tr style=\"text-align: right;\">\n",
       "      <th></th>\n",
       "      <th>0</th>\n",
       "      <th>1</th>\n",
       "      <th>2</th>\n",
       "      <th>3</th>\n",
       "      <th>4</th>\n",
       "    </tr>\n",
       "  </thead>\n",
       "  <tbody>\n",
       "    <tr>\n",
       "      <th>0</th>\n",
       "      <td>1.0</td>\n",
       "      <td>110977.178311</td>\n",
       "      <td>114248.374495</td>\n",
       "      <td>177285.890194</td>\n",
       "      <td>90888.389848</td>\n",
       "    </tr>\n",
       "    <tr>\n",
       "      <th>1</th>\n",
       "      <td>1.0</td>\n",
       "      <td>140365.195225</td>\n",
       "      <td>144493.271008</td>\n",
       "      <td>224148.871612</td>\n",
       "      <td>114940.274263</td>\n",
       "    </tr>\n",
       "    <tr>\n",
       "      <th>2</th>\n",
       "      <td>1.0</td>\n",
       "      <td>116647.077981</td>\n",
       "      <td>120082.610205</td>\n",
       "      <td>186310.560255</td>\n",
       "      <td>95525.156851</td>\n",
       "    </tr>\n",
       "    <tr>\n",
       "      <th>3</th>\n",
       "      <td>1.0</td>\n",
       "      <td>139981.231089</td>\n",
       "      <td>144105.693580</td>\n",
       "      <td>223627.384614</td>\n",
       "      <td>114644.761466</td>\n",
       "    </tr>\n",
       "    <tr>\n",
       "      <th>4</th>\n",
       "      <td>1.0</td>\n",
       "      <td>114690.844603</td>\n",
       "      <td>118069.944000</td>\n",
       "      <td>183181.401441</td>\n",
       "      <td>93921.071614</td>\n",
       "    </tr>\n",
       "  </tbody>\n",
       "</table>\n",
       "</div>"
      ],
      "text/plain": [
       "     0              1              2              3              4\n",
       "0  1.0  110977.178311  114248.374495  177285.890194   90888.389848\n",
       "1  1.0  140365.195225  144493.271008  224148.871612  114940.274263\n",
       "2  1.0  116647.077981  120082.610205  186310.560255   95525.156851\n",
       "3  1.0  139981.231089  144105.693580  223627.384614  114644.761466\n",
       "4  1.0  114690.844603  118069.944000  183181.401441   93921.071614"
      ]
     },
     "execution_count": 25,
     "metadata": {},
     "output_type": "execute_result"
    }
   ],
   "source": [
    "pd.DataFrame(X).head()"
   ]
  },
  {
   "cell_type": "markdown",
   "metadata": {},
   "source": [
    "Присвоим переменной у, целевые признаки и вычислим по формуле $(w = (X^{T}X)^{-1}X^{T}y)$ вектор w"
   ]
  },
  {
   "cell_type": "code",
   "execution_count": 26,
   "metadata": {},
   "outputs": [],
   "source": [
    "y = train_target\n",
    "w = (np.linalg.inv(X.T.dot(X)).dot(X.T)).dot(y)"
   ]
  },
  {
   "cell_type": "markdown",
   "metadata": {},
   "source": [
    "Вычислим предсказание модели методом умножения тестовой выбрки test_M и увеличим на величину сдвига значение w0. Переменную предсказанных значений обозначим a"
   ]
  },
  {
   "cell_type": "code",
   "execution_count": 27,
   "metadata": {},
   "outputs": [],
   "source": [
    "a = test_M.dot(w[1:]) + w[0]"
   ]
  },
  {
   "cell_type": "markdown",
   "metadata": {},
   "source": [
    "Проверим значения R2 и MSE"
   ]
  },
  {
   "cell_type": "code",
   "execution_count": 28,
   "metadata": {},
   "outputs": [
    {
     "name": "stdout",
     "output_type": "stream",
     "text": [
      "R2_score: 0.42\n",
      "MSE: 0.11\n"
     ]
    }
   ],
   "source": [
    "R2_score_m=r2_score(test_target, a)\n",
    "MSE_m=mean_squared_error(a, test_target)\n",
    "print(\"R2_score:\",R2_score_m.round(2))\n",
    "print(\"MSE:\", MSE_m.round(2))"
   ]
  },
  {
   "cell_type": "markdown",
   "metadata": {},
   "source": [
    "Изобразим на графике предсказанные значения относительно истинных значений целевого столбца и сравним эти значения с предсказаниями модели по неизменённым признакам"
   ]
  },
  {
   "cell_type": "code",
   "execution_count": 29,
   "metadata": {},
   "outputs": [
    {
     "data": {
      "image/png": "[encoded data removed]",
      "text/plain": [
       "<Figure size 648x648 with 1 Axes>"
      ]
     },
     "metadata": {},
     "output_type": "display_data"
    }
   ],
   "source": [
    "plt.figure(figsize=(9,9))\n",
    "plt.plot(test_target,a,'yo',alpha=0.7)\n",
    "plt.plot(test_target,predictions,'o',alpha=0.4)\n",
    "plt.plot(a,predictions,'r--',alpha=0.7,linewidth = 3)\n",
    "plt.plot([-0.5,3.2],[-0.5,3.2],linestyle='-',color='g',alpha=0.2)\n",
    "plt.legend(['Предсказание модели нашего алгоритма c изменёнными признаками', 'Предсказание модели Sclearn c базовыми признаками','Зависимость предсказанных значений','Диагональ'])\n",
    "\n",
    "plt.xlim(-0.5,3.2)\n",
    "plt.ylim(-0.5,3.2)\n",
    "plt.title('График значений истиные/предсказанные', y=1.01, fontsize=13)\n",
    "plt.grid(True)\n",
    "plt.xlabel('Истинные значения целевого признака')\n",
    "plt.ylabel('Предсказанные значения')\n",
    "plt.show()"
   ]
  },
  {
   "cell_type": "markdown",
   "metadata": {},
   "source": [
    "Сравнение R2 и MSE изменённой/неизменённой матрицы признаков"
   ]
  },
  {
   "cell_type": "code",
   "execution_count": 30,
   "metadata": {},
   "outputs": [
    {
     "data": {
      "text/html": [
       "<div>\n",
       "<style scoped>\n",
       "    .dataframe tbody tr th:only-of-type {\n",
       "        vertical-align: middle;\n",
       "    }\n",
       "\n",
       "    .dataframe tbody tr th {\n",
       "        vertical-align: top;\n",
       "    }\n",
       "\n",
       "    .dataframe thead th {\n",
       "        text-align: right;\n",
       "    }\n",
       "</style>\n",
       "<table border=\"1\" class=\"dataframe\">\n",
       "  <thead>\n",
       "    <tr style=\"text-align: right;\">\n",
       "      <th></th>\n",
       "      <th>R2_score</th>\n",
       "      <th>MSE</th>\n",
       "    </tr>\n",
       "  </thead>\n",
       "  <tbody>\n",
       "    <tr>\n",
       "      <th>Изменённая матрица</th>\n",
       "      <td>0.416687</td>\n",
       "      <td>0.112489</td>\n",
       "    </tr>\n",
       "    <tr>\n",
       "      <th>Неизменённая матрица</th>\n",
       "      <td>0.416687</td>\n",
       "      <td>0.112489</td>\n",
       "    </tr>\n",
       "  </tbody>\n",
       "</table>\n",
       "</div>"
      ],
      "text/plain": [
       "                      R2_score       MSE\n",
       "Изменённая матрица    0.416687  0.112489\n",
       "Неизменённая матрица  0.416687  0.112489"
      ]
     },
     "execution_count": 30,
     "metadata": {},
     "output_type": "execute_result"
    }
   ],
   "source": [
    "comparison_tabl = pd.DataFrame(index=['R2_score','MSE'], columns=['Изменённая матрица','Неизменённая матрица'])\n",
    "comparison_tabl['Изменённая матрица'] = R2_score_m, MSE_m\n",
    "comparison_tabl['Неизменённая матрица'] = R2_score_l, MSE_l\n",
    "\n",
    "comparison_tabl.T"
   ]
  },
  {
   "cell_type": "markdown",
   "metadata": {},
   "source": [
    "Вывод"
   ]
  },
  {
   "cell_type": "markdown",
   "metadata": {},
   "source": []
  },
  {
   "cell_type": "markdown",
   "metadata": {},
   "source": [
    "От нас требовалось защитить данные клиентов страховой компании «Хоть потоп» и разработать такой метод преобразования данных, чтобы по ним было сложно восстановить персональную информацию.\n",
    "\n",
    "Преобразование требовалось произвести таким образом, чтобы по результату работы нашего алгоритма, качество моделей машинного обучения не ухудшилось.\n",
    "\n",
    "В результате нашей работы был разработан алгоритм, где данные были преобразованы методом умножения признаков исходных данных на обратимую матрицу P. Результатом такого преобразования явилась новая (изменённая) матрица признаков, которая справилась с основными задачами по шифровке данных и при сравнении качества предсказаний с моделью из Scikit - learn, сохранила значения R2 и MSE неизменными."
   ]
  }
 ],
 "metadata": {
  "ExecuteTimeLog": [
   {
    "duration": 42,
    "start_time": "2022-11-30T12:33:25.547Z"
   },
   {
    "duration": 1378,
    "start_time": "2022-11-30T12:33:27.847Z"
   },
   {
    "duration": 91,
    "start_time": "2022-11-30T12:33:29.526Z"
   },
   {
    "duration": 89,
    "start_time": "2022-11-30T12:34:21.585Z"
   },
   {
    "duration": 1065,
    "start_time": "2022-11-30T12:49:28.284Z"
   },
   {
    "duration": 46,
    "start_time": "2022-11-30T12:49:29.351Z"
   },
   {
    "duration": 3,
    "start_time": "2022-11-30T12:49:29.399Z"
   },
   {
    "duration": 11,
    "start_time": "2022-11-30T12:49:50.121Z"
   },
   {
    "duration": 1400,
    "start_time": "2022-12-01T08:30:02.903Z"
   },
   {
    "duration": 38,
    "start_time": "2022-12-01T08:30:04.305Z"
   },
   {
    "duration": 9,
    "start_time": "2022-12-01T08:30:04.345Z"
   },
   {
    "duration": 116,
    "start_time": "2022-12-01T08:30:04.356Z"
   },
   {
    "duration": 0,
    "start_time": "2022-12-01T08:30:04.474Z"
   },
   {
    "duration": 0,
    "start_time": "2022-12-01T08:30:04.475Z"
   },
   {
    "duration": 0,
    "start_time": "2022-12-01T08:30:04.476Z"
   },
   {
    "duration": 0,
    "start_time": "2022-12-01T08:30:04.477Z"
   },
   {
    "duration": 0,
    "start_time": "2022-12-01T08:30:04.478Z"
   },
   {
    "duration": 0,
    "start_time": "2022-12-01T08:30:04.479Z"
   },
   {
    "duration": 0,
    "start_time": "2022-12-01T08:30:04.480Z"
   },
   {
    "duration": 0,
    "start_time": "2022-12-01T08:30:04.481Z"
   },
   {
    "duration": 0,
    "start_time": "2022-12-01T08:30:04.482Z"
   },
   {
    "duration": 0,
    "start_time": "2022-12-01T08:30:04.483Z"
   },
   {
    "duration": 0,
    "start_time": "2022-12-01T08:30:04.497Z"
   },
   {
    "duration": 8,
    "start_time": "2022-12-01T08:30:04.516Z"
   },
   {
    "duration": 9,
    "start_time": "2022-12-01T08:30:04.703Z"
   },
   {
    "duration": 12,
    "start_time": "2022-12-01T08:30:04.872Z"
   },
   {
    "duration": 14,
    "start_time": "2022-12-01T08:30:04.997Z"
   },
   {
    "duration": 1330,
    "start_time": "2022-12-01T08:33:20.702Z"
   },
   {
    "duration": 39,
    "start_time": "2022-12-01T08:33:22.034Z"
   },
   {
    "duration": 10,
    "start_time": "2022-12-01T08:33:22.075Z"
   },
   {
    "duration": 30,
    "start_time": "2022-12-01T08:33:22.087Z"
   },
   {
    "duration": 7887,
    "start_time": "2022-12-01T08:33:22.119Z"
   },
   {
    "duration": 5,
    "start_time": "2022-12-01T08:33:30.009Z"
   },
   {
    "duration": 66,
    "start_time": "2022-12-01T08:33:30.015Z"
   },
   {
    "duration": 26,
    "start_time": "2022-12-01T08:33:30.083Z"
   },
   {
    "duration": 33,
    "start_time": "2022-12-01T08:33:30.111Z"
   },
   {
    "duration": 26,
    "start_time": "2022-12-01T08:33:30.147Z"
   },
   {
    "duration": 129,
    "start_time": "2022-12-01T08:33:30.175Z"
   },
   {
    "duration": 184,
    "start_time": "2022-12-01T08:33:30.305Z"
   },
   {
    "duration": 5,
    "start_time": "2022-12-01T08:33:30.498Z"
   },
   {
    "duration": 47,
    "start_time": "2022-12-01T08:33:30.504Z"
   },
   {
    "duration": 64,
    "start_time": "2022-12-01T08:33:30.553Z"
   },
   {
    "duration": 114,
    "start_time": "2022-12-01T08:33:30.619Z"
   },
   {
    "duration": 36,
    "start_time": "2022-12-01T08:33:30.734Z"
   },
   {
    "duration": 250,
    "start_time": "2022-12-01T08:33:30.772Z"
   },
   {
    "duration": 42,
    "start_time": "2022-12-01T08:38:03.195Z"
   },
   {
    "duration": 79,
    "start_time": "2022-12-01T09:20:10.303Z"
   },
   {
    "duration": 1260,
    "start_time": "2022-12-01T09:26:09.553Z"
   },
   {
    "duration": 39,
    "start_time": "2022-12-01T09:26:10.815Z"
   },
   {
    "duration": 10,
    "start_time": "2022-12-01T09:26:10.855Z"
   },
   {
    "duration": 24,
    "start_time": "2022-12-01T09:26:10.867Z"
   },
   {
    "duration": 8169,
    "start_time": "2022-12-01T09:26:10.893Z"
   },
   {
    "duration": 4,
    "start_time": "2022-12-01T09:26:19.064Z"
   },
   {
    "duration": 20,
    "start_time": "2022-12-01T09:26:19.070Z"
   },
   {
    "duration": 6,
    "start_time": "2022-12-01T09:26:19.091Z"
   },
   {
    "duration": 10,
    "start_time": "2022-12-01T09:26:19.098Z"
   },
   {
    "duration": 12,
    "start_time": "2022-12-01T09:26:19.111Z"
   },
   {
    "duration": 77,
    "start_time": "2022-12-01T09:26:19.124Z"
   },
   {
    "duration": 266,
    "start_time": "2022-12-01T09:26:19.204Z"
   },
   {
    "duration": 5,
    "start_time": "2022-12-01T09:26:19.471Z"
   },
   {
    "duration": 21,
    "start_time": "2022-12-01T09:26:19.477Z"
   },
   {
    "duration": 13,
    "start_time": "2022-12-01T09:26:19.499Z"
   },
   {
    "duration": 87,
    "start_time": "2022-12-01T09:26:19.514Z"
   },
   {
    "duration": 19,
    "start_time": "2022-12-01T09:26:19.602Z"
   },
   {
    "duration": 257,
    "start_time": "2022-12-01T09:26:19.622Z"
   },
   {
    "duration": 4,
    "start_time": "2022-12-01T09:26:19.880Z"
   },
   {
    "duration": 6,
    "start_time": "2022-12-01T09:26:19.897Z"
   },
   {
    "duration": 10,
    "start_time": "2022-12-01T09:26:19.905Z"
   },
   {
    "duration": 181,
    "start_time": "2022-12-01T09:26:19.917Z"
   },
   {
    "duration": 0,
    "start_time": "2022-12-01T09:26:20.100Z"
   },
   {
    "duration": 0,
    "start_time": "2022-12-01T09:26:20.102Z"
   },
   {
    "duration": 0,
    "start_time": "2022-12-01T09:26:20.103Z"
   },
   {
    "duration": 0,
    "start_time": "2022-12-01T09:26:20.104Z"
   },
   {
    "duration": 0,
    "start_time": "2022-12-01T09:26:20.106Z"
   },
   {
    "duration": 0,
    "start_time": "2022-12-01T09:26:20.107Z"
   },
   {
    "duration": 0,
    "start_time": "2022-12-01T09:26:20.108Z"
   },
   {
    "duration": 0,
    "start_time": "2022-12-01T09:26:20.109Z"
   },
   {
    "duration": 1315,
    "start_time": "2022-12-01T09:26:42.943Z"
   },
   {
    "duration": 39,
    "start_time": "2022-12-01T09:26:44.260Z"
   },
   {
    "duration": 11,
    "start_time": "2022-12-01T09:26:44.300Z"
   },
   {
    "duration": 30,
    "start_time": "2022-12-01T09:26:44.313Z"
   },
   {
    "duration": 7806,
    "start_time": "2022-12-01T09:26:44.344Z"
   },
   {
    "duration": 5,
    "start_time": "2022-12-01T09:26:52.152Z"
   },
   {
    "duration": 30,
    "start_time": "2022-12-01T09:26:52.159Z"
   },
   {
    "duration": 15,
    "start_time": "2022-12-01T09:26:52.191Z"
   },
   {
    "duration": 9,
    "start_time": "2022-12-01T09:26:52.208Z"
   },
   {
    "duration": 15,
    "start_time": "2022-12-01T09:26:52.220Z"
   },
   {
    "duration": 65,
    "start_time": "2022-12-01T09:26:52.237Z"
   },
   {
    "duration": 265,
    "start_time": "2022-12-01T09:26:52.304Z"
   },
   {
    "duration": 4,
    "start_time": "2022-12-01T09:26:52.570Z"
   },
   {
    "duration": 22,
    "start_time": "2022-12-01T09:26:52.576Z"
   },
   {
    "duration": 14,
    "start_time": "2022-12-01T09:26:52.600Z"
   },
   {
    "duration": 11,
    "start_time": "2022-12-01T09:26:52.697Z"
   },
   {
    "duration": 15,
    "start_time": "2022-12-01T09:26:52.711Z"
   },
   {
    "duration": 267,
    "start_time": "2022-12-01T09:26:52.728Z"
   },
   {
    "duration": 4,
    "start_time": "2022-12-01T09:26:52.997Z"
   },
   {
    "duration": 13,
    "start_time": "2022-12-01T09:26:53.003Z"
   },
   {
    "duration": 85,
    "start_time": "2022-12-01T09:26:53.018Z"
   },
   {
    "duration": 94,
    "start_time": "2022-12-01T09:26:53.104Z"
   },
   {
    "duration": 17,
    "start_time": "2022-12-01T09:26:53.200Z"
   },
   {
    "duration": 13,
    "start_time": "2022-12-01T09:26:53.219Z"
   },
   {
    "duration": 21,
    "start_time": "2022-12-01T09:26:53.233Z"
   },
   {
    "duration": 44,
    "start_time": "2022-12-01T09:26:53.256Z"
   },
   {
    "duration": 96,
    "start_time": "2022-12-01T09:26:53.303Z"
   },
   {
    "duration": 227,
    "start_time": "2022-12-01T09:26:53.403Z"
   },
   {
    "duration": 11,
    "start_time": "2022-12-01T09:26:53.632Z"
   },
   {
    "duration": 1654,
    "start_time": "2022-12-01T10:41:20.369Z"
   },
   {
    "duration": 86,
    "start_time": "2022-12-01T10:41:22.025Z"
   },
   {
    "duration": 11,
    "start_time": "2022-12-01T10:41:22.112Z"
   },
   {
    "duration": 21,
    "start_time": "2022-12-01T10:41:22.125Z"
   },
   {
    "duration": 7780,
    "start_time": "2022-12-01T10:41:22.147Z"
   },
   {
    "duration": 3,
    "start_time": "2022-12-01T10:41:29.929Z"
   },
   {
    "duration": 19,
    "start_time": "2022-12-01T10:41:29.934Z"
   },
   {
    "duration": 7,
    "start_time": "2022-12-01T10:41:29.954Z"
   },
   {
    "duration": 5,
    "start_time": "2022-12-01T10:41:29.962Z"
   },
   {
    "duration": 12,
    "start_time": "2022-12-01T10:41:29.970Z"
   },
   {
    "duration": 89,
    "start_time": "2022-12-01T10:41:29.987Z"
   },
   {
    "duration": 285,
    "start_time": "2022-12-01T10:41:30.079Z"
   },
   {
    "duration": 5,
    "start_time": "2022-12-01T10:41:30.365Z"
   },
   {
    "duration": 35,
    "start_time": "2022-12-01T10:41:30.376Z"
   },
   {
    "duration": 74,
    "start_time": "2022-12-01T10:41:30.413Z"
   },
   {
    "duration": 96,
    "start_time": "2022-12-01T10:41:30.489Z"
   },
   {
    "duration": 27,
    "start_time": "2022-12-01T10:41:30.587Z"
   },
   {
    "duration": 210,
    "start_time": "2022-12-01T10:41:30.617Z"
   },
   {
    "duration": 4,
    "start_time": "2022-12-01T10:41:30.829Z"
   },
   {
    "duration": 46,
    "start_time": "2022-12-01T10:41:30.835Z"
   },
   {
    "duration": 100,
    "start_time": "2022-12-01T10:41:30.883Z"
   },
   {
    "duration": 99,
    "start_time": "2022-12-01T10:41:30.985Z"
   },
   {
    "duration": 28,
    "start_time": "2022-12-01T10:41:31.085Z"
   },
   {
    "duration": 20,
    "start_time": "2022-12-01T10:41:31.114Z"
   },
   {
    "duration": 17,
    "start_time": "2022-12-01T10:41:31.136Z"
   },
   {
    "duration": 20,
    "start_time": "2022-12-01T10:41:31.156Z"
   },
   {
    "duration": 8,
    "start_time": "2022-12-01T10:41:31.178Z"
   },
   {
    "duration": 314,
    "start_time": "2022-12-01T10:41:31.189Z"
   },
   {
    "duration": 11,
    "start_time": "2022-12-01T10:41:31.504Z"
   },
   {
    "duration": 99,
    "start_time": "2022-12-01T12:54:34.995Z"
   },
   {
    "duration": 1721,
    "start_time": "2022-12-01T12:55:07.504Z"
   },
   {
    "duration": 120,
    "start_time": "2022-12-01T12:55:09.227Z"
   },
   {
    "duration": 13,
    "start_time": "2022-12-01T12:55:09.349Z"
   },
   {
    "duration": 23,
    "start_time": "2022-12-01T12:55:09.365Z"
   },
   {
    "duration": 8283,
    "start_time": "2022-12-01T12:55:09.390Z"
   },
   {
    "duration": 4,
    "start_time": "2022-12-01T12:55:17.711Z"
   },
   {
    "duration": 22,
    "start_time": "2022-12-01T12:55:17.716Z"
   },
   {
    "duration": 9,
    "start_time": "2022-12-01T12:55:17.740Z"
   },
   {
    "duration": 8,
    "start_time": "2022-12-01T12:55:17.750Z"
   },
   {
    "duration": 12,
    "start_time": "2022-12-01T12:55:17.760Z"
   },
   {
    "duration": 76,
    "start_time": "2022-12-01T12:55:17.774Z"
   },
   {
    "duration": 367,
    "start_time": "2022-12-01T12:55:17.852Z"
   },
   {
    "duration": 5,
    "start_time": "2022-12-01T12:55:18.220Z"
   },
   {
    "duration": 13,
    "start_time": "2022-12-01T12:55:18.227Z"
   },
   {
    "duration": 13,
    "start_time": "2022-12-01T12:55:18.242Z"
   },
   {
    "duration": 93,
    "start_time": "2022-12-01T12:55:18.256Z"
   },
   {
    "duration": 88,
    "start_time": "2022-12-01T12:55:18.351Z"
   },
   {
    "duration": 231,
    "start_time": "2022-12-01T12:55:18.441Z"
   },
   {
    "duration": 5,
    "start_time": "2022-12-01T12:55:18.673Z"
   },
   {
    "duration": 5,
    "start_time": "2022-12-01T12:55:18.680Z"
   },
   {
    "duration": 7,
    "start_time": "2022-12-01T12:55:18.687Z"
   },
   {
    "duration": 70,
    "start_time": "2022-12-01T12:55:18.695Z"
   },
   {
    "duration": 0,
    "start_time": "2022-12-01T12:55:18.766Z"
   },
   {
    "duration": 0,
    "start_time": "2022-12-01T12:55:18.768Z"
   },
   {
    "duration": 0,
    "start_time": "2022-12-01T12:55:18.769Z"
   },
   {
    "duration": 0,
    "start_time": "2022-12-01T12:55:18.770Z"
   },
   {
    "duration": 0,
    "start_time": "2022-12-01T12:55:18.771Z"
   },
   {
    "duration": 0,
    "start_time": "2022-12-01T12:55:18.772Z"
   },
   {
    "duration": 0,
    "start_time": "2022-12-01T12:55:18.773Z"
   },
   {
    "duration": 0,
    "start_time": "2022-12-01T12:55:18.775Z"
   },
   {
    "duration": 0,
    "start_time": "2022-12-01T12:55:18.776Z"
   },
   {
    "duration": 1418,
    "start_time": "2022-12-01T13:26:21.826Z"
   },
   {
    "duration": 39,
    "start_time": "2022-12-01T13:26:23.246Z"
   },
   {
    "duration": 11,
    "start_time": "2022-12-01T13:26:23.287Z"
   },
   {
    "duration": 26,
    "start_time": "2022-12-01T13:26:23.300Z"
   },
   {
    "duration": 8610,
    "start_time": "2022-12-01T13:26:23.328Z"
   },
   {
    "duration": 4,
    "start_time": "2022-12-01T13:26:31.940Z"
   },
   {
    "duration": 9,
    "start_time": "2022-12-01T13:26:31.946Z"
   },
   {
    "duration": 9,
    "start_time": "2022-12-01T13:26:31.957Z"
   },
   {
    "duration": 6,
    "start_time": "2022-12-01T13:26:31.968Z"
   },
   {
    "duration": 9,
    "start_time": "2022-12-01T13:26:31.977Z"
   },
   {
    "duration": 14,
    "start_time": "2022-12-01T13:26:32.039Z"
   },
   {
    "duration": 191,
    "start_time": "2022-12-01T13:26:32.138Z"
   },
   {
    "duration": 9,
    "start_time": "2022-12-01T13:26:32.330Z"
   },
   {
    "duration": 9,
    "start_time": "2022-12-01T13:26:32.341Z"
   },
   {
    "duration": 13,
    "start_time": "2022-12-01T13:26:32.351Z"
   },
   {
    "duration": 14,
    "start_time": "2022-12-01T13:26:32.439Z"
   },
   {
    "duration": 91,
    "start_time": "2022-12-01T13:26:32.455Z"
   },
   {
    "duration": 230,
    "start_time": "2022-12-01T13:26:32.547Z"
   },
   {
    "duration": 4,
    "start_time": "2022-12-01T13:26:32.779Z"
   },
   {
    "duration": 6,
    "start_time": "2022-12-01T13:26:32.785Z"
   },
   {
    "duration": 9,
    "start_time": "2022-12-01T13:26:32.792Z"
   },
   {
    "duration": 14,
    "start_time": "2022-12-01T13:26:32.803Z"
   },
   {
    "duration": 21,
    "start_time": "2022-12-01T13:26:32.819Z"
   },
   {
    "duration": 4,
    "start_time": "2022-12-01T13:26:32.842Z"
   },
   {
    "duration": 10,
    "start_time": "2022-12-01T13:26:32.848Z"
   },
   {
    "duration": 4,
    "start_time": "2022-12-01T13:26:32.860Z"
   },
   {
    "duration": 72,
    "start_time": "2022-12-01T13:26:32.866Z"
   },
   {
    "duration": 96,
    "start_time": "2022-12-01T13:26:32.942Z"
   },
   {
    "duration": 238,
    "start_time": "2022-12-01T13:26:33.039Z"
   },
   {
    "duration": 11,
    "start_time": "2022-12-01T13:26:33.278Z"
   },
   {
    "duration": 61,
    "start_time": "2022-12-02T06:21:14.797Z"
   },
   {
    "duration": 48,
    "start_time": "2022-12-02T06:21:23.325Z"
   }
  ],
  "kernelspec": {
   "display_name": "Python 3 (ipykernel)",
   "language": "python",
   "name": "python3"
  },
  "language_info": {
   "codemirror_mode": {
    "name": "ipython",
    "version": 3
   },
   "file_extension": ".py",
   "mimetype": "text/x-python",
   "name": "python",
   "nbconvert_exporter": "python",
   "pygments_lexer": "ipython3",
   "version": "3.9.5"
  },
  "toc": {
   "base_numbering": 1,
   "nav_menu": {},
   "number_sections": true,
   "sideBar": true,
   "skip_h1_title": true,
   "title_cell": "Содержание",
   "title_sidebar": "Contents",
   "toc_cell": true,
   "toc_position": {},
   "toc_section_display": true,
   "toc_window_display": false
  }
 },
 "nbformat": 4,
 "nbformat_minor": 2
}
