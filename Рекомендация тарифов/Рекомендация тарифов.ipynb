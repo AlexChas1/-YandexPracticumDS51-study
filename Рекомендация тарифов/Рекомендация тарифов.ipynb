{
 "cells": [
  {
   "cell_type": "markdown",
   "metadata": {},
   "source": [
    "# Рекомендация тарифов"
   ]
  },
  {
   "cell_type": "markdown",
   "metadata": {},
   "source": [
    "В вашем распоряжении данные о поведении клиентов, которые уже перешли на эти тарифы (из проекта курса «Статистический анализ данных»). Нужно построить модель для задачи классификации, которая выберет подходящий тариф. Предобработка данных не понадобится — вы её уже сделали.\n",
    "\n",
    "Постройте модель с максимально большим значением *accuracy*. Чтобы сдать проект успешно, нужно довести долю правильных ответов по крайней мере до 0.75. Проверьте *accuracy* на тестовой выборке самостоятельно."
   ]
  },
  {
   "cell_type": "markdown",
   "metadata": {},
   "source": [
    "Описание проекта"
   ]
  },
  {
   "cell_type": "markdown",
   "metadata": {},
   "source": [
    "Оператор мобильной связи «Мегалайн» выяснил: многие клиенты пользуются архивными тарифами. Они хотят построить систему, способную проанализировать поведение клиентов и предложить пользователям новый тариф: «Смарт» или «Ультра»."
   ]
  },
  {
   "cell_type": "markdown",
   "metadata": {},
   "source": [
    "В вашем распоряжении данные о поведении клиентов, которые уже перешли на эти тарифы (из проекта курса «Статистический анализ данных»). Нужно построить модель для задачи классификации, которая выберет подходящий тариф. Предобработка данных не понадобится — вы её уже сделали."
   ]
  },
  {
   "cell_type": "markdown",
   "metadata": {},
   "source": [
    "Постройте модель с максимально большим значением accuracy. Чтобы сдать проект успешно, нужно довести долю правильных ответов по крайней мере до 0.75. Проверьте accuracy на тестовой выборке самостоятельно."
   ]
  },
  {
   "cell_type": "markdown",
   "metadata": {},
   "source": [
    "## Откройте и изучите файл"
   ]
  },
  {
   "cell_type": "code",
   "execution_count": 1,
   "metadata": {},
   "outputs": [],
   "source": [
    "import pandas as pd\n",
    "import os\n",
    "from pathlib import Path\n",
    "from sklearn.metrics import accuracy_score\n",
    "from sklearn.model_selection import train_test_split\n",
    "\n",
    "from sklearn.tree import DecisionTreeClassifier\n",
    "from sklearn.linear_model import LogisticRegression\n",
    "from sklearn.ensemble import RandomForestClassifier\n",
    "\n",
    "import warnings\n",
    "import warnings\n",
    "warnings.filterwarnings('ignore')"
   ]
  },
  {
   "cell_type": "code",
   "execution_count": 2,
   "metadata": {},
   "outputs": [],
   "source": [
    "df = pd.read_csv('/datasets/users_behavior.csv')"
   ]
  },
  {
   "cell_type": "code",
   "execution_count": 3,
   "metadata": {},
   "outputs": [
    {
     "data": {
      "text/html": [
       "<div>\n",
       "<style scoped>\n",
       "    .dataframe tbody tr th:only-of-type {\n",
       "        vertical-align: middle;\n",
       "    }\n",
       "\n",
       "    .dataframe tbody tr th {\n",
       "        vertical-align: top;\n",
       "    }\n",
       "\n",
       "    .dataframe thead th {\n",
       "        text-align: right;\n",
       "    }\n",
       "</style>\n",
       "<table border=\"1\" class=\"dataframe\">\n",
       "  <thead>\n",
       "    <tr style=\"text-align: right;\">\n",
       "      <th></th>\n",
       "      <th>calls</th>\n",
       "      <th>minutes</th>\n",
       "      <th>messages</th>\n",
       "      <th>mb_used</th>\n",
       "      <th>is_ultra</th>\n",
       "    </tr>\n",
       "  </thead>\n",
       "  <tbody>\n",
       "    <tr>\n",
       "      <th>0</th>\n",
       "      <td>40.0</td>\n",
       "      <td>311.90</td>\n",
       "      <td>83.0</td>\n",
       "      <td>19915.42</td>\n",
       "      <td>0</td>\n",
       "    </tr>\n",
       "    <tr>\n",
       "      <th>1</th>\n",
       "      <td>85.0</td>\n",
       "      <td>516.75</td>\n",
       "      <td>56.0</td>\n",
       "      <td>22696.96</td>\n",
       "      <td>0</td>\n",
       "    </tr>\n",
       "    <tr>\n",
       "      <th>2</th>\n",
       "      <td>77.0</td>\n",
       "      <td>467.66</td>\n",
       "      <td>86.0</td>\n",
       "      <td>21060.45</td>\n",
       "      <td>0</td>\n",
       "    </tr>\n",
       "    <tr>\n",
       "      <th>3</th>\n",
       "      <td>106.0</td>\n",
       "      <td>745.53</td>\n",
       "      <td>81.0</td>\n",
       "      <td>8437.39</td>\n",
       "      <td>1</td>\n",
       "    </tr>\n",
       "    <tr>\n",
       "      <th>4</th>\n",
       "      <td>66.0</td>\n",
       "      <td>418.74</td>\n",
       "      <td>1.0</td>\n",
       "      <td>14502.75</td>\n",
       "      <td>0</td>\n",
       "    </tr>\n",
       "  </tbody>\n",
       "</table>\n",
       "</div>"
      ],
      "text/plain": [
       "   calls  minutes  messages   mb_used  is_ultra\n",
       "0   40.0   311.90      83.0  19915.42         0\n",
       "1   85.0   516.75      56.0  22696.96         0\n",
       "2   77.0   467.66      86.0  21060.45         0\n",
       "3  106.0   745.53      81.0   8437.39         1\n",
       "4   66.0   418.74       1.0  14502.75         0"
      ]
     },
     "execution_count": 3,
     "metadata": {},
     "output_type": "execute_result"
    }
   ],
   "source": [
    "df.head()"
   ]
  },
  {
   "cell_type": "code",
   "execution_count": 4,
   "metadata": {},
   "outputs": [
    {
     "data": {
      "text/plain": [
       "(3214, 5)"
      ]
     },
     "execution_count": 4,
     "metadata": {},
     "output_type": "execute_result"
    }
   ],
   "source": [
    "df.shape"
   ]
  },
  {
   "cell_type": "markdown",
   "metadata": {},
   "source": [
    "Вывод:\n",
    "\n",
    "-Данные состоят из 3214 строк и 5 столбцов\n",
    "-Целевой признак - столбец is_ultra(качественный тип данных). Мы построим модель, которая будет присваивать значение 1 -Пользователям, кому стоит предложить сменить тариф на Ультра\n",
    "-Перед нами стоит задача классификации"
   ]
  },
  {
   "cell_type": "markdown",
   "metadata": {},
   "source": [
    "## Разбейте данные на выборки"
   ]
  },
  {
   "cell_type": "code",
   "execution_count": 5,
   "metadata": {},
   "outputs": [],
   "source": [
    "df_train, df_valid = train_test_split(df, test_size=0.4, random_state=1)\n",
    "df_valid, df_test = train_test_split(df_valid, test_size=0.5, random_state=1)"
   ]
  },
  {
   "cell_type": "markdown",
   "metadata": {},
   "source": [
    "Все данные поделили на 60 и 40. Оставшиеся 40 поделили на две равные части. Таким образом получаем:"
   ]
  },
  {
   "cell_type": "markdown",
   "metadata": {},
   "source": [
    "-Обучающеая выборка 60%\n",
    "-Валидационная выборка 20%\n",
    "-Тестовая выборка 20%"
   ]
  },
  {
   "cell_type": "markdown",
   "metadata": {},
   "source": [
    "## Исследуйте модели"
   ]
  },
  {
   "cell_type": "markdown",
   "metadata": {},
   "source": [
    "Возьмем 3 модели:\n",
    "\n",
    "-Logistic Regression (Логическая регрессия)\n",
    "-Decision Tree (Дерево решений)\n",
    "-Random Forest (Случайный лес)"
   ]
  },
  {
   "cell_type": "markdown",
   "metadata": {},
   "source": [
    "Обозначим целевые признаки"
   ]
  },
  {
   "cell_type": "code",
   "execution_count": 6,
   "metadata": {},
   "outputs": [],
   "source": [
    "features_train = df_train.drop(['is_ultra'], axis=1)\n",
    "target_train = df_train['is_ultra']\n",
    "\n",
    "features_valid = df_valid.drop(['is_ultra'], axis=1)\n",
    "target_valid = df_valid['is_ultra']\n",
    "\n",
    "features_test = df_test.drop(['is_ultra'], axis=1)\n",
    "target_test = df_test['is_ultra']"
   ]
  },
  {
   "cell_type": "markdown",
   "metadata": {},
   "source": [
    "Функция для подсчета точности модели на валидационной выборке"
   ]
  },
  {
   "cell_type": "code",
   "execution_count": 7,
   "metadata": {},
   "outputs": [],
   "source": [
    "def show_accuracy_score(model):\n",
    "    predictions_valid = model.predict(features_valid)\n",
    "    return accuracy_score(target_valid, predictions_valid)"
   ]
  },
  {
   "cell_type": "markdown",
   "metadata": {},
   "source": [
    "Logistic Regression (Логическая регрессия)"
   ]
  },
  {
   "cell_type": "markdown",
   "metadata": {},
   "source": [
    "Так как для данной модели есть несколько разных параметров, создадим функцию и цикл для испытания всех параметров."
   ]
  },
  {
   "cell_type": "code",
   "execution_count": 8,
   "metadata": {},
   "outputs": [],
   "source": [
    "solvers = ['newton-cg', 'lbfgs', 'liblinear', 'sag', 'saga']"
   ]
  },
  {
   "cell_type": "code",
   "execution_count": 9,
   "metadata": {},
   "outputs": [],
   "source": [
    "def logistic_regression(solver=solvers):\n",
    "    model = LogisticRegression(solver=solver, random_state=1)\n",
    "    model.fit(features_train, target_train)\n",
    "    return show_accuracy_score(model)"
   ]
  },
  {
   "cell_type": "code",
   "execution_count": 10,
   "metadata": {},
   "outputs": [
    {
     "name": "stdout",
     "output_type": "stream",
     "text": [
      "newton-cg :  0.7200622083981337\n",
      "lbfgs :  0.7200622083981337\n",
      "liblinear :  0.6765163297045101\n",
      "sag :  0.6640746500777605\n",
      "saga :  0.6640746500777605\n"
     ]
    }
   ],
   "source": [
    "for solver in solvers:\n",
    "    print(solver, ': ', logistic_regression(solver=solver));"
   ]
  },
  {
   "cell_type": "markdown",
   "metadata": {},
   "source": [
    "Лучший результат дают параметры newton-cg и lbfgs: 0.7200622083981337"
   ]
  },
  {
   "cell_type": "markdown",
   "metadata": {},
   "source": [
    "Decision Tree (Дерево решений)"
   ]
  },
  {
   "cell_type": "code",
   "execution_count": 11,
   "metadata": {},
   "outputs": [
    {
     "name": "stdout",
     "output_type": "stream",
     "text": [
      "depth = 1  \\ accuracy = 0.71850699844479\n",
      "depth = 3  \\ accuracy = 0.7713841368584758\n",
      "depth = 5  \\ accuracy = 0.7698289269051322\n",
      "depth = 7  \\ accuracy = 0.7776049766718507\n",
      "depth = 9  \\ accuracy = 0.7962674961119751\n",
      "depth = 11  \\ accuracy = 0.7869362363919129\n",
      "depth = 13  \\ accuracy = 0.7900466562986003\n",
      "depth = 15  \\ accuracy = 0.7667185069984448\n",
      "depth = 17  \\ accuracy = 0.7636080870917574\n",
      "depth = 19  \\ accuracy = 0.7325038880248833\n"
     ]
    }
   ],
   "source": [
    "for depth in range(1, 20, 2):\n",
    "    model_tree = DecisionTreeClassifier(random_state=1, max_depth=depth)\n",
    "    model_tree.fit(features_train, target_train)\n",
    "    print('depth =', depth, ' \\ accuracy =', show_accuracy_score(model_tree))"
   ]
  },
  {
   "cell_type": "markdown",
   "metadata": {},
   "source": [
    "Лучший результат при параметре глубины: depth = 9 \\ accuracy = 0.7962674961119751. Чуть лучше предыдущего результата"
   ]
  },
  {
   "cell_type": "markdown",
   "metadata": {},
   "source": [
    "Random Forest (Случайный лес)"
   ]
  },
  {
   "cell_type": "code",
   "execution_count": 12,
   "metadata": {},
   "outputs": [
    {
     "name": "stdout",
     "output_type": "stream",
     "text": [
      "n_estimators = 10  / accuracy_score = 0.7931570762052877\n",
      "n_estimators = 20  / accuracy_score = 0.7916018662519441\n",
      "n_estimators = 30  / accuracy_score = 0.7884914463452566\n",
      "n_estimators = 40  / accuracy_score = 0.7884914463452566\n",
      "n_estimators = 50  / accuracy_score = 0.7931570762052877\n",
      "n_estimators = 60  / accuracy_score = 0.7916018662519441\n",
      "n_estimators = 70  / accuracy_score = 0.7884914463452566\n",
      "n_estimators = 80  / accuracy_score = 0.7900466562986003\n",
      "n_estimators = 90  / accuracy_score = 0.7916018662519441\n",
      "n_estimators = 100  / accuracy_score = 0.7916018662519441\n"
     ]
    }
   ],
   "source": [
    "for estim in range(10, 101, 10):\n",
    "    model_forest = RandomForestClassifier(n_estimators=estim, max_depth=9, random_state=1)\n",
    "    model_forest.fit(features_train, target_train)\n",
    "    print('n_estimators =', estim, ' / accuracy_score =', show_accuracy_score(model_forest))"
   ]
  },
  {
   "cell_type": "markdown",
   "metadata": {},
   "source": [
    "Лучший результат при параметре количества деревьев и глубины 9(взяли с прошлого удачного показателя): depth = 9 / n_estimators = 10 / accuracy_score = 0.7931570762052877. Чуть хуже предыдущего результата"
   ]
  },
  {
   "cell_type": "markdown",
   "metadata": {},
   "source": [
    "Вывод:\n",
    "Модели со следущими параметрами дали лучший результат среди других параметров:\n",
    "\n",
    "-Logistic Regression(solver='newton-cg'): accuracy = 0.7200622083981337\n",
    "-Decision Tree(depth = 9): accuracy = 0.7962674961119751\n",
    "-Random Forest(depth = 9 / n_estimators = 10): accuracy = 0.7931570762052877\n",
    "В итоге мы выбираем Дерево решений с параметром глубины 9."
   ]
  },
  {
   "cell_type": "markdown",
   "metadata": {},
   "source": [
    "## Проверьте модель на тестовой выборке"
   ]
  },
  {
   "cell_type": "code",
   "execution_count": 13,
   "metadata": {},
   "outputs": [
    {
     "data": {
      "text/plain": [
       "0.7869362363919129"
      ]
     },
     "execution_count": 13,
     "metadata": {},
     "output_type": "execute_result"
    }
   ],
   "source": [
    "model = DecisionTreeClassifier(max_depth=9, random_state=1)\n",
    "model.fit(features_train, target_train)\n",
    "predictions_test = model.predict(features_test)\n",
    "accuracy_score(target_test, predictions_test)"
   ]
  },
  {
   "cell_type": "markdown",
   "metadata": {},
   "source": [
    "На тестовой выборке выбранная модель показывает точность близкую к валидационной, но не больше. Это означает отсутствие проблем с переобучение модели."
   ]
  },
  {
   "cell_type": "markdown",
   "metadata": {},
   "source": [
    "## (бонус) Проверьте модели на адекватность"
   ]
  },
  {
   "cell_type": "code",
   "execution_count": 14,
   "metadata": {},
   "outputs": [
    {
     "data": {
      "text/plain": [
       "0    2229\n",
       "1     985\n",
       "Name: is_ultra, dtype: int64"
      ]
     },
     "execution_count": 14,
     "metadata": {},
     "output_type": "execute_result"
    }
   ],
   "source": [
    "df['is_ultra'].value_counts()"
   ]
  },
  {
   "cell_type": "code",
   "execution_count": 15,
   "metadata": {},
   "outputs": [
    {
     "data": {
      "text/plain": [
       "0    446\n",
       "1    197\n",
       "Name: is_ultra, dtype: int64"
      ]
     },
     "execution_count": 15,
     "metadata": {},
     "output_type": "execute_result"
    }
   ],
   "source": [
    "df_test['is_ultra'].value_counts()"
   ]
  },
  {
   "cell_type": "code",
   "execution_count": 16,
   "metadata": {},
   "outputs": [
    {
     "data": {
      "text/plain": [
       "0    0.693528\n",
       "1    0.306472\n",
       "Name: is_ultra, dtype: float64"
      ]
     },
     "execution_count": 16,
     "metadata": {},
     "output_type": "execute_result"
    }
   ],
   "source": [
    "df['is_ultra'].value_counts(normalize=True)"
   ]
  },
  {
   "cell_type": "markdown",
   "metadata": {},
   "source": [
    "Доля большего класса тестовой выборки равна ~0.69 (Смарт); полученная нами модель имеет accuracy ~0.79. Таким образом, мы можем считать модель адекватной для использования."
   ]
  },
  {
   "cell_type": "markdown",
   "metadata": {},
   "source": [
    "Вывод"
   ]
  },
  {
   "cell_type": "markdown",
   "metadata": {},
   "source": [
    "В данном проекте мы провели разведочный анализ исходных данных. Благодаря этому удалось выявить избыточные признаки и нерепрезентативные данные. Удаление этих данных из датасета способствовало модели выявлять закономерности в признаках и увеличило ее качество.\n",
    "\n",
    "Мы рассмотрели три модели: \"Решающее дерево\", \"Случайный лес\" и \"Логистическая регрессия\". В каждой модели, изменяя ее гиперпараметры, мы нашли нашли лучший вариант с наибольшим количеством правильных ответов. Путем простого сравнения лучших моделей по доле правильных ответов определили, что для нашей задачи подходит модель \"Случайного леса\" с гиперпараметрами глубина дерева 9 и количество деревьев 10.\n",
    "\n",
    "Сравнив нашу модель со случайными предсказаниями и оценив ее качество на тестовом наборе данных (результат составил 79% правильных ответов) мы подтвердили, что наша модель подходит для задачи заказчика. Таким образом можно использовать данную модель для предложения клиентам заказчика нового тарифа (\"Смарт\" или \"Ультра\")."
   ]
  }
 ],
 "metadata": {
  "ExecuteTimeLog": [
   {
    "duration": 1218,
    "start_time": "2022-09-29T10:38:24.717Z"
   },
   {
    "duration": 115,
    "start_time": "2022-09-29T10:38:25.937Z"
   },
   {
    "duration": 17,
    "start_time": "2022-09-29T10:38:26.054Z"
   },
   {
    "duration": 5,
    "start_time": "2022-09-29T10:38:26.074Z"
   },
   {
    "duration": 10,
    "start_time": "2022-09-29T10:38:26.080Z"
   },
   {
    "duration": 10,
    "start_time": "2022-09-29T10:38:26.091Z"
   },
   {
    "duration": 5,
    "start_time": "2022-09-29T10:38:26.103Z"
   },
   {
    "duration": 9,
    "start_time": "2022-09-29T10:38:26.110Z"
   },
   {
    "duration": 4,
    "start_time": "2022-09-29T10:38:26.121Z"
   },
   {
    "duration": 242,
    "start_time": "2022-09-29T10:38:26.127Z"
   },
   {
    "duration": 208,
    "start_time": "2022-09-29T10:38:42.096Z"
   },
   {
    "duration": 1205,
    "start_time": "2022-09-29T10:42:02.053Z"
   },
   {
    "duration": 31,
    "start_time": "2022-09-29T10:42:03.260Z"
   },
   {
    "duration": 17,
    "start_time": "2022-09-29T10:42:03.293Z"
   },
   {
    "duration": 4,
    "start_time": "2022-09-29T10:42:03.313Z"
   },
   {
    "duration": 11,
    "start_time": "2022-09-29T10:42:03.318Z"
   },
   {
    "duration": 12,
    "start_time": "2022-09-29T10:42:03.330Z"
   },
   {
    "duration": 19,
    "start_time": "2022-09-29T10:42:03.343Z"
   },
   {
    "duration": 9,
    "start_time": "2022-09-29T10:42:03.364Z"
   },
   {
    "duration": 22,
    "start_time": "2022-09-29T10:42:03.374Z"
   },
   {
    "duration": 251,
    "start_time": "2022-09-29T10:42:03.398Z"
   },
   {
    "duration": 108,
    "start_time": "2022-09-29T10:42:03.655Z"
   },
   {
    "duration": 1705,
    "start_time": "2022-09-29T10:42:03.765Z"
   },
   {
    "duration": 88,
    "start_time": "2022-09-29T10:42:05.472Z"
   },
   {
    "duration": 0,
    "start_time": "2022-09-29T10:42:05.563Z"
   },
   {
    "duration": 0,
    "start_time": "2022-09-29T10:42:05.567Z"
   },
   {
    "duration": 0,
    "start_time": "2022-09-29T10:42:05.568Z"
   },
   {
    "duration": 0,
    "start_time": "2022-09-29T10:42:05.570Z"
   },
   {
    "duration": 1217,
    "start_time": "2022-09-29T10:42:27.669Z"
   },
   {
    "duration": 31,
    "start_time": "2022-09-29T10:42:28.888Z"
   },
   {
    "duration": 18,
    "start_time": "2022-09-29T10:42:28.921Z"
   },
   {
    "duration": 6,
    "start_time": "2022-09-29T10:42:28.941Z"
   },
   {
    "duration": 8,
    "start_time": "2022-09-29T10:42:28.948Z"
   },
   {
    "duration": 10,
    "start_time": "2022-09-29T10:42:28.958Z"
   },
   {
    "duration": 6,
    "start_time": "2022-09-29T10:42:28.969Z"
   },
   {
    "duration": 4,
    "start_time": "2022-09-29T10:42:28.977Z"
   },
   {
    "duration": 8,
    "start_time": "2022-09-29T10:42:28.982Z"
   },
   {
    "duration": 234,
    "start_time": "2022-09-29T10:42:28.992Z"
   },
   {
    "duration": 103,
    "start_time": "2022-09-29T10:42:29.228Z"
   },
   {
    "duration": 1768,
    "start_time": "2022-09-29T10:42:29.333Z"
   },
   {
    "duration": 15,
    "start_time": "2022-09-29T10:42:31.103Z"
   },
   {
    "duration": 53,
    "start_time": "2022-09-29T10:42:31.120Z"
   },
   {
    "duration": 29,
    "start_time": "2022-09-29T10:42:31.175Z"
   },
   {
    "duration": 28,
    "start_time": "2022-09-29T10:42:31.206Z"
   },
   {
    "duration": 1107,
    "start_time": "2022-09-29T10:47:51.672Z"
   },
   {
    "duration": 31,
    "start_time": "2022-09-29T10:47:52.782Z"
   },
   {
    "duration": 59,
    "start_time": "2022-09-29T10:47:52.814Z"
   },
   {
    "duration": 12,
    "start_time": "2022-09-29T10:47:52.876Z"
   },
   {
    "duration": 11,
    "start_time": "2022-09-29T10:47:52.889Z"
   },
   {
    "duration": 15,
    "start_time": "2022-09-29T10:47:52.901Z"
   },
   {
    "duration": 19,
    "start_time": "2022-09-29T10:47:52.918Z"
   },
   {
    "duration": 22,
    "start_time": "2022-09-29T10:47:52.939Z"
   },
   {
    "duration": 20,
    "start_time": "2022-09-29T10:47:52.962Z"
   },
   {
    "duration": 229,
    "start_time": "2022-09-29T10:47:52.984Z"
   },
   {
    "duration": 103,
    "start_time": "2022-09-29T10:47:53.215Z"
   },
   {
    "duration": 1760,
    "start_time": "2022-09-29T10:47:53.320Z"
   },
   {
    "duration": 15,
    "start_time": "2022-09-29T10:47:55.083Z"
   },
   {
    "duration": 7,
    "start_time": "2022-09-29T10:47:55.100Z"
   },
   {
    "duration": 12,
    "start_time": "2022-09-29T10:47:55.108Z"
   },
   {
    "duration": 32,
    "start_time": "2022-09-29T10:47:55.122Z"
   },
   {
    "duration": 1382,
    "start_time": "2022-09-29T10:53:22.499Z"
   },
   {
    "duration": 29,
    "start_time": "2022-09-29T10:53:23.883Z"
   },
   {
    "duration": 14,
    "start_time": "2022-09-29T10:53:23.913Z"
   },
   {
    "duration": 5,
    "start_time": "2022-09-29T10:53:23.928Z"
   },
   {
    "duration": 17,
    "start_time": "2022-09-29T10:53:23.934Z"
   },
   {
    "duration": 11,
    "start_time": "2022-09-29T10:53:23.953Z"
   },
   {
    "duration": 5,
    "start_time": "2022-09-29T10:53:23.965Z"
   },
   {
    "duration": 6,
    "start_time": "2022-09-29T10:53:23.971Z"
   },
   {
    "duration": 5,
    "start_time": "2022-09-29T10:53:23.979Z"
   },
   {
    "duration": 206,
    "start_time": "2022-09-29T10:53:23.986Z"
   },
   {
    "duration": 83,
    "start_time": "2022-09-29T10:53:24.194Z"
   },
   {
    "duration": 1616,
    "start_time": "2022-09-29T10:53:24.279Z"
   },
   {
    "duration": 12,
    "start_time": "2022-09-29T10:53:25.900Z"
   },
   {
    "duration": 4,
    "start_time": "2022-09-29T10:53:25.913Z"
   },
   {
    "duration": 6,
    "start_time": "2022-09-29T10:53:25.919Z"
   },
   {
    "duration": 20,
    "start_time": "2022-09-29T10:53:25.926Z"
   },
   {
    "duration": 1234,
    "start_time": "2022-09-29T11:14:31.528Z"
   },
   {
    "duration": 31,
    "start_time": "2022-09-29T11:14:32.765Z"
   },
   {
    "duration": 19,
    "start_time": "2022-09-29T11:14:32.797Z"
   },
   {
    "duration": 6,
    "start_time": "2022-09-29T11:14:32.818Z"
   },
   {
    "duration": 8,
    "start_time": "2022-09-29T11:14:32.827Z"
   },
   {
    "duration": 7,
    "start_time": "2022-09-29T11:14:32.836Z"
   },
   {
    "duration": 10,
    "start_time": "2022-09-29T11:14:32.844Z"
   },
   {
    "duration": 5,
    "start_time": "2022-09-29T11:14:32.855Z"
   },
   {
    "duration": 7,
    "start_time": "2022-09-29T11:14:32.861Z"
   },
   {
    "duration": 238,
    "start_time": "2022-09-29T11:14:32.869Z"
   },
   {
    "duration": 100,
    "start_time": "2022-09-29T11:14:33.109Z"
   },
   {
    "duration": 1811,
    "start_time": "2022-09-29T11:14:33.211Z"
   },
   {
    "duration": 14,
    "start_time": "2022-09-29T11:14:35.024Z"
   },
   {
    "duration": 17,
    "start_time": "2022-09-29T11:14:35.041Z"
   },
   {
    "duration": 12,
    "start_time": "2022-09-29T11:14:35.059Z"
   },
   {
    "duration": 15,
    "start_time": "2022-09-29T11:14:35.073Z"
   },
   {
    "duration": 1469,
    "start_time": "2022-09-30T07:35:12.350Z"
   },
   {
    "duration": 29,
    "start_time": "2022-09-30T07:35:13.822Z"
   },
   {
    "duration": 58,
    "start_time": "2022-09-30T07:35:13.853Z"
   },
   {
    "duration": 17,
    "start_time": "2022-09-30T07:35:13.913Z"
   },
   {
    "duration": 68,
    "start_time": "2022-09-30T07:35:13.932Z"
   },
   {
    "duration": 17,
    "start_time": "2022-09-30T07:35:14.003Z"
   },
   {
    "duration": 34,
    "start_time": "2022-09-30T07:35:14.022Z"
   },
   {
    "duration": 15,
    "start_time": "2022-09-30T07:35:14.058Z"
   },
   {
    "duration": 4,
    "start_time": "2022-09-30T07:35:14.101Z"
   },
   {
    "duration": 323,
    "start_time": "2022-09-30T07:35:14.107Z"
   },
   {
    "duration": 194,
    "start_time": "2022-09-30T07:35:14.432Z"
   },
   {
    "duration": 3199,
    "start_time": "2022-09-30T07:35:14.627Z"
   },
   {
    "duration": 12,
    "start_time": "2022-09-30T07:35:17.828Z"
   },
   {
    "duration": 61,
    "start_time": "2022-09-30T07:35:17.841Z"
   },
   {
    "duration": 8,
    "start_time": "2022-09-30T07:35:17.903Z"
   },
   {
    "duration": 20,
    "start_time": "2022-09-30T07:35:17.912Z"
   }
  ],
  "kernelspec": {
   "display_name": "Python 3 (ipykernel)",
   "language": "python",
   "name": "python3"
  },
  "language_info": {
   "codemirror_mode": {
    "name": "ipython",
    "version": 3
   },
   "file_extension": ".py",
   "mimetype": "text/x-python",
   "name": "python",
   "nbconvert_exporter": "python",
   "pygments_lexer": "ipython3",
   "version": "3.9.5"
  },
  "toc": {
   "base_numbering": 1,
   "nav_menu": {},
   "number_sections": true,
   "sideBar": true,
   "skip_h1_title": true,
   "title_cell": "Table of Contents",
   "title_sidebar": "Contents",
   "toc_cell": false,
   "toc_position": {},
   "toc_section_display": true,
   "toc_window_display": true
  }
 },
 "nbformat": 4,
 "nbformat_minor": 2
}
